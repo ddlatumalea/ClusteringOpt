{
 "cells": [
  {
   "cell_type": "code",
   "execution_count": 1,
   "id": "975d4211",
   "metadata": {},
   "outputs": [],
   "source": [
    "import pandas as pd\n",
    "import numpy as np\n",
    "import itertools as it"
   ]
  },
  {
   "cell_type": "code",
   "execution_count": 2,
   "id": "733888d2",
   "metadata": {},
   "outputs": [],
   "source": [
    "param_dict = {\n",
    "    'perplexity': list(range(20, 45, 5)),\n",
    "    'early_exaggeration': [12],\n",
    "    'learning_rate': ['auto'],\n",
    "    'n_iter': list(range(1000, 5000, 1000)),\n",
    "    'angle': np.linspace(0.2, 0.8, 4),\n",
    "    'method': ['exact', 'barnes_hut'],\n",
    "    'init': ['random', 'pca']\n",
    "}"
   ]
  },
  {
   "cell_type": "code",
   "execution_count": 3,
   "id": "1b1fc6e6",
   "metadata": {},
   "outputs": [],
   "source": [
    "def create_param_options(param_dict):\n",
    "    grid = []\n",
    "    keys = list(param_dict.keys())\n",
    "    values = list(param_dict.values())\n",
    "    value_combs = list(it.product(*values))\n",
    "\n",
    "    for val in value_combs:\n",
    "        temp = dict(zip(keys, val))\n",
    "        grid.append(temp)\n",
    "\n",
    "    return grid"
   ]
  },
  {
   "cell_type": "code",
   "execution_count": 4,
   "id": "ec658f44",
   "metadata": {},
   "outputs": [
    {
     "data": {
      "text/html": [
       "<div>\n",
       "<style scoped>\n",
       "    .dataframe tbody tr th:only-of-type {\n",
       "        vertical-align: middle;\n",
       "    }\n",
       "\n",
       "    .dataframe tbody tr th {\n",
       "        vertical-align: top;\n",
       "    }\n",
       "\n",
       "    .dataframe thead th {\n",
       "        text-align: right;\n",
       "    }\n",
       "</style>\n",
       "<table border=\"1\" class=\"dataframe\">\n",
       "  <thead>\n",
       "    <tr style=\"text-align: right;\">\n",
       "      <th></th>\n",
       "      <th>perplexity</th>\n",
       "      <th>early_exaggeration</th>\n",
       "      <th>learning_rate</th>\n",
       "      <th>n_iter</th>\n",
       "      <th>angle</th>\n",
       "      <th>method</th>\n",
       "      <th>init</th>\n",
       "    </tr>\n",
       "  </thead>\n",
       "  <tbody>\n",
       "    <tr>\n",
       "      <th>0</th>\n",
       "      <td>20</td>\n",
       "      <td>12</td>\n",
       "      <td>auto</td>\n",
       "      <td>1000</td>\n",
       "      <td>0.2</td>\n",
       "      <td>exact</td>\n",
       "      <td>random</td>\n",
       "    </tr>\n",
       "    <tr>\n",
       "      <th>1</th>\n",
       "      <td>20</td>\n",
       "      <td>12</td>\n",
       "      <td>auto</td>\n",
       "      <td>1000</td>\n",
       "      <td>0.2</td>\n",
       "      <td>exact</td>\n",
       "      <td>pca</td>\n",
       "    </tr>\n",
       "    <tr>\n",
       "      <th>2</th>\n",
       "      <td>20</td>\n",
       "      <td>12</td>\n",
       "      <td>auto</td>\n",
       "      <td>1000</td>\n",
       "      <td>0.2</td>\n",
       "      <td>barness-hut</td>\n",
       "      <td>random</td>\n",
       "    </tr>\n",
       "    <tr>\n",
       "      <th>3</th>\n",
       "      <td>20</td>\n",
       "      <td>12</td>\n",
       "      <td>auto</td>\n",
       "      <td>1000</td>\n",
       "      <td>0.2</td>\n",
       "      <td>barness-hut</td>\n",
       "      <td>pca</td>\n",
       "    </tr>\n",
       "    <tr>\n",
       "      <th>4</th>\n",
       "      <td>20</td>\n",
       "      <td>12</td>\n",
       "      <td>auto</td>\n",
       "      <td>1000</td>\n",
       "      <td>0.4</td>\n",
       "      <td>exact</td>\n",
       "      <td>random</td>\n",
       "    </tr>\n",
       "  </tbody>\n",
       "</table>\n",
       "</div>"
      ],
      "text/plain": [
       "   perplexity  early_exaggeration learning_rate  n_iter  angle       method  \\\n",
       "0          20                  12          auto    1000    0.2        exact   \n",
       "1          20                  12          auto    1000    0.2        exact   \n",
       "2          20                  12          auto    1000    0.2  barness-hut   \n",
       "3          20                  12          auto    1000    0.2  barness-hut   \n",
       "4          20                  12          auto    1000    0.4        exact   \n",
       "\n",
       "     init  \n",
       "0  random  \n",
       "1     pca  \n",
       "2  random  \n",
       "3     pca  \n",
       "4  random  "
      ]
     },
     "execution_count": 4,
     "metadata": {},
     "output_type": "execute_result"
    }
   ],
   "source": [
    "combinations = create_param_options(param_dict)\n",
    "param_grid = pd.DataFrame(combinations)\n",
    "param_grid.head()"
   ]
  },
  {
   "cell_type": "code",
   "execution_count": 5,
   "id": "c60588c3",
   "metadata": {},
   "outputs": [
    {
     "data": {
      "text/plain": [
       "{'perplexity': [20, 25, 30, 35, 40],\n",
       " 'early_exaggeration': [12],\n",
       " 'learning_rate': ['auto'],\n",
       " 'n_iter': [1000, 2000, 3000, 4000],\n",
       " 'angle': array([0.2, 0.4, 0.6, 0.8]),\n",
       " 'method': ['exact', 'barness-hut'],\n",
       " 'init': ['random', 'pca']}"
      ]
     },
     "execution_count": 5,
     "metadata": {},
     "output_type": "execute_result"
    }
   ],
   "source": [
    "param_dict"
   ]
  },
  {
   "cell_type": "code",
   "execution_count": null,
   "id": "9cac67ca",
   "metadata": {},
   "outputs": [],
   "source": []
  }
 ],
 "metadata": {
  "kernelspec": {
   "display_name": "Python 3 (ipykernel)",
   "language": "python",
   "name": "python3"
  },
  "language_info": {
   "codemirror_mode": {
    "name": "ipython",
    "version": 3
   },
   "file_extension": ".py",
   "mimetype": "text/x-python",
   "name": "python",
   "nbconvert_exporter": "python",
   "pygments_lexer": "ipython3",
   "version": "3.9.7"
  }
 },
 "nbformat": 4,
 "nbformat_minor": 5
}
