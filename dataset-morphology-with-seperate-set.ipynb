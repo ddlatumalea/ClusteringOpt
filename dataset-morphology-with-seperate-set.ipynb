{
 "cells": [
  {
   "cell_type": "markdown",
   "id": "c88d681f",
   "metadata": {},
   "source": [
    "# Primates Morphology\n",
    "\n",
    "The `primates-morphology.csv` file contains **coordinates** derived from markers of skull features from various species of primates. \n",
    "\n",
    "**Goal**: Read the data and use unsupervised machine learning methods to separate the groups belonging to different species.\n",
    "\n",
    "**Assumption**:\n",
    "- We do know the labels of the data! I'll use the labels for exploration and create a subset!\n",
    "\n",
    "**Assessment**:\n",
    "- Conduct critical research:\n",
    "    - excellent use of research methodologies.\n",
    "    - excellent use of design methodologies.\n",
    "    - clear and validated design.\n",
    "    - critical attitude towards own results, literature and specialists.\n",
    "    - detailed interpretation and verification of the results.\n",
    "    - conclusions are based on the resutls in a clear way.\n",
    "    - conclusions are extrapolated to a wider context.\n",
    "- Model mearningful information\n",
    "    - results are extracted from correct analysis of data.\n",
    "    - used algorithms are (cross) validated, evaluated and optimized. \n",
    "        - <span style=\"color:blue\">TSNE hyperparam tuning</span>\n",
    "    - outcome of research enhances knowledge of the topic.\n",
    "- Deliver organized results:\n",
    "    - code according to coding style\n",
    "    - code is easy to read\n",
    "        - <span style=\"color:blue\">config.yaml</span>\n",
    "    - code is stored in a separate repository\n",
    "    - repo contains a readme with complete instructions and version information.\n",
    "    - repo contains license.\n",
    "    \n",
    "**Must haves**:\n",
    "- A good working method and a non-working approach with explanation why it does or doesn't work.\n",
    "\n",
    "-------------\n"
   ]
  },
  {
   "cell_type": "markdown",
   "id": "0c6be9fb",
   "metadata": {},
   "source": [
    "# Imports"
   ]
  },
  {
   "cell_type": "code",
   "execution_count": 1,
   "id": "f243ae4e",
   "metadata": {},
   "outputs": [],
   "source": [
    "import itertools\n",
    "import pickle\n",
    "import pandas as pd\n",
    "import numpy as np\n",
    "import seaborn as sns\n",
    "import matplotlib.pyplot as plt\n",
    "\n",
    "from matplotlib.colors import ListedColormap\n",
    "from mpl_toolkits.mplot3d import Axes3D\n",
    "from sklearn.decomposition import PCA\n",
    "\n",
    "from functions import plot_distribution\n",
    "from functions import scree_plot\n",
    "from functions import component_plot"
   ]
  },
  {
   "cell_type": "markdown",
   "id": "6af4dc70",
   "metadata": {},
   "source": [
    "# Loading file"
   ]
  },
  {
   "cell_type": "code",
   "execution_count": 3,
   "id": "e92f9e6d",
   "metadata": {},
   "outputs": [
    {
     "data": {
      "text/html": [
       "<div>\n",
       "<style scoped>\n",
       "    .dataframe tbody tr th:only-of-type {\n",
       "        vertical-align: middle;\n",
       "    }\n",
       "\n",
       "    .dataframe tbody tr th {\n",
       "        vertical-align: top;\n",
       "    }\n",
       "\n",
       "    .dataframe thead th {\n",
       "        text-align: right;\n",
       "    }\n",
       "</style>\n",
       "<table border=\"1\" class=\"dataframe\">\n",
       "  <thead>\n",
       "    <tr style=\"text-align: right;\">\n",
       "      <th></th>\n",
       "      <th>0</th>\n",
       "      <th>1</th>\n",
       "      <th>2</th>\n",
       "      <th>3</th>\n",
       "      <th>4</th>\n",
       "      <th>5</th>\n",
       "      <th>6</th>\n",
       "      <th>7</th>\n",
       "      <th>8</th>\n",
       "      <th>9</th>\n",
       "      <th>...</th>\n",
       "      <th>25</th>\n",
       "      <th>26</th>\n",
       "      <th>27</th>\n",
       "      <th>28</th>\n",
       "      <th>29</th>\n",
       "      <th>Abbreviation</th>\n",
       "      <th>Genus</th>\n",
       "      <th>Species</th>\n",
       "      <th>Sex</th>\n",
       "      <th>Age</th>\n",
       "    </tr>\n",
       "  </thead>\n",
       "  <tbody>\n",
       "    <tr>\n",
       "      <th>0</th>\n",
       "      <td>133.426742</td>\n",
       "      <td>-101.627603</td>\n",
       "      <td>21.125902</td>\n",
       "      <td>-11.518251</td>\n",
       "      <td>4.621089</td>\n",
       "      <td>-1.519551</td>\n",
       "      <td>0.583410</td>\n",
       "      <td>-7.182875</td>\n",
       "      <td>1.410030</td>\n",
       "      <td>0.216411</td>\n",
       "      <td>...</td>\n",
       "      <td>-0.301822</td>\n",
       "      <td>-0.433051</td>\n",
       "      <td>0.037651</td>\n",
       "      <td>-0.279618</td>\n",
       "      <td>-0.421040</td>\n",
       "      <td>Ph</td>\n",
       "      <td>Presbytis</td>\n",
       "      <td>hosei</td>\n",
       "      <td>U</td>\n",
       "      <td>A</td>\n",
       "    </tr>\n",
       "    <tr>\n",
       "      <th>1</th>\n",
       "      <td>145.344740</td>\n",
       "      <td>-108.229812</td>\n",
       "      <td>21.121390</td>\n",
       "      <td>-14.982879</td>\n",
       "      <td>2.299335</td>\n",
       "      <td>-2.354040</td>\n",
       "      <td>0.431199</td>\n",
       "      <td>-5.266930</td>\n",
       "      <td>-1.424469</td>\n",
       "      <td>-1.451953</td>\n",
       "      <td>...</td>\n",
       "      <td>0.215340</td>\n",
       "      <td>-0.299550</td>\n",
       "      <td>0.709472</td>\n",
       "      <td>0.876382</td>\n",
       "      <td>-0.150133</td>\n",
       "      <td>Ph</td>\n",
       "      <td>Presbytis</td>\n",
       "      <td>hosei</td>\n",
       "      <td>F</td>\n",
       "      <td>A</td>\n",
       "    </tr>\n",
       "    <tr>\n",
       "      <th>2</th>\n",
       "      <td>137.773342</td>\n",
       "      <td>-107.162743</td>\n",
       "      <td>18.232497</td>\n",
       "      <td>-17.116294</td>\n",
       "      <td>3.016809</td>\n",
       "      <td>-5.295234</td>\n",
       "      <td>1.716895</td>\n",
       "      <td>-1.668914</td>\n",
       "      <td>-1.917478</td>\n",
       "      <td>0.601120</td>\n",
       "      <td>...</td>\n",
       "      <td>-0.481468</td>\n",
       "      <td>-0.243025</td>\n",
       "      <td>-0.537644</td>\n",
       "      <td>-0.140292</td>\n",
       "      <td>0.082158</td>\n",
       "      <td>Pr</td>\n",
       "      <td>Presbytis</td>\n",
       "      <td>rubicunda</td>\n",
       "      <td>U</td>\n",
       "      <td>A</td>\n",
       "    </tr>\n",
       "    <tr>\n",
       "      <th>3</th>\n",
       "      <td>141.523739</td>\n",
       "      <td>-107.436626</td>\n",
       "      <td>17.448083</td>\n",
       "      <td>-16.861469</td>\n",
       "      <td>3.382894</td>\n",
       "      <td>-1.071286</td>\n",
       "      <td>1.768891</td>\n",
       "      <td>-2.735232</td>\n",
       "      <td>-1.136700</td>\n",
       "      <td>-2.706925</td>\n",
       "      <td>...</td>\n",
       "      <td>0.586941</td>\n",
       "      <td>-0.043639</td>\n",
       "      <td>-0.518699</td>\n",
       "      <td>-1.051100</td>\n",
       "      <td>0.542354</td>\n",
       "      <td>Pr</td>\n",
       "      <td>Presbytis</td>\n",
       "      <td>rubicunda</td>\n",
       "      <td>M</td>\n",
       "      <td>A</td>\n",
       "    </tr>\n",
       "    <tr>\n",
       "      <th>4</th>\n",
       "      <td>142.357906</td>\n",
       "      <td>-97.195294</td>\n",
       "      <td>10.511391</td>\n",
       "      <td>-6.520641</td>\n",
       "      <td>3.555506</td>\n",
       "      <td>1.652390</td>\n",
       "      <td>-0.655919</td>\n",
       "      <td>-5.373075</td>\n",
       "      <td>-1.466841</td>\n",
       "      <td>-2.626544</td>\n",
       "      <td>...</td>\n",
       "      <td>0.653851</td>\n",
       "      <td>0.718319</td>\n",
       "      <td>0.798722</td>\n",
       "      <td>-0.396749</td>\n",
       "      <td>0.844772</td>\n",
       "      <td>Pr</td>\n",
       "      <td>Presbytis</td>\n",
       "      <td>rubicunda</td>\n",
       "      <td>F</td>\n",
       "      <td>A</td>\n",
       "    </tr>\n",
       "  </tbody>\n",
       "</table>\n",
       "<p>5 rows × 35 columns</p>\n",
       "</div>"
      ],
      "text/plain": [
       "            0           1          2          3         4         5         6  \\\n",
       "0  133.426742 -101.627603  21.125902 -11.518251  4.621089 -1.519551  0.583410   \n",
       "1  145.344740 -108.229812  21.121390 -14.982879  2.299335 -2.354040  0.431199   \n",
       "2  137.773342 -107.162743  18.232497 -17.116294  3.016809 -5.295234  1.716895   \n",
       "3  141.523739 -107.436626  17.448083 -16.861469  3.382894 -1.071286  1.768891   \n",
       "4  142.357906  -97.195294  10.511391  -6.520641  3.555506  1.652390 -0.655919   \n",
       "\n",
       "          7         8         9  ...        25        26        27        28  \\\n",
       "0 -7.182875  1.410030  0.216411  ... -0.301822 -0.433051  0.037651 -0.279618   \n",
       "1 -5.266930 -1.424469 -1.451953  ...  0.215340 -0.299550  0.709472  0.876382   \n",
       "2 -1.668914 -1.917478  0.601120  ... -0.481468 -0.243025 -0.537644 -0.140292   \n",
       "3 -2.735232 -1.136700 -2.706925  ...  0.586941 -0.043639 -0.518699 -1.051100   \n",
       "4 -5.373075 -1.466841 -2.626544  ...  0.653851  0.718319  0.798722 -0.396749   \n",
       "\n",
       "         29  Abbreviation      Genus    Species  Sex  Age  \n",
       "0 -0.421040            Ph  Presbytis      hosei    U    A  \n",
       "1 -0.150133            Ph  Presbytis      hosei    F    A  \n",
       "2  0.082158            Pr  Presbytis  rubicunda    U    A  \n",
       "3  0.542354            Pr  Presbytis  rubicunda    M    A  \n",
       "4  0.844772            Pr  Presbytis  rubicunda    F    A  \n",
       "\n",
       "[5 rows x 35 columns]"
      ]
     },
     "execution_count": 3,
     "metadata": {},
     "output_type": "execute_result"
    }
   ],
   "source": [
    "df = pd.read_csv('data/primates-morphology.csv').drop(columns='Unnamed: 0')\n",
    "df.head()"
   ]
  },
  {
   "cell_type": "code",
   "execution_count": 4,
   "id": "d7886b7a",
   "metadata": {},
   "outputs": [
    {
     "data": {
      "text/html": [
       "<div>\n",
       "<style scoped>\n",
       "    .dataframe tbody tr th:only-of-type {\n",
       "        vertical-align: middle;\n",
       "    }\n",
       "\n",
       "    .dataframe tbody tr th {\n",
       "        vertical-align: top;\n",
       "    }\n",
       "\n",
       "    .dataframe thead th {\n",
       "        text-align: right;\n",
       "    }\n",
       "</style>\n",
       "<table border=\"1\" class=\"dataframe\">\n",
       "  <thead>\n",
       "    <tr style=\"text-align: right;\">\n",
       "      <th></th>\n",
       "      <th>0</th>\n",
       "      <th>1</th>\n",
       "      <th>2</th>\n",
       "      <th>3</th>\n",
       "      <th>4</th>\n",
       "      <th>5</th>\n",
       "      <th>6</th>\n",
       "      <th>7</th>\n",
       "      <th>8</th>\n",
       "      <th>9</th>\n",
       "      <th>...</th>\n",
       "      <th>25</th>\n",
       "      <th>26</th>\n",
       "      <th>27</th>\n",
       "      <th>28</th>\n",
       "      <th>29</th>\n",
       "      <th>Abbreviation</th>\n",
       "      <th>Genus</th>\n",
       "      <th>Species</th>\n",
       "      <th>Sex</th>\n",
       "      <th>Age</th>\n",
       "    </tr>\n",
       "  </thead>\n",
       "  <tbody>\n",
       "    <tr>\n",
       "      <th>160</th>\n",
       "      <td>-91.085462</td>\n",
       "      <td>-46.160638</td>\n",
       "      <td>86.488654</td>\n",
       "      <td>16.969797</td>\n",
       "      <td>8.581993</td>\n",
       "      <td>-8.889106</td>\n",
       "      <td>3.806365</td>\n",
       "      <td>-2.572926</td>\n",
       "      <td>-1.852834</td>\n",
       "      <td>-0.197013</td>\n",
       "      <td>...</td>\n",
       "      <td>0.360452</td>\n",
       "      <td>0.513323</td>\n",
       "      <td>0.043604</td>\n",
       "      <td>0.294724</td>\n",
       "      <td>-0.003514</td>\n",
       "      <td>Hl</td>\n",
       "      <td>Hylobates</td>\n",
       "      <td>lar</td>\n",
       "      <td>F</td>\n",
       "      <td>A</td>\n",
       "    </tr>\n",
       "    <tr>\n",
       "      <th>161</th>\n",
       "      <td>-91.489354</td>\n",
       "      <td>-39.614165</td>\n",
       "      <td>87.430951</td>\n",
       "      <td>20.871706</td>\n",
       "      <td>11.444575</td>\n",
       "      <td>-6.707486</td>\n",
       "      <td>1.910320</td>\n",
       "      <td>-5.616304</td>\n",
       "      <td>-3.878495</td>\n",
       "      <td>-0.037360</td>\n",
       "      <td>...</td>\n",
       "      <td>-0.368755</td>\n",
       "      <td>-0.173323</td>\n",
       "      <td>-0.627292</td>\n",
       "      <td>0.092090</td>\n",
       "      <td>0.444992</td>\n",
       "      <td>Hl</td>\n",
       "      <td>Hylobates</td>\n",
       "      <td>lar</td>\n",
       "      <td>F</td>\n",
       "      <td>A</td>\n",
       "    </tr>\n",
       "    <tr>\n",
       "      <th>162</th>\n",
       "      <td>-90.204104</td>\n",
       "      <td>-40.985982</td>\n",
       "      <td>83.286250</td>\n",
       "      <td>19.714259</td>\n",
       "      <td>10.448984</td>\n",
       "      <td>-10.269775</td>\n",
       "      <td>4.749293</td>\n",
       "      <td>-2.725633</td>\n",
       "      <td>-1.577457</td>\n",
       "      <td>2.706787</td>\n",
       "      <td>...</td>\n",
       "      <td>-0.033229</td>\n",
       "      <td>0.434486</td>\n",
       "      <td>-0.158110</td>\n",
       "      <td>-0.416191</td>\n",
       "      <td>0.160474</td>\n",
       "      <td>Hl</td>\n",
       "      <td>Hylobates</td>\n",
       "      <td>lar</td>\n",
       "      <td>F</td>\n",
       "      <td>A</td>\n",
       "    </tr>\n",
       "    <tr>\n",
       "      <th>163</th>\n",
       "      <td>-90.248202</td>\n",
       "      <td>-50.111180</td>\n",
       "      <td>77.285086</td>\n",
       "      <td>19.578454</td>\n",
       "      <td>5.634918</td>\n",
       "      <td>-13.863556</td>\n",
       "      <td>1.840409</td>\n",
       "      <td>-0.507864</td>\n",
       "      <td>-1.227452</td>\n",
       "      <td>0.595468</td>\n",
       "      <td>...</td>\n",
       "      <td>0.125275</td>\n",
       "      <td>-0.018511</td>\n",
       "      <td>0.080169</td>\n",
       "      <td>-0.235063</td>\n",
       "      <td>0.317110</td>\n",
       "      <td>Hl</td>\n",
       "      <td>Hylobates</td>\n",
       "      <td>lar</td>\n",
       "      <td>F</td>\n",
       "      <td>A</td>\n",
       "    </tr>\n",
       "    <tr>\n",
       "      <th>164</th>\n",
       "      <td>-88.663448</td>\n",
       "      <td>-43.835382</td>\n",
       "      <td>74.681197</td>\n",
       "      <td>19.086880</td>\n",
       "      <td>9.755993</td>\n",
       "      <td>-9.499983</td>\n",
       "      <td>2.948722</td>\n",
       "      <td>-2.992005</td>\n",
       "      <td>-0.666312</td>\n",
       "      <td>0.333317</td>\n",
       "      <td>...</td>\n",
       "      <td>0.141954</td>\n",
       "      <td>-0.947492</td>\n",
       "      <td>0.060862</td>\n",
       "      <td>-0.297479</td>\n",
       "      <td>0.723835</td>\n",
       "      <td>Hl</td>\n",
       "      <td>Hylobates</td>\n",
       "      <td>lar</td>\n",
       "      <td>F</td>\n",
       "      <td>A</td>\n",
       "    </tr>\n",
       "  </tbody>\n",
       "</table>\n",
       "<p>5 rows × 35 columns</p>\n",
       "</div>"
      ],
      "text/plain": [
       "             0          1          2          3          4          5  \\\n",
       "160 -91.085462 -46.160638  86.488654  16.969797   8.581993  -8.889106   \n",
       "161 -91.489354 -39.614165  87.430951  20.871706  11.444575  -6.707486   \n",
       "162 -90.204104 -40.985982  83.286250  19.714259  10.448984 -10.269775   \n",
       "163 -90.248202 -50.111180  77.285086  19.578454   5.634918 -13.863556   \n",
       "164 -88.663448 -43.835382  74.681197  19.086880   9.755993  -9.499983   \n",
       "\n",
       "            6         7         8         9  ...        25        26  \\\n",
       "160  3.806365 -2.572926 -1.852834 -0.197013  ...  0.360452  0.513323   \n",
       "161  1.910320 -5.616304 -3.878495 -0.037360  ... -0.368755 -0.173323   \n",
       "162  4.749293 -2.725633 -1.577457  2.706787  ... -0.033229  0.434486   \n",
       "163  1.840409 -0.507864 -1.227452  0.595468  ...  0.125275 -0.018511   \n",
       "164  2.948722 -2.992005 -0.666312  0.333317  ...  0.141954 -0.947492   \n",
       "\n",
       "           27        28        29  Abbreviation      Genus  Species  Sex  Age  \n",
       "160  0.043604  0.294724 -0.003514            Hl  Hylobates      lar    F    A  \n",
       "161 -0.627292  0.092090  0.444992            Hl  Hylobates      lar    F    A  \n",
       "162 -0.158110 -0.416191  0.160474            Hl  Hylobates      lar    F    A  \n",
       "163  0.080169 -0.235063  0.317110            Hl  Hylobates      lar    F    A  \n",
       "164  0.060862 -0.297479  0.723835            Hl  Hylobates      lar    F    A  \n",
       "\n",
       "[5 rows x 35 columns]"
      ]
     },
     "execution_count": 4,
     "metadata": {},
     "output_type": "execute_result"
    }
   ],
   "source": [
    "df.tail()"
   ]
  },
  {
   "cell_type": "markdown",
   "id": "645102ea",
   "metadata": {},
   "source": [
    "# Exploration"
   ]
  },
  {
   "cell_type": "code",
   "execution_count": 5,
   "id": "49c7ff36",
   "metadata": {},
   "outputs": [
    {
     "data": {
      "text/plain": [
       "Index(['0', '1', '2', '3', '4', '5', '6', '7', '8', '9', '10', '11', '12',\n",
       "       '13', '14', '15', '16', '17', '18', '19', '20', '21', '22', '23', '24',\n",
       "       '25', '26', '27', '28', '29', 'Abbreviation', 'Genus', 'Species', 'Sex',\n",
       "       'Age'],\n",
       "      dtype='object')"
      ]
     },
     "execution_count": 5,
     "metadata": {},
     "output_type": "execute_result"
    }
   ],
   "source": [
    "df.columns"
   ]
  },
  {
   "cell_type": "markdown",
   "id": "5df0ad15",
   "metadata": {},
   "source": [
    "The goal is to separate the species using clustering. For this reason, only the coordinates and the `Species` columns are important. We do not need the rest."
   ]
  },
  {
   "cell_type": "code",
   "execution_count": 6,
   "id": "49db883b",
   "metadata": {},
   "outputs": [],
   "source": [
    "X = df.iloc[:, :30]\n",
    "y = df['Species']"
   ]
  },
  {
   "cell_type": "markdown",
   "id": "bcfa1271",
   "metadata": {},
   "source": [
    "Create a count plot to investigate the number of species"
   ]
  },
  {
   "cell_type": "code",
   "execution_count": 7,
   "id": "4ccd3c99",
   "metadata": {},
   "outputs": [
    {
     "data": {
      "image/png": "[encoded data removed]",
      "text/plain": [
       "<Figure size 432x288 with 1 Axes>"
      ]
     },
     "metadata": {
      "needs_background": "light"
     },
     "output_type": "display_data"
    },
    {
     "data": {
      "text/plain": [
       "cristata        18\n",
       "lar             18\n",
       "polykomos       10\n",
       "mitis           10\n",
       "badius          10\n",
       "troglodytes      9\n",
       "larvatus         9\n",
       "anubis           9\n",
       "torquatus        9\n",
       "fascicularis     8\n",
       "rubicunda        8\n",
       "gorilla          6\n",
       "albigena         6\n",
       "talapoin         5\n",
       "hosei            5\n",
       "leucophaeus      4\n",
       "patas            4\n",
       "mulatta          3\n",
       "paniscus         3\n",
       "fuscata          2\n",
       "sphinx           2\n",
       "sylvanus         2\n",
       "syndactylus      2\n",
       "pygmaeus         2\n",
       "gelada           1\n",
       "Name: Species, dtype: int64"
      ]
     },
     "execution_count": 7,
     "metadata": {},
     "output_type": "execute_result"
    }
   ],
   "source": [
    "sns.countplot(x=y, label='Count')\n",
    "plt.title(f'Count of {len(y.unique())} unique species.')\n",
    "plt.xticks(rotation=90)\n",
    "plt.show()\n",
    "\n",
    "y.value_counts()"
   ]
  },
  {
   "cell_type": "markdown",
   "id": "12abf1d3",
   "metadata": {},
   "source": [
    "There are 25 different species in total. The dataset is imbalanced which can influence the clustering results. It may be possible that a certain algorithm is not able to find a class. Also, tricks for oversampling are highly data dependent. This means that oversampling gelada will not work. This will be an obstacle in achieving optimal performance."
   ]
  },
  {
   "cell_type": "code",
   "execution_count": 8,
   "id": "74d57fa9",
   "metadata": {},
   "outputs": [
    {
     "name": "stdout",
     "output_type": "stream",
     "text": [
      "<class 'pandas.core.frame.DataFrame'>\n",
      "RangeIndex: 165 entries, 0 to 164\n",
      "Data columns (total 30 columns):\n",
      " #   Column  Non-Null Count  Dtype  \n",
      "---  ------  --------------  -----  \n",
      " 0   0       165 non-null    float64\n",
      " 1   1       165 non-null    float64\n",
      " 2   2       165 non-null    float64\n",
      " 3   3       165 non-null    float64\n",
      " 4   4       165 non-null    float64\n",
      " 5   5       165 non-null    float64\n",
      " 6   6       165 non-null    float64\n",
      " 7   7       165 non-null    float64\n",
      " 8   8       165 non-null    float64\n",
      " 9   9       165 non-null    float64\n",
      " 10  10      165 non-null    float64\n",
      " 11  11      165 non-null    float64\n",
      " 12  12      165 non-null    float64\n",
      " 13  13      165 non-null    float64\n",
      " 14  14      165 non-null    float64\n",
      " 15  15      165 non-null    float64\n",
      " 16  16      165 non-null    float64\n",
      " 17  17      165 non-null    float64\n",
      " 18  18      165 non-null    float64\n",
      " 19  19      165 non-null    float64\n",
      " 20  20      165 non-null    float64\n",
      " 21  21      165 non-null    float64\n",
      " 22  22      165 non-null    float64\n",
      " 23  23      165 non-null    float64\n",
      " 24  24      165 non-null    float64\n",
      " 25  25      165 non-null    float64\n",
      " 26  26      165 non-null    float64\n",
      " 27  27      165 non-null    float64\n",
      " 28  28      165 non-null    float64\n",
      " 29  29      165 non-null    float64\n",
      "dtypes: float64(30)\n",
      "memory usage: 38.8 KB\n"
     ]
    }
   ],
   "source": [
    "X.info()"
   ]
  },
  {
   "cell_type": "markdown",
   "id": "79122573",
   "metadata": {},
   "source": [
    "There are no missing coordinates."
   ]
  },
  {
   "cell_type": "code",
   "execution_count": 9,
   "id": "05df3511",
   "metadata": {},
   "outputs": [
    {
     "data": {
      "image/png": "[encoded data removed]",
      "text/plain": [
       "<Figure size 1080x1080 with 30 Axes>"
      ]
     },
     "metadata": {
      "needs_background": "light"
     },
     "output_type": "display_data"
    }
   ],
   "source": [
    "# inspecting the distribution\n",
    "plot_distribution(X, 5, 6)"
   ]
  },
  {
   "cell_type": "markdown",
   "id": "d26efc69",
   "metadata": {},
   "source": [
    "The distributions seem mostly Gaussian. However, there are some distributions that are more or less skewed, or show outliers. As the data is a coordinate space created by Procrustes Analysis, we can assume that the distributions are correct and that there are no mistakes in measurements. Thus, no further analysis is performed on this aspect."
   ]
  },
  {
   "cell_type": "code",
   "execution_count": 11,
   "id": "a95bae25",
   "metadata": {},
   "outputs": [
    {
     "data": {
      "text/plain": [
       "<AxesSubplot:>"
      ]
     },
     "execution_count": 11,
     "metadata": {},
     "output_type": "execute_result"
    },
    {
     "data": {
      "image/png": "[encoded data removed]",
      "text/plain": [
       "<Figure size 432x288 with 2 Axes>"
      ]
     },
     "metadata": {
      "needs_background": "light"
     },
     "output_type": "display_data"
    }
   ],
   "source": [
    "# inspecting correlation\n",
    "sns.heatmap(X.corr())"
   ]
  },
  {
   "cell_type": "markdown",
   "id": "94df6b48",
   "metadata": {},
   "source": [
    "As expected there are no correlations in the coordinate space."
   ]
  },
  {
   "cell_type": "markdown",
   "id": "fb96098b",
   "metadata": {},
   "source": [
    "# Representations\n",
    "We can now try to visualize the morphology. There are `30` coordinates, so we can use `TSNE` to compress the visualization to a 2-D space. We can also try PCA to find clusters."
   ]
  },
  {
   "cell_type": "code",
   "execution_count": 14,
   "id": "5800f08f",
   "metadata": {},
   "outputs": [
    {
     "data": {
      "image/png": "[encoded data removed]",
      "text/plain": [
       "<Figure size 432x288 with 1 Axes>"
      ]
     },
     "metadata": {
      "needs_background": "light"
     },
     "output_type": "display_data"
    }
   ],
   "source": [
    "# no scaling is needed, as it is a coordinate space\n",
    "pca = PCA()\n",
    "pca.fit(X)\n",
    "X_pca = pca.transform(X)\n",
    "\n",
    "scree_plot(pca)"
   ]
  },
  {
   "cell_type": "markdown",
   "id": "82c1fe26",
   "metadata": {},
   "source": [
    "We see that the first 3 components explain most variance and that it levels off after component 3."
   ]
  },
  {
   "cell_type": "code",
   "execution_count": 16,
   "id": "451a3f56",
   "metadata": {},
   "outputs": [
    {
     "data": {
      "text/plain": [
       "0.9630431360473679"
      ]
     },
     "execution_count": 16,
     "metadata": {},
     "output_type": "execute_result"
    }
   ],
   "source": [
    "pca = PCA(n_components=3)\n",
    "pca.fit(X)\n",
    "pca.explained_variance_ratio_.sum()"
   ]
  },
  {
   "cell_type": "markdown",
   "id": "a6405ec8",
   "metadata": {},
   "source": [
    "3 components explain around 96% of the variance."
   ]
  },
  {
   "cell_type": "code",
   "execution_count": 17,
   "id": "dea46a5e",
   "metadata": {},
   "outputs": [],
   "source": [
    "X_pca = pca.transform(X)"
   ]
  },
  {
   "cell_type": "code",
   "execution_count": 18,
   "id": "4d686806",
   "metadata": {},
   "outputs": [],
   "source": [
    "markers = [',', '.', 'o', 'v', '^', '<', '>', '8', 's', 'p', '*', 'h', 'H', 'D', 'd', 'P', 'X', ',', '.', 'o', 'v', '^', '<' , '>' ,'8']"
   ]
  },
  {
   "cell_type": "code",
   "execution_count": 128,
   "id": "fc745e8a",
   "metadata": {},
   "outputs": [
    {
     "data": {
      "image/png": "[encoded data removed]",
      "text/plain": [
       "<Figure size 1080x720 with 1 Axes>"
      ]
     },
     "metadata": {
      "needs_background": "light"
     },
     "output_type": "display_data"
    }
   ],
   "source": [
    "%matplotlib inline\n",
    "\n",
    "plt.figure(figsize=(15, 10))\n",
    "sns.scatterplot(x=X_pca[:,0], y=X_pca[:,1], hue=y, style=y, legend='full',markers=markers, s=100)\n",
    "plt.legend(bbox_to_anchor=(1.05, 1), loc=2, borderaxespad=0.)\n",
    "plt.show()"
   ]
  },
  {
   "cell_type": "code",
   "execution_count": 129,
   "id": "513eac79",
   "metadata": {},
   "outputs": [
    {
     "data": {
      "application/javascript": [
       "/* Put everything inside the global mpl namespace */\n",
       "/* global mpl */\n",
       "window.mpl = {};\n",
       "\n",
       "mpl.get_websocket_type = function () {\n",
       "    if (typeof WebSocket !== 'undefined') {\n",
       "        return WebSocket;\n",
       "    } else if (typeof MozWebSocket !== 'undefined') {\n",
       "        return MozWebSocket;\n",
       "    } else {\n",
       "        alert(\n",
       "            'Your browser does not have WebSocket support. ' +\n",
       "                'Please try Chrome, Safari or Firefox ≥ 6. ' +\n",
       "                'Firefox 4 and 5 are also supported but you ' +\n",
       "                'have to enable WebSockets in about:config.'\n",
       "        );\n",
       "    }\n",
       "};\n",
       "\n",
       "mpl.figure = function (figure_id, websocket, ondownload, parent_element) {\n",
       "    this.id = figure_id;\n",
       "\n",
       "    this.ws = websocket;\n",
       "\n",
       "    this.supports_binary = this.ws.binaryType !== undefined;\n",
       "\n",
       "    if (!this.supports_binary) {\n",
       "        var warnings = document.getElementById('mpl-warnings');\n",
       "        if (warnings) {\n",
       "            warnings.style.display = 'block';\n",
       "            warnings.textContent =\n",
       "                'This browser does not support binary websocket messages. ' +\n",
       "                'Performance may be slow.';\n",
       "        }\n",
       "    }\n",
       "\n",
       "    this.imageObj = new Image();\n",
       "\n",
       "    this.context = undefined;\n",
       "    this.message = undefined;\n",
       "    this.canvas = undefined;\n",
       "    this.rubberband_canvas = undefined;\n",
       "    this.rubberband_context = undefined;\n",
       "    this.format_dropdown = undefined;\n",
       "\n",
       "    this.image_mode = 'full';\n",
       "\n",
       "    this.root = document.createElement('div');\n",
       "    this.root.setAttribute('style', 'display: inline-block');\n",
       "    this._root_extra_style(this.root);\n",
       "\n",
       "    parent_element.appendChild(this.root);\n",
       "\n",
       "    this._init_header(this);\n",
       "    this._init_canvas(this);\n",
       "    this._init_toolbar(this);\n",
       "\n",
       "    var fig = this;\n",
       "\n",
       "    this.waiting = false;\n",
       "\n",
       "    this.ws.onopen = function () {\n",
       "        fig.send_message('supports_binary', { value: fig.supports_binary });\n",
       "        fig.send_message('send_image_mode', {});\n",
       "        if (fig.ratio !== 1) {\n",
       "            fig.send_message('set_dpi_ratio', { dpi_ratio: fig.ratio });\n",
       "        }\n",
       "        fig.send_message('refresh', {});\n",
       "    };\n",
       "\n",
       "    this.imageObj.onload = function () {\n",
       "        if (fig.image_mode === 'full') {\n",
       "            // Full images could contain transparency (where diff images\n",
       "            // almost always do), so we need to clear the canvas so that\n",
       "            // there is no ghosting.\n",
       "            fig.context.clearRect(0, 0, fig.canvas.width, fig.canvas.height);\n",
       "        }\n",
       "        fig.context.drawImage(fig.imageObj, 0, 0);\n",
       "    };\n",
       "\n",
       "    this.imageObj.onunload = function () {\n",
       "        fig.ws.close();\n",
       "    };\n",
       "\n",
       "    this.ws.onmessage = this._make_on_message_function(this);\n",
       "\n",
       "    this.ondownload = ondownload;\n",
       "};\n",
       "\n",
       "mpl.figure.prototype._init_header = function () {\n",
       "    var titlebar = document.createElement('div');\n",
       "    titlebar.classList =\n",
       "        'ui-dialog-titlebar ui-widget-header ui-corner-all ui-helper-clearfix';\n",
       "    var titletext = document.createElement('div');\n",
       "    titletext.classList = 'ui-dialog-title';\n",
       "    titletext.setAttribute(\n",
       "        'style',\n",
       "        'width: 100%; text-align: center; padding: 3px;'\n",
       "    );\n",
       "    titlebar.appendChild(titletext);\n",
       "    this.root.appendChild(titlebar);\n",
       "    this.header = titletext;\n",
       "};\n",
       "\n",
       "mpl.figure.prototype._canvas_extra_style = function (_canvas_div) {};\n",
       "\n",
       "mpl.figure.prototype._root_extra_style = function (_canvas_div) {};\n",
       "\n",
       "mpl.figure.prototype._init_canvas = function () {\n",
       "    var fig = this;\n",
       "\n",
       "    var canvas_div = (this.canvas_div = document.createElement('div'));\n",
       "    canvas_div.setAttribute(\n",
       "        'style',\n",
       "        'border: 1px solid #ddd;' +\n",
       "            'box-sizing: content-box;' +\n",
       "            'clear: both;' +\n",
       "            'min-height: 1px;' +\n",
       "            'min-width: 1px;' +\n",
       "            'outline: 0;' +\n",
       "            'overflow: hidden;' +\n",
       "            'position: relative;' +\n",
       "            'resize: both;'\n",
       "    );\n",
       "\n",
       "    function on_keyboard_event_closure(name) {\n",
       "        return function (event) {\n",
       "            return fig.key_event(event, name);\n",
       "        };\n",
       "    }\n",
       "\n",
       "    canvas_div.addEventListener(\n",
       "        'keydown',\n",
       "        on_keyboard_event_closure('key_press')\n",
       "    );\n",
       "    canvas_div.addEventListener(\n",
       "        'keyup',\n",
       "        on_keyboard_event_closure('key_release')\n",
       "    );\n",
       "\n",
       "    this._canvas_extra_style(canvas_div);\n",
       "    this.root.appendChild(canvas_div);\n",
       "\n",
       "    var canvas = (this.canvas = document.createElement('canvas'));\n",
       "    canvas.classList.add('mpl-canvas');\n",
       "    canvas.setAttribute('style', 'box-sizing: content-box;');\n",
       "\n",
       "    this.context = canvas.getContext('2d');\n",
       "\n",
       "    var backingStore =\n",
       "        this.context.backingStorePixelRatio ||\n",
       "        this.context.webkitBackingStorePixelRatio ||\n",
       "        this.context.mozBackingStorePixelRatio ||\n",
       "        this.context.msBackingStorePixelRatio ||\n",
       "        this.context.oBackingStorePixelRatio ||\n",
       "        this.context.backingStorePixelRatio ||\n",
       "        1;\n",
       "\n",
       "    this.ratio = (window.devicePixelRatio || 1) / backingStore;\n",
       "\n",
       "    var rubberband_canvas = (this.rubberband_canvas = document.createElement(\n",
       "        'canvas'\n",
       "    ));\n",
       "    rubberband_canvas.setAttribute(\n",
       "        'style',\n",
       "        'box-sizing: content-box; position: absolute; left: 0; top: 0; z-index: 1;'\n",
       "    );\n",
       "\n",
       "    // Apply a ponyfill if ResizeObserver is not implemented by browser.\n",
       "    if (this.ResizeObserver === undefined) {\n",
       "        if (window.ResizeObserver !== undefined) {\n",
       "            this.ResizeObserver = window.ResizeObserver;\n",
       "        } else {\n",
       "            var obs = _JSXTOOLS_RESIZE_OBSERVER({});\n",
       "            this.ResizeObserver = obs.ResizeObserver;\n",
       "        }\n",
       "    }\n",
       "\n",
       "    this.resizeObserverInstance = new this.ResizeObserver(function (entries) {\n",
       "        var nentries = entries.length;\n",
       "        for (var i = 0; i < nentries; i++) {\n",
       "            var entry = entries[i];\n",
       "            var width, height;\n",
       "            if (entry.contentBoxSize) {\n",
       "                if (entry.contentBoxSize instanceof Array) {\n",
       "                    // Chrome 84 implements new version of spec.\n",
       "                    width = entry.contentBoxSize[0].inlineSize;\n",
       "                    height = entry.contentBoxSize[0].blockSize;\n",
       "                } else {\n",
       "                    // Firefox implements old version of spec.\n",
       "                    width = entry.contentBoxSize.inlineSize;\n",
       "                    height = entry.contentBoxSize.blockSize;\n",
       "                }\n",
       "            } else {\n",
       "                // Chrome <84 implements even older version of spec.\n",
       "                width = entry.contentRect.width;\n",
       "                height = entry.contentRect.height;\n",
       "            }\n",
       "\n",
       "            // Keep the size of the canvas and rubber band canvas in sync with\n",
       "            // the canvas container.\n",
       "            if (entry.devicePixelContentBoxSize) {\n",
       "                // Chrome 84 implements new version of spec.\n",
       "                canvas.setAttribute(\n",
       "                    'width',\n",
       "                    entry.devicePixelContentBoxSize[0].inlineSize\n",
       "                );\n",
       "                canvas.setAttribute(\n",
       "                    'height',\n",
       "                    entry.devicePixelContentBoxSize[0].blockSize\n",
       "                );\n",
       "            } else {\n",
       "                canvas.setAttribute('width', width * fig.ratio);\n",
       "                canvas.setAttribute('height', height * fig.ratio);\n",
       "            }\n",
       "            canvas.setAttribute(\n",
       "                'style',\n",
       "                'width: ' + width + 'px; height: ' + height + 'px;'\n",
       "            );\n",
       "\n",
       "            rubberband_canvas.setAttribute('width', width);\n",
       "            rubberband_canvas.setAttribute('height', height);\n",
       "\n",
       "            // And update the size in Python. We ignore the initial 0/0 size\n",
       "            // that occurs as the element is placed into the DOM, which should\n",
       "            // otherwise not happen due to the minimum size styling.\n",
       "            if (fig.ws.readyState == 1 && width != 0 && height != 0) {\n",
       "                fig.request_resize(width, height);\n",
       "            }\n",
       "        }\n",
       "    });\n",
       "    this.resizeObserverInstance.observe(canvas_div);\n",
       "\n",
       "    function on_mouse_event_closure(name) {\n",
       "        return function (event) {\n",
       "            return fig.mouse_event(event, name);\n",
       "        };\n",
       "    }\n",
       "\n",
       "    rubberband_canvas.addEventListener(\n",
       "        'mousedown',\n",
       "        on_mouse_event_closure('button_press')\n",
       "    );\n",
       "    rubberband_canvas.addEventListener(\n",
       "        'mouseup',\n",
       "        on_mouse_event_closure('button_release')\n",
       "    );\n",
       "    rubberband_canvas.addEventListener(\n",
       "        'dblclick',\n",
       "        on_mouse_event_closure('dblclick')\n",
       "    );\n",
       "    // Throttle sequential mouse events to 1 every 20ms.\n",
       "    rubberband_canvas.addEventListener(\n",
       "        'mousemove',\n",
       "        on_mouse_event_closure('motion_notify')\n",
       "    );\n",
       "\n",
       "    rubberband_canvas.addEventListener(\n",
       "        'mouseenter',\n",
       "        on_mouse_event_closure('figure_enter')\n",
       "    );\n",
       "    rubberband_canvas.addEventListener(\n",
       "        'mouseleave',\n",
       "        on_mouse_event_closure('figure_leave')\n",
       "    );\n",
       "\n",
       "    canvas_div.addEventListener('wheel', function (event) {\n",
       "        if (event.deltaY < 0) {\n",
       "            event.step = 1;\n",
       "        } else {\n",
       "            event.step = -1;\n",
       "        }\n",
       "        on_mouse_event_closure('scroll')(event);\n",
       "    });\n",
       "\n",
       "    canvas_div.appendChild(canvas);\n",
       "    canvas_div.appendChild(rubberband_canvas);\n",
       "\n",
       "    this.rubberband_context = rubberband_canvas.getContext('2d');\n",
       "    this.rubberband_context.strokeStyle = '#000000';\n",
       "\n",
       "    this._resize_canvas = function (width, height, forward) {\n",
       "        if (forward) {\n",
       "            canvas_div.style.width = width + 'px';\n",
       "            canvas_div.style.height = height + 'px';\n",
       "        }\n",
       "    };\n",
       "\n",
       "    // Disable right mouse context menu.\n",
       "    this.rubberband_canvas.addEventListener('contextmenu', function (_e) {\n",
       "        event.preventDefault();\n",
       "        return false;\n",
       "    });\n",
       "\n",
       "    function set_focus() {\n",
       "        canvas.focus();\n",
       "        canvas_div.focus();\n",
       "    }\n",
       "\n",
       "    window.setTimeout(set_focus, 100);\n",
       "};\n",
       "\n",
       "mpl.figure.prototype._init_toolbar = function () {\n",
       "    var fig = this;\n",
       "\n",
       "    var toolbar = document.createElement('div');\n",
       "    toolbar.classList = 'mpl-toolbar';\n",
       "    this.root.appendChild(toolbar);\n",
       "\n",
       "    function on_click_closure(name) {\n",
       "        return function (_event) {\n",
       "            return fig.toolbar_button_onclick(name);\n",
       "        };\n",
       "    }\n",
       "\n",
       "    function on_mouseover_closure(tooltip) {\n",
       "        return function (event) {\n",
       "            if (!event.currentTarget.disabled) {\n",
       "                return fig.toolbar_button_onmouseover(tooltip);\n",
       "            }\n",
       "        };\n",
       "    }\n",
       "\n",
       "    fig.buttons = {};\n",
       "    var buttonGroup = document.createElement('div');\n",
       "    buttonGroup.classList = 'mpl-button-group';\n",
       "    for (var toolbar_ind in mpl.toolbar_items) {\n",
       "        var name = mpl.toolbar_items[toolbar_ind][0];\n",
       "        var tooltip = mpl.toolbar_items[toolbar_ind][1];\n",
       "        var image = mpl.toolbar_items[toolbar_ind][2];\n",
       "        var method_name = mpl.toolbar_items[toolbar_ind][3];\n",
       "\n",
       "        if (!name) {\n",
       "            /* Instead of a spacer, we start a new button group. */\n",
       "            if (buttonGroup.hasChildNodes()) {\n",
       "                toolbar.appendChild(buttonGroup);\n",
       "            }\n",
       "            buttonGroup = document.createElement('div');\n",
       "            buttonGroup.classList = 'mpl-button-group';\n",
       "            continue;\n",
       "        }\n",
       "\n",
       "        var button = (fig.buttons[name] = document.createElement('button'));\n",
       "        button.classList = 'mpl-widget';\n",
       "        button.setAttribute('role', 'button');\n",
       "        button.setAttribute('aria-disabled', 'false');\n",
       "        button.addEventListener('click', on_click_closure(method_name));\n",
       "        button.addEventListener('mouseover', on_mouseover_closure(tooltip));\n",
       "\n",
       "        var icon_img = document.createElement('img');\n",
       "        icon_img.src = '_images/' + image + '.png';\n",
       "        icon_img.srcset = '_images/' + image + '_large.png 2x';\n",
       "        icon_img.alt = tooltip;\n",
       "        button.appendChild(icon_img);\n",
       "\n",
       "        buttonGroup.appendChild(button);\n",
       "    }\n",
       "\n",
       "    if (buttonGroup.hasChildNodes()) {\n",
       "        toolbar.appendChild(buttonGroup);\n",
       "    }\n",
       "\n",
       "    var fmt_picker = document.createElement('select');\n",
       "    fmt_picker.classList = 'mpl-widget';\n",
       "    toolbar.appendChild(fmt_picker);\n",
       "    this.format_dropdown = fmt_picker;\n",
       "\n",
       "    for (var ind in mpl.extensions) {\n",
       "        var fmt = mpl.extensions[ind];\n",
       "        var option = document.createElement('option');\n",
       "        option.selected = fmt === mpl.default_extension;\n",
       "        option.innerHTML = fmt;\n",
       "        fmt_picker.appendChild(option);\n",
       "    }\n",
       "\n",
       "    var status_bar = document.createElement('span');\n",
       "    status_bar.classList = 'mpl-message';\n",
       "    toolbar.appendChild(status_bar);\n",
       "    this.message = status_bar;\n",
       "};\n",
       "\n",
       "mpl.figure.prototype.request_resize = function (x_pixels, y_pixels) {\n",
       "    // Request matplotlib to resize the figure. Matplotlib will then trigger a resize in the client,\n",
       "    // which will in turn request a refresh of the image.\n",
       "    this.send_message('resize', { width: x_pixels, height: y_pixels });\n",
       "};\n",
       "\n",
       "mpl.figure.prototype.send_message = function (type, properties) {\n",
       "    properties['type'] = type;\n",
       "    properties['figure_id'] = this.id;\n",
       "    this.ws.send(JSON.stringify(properties));\n",
       "};\n",
       "\n",
       "mpl.figure.prototype.send_draw_message = function () {\n",
       "    if (!this.waiting) {\n",
       "        this.waiting = true;\n",
       "        this.ws.send(JSON.stringify({ type: 'draw', figure_id: this.id }));\n",
       "    }\n",
       "};\n",
       "\n",
       "mpl.figure.prototype.handle_save = function (fig, _msg) {\n",
       "    var format_dropdown = fig.format_dropdown;\n",
       "    var format = format_dropdown.options[format_dropdown.selectedIndex].value;\n",
       "    fig.ondownload(fig, format);\n",
       "};\n",
       "\n",
       "mpl.figure.prototype.handle_resize = function (fig, msg) {\n",
       "    var size = msg['size'];\n",
       "    if (size[0] !== fig.canvas.width || size[1] !== fig.canvas.height) {\n",
       "        fig._resize_canvas(size[0], size[1], msg['forward']);\n",
       "        fig.send_message('refresh', {});\n",
       "    }\n",
       "};\n",
       "\n",
       "mpl.figure.prototype.handle_rubberband = function (fig, msg) {\n",
       "    var x0 = msg['x0'] / fig.ratio;\n",
       "    var y0 = (fig.canvas.height - msg['y0']) / fig.ratio;\n",
       "    var x1 = msg['x1'] / fig.ratio;\n",
       "    var y1 = (fig.canvas.height - msg['y1']) / fig.ratio;\n",
       "    x0 = Math.floor(x0) + 0.5;\n",
       "    y0 = Math.floor(y0) + 0.5;\n",
       "    x1 = Math.floor(x1) + 0.5;\n",
       "    y1 = Math.floor(y1) + 0.5;\n",
       "    var min_x = Math.min(x0, x1);\n",
       "    var min_y = Math.min(y0, y1);\n",
       "    var width = Math.abs(x1 - x0);\n",
       "    var height = Math.abs(y1 - y0);\n",
       "\n",
       "    fig.rubberband_context.clearRect(\n",
       "        0,\n",
       "        0,\n",
       "        fig.canvas.width / fig.ratio,\n",
       "        fig.canvas.height / fig.ratio\n",
       "    );\n",
       "\n",
       "    fig.rubberband_context.strokeRect(min_x, min_y, width, height);\n",
       "};\n",
       "\n",
       "mpl.figure.prototype.handle_figure_label = function (fig, msg) {\n",
       "    // Updates the figure title.\n",
       "    fig.header.textContent = msg['label'];\n",
       "};\n",
       "\n",
       "mpl.figure.prototype.handle_cursor = function (fig, msg) {\n",
       "    var cursor = msg['cursor'];\n",
       "    switch (cursor) {\n",
       "        case 0:\n",
       "            cursor = 'pointer';\n",
       "            break;\n",
       "        case 1:\n",
       "            cursor = 'default';\n",
       "            break;\n",
       "        case 2:\n",
       "            cursor = 'crosshair';\n",
       "            break;\n",
       "        case 3:\n",
       "            cursor = 'move';\n",
       "            break;\n",
       "    }\n",
       "    fig.rubberband_canvas.style.cursor = cursor;\n",
       "};\n",
       "\n",
       "mpl.figure.prototype.handle_message = function (fig, msg) {\n",
       "    fig.message.textContent = msg['message'];\n",
       "};\n",
       "\n",
       "mpl.figure.prototype.handle_draw = function (fig, _msg) {\n",
       "    // Request the server to send over a new figure.\n",
       "    fig.send_draw_message();\n",
       "};\n",
       "\n",
       "mpl.figure.prototype.handle_image_mode = function (fig, msg) {\n",
       "    fig.image_mode = msg['mode'];\n",
       "};\n",
       "\n",
       "mpl.figure.prototype.handle_history_buttons = function (fig, msg) {\n",
       "    for (var key in msg) {\n",
       "        if (!(key in fig.buttons)) {\n",
       "            continue;\n",
       "        }\n",
       "        fig.buttons[key].disabled = !msg[key];\n",
       "        fig.buttons[key].setAttribute('aria-disabled', !msg[key]);\n",
       "    }\n",
       "};\n",
       "\n",
       "mpl.figure.prototype.handle_navigate_mode = function (fig, msg) {\n",
       "    if (msg['mode'] === 'PAN') {\n",
       "        fig.buttons['Pan'].classList.add('active');\n",
       "        fig.buttons['Zoom'].classList.remove('active');\n",
       "    } else if (msg['mode'] === 'ZOOM') {\n",
       "        fig.buttons['Pan'].classList.remove('active');\n",
       "        fig.buttons['Zoom'].classList.add('active');\n",
       "    } else {\n",
       "        fig.buttons['Pan'].classList.remove('active');\n",
       "        fig.buttons['Zoom'].classList.remove('active');\n",
       "    }\n",
       "};\n",
       "\n",
       "mpl.figure.prototype.updated_canvas_event = function () {\n",
       "    // Called whenever the canvas gets updated.\n",
       "    this.send_message('ack', {});\n",
       "};\n",
       "\n",
       "// A function to construct a web socket function for onmessage handling.\n",
       "// Called in the figure constructor.\n",
       "mpl.figure.prototype._make_on_message_function = function (fig) {\n",
       "    return function socket_on_message(evt) {\n",
       "        if (evt.data instanceof Blob) {\n",
       "            var img = evt.data;\n",
       "            if (img.type !== 'image/png') {\n",
       "                /* FIXME: We get \"Resource interpreted as Image but\n",
       "                 * transferred with MIME type text/plain:\" errors on\n",
       "                 * Chrome.  But how to set the MIME type?  It doesn't seem\n",
       "                 * to be part of the websocket stream */\n",
       "                img.type = 'image/png';\n",
       "            }\n",
       "\n",
       "            /* Free the memory for the previous frames */\n",
       "            if (fig.imageObj.src) {\n",
       "                (window.URL || window.webkitURL).revokeObjectURL(\n",
       "                    fig.imageObj.src\n",
       "                );\n",
       "            }\n",
       "\n",
       "            fig.imageObj.src = (window.URL || window.webkitURL).createObjectURL(\n",
       "                img\n",
       "            );\n",
       "            fig.updated_canvas_event();\n",
       "            fig.waiting = false;\n",
       "            return;\n",
       "        } else if (\n",
       "            typeof evt.data === 'string' &&\n",
       "            evt.data.slice(0, 21) === 'data:image/png;base64'\n",
       "        ) {\n",
       "            fig.imageObj.src = evt.data;\n",
       "            fig.updated_canvas_event();\n",
       "            fig.waiting = false;\n",
       "            return;\n",
       "        }\n",
       "\n",
       "        var msg = JSON.parse(evt.data);\n",
       "        var msg_type = msg['type'];\n",
       "\n",
       "        // Call the  \"handle_{type}\" callback, which takes\n",
       "        // the figure and JSON message as its only arguments.\n",
       "        try {\n",
       "            var callback = fig['handle_' + msg_type];\n",
       "        } catch (e) {\n",
       "            console.log(\n",
       "                \"No handler for the '\" + msg_type + \"' message type: \",\n",
       "                msg\n",
       "            );\n",
       "            return;\n",
       "        }\n",
       "\n",
       "        if (callback) {\n",
       "            try {\n",
       "                // console.log(\"Handling '\" + msg_type + \"' message: \", msg);\n",
       "                callback(fig, msg);\n",
       "            } catch (e) {\n",
       "                console.log(\n",
       "                    \"Exception inside the 'handler_\" + msg_type + \"' callback:\",\n",
       "                    e,\n",
       "                    e.stack,\n",
       "                    msg\n",
       "                );\n",
       "            }\n",
       "        }\n",
       "    };\n",
       "};\n",
       "\n",
       "// from http://stackoverflow.com/questions/1114465/getting-mouse-location-in-canvas\n",
       "mpl.findpos = function (e) {\n",
       "    //this section is from http://www.quirksmode.org/js/events_properties.html\n",
       "    var targ;\n",
       "    if (!e) {\n",
       "        e = window.event;\n",
       "    }\n",
       "    if (e.target) {\n",
       "        targ = e.target;\n",
       "    } else if (e.srcElement) {\n",
       "        targ = e.srcElement;\n",
       "    }\n",
       "    if (targ.nodeType === 3) {\n",
       "        // defeat Safari bug\n",
       "        targ = targ.parentNode;\n",
       "    }\n",
       "\n",
       "    // pageX,Y are the mouse positions relative to the document\n",
       "    var boundingRect = targ.getBoundingClientRect();\n",
       "    var x = e.pageX - (boundingRect.left + document.body.scrollLeft);\n",
       "    var y = e.pageY - (boundingRect.top + document.body.scrollTop);\n",
       "\n",
       "    return { x: x, y: y };\n",
       "};\n",
       "\n",
       "/*\n",
       " * return a copy of an object with only non-object keys\n",
       " * we need this to avoid circular references\n",
       " * http://stackoverflow.com/a/24161582/3208463\n",
       " */\n",
       "function simpleKeys(original) {\n",
       "    return Object.keys(original).reduce(function (obj, key) {\n",
       "        if (typeof original[key] !== 'object') {\n",
       "            obj[key] = original[key];\n",
       "        }\n",
       "        return obj;\n",
       "    }, {});\n",
       "}\n",
       "\n",
       "mpl.figure.prototype.mouse_event = function (event, name) {\n",
       "    var canvas_pos = mpl.findpos(event);\n",
       "\n",
       "    if (name === 'button_press') {\n",
       "        this.canvas.focus();\n",
       "        this.canvas_div.focus();\n",
       "    }\n",
       "\n",
       "    var x = canvas_pos.x * this.ratio;\n",
       "    var y = canvas_pos.y * this.ratio;\n",
       "\n",
       "    this.send_message(name, {\n",
       "        x: x,\n",
       "        y: y,\n",
       "        button: event.button,\n",
       "        step: event.step,\n",
       "        guiEvent: simpleKeys(event),\n",
       "    });\n",
       "\n",
       "    /* This prevents the web browser from automatically changing to\n",
       "     * the text insertion cursor when the button is pressed.  We want\n",
       "     * to control all of the cursor setting manually through the\n",
       "     * 'cursor' event from matplotlib */\n",
       "    event.preventDefault();\n",
       "    return false;\n",
       "};\n",
       "\n",
       "mpl.figure.prototype._key_event_extra = function (_event, _name) {\n",
       "    // Handle any extra behaviour associated with a key event\n",
       "};\n",
       "\n",
       "mpl.figure.prototype.key_event = function (event, name) {\n",
       "    // Prevent repeat events\n",
       "    if (name === 'key_press') {\n",
       "        if (event.key === this._key) {\n",
       "            return;\n",
       "        } else {\n",
       "            this._key = event.key;\n",
       "        }\n",
       "    }\n",
       "    if (name === 'key_release') {\n",
       "        this._key = null;\n",
       "    }\n",
       "\n",
       "    var value = '';\n",
       "    if (event.ctrlKey && event.key !== 'Control') {\n",
       "        value += 'ctrl+';\n",
       "    }\n",
       "    else if (event.altKey && event.key !== 'Alt') {\n",
       "        value += 'alt+';\n",
       "    }\n",
       "    else if (event.shiftKey && event.key !== 'Shift') {\n",
       "        value += 'shift+';\n",
       "    }\n",
       "\n",
       "    value += 'k' + event.key;\n",
       "\n",
       "    this._key_event_extra(event, name);\n",
       "\n",
       "    this.send_message(name, { key: value, guiEvent: simpleKeys(event) });\n",
       "    return false;\n",
       "};\n",
       "\n",
       "mpl.figure.prototype.toolbar_button_onclick = function (name) {\n",
       "    if (name === 'download') {\n",
       "        this.handle_save(this, null);\n",
       "    } else {\n",
       "        this.send_message('toolbar_button', { name: name });\n",
       "    }\n",
       "};\n",
       "\n",
       "mpl.figure.prototype.toolbar_button_onmouseover = function (tooltip) {\n",
       "    this.message.textContent = tooltip;\n",
       "};\n",
       "\n",
       "///////////////// REMAINING CONTENT GENERATED BY embed_js.py /////////////////\n",
       "// prettier-ignore\n",
       "var _JSXTOOLS_RESIZE_OBSERVER=function(A){var t,i=new WeakMap,n=new WeakMap,a=new WeakMap,r=new WeakMap,o=new Set;function s(e){if(!(this instanceof s))throw new TypeError(\"Constructor requires 'new' operator\");i.set(this,e)}function h(){throw new TypeError(\"Function is not a constructor\")}function c(e,t,i,n){e=0 in arguments?Number(arguments[0]):0,t=1 in arguments?Number(arguments[1]):0,i=2 in arguments?Number(arguments[2]):0,n=3 in arguments?Number(arguments[3]):0,this.right=(this.x=this.left=e)+(this.width=i),this.bottom=(this.y=this.top=t)+(this.height=n),Object.freeze(this)}function d(){t=requestAnimationFrame(d);var s=new WeakMap,p=new Set;o.forEach((function(t){r.get(t).forEach((function(i){var r=t instanceof window.SVGElement,o=a.get(t),d=r?0:parseFloat(o.paddingTop),f=r?0:parseFloat(o.paddingRight),l=r?0:parseFloat(o.paddingBottom),u=r?0:parseFloat(o.paddingLeft),g=r?0:parseFloat(o.borderTopWidth),m=r?0:parseFloat(o.borderRightWidth),w=r?0:parseFloat(o.borderBottomWidth),b=u+f,F=d+l,v=(r?0:parseFloat(o.borderLeftWidth))+m,W=g+w,y=r?0:t.offsetHeight-W-t.clientHeight,E=r?0:t.offsetWidth-v-t.clientWidth,R=b+v,z=F+W,M=r?t.width:parseFloat(o.width)-R-E,O=r?t.height:parseFloat(o.height)-z-y;if(n.has(t)){var k=n.get(t);if(k[0]===M&&k[1]===O)return}n.set(t,[M,O]);var S=Object.create(h.prototype);S.target=t,S.contentRect=new c(u,d,M,O),s.has(i)||(s.set(i,[]),p.add(i)),s.get(i).push(S)}))})),p.forEach((function(e){i.get(e).call(e,s.get(e),e)}))}return s.prototype.observe=function(i){if(i instanceof window.Element){r.has(i)||(r.set(i,new Set),o.add(i),a.set(i,window.getComputedStyle(i)));var n=r.get(i);n.has(this)||n.add(this),cancelAnimationFrame(t),t=requestAnimationFrame(d)}},s.prototype.unobserve=function(i){if(i instanceof window.Element&&r.has(i)){var n=r.get(i);n.has(this)&&(n.delete(this),n.size||(r.delete(i),o.delete(i))),n.size||r.delete(i),o.size||cancelAnimationFrame(t)}},A.DOMRectReadOnly=c,A.ResizeObserver=s,A.ResizeObserverEntry=h,A}; // eslint-disable-line\n",
       "mpl.toolbar_items = [[\"Home\", \"Reset original view\", \"fa fa-home icon-home\", \"home\"], [\"Back\", \"Back to previous view\", \"fa fa-arrow-left icon-arrow-left\", \"back\"], [\"Forward\", \"Forward to next view\", \"fa fa-arrow-right icon-arrow-right\", \"forward\"], [\"\", \"\", \"\", \"\"], [\"Pan\", \"Left button pans, Right button zooms\\nx/y fixes axis, CTRL fixes aspect\", \"fa fa-arrows icon-move\", \"pan\"], [\"Zoom\", \"Zoom to rectangle\\nx/y fixes axis, CTRL fixes aspect\", \"fa fa-square-o icon-check-empty\", \"zoom\"], [\"\", \"\", \"\", \"\"], [\"Download\", \"Download plot\", \"fa fa-floppy-o icon-save\", \"download\"]];\n",
       "\n",
       "mpl.extensions = [\"eps\", \"jpeg\", \"pgf\", \"pdf\", \"png\", \"ps\", \"raw\", \"svg\", \"tif\"];\n",
       "\n",
       "mpl.default_extension = \"png\";/* global mpl */\n",
       "\n",
       "var comm_websocket_adapter = function (comm) {\n",
       "    // Create a \"websocket\"-like object which calls the given IPython comm\n",
       "    // object with the appropriate methods. Currently this is a non binary\n",
       "    // socket, so there is still some room for performance tuning.\n",
       "    var ws = {};\n",
       "\n",
       "    ws.binaryType = comm.kernel.ws.binaryType;\n",
       "    ws.readyState = comm.kernel.ws.readyState;\n",
       "    function updateReadyState(_event) {\n",
       "        if (comm.kernel.ws) {\n",
       "            ws.readyState = comm.kernel.ws.readyState;\n",
       "        } else {\n",
       "            ws.readyState = 3; // Closed state.\n",
       "        }\n",
       "    }\n",
       "    comm.kernel.ws.addEventListener('open', updateReadyState);\n",
       "    comm.kernel.ws.addEventListener('close', updateReadyState);\n",
       "    comm.kernel.ws.addEventListener('error', updateReadyState);\n",
       "\n",
       "    ws.close = function () {\n",
       "        comm.close();\n",
       "    };\n",
       "    ws.send = function (m) {\n",
       "        //console.log('sending', m);\n",
       "        comm.send(m);\n",
       "    };\n",
       "    // Register the callback with on_msg.\n",
       "    comm.on_msg(function (msg) {\n",
       "        //console.log('receiving', msg['content']['data'], msg);\n",
       "        var data = msg['content']['data'];\n",
       "        if (data['blob'] !== undefined) {\n",
       "            data = {\n",
       "                data: new Blob(msg['buffers'], { type: data['blob'] }),\n",
       "            };\n",
       "        }\n",
       "        // Pass the mpl event to the overridden (by mpl) onmessage function.\n",
       "        ws.onmessage(data);\n",
       "    });\n",
       "    return ws;\n",
       "};\n",
       "\n",
       "mpl.mpl_figure_comm = function (comm, msg) {\n",
       "    // This is the function which gets called when the mpl process\n",
       "    // starts-up an IPython Comm through the \"matplotlib\" channel.\n",
       "\n",
       "    var id = msg.content.data.id;\n",
       "    // Get hold of the div created by the display call when the Comm\n",
       "    // socket was opened in Python.\n",
       "    var element = document.getElementById(id);\n",
       "    var ws_proxy = comm_websocket_adapter(comm);\n",
       "\n",
       "    function ondownload(figure, _format) {\n",
       "        window.open(figure.canvas.toDataURL());\n",
       "    }\n",
       "\n",
       "    var fig = new mpl.figure(id, ws_proxy, ondownload, element);\n",
       "\n",
       "    // Call onopen now - mpl needs it, as it is assuming we've passed it a real\n",
       "    // web socket which is closed, not our websocket->open comm proxy.\n",
       "    ws_proxy.onopen();\n",
       "\n",
       "    fig.parent_element = element;\n",
       "    fig.cell_info = mpl.find_output_cell(\"<div id='\" + id + \"'></div>\");\n",
       "    if (!fig.cell_info) {\n",
       "        console.error('Failed to find cell for figure', id, fig);\n",
       "        return;\n",
       "    }\n",
       "    fig.cell_info[0].output_area.element.on(\n",
       "        'cleared',\n",
       "        { fig: fig },\n",
       "        fig._remove_fig_handler\n",
       "    );\n",
       "};\n",
       "\n",
       "mpl.figure.prototype.handle_close = function (fig, msg) {\n",
       "    var width = fig.canvas.width / fig.ratio;\n",
       "    fig.cell_info[0].output_area.element.off(\n",
       "        'cleared',\n",
       "        fig._remove_fig_handler\n",
       "    );\n",
       "    fig.resizeObserverInstance.unobserve(fig.canvas_div);\n",
       "\n",
       "    // Update the output cell to use the data from the current canvas.\n",
       "    fig.push_to_output();\n",
       "    var dataURL = fig.canvas.toDataURL();\n",
       "    // Re-enable the keyboard manager in IPython - without this line, in FF,\n",
       "    // the notebook keyboard shortcuts fail.\n",
       "    IPython.keyboard_manager.enable();\n",
       "    fig.parent_element.innerHTML =\n",
       "        '<img src=\"' + dataURL + '\" width=\"' + width + '\">';\n",
       "    fig.close_ws(fig, msg);\n",
       "};\n",
       "\n",
       "mpl.figure.prototype.close_ws = function (fig, msg) {\n",
       "    fig.send_message('closing', msg);\n",
       "    // fig.ws.close()\n",
       "};\n",
       "\n",
       "mpl.figure.prototype.push_to_output = function (_remove_interactive) {\n",
       "    // Turn the data on the canvas into data in the output cell.\n",
       "    var width = this.canvas.width / this.ratio;\n",
       "    var dataURL = this.canvas.toDataURL();\n",
       "    this.cell_info[1]['text/html'] =\n",
       "        '<img src=\"' + dataURL + '\" width=\"' + width + '\">';\n",
       "};\n",
       "\n",
       "mpl.figure.prototype.updated_canvas_event = function () {\n",
       "    // Tell IPython that the notebook contents must change.\n",
       "    IPython.notebook.set_dirty(true);\n",
       "    this.send_message('ack', {});\n",
       "    var fig = this;\n",
       "    // Wait a second, then push the new image to the DOM so\n",
       "    // that it is saved nicely (might be nice to debounce this).\n",
       "    setTimeout(function () {\n",
       "        fig.push_to_output();\n",
       "    }, 1000);\n",
       "};\n",
       "\n",
       "mpl.figure.prototype._init_toolbar = function () {\n",
       "    var fig = this;\n",
       "\n",
       "    var toolbar = document.createElement('div');\n",
       "    toolbar.classList = 'btn-toolbar';\n",
       "    this.root.appendChild(toolbar);\n",
       "\n",
       "    function on_click_closure(name) {\n",
       "        return function (_event) {\n",
       "            return fig.toolbar_button_onclick(name);\n",
       "        };\n",
       "    }\n",
       "\n",
       "    function on_mouseover_closure(tooltip) {\n",
       "        return function (event) {\n",
       "            if (!event.currentTarget.disabled) {\n",
       "                return fig.toolbar_button_onmouseover(tooltip);\n",
       "            }\n",
       "        };\n",
       "    }\n",
       "\n",
       "    fig.buttons = {};\n",
       "    var buttonGroup = document.createElement('div');\n",
       "    buttonGroup.classList = 'btn-group';\n",
       "    var button;\n",
       "    for (var toolbar_ind in mpl.toolbar_items) {\n",
       "        var name = mpl.toolbar_items[toolbar_ind][0];\n",
       "        var tooltip = mpl.toolbar_items[toolbar_ind][1];\n",
       "        var image = mpl.toolbar_items[toolbar_ind][2];\n",
       "        var method_name = mpl.toolbar_items[toolbar_ind][3];\n",
       "\n",
       "        if (!name) {\n",
       "            /* Instead of a spacer, we start a new button group. */\n",
       "            if (buttonGroup.hasChildNodes()) {\n",
       "                toolbar.appendChild(buttonGroup);\n",
       "            }\n",
       "            buttonGroup = document.createElement('div');\n",
       "            buttonGroup.classList = 'btn-group';\n",
       "            continue;\n",
       "        }\n",
       "\n",
       "        button = fig.buttons[name] = document.createElement('button');\n",
       "        button.classList = 'btn btn-default';\n",
       "        button.href = '#';\n",
       "        button.title = name;\n",
       "        button.innerHTML = '<i class=\"fa ' + image + ' fa-lg\"></i>';\n",
       "        button.addEventListener('click', on_click_closure(method_name));\n",
       "        button.addEventListener('mouseover', on_mouseover_closure(tooltip));\n",
       "        buttonGroup.appendChild(button);\n",
       "    }\n",
       "\n",
       "    if (buttonGroup.hasChildNodes()) {\n",
       "        toolbar.appendChild(buttonGroup);\n",
       "    }\n",
       "\n",
       "    // Add the status bar.\n",
       "    var status_bar = document.createElement('span');\n",
       "    status_bar.classList = 'mpl-message pull-right';\n",
       "    toolbar.appendChild(status_bar);\n",
       "    this.message = status_bar;\n",
       "\n",
       "    // Add the close button to the window.\n",
       "    var buttongrp = document.createElement('div');\n",
       "    buttongrp.classList = 'btn-group inline pull-right';\n",
       "    button = document.createElement('button');\n",
       "    button.classList = 'btn btn-mini btn-primary';\n",
       "    button.href = '#';\n",
       "    button.title = 'Stop Interaction';\n",
       "    button.innerHTML = '<i class=\"fa fa-power-off icon-remove icon-large\"></i>';\n",
       "    button.addEventListener('click', function (_evt) {\n",
       "        fig.handle_close(fig, {});\n",
       "    });\n",
       "    button.addEventListener(\n",
       "        'mouseover',\n",
       "        on_mouseover_closure('Stop Interaction')\n",
       "    );\n",
       "    buttongrp.appendChild(button);\n",
       "    var titlebar = this.root.querySelector('.ui-dialog-titlebar');\n",
       "    titlebar.insertBefore(buttongrp, titlebar.firstChild);\n",
       "};\n",
       "\n",
       "mpl.figure.prototype._remove_fig_handler = function (event) {\n",
       "    var fig = event.data.fig;\n",
       "    if (event.target !== this) {\n",
       "        // Ignore bubbled events from children.\n",
       "        return;\n",
       "    }\n",
       "    fig.close_ws(fig, {});\n",
       "};\n",
       "\n",
       "mpl.figure.prototype._root_extra_style = function (el) {\n",
       "    el.style.boxSizing = 'content-box'; // override notebook setting of border-box.\n",
       "};\n",
       "\n",
       "mpl.figure.prototype._canvas_extra_style = function (el) {\n",
       "    // this is important to make the div 'focusable\n",
       "    el.setAttribute('tabindex', 0);\n",
       "    // reach out to IPython and tell the keyboard manager to turn it's self\n",
       "    // off when our div gets focus\n",
       "\n",
       "    // location in version 3\n",
       "    if (IPython.notebook.keyboard_manager) {\n",
       "        IPython.notebook.keyboard_manager.register_events(el);\n",
       "    } else {\n",
       "        // location in version 2\n",
       "        IPython.keyboard_manager.register_events(el);\n",
       "    }\n",
       "};\n",
       "\n",
       "mpl.figure.prototype._key_event_extra = function (event, _name) {\n",
       "    var manager = IPython.notebook.keyboard_manager;\n",
       "    if (!manager) {\n",
       "        manager = IPython.keyboard_manager;\n",
       "    }\n",
       "\n",
       "    // Check for shift+enter\n",
       "    if (event.shiftKey && event.which === 13) {\n",
       "        this.canvas_div.blur();\n",
       "        // select the cell after this one\n",
       "        var index = IPython.notebook.find_cell_index(this.cell_info[0]);\n",
       "        IPython.notebook.select(index + 1);\n",
       "    }\n",
       "};\n",
       "\n",
       "mpl.figure.prototype.handle_save = function (fig, _msg) {\n",
       "    fig.ondownload(fig, null);\n",
       "};\n",
       "\n",
       "mpl.find_output_cell = function (html_output) {\n",
       "    // Return the cell and output element which can be found *uniquely* in the notebook.\n",
       "    // Note - this is a bit hacky, but it is done because the \"notebook_saving.Notebook\"\n",
       "    // IPython event is triggered only after the cells have been serialised, which for\n",
       "    // our purposes (turning an active figure into a static one), is too late.\n",
       "    var cells = IPython.notebook.get_cells();\n",
       "    var ncells = cells.length;\n",
       "    for (var i = 0; i < ncells; i++) {\n",
       "        var cell = cells[i];\n",
       "        if (cell.cell_type === 'code') {\n",
       "            for (var j = 0; j < cell.output_area.outputs.length; j++) {\n",
       "                var data = cell.output_area.outputs[j];\n",
       "                if (data.data) {\n",
       "                    // IPython >= 3 moved mimebundle to data attribute of output\n",
       "                    data = data.data;\n",
       "                }\n",
       "                if (data['text/html'] === html_output) {\n",
       "                    return [cell, data, j];\n",
       "                }\n",
       "            }\n",
       "        }\n",
       "    }\n",
       "};\n",
       "\n",
       "// Register the function which deals with the matplotlib target/channel.\n",
       "// The kernel may be null if the page has been refreshed.\n",
       "if (IPython.notebook.kernel !== null) {\n",
       "    IPython.notebook.kernel.comm_manager.register_target(\n",
       "        'matplotlib',\n",
       "        mpl.mpl_figure_comm\n",
       "    );\n",
       "}\n"
      ],
      "text/plain": [
       "<IPython.core.display.Javascript object>"
      ]
     },
     "metadata": {},
     "output_type": "display_data"
    },
    {
     "data": {
      "text/html": [
       "<img src=\"data:image/png;base64,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\" width=\"720\">"
      ],
      "text/plain": [
       "<IPython.core.display.HTML object>"
      ]
     },
     "metadata": {},
     "output_type": "display_data"
    }
   ],
   "source": [
    "%matplotlib notebook\n",
    "\n",
    "fig = plt.figure(figsize=(10,6))\n",
    "ax = Axes3D(fig, auto_add_to_figure=False)\n",
    "fig.add_axes(ax)\n",
    "\n",
    "cmap = ListedColormap(sns.color_palette('husl', 25).as_hex())\n",
    "\n",
    "sc = ax.scatter(X_pca[:,0], X_pca[:,1], X_pca[:,2], c=X_pca[:,0], cmap=cmap, marker='o', s=40)\n",
    "ax.set_xlabel('PC 1')\n",
    "ax.set_ylabel('PC 2')\n",
    "ax.set_zlabel('PC 3')\n",
    "\n",
    "plt.legend(*sc.legend_elements(), bbox_to_anchor=(1.05, 1), loc=2)\n",
    "plt.show()"
   ]
  },
  {
   "cell_type": "markdown",
   "id": "574360bd",
   "metadata": {},
   "source": [
    "We can clearly see separate clusters on this image. However, it is hard to distinguish between the different species based on color. For instance, a gorilla can easily be clustered, but the difference between anubis, patas, lar and syndactylus are not clear. The primates probably have the same size, and can not fully be differentiated by just the coordinate space."
   ]
  },
  {
   "cell_type": "markdown",
   "id": "b1268fb8",
   "metadata": {},
   "source": [
    "**Visualize using TSNE**\n",
    "\n",
    "I used hyperparameter optimization to create a TSNE model that minimizes the `kl_divergence` on the `X` data. The model can be found in the `output` folder or several models can be trained using the `optimize.sh` file. This file requires `parallel` and should be run on a linux system.\n",
    "\n",
    "Normally you can use PCA components for TSNE, but as there are less than `50` features, I'm using the raw coordinates."
   ]
  },
  {
   "cell_type": "code",
   "execution_count": 14,
   "id": "96b6489d",
   "metadata": {},
   "outputs": [
    {
     "data": {
      "text/plain": [
       "{'angle': 0.8,\n",
       " 'early_exaggeration': 12,\n",
       " 'init': 'random',\n",
       " 'learning_rate': 'auto',\n",
       " 'method': 'barnes_hut',\n",
       " 'metric': 'euclidean',\n",
       " 'metric_params': None,\n",
       " 'min_grad_norm': 1e-07,\n",
       " 'n_components': 2,\n",
       " 'n_iter': 2000,\n",
       " 'n_iter_without_progress': 300,\n",
       " 'n_jobs': None,\n",
       " 'perplexity': 40,\n",
       " 'random_state': None,\n",
       " 'square_distances': 'deprecated',\n",
       " 'verbose': 0}"
      ]
     },
     "execution_count": 14,
     "metadata": {},
     "output_type": "execute_result"
    }
   ],
   "source": [
    "model = pickle.load(open('best_models/2d-753469-primates.pkl', 'rb'))\n",
    "model.get_params()"
   ]
  },
  {
   "cell_type": "code",
   "execution_count": 15,
   "id": "4b804b09",
   "metadata": {},
   "outputs": [
    {
     "data": {
      "text/plain": [
       "0.06460878252983093"
      ]
     },
     "execution_count": 15,
     "metadata": {},
     "output_type": "execute_result"
    }
   ],
   "source": [
    "model.kl_divergence_"
   ]
  },
  {
   "cell_type": "code",
   "execution_count": 16,
   "id": "f428adb9",
   "metadata": {},
   "outputs": [],
   "source": [
    "Y = model.fit_transform(X)"
   ]
  },
  {
   "cell_type": "code",
   "execution_count": 19,
   "id": "e1a96506",
   "metadata": {},
   "outputs": [
    {
     "data": {
      "image/png": "[encoded data removed]",
      "text/plain": [
       "<Figure size 1080x720 with 1 Axes>"
      ]
     },
     "metadata": {
      "needs_background": "light"
     },
     "output_type": "display_data"
    }
   ],
   "source": [
    "%matplotlib inline\n",
    "\n",
    "plt.figure(figsize=(15, 10))\n",
    "sns.scatterplot(x=Y[:, 0], y=Y[:, 1], hue=y, style=y, legend='full',markers=markers, s=100)\n",
    "plt.legend(bbox_to_anchor=(1.05, 1), loc=2, borderaxespad=0.)\n",
    "plt.show()"
   ]
  },
  {
   "cell_type": "code",
   "execution_count": 24,
   "id": "6cbe65e5",
   "metadata": {},
   "outputs": [
    {
     "data": {
      "text/plain": [
       "{'angle': 0.8,\n",
       " 'early_exaggeration': 12,\n",
       " 'init': 'random',\n",
       " 'learning_rate': 'auto',\n",
       " 'method': 'barnes_hut',\n",
       " 'metric': 'euclidean',\n",
       " 'metric_params': None,\n",
       " 'min_grad_norm': 1e-07,\n",
       " 'n_components': 3,\n",
       " 'n_iter': 4000,\n",
       " 'n_iter_without_progress': 300,\n",
       " 'n_jobs': None,\n",
       " 'perplexity': 40,\n",
       " 'random_state': None,\n",
       " 'square_distances': 'deprecated',\n",
       " 'verbose': 0}"
      ]
     },
     "execution_count": 24,
     "metadata": {},
     "output_type": "execute_result"
    }
   ],
   "source": [
    "model = pickle.load(open('best_models/3d-821884-primates.pkl', 'rb'))\n",
    "model.get_params()"
   ]
  },
  {
   "cell_type": "code",
   "execution_count": 25,
   "id": "86eeeb01",
   "metadata": {},
   "outputs": [
    {
     "data": {
      "text/plain": [
       "0.039330143481492996"
      ]
     },
     "execution_count": 25,
     "metadata": {},
     "output_type": "execute_result"
    }
   ],
   "source": [
    "model.kl_divergence_"
   ]
  },
  {
   "cell_type": "code",
   "execution_count": 26,
   "id": "f6451b6b",
   "metadata": {},
   "outputs": [],
   "source": [
    "Y3d = model.fit_transform(X)"
   ]
  },
  {
   "cell_type": "code",
   "execution_count": 28,
   "id": "1a8489e8",
   "metadata": {},
   "outputs": [
    {
     "data": {
      "application/javascript": [
       "/* Put everything inside the global mpl namespace */\n",
       "/* global mpl */\n",
       "window.mpl = {};\n",
       "\n",
       "mpl.get_websocket_type = function () {\n",
       "    if (typeof WebSocket !== 'undefined') {\n",
       "        return WebSocket;\n",
       "    } else if (typeof MozWebSocket !== 'undefined') {\n",
       "        return MozWebSocket;\n",
       "    } else {\n",
       "        alert(\n",
       "            'Your browser does not have WebSocket support. ' +\n",
       "                'Please try Chrome, Safari or Firefox ≥ 6. ' +\n",
       "                'Firefox 4 and 5 are also supported but you ' +\n",
       "                'have to enable WebSockets in about:config.'\n",
       "        );\n",
       "    }\n",
       "};\n",
       "\n",
       "mpl.figure = function (figure_id, websocket, ondownload, parent_element) {\n",
       "    this.id = figure_id;\n",
       "\n",
       "    this.ws = websocket;\n",
       "\n",
       "    this.supports_binary = this.ws.binaryType !== undefined;\n",
       "\n",
       "    if (!this.supports_binary) {\n",
       "        var warnings = document.getElementById('mpl-warnings');\n",
       "        if (warnings) {\n",
       "            warnings.style.display = 'block';\n",
       "            warnings.textContent =\n",
       "                'This browser does not support binary websocket messages. ' +\n",
       "                'Performance may be slow.';\n",
       "        }\n",
       "    }\n",
       "\n",
       "    this.imageObj = new Image();\n",
       "\n",
       "    this.context = undefined;\n",
       "    this.message = undefined;\n",
       "    this.canvas = undefined;\n",
       "    this.rubberband_canvas = undefined;\n",
       "    this.rubberband_context = undefined;\n",
       "    this.format_dropdown = undefined;\n",
       "\n",
       "    this.image_mode = 'full';\n",
       "\n",
       "    this.root = document.createElement('div');\n",
       "    this.root.setAttribute('style', 'display: inline-block');\n",
       "    this._root_extra_style(this.root);\n",
       "\n",
       "    parent_element.appendChild(this.root);\n",
       "\n",
       "    this._init_header(this);\n",
       "    this._init_canvas(this);\n",
       "    this._init_toolbar(this);\n",
       "\n",
       "    var fig = this;\n",
       "\n",
       "    this.waiting = false;\n",
       "\n",
       "    this.ws.onopen = function () {\n",
       "        fig.send_message('supports_binary', { value: fig.supports_binary });\n",
       "        fig.send_message('send_image_mode', {});\n",
       "        if (fig.ratio !== 1) {\n",
       "            fig.send_message('set_dpi_ratio', { dpi_ratio: fig.ratio });\n",
       "        }\n",
       "        fig.send_message('refresh', {});\n",
       "    };\n",
       "\n",
       "    this.imageObj.onload = function () {\n",
       "        if (fig.image_mode === 'full') {\n",
       "            // Full images could contain transparency (where diff images\n",
       "            // almost always do), so we need to clear the canvas so that\n",
       "            // there is no ghosting.\n",
       "            fig.context.clearRect(0, 0, fig.canvas.width, fig.canvas.height);\n",
       "        }\n",
       "        fig.context.drawImage(fig.imageObj, 0, 0);\n",
       "    };\n",
       "\n",
       "    this.imageObj.onunload = function () {\n",
       "        fig.ws.close();\n",
       "    };\n",
       "\n",
       "    this.ws.onmessage = this._make_on_message_function(this);\n",
       "\n",
       "    this.ondownload = ondownload;\n",
       "};\n",
       "\n",
       "mpl.figure.prototype._init_header = function () {\n",
       "    var titlebar = document.createElement('div');\n",
       "    titlebar.classList =\n",
       "        'ui-dialog-titlebar ui-widget-header ui-corner-all ui-helper-clearfix';\n",
       "    var titletext = document.createElement('div');\n",
       "    titletext.classList = 'ui-dialog-title';\n",
       "    titletext.setAttribute(\n",
       "        'style',\n",
       "        'width: 100%; text-align: center; padding: 3px;'\n",
       "    );\n",
       "    titlebar.appendChild(titletext);\n",
       "    this.root.appendChild(titlebar);\n",
       "    this.header = titletext;\n",
       "};\n",
       "\n",
       "mpl.figure.prototype._canvas_extra_style = function (_canvas_div) {};\n",
       "\n",
       "mpl.figure.prototype._root_extra_style = function (_canvas_div) {};\n",
       "\n",
       "mpl.figure.prototype._init_canvas = function () {\n",
       "    var fig = this;\n",
       "\n",
       "    var canvas_div = (this.canvas_div = document.createElement('div'));\n",
       "    canvas_div.setAttribute(\n",
       "        'style',\n",
       "        'border: 1px solid #ddd;' +\n",
       "            'box-sizing: content-box;' +\n",
       "            'clear: both;' +\n",
       "            'min-height: 1px;' +\n",
       "            'min-width: 1px;' +\n",
       "            'outline: 0;' +\n",
       "            'overflow: hidden;' +\n",
       "            'position: relative;' +\n",
       "            'resize: both;'\n",
       "    );\n",
       "\n",
       "    function on_keyboard_event_closure(name) {\n",
       "        return function (event) {\n",
       "            return fig.key_event(event, name);\n",
       "        };\n",
       "    }\n",
       "\n",
       "    canvas_div.addEventListener(\n",
       "        'keydown',\n",
       "        on_keyboard_event_closure('key_press')\n",
       "    );\n",
       "    canvas_div.addEventListener(\n",
       "        'keyup',\n",
       "        on_keyboard_event_closure('key_release')\n",
       "    );\n",
       "\n",
       "    this._canvas_extra_style(canvas_div);\n",
       "    this.root.appendChild(canvas_div);\n",
       "\n",
       "    var canvas = (this.canvas = document.createElement('canvas'));\n",
       "    canvas.classList.add('mpl-canvas');\n",
       "    canvas.setAttribute('style', 'box-sizing: content-box;');\n",
       "\n",
       "    this.context = canvas.getContext('2d');\n",
       "\n",
       "    var backingStore =\n",
       "        this.context.backingStorePixelRatio ||\n",
       "        this.context.webkitBackingStorePixelRatio ||\n",
       "        this.context.mozBackingStorePixelRatio ||\n",
       "        this.context.msBackingStorePixelRatio ||\n",
       "        this.context.oBackingStorePixelRatio ||\n",
       "        this.context.backingStorePixelRatio ||\n",
       "        1;\n",
       "\n",
       "    this.ratio = (window.devicePixelRatio || 1) / backingStore;\n",
       "\n",
       "    var rubberband_canvas = (this.rubberband_canvas = document.createElement(\n",
       "        'canvas'\n",
       "    ));\n",
       "    rubberband_canvas.setAttribute(\n",
       "        'style',\n",
       "        'box-sizing: content-box; position: absolute; left: 0; top: 0; z-index: 1;'\n",
       "    );\n",
       "\n",
       "    // Apply a ponyfill if ResizeObserver is not implemented by browser.\n",
       "    if (this.ResizeObserver === undefined) {\n",
       "        if (window.ResizeObserver !== undefined) {\n",
       "            this.ResizeObserver = window.ResizeObserver;\n",
       "        } else {\n",
       "            var obs = _JSXTOOLS_RESIZE_OBSERVER({});\n",
       "            this.ResizeObserver = obs.ResizeObserver;\n",
       "        }\n",
       "    }\n",
       "\n",
       "    this.resizeObserverInstance = new this.ResizeObserver(function (entries) {\n",
       "        var nentries = entries.length;\n",
       "        for (var i = 0; i < nentries; i++) {\n",
       "            var entry = entries[i];\n",
       "            var width, height;\n",
       "            if (entry.contentBoxSize) {\n",
       "                if (entry.contentBoxSize instanceof Array) {\n",
       "                    // Chrome 84 implements new version of spec.\n",
       "                    width = entry.contentBoxSize[0].inlineSize;\n",
       "                    height = entry.contentBoxSize[0].blockSize;\n",
       "                } else {\n",
       "                    // Firefox implements old version of spec.\n",
       "                    width = entry.contentBoxSize.inlineSize;\n",
       "                    height = entry.contentBoxSize.blockSize;\n",
       "                }\n",
       "            } else {\n",
       "                // Chrome <84 implements even older version of spec.\n",
       "                width = entry.contentRect.width;\n",
       "                height = entry.contentRect.height;\n",
       "            }\n",
       "\n",
       "            // Keep the size of the canvas and rubber band canvas in sync with\n",
       "            // the canvas container.\n",
       "            if (entry.devicePixelContentBoxSize) {\n",
       "                // Chrome 84 implements new version of spec.\n",
       "                canvas.setAttribute(\n",
       "                    'width',\n",
       "                    entry.devicePixelContentBoxSize[0].inlineSize\n",
       "                );\n",
       "                canvas.setAttribute(\n",
       "                    'height',\n",
       "                    entry.devicePixelContentBoxSize[0].blockSize\n",
       "                );\n",
       "            } else {\n",
       "                canvas.setAttribute('width', width * fig.ratio);\n",
       "                canvas.setAttribute('height', height * fig.ratio);\n",
       "            }\n",
       "            canvas.setAttribute(\n",
       "                'style',\n",
       "                'width: ' + width + 'px; height: ' + height + 'px;'\n",
       "            );\n",
       "\n",
       "            rubberband_canvas.setAttribute('width', width);\n",
       "            rubberband_canvas.setAttribute('height', height);\n",
       "\n",
       "            // And update the size in Python. We ignore the initial 0/0 size\n",
       "            // that occurs as the element is placed into the DOM, which should\n",
       "            // otherwise not happen due to the minimum size styling.\n",
       "            if (fig.ws.readyState == 1 && width != 0 && height != 0) {\n",
       "                fig.request_resize(width, height);\n",
       "            }\n",
       "        }\n",
       "    });\n",
       "    this.resizeObserverInstance.observe(canvas_div);\n",
       "\n",
       "    function on_mouse_event_closure(name) {\n",
       "        return function (event) {\n",
       "            return fig.mouse_event(event, name);\n",
       "        };\n",
       "    }\n",
       "\n",
       "    rubberband_canvas.addEventListener(\n",
       "        'mousedown',\n",
       "        on_mouse_event_closure('button_press')\n",
       "    );\n",
       "    rubberband_canvas.addEventListener(\n",
       "        'mouseup',\n",
       "        on_mouse_event_closure('button_release')\n",
       "    );\n",
       "    rubberband_canvas.addEventListener(\n",
       "        'dblclick',\n",
       "        on_mouse_event_closure('dblclick')\n",
       "    );\n",
       "    // Throttle sequential mouse events to 1 every 20ms.\n",
       "    rubberband_canvas.addEventListener(\n",
       "        'mousemove',\n",
       "        on_mouse_event_closure('motion_notify')\n",
       "    );\n",
       "\n",
       "    rubberband_canvas.addEventListener(\n",
       "        'mouseenter',\n",
       "        on_mouse_event_closure('figure_enter')\n",
       "    );\n",
       "    rubberband_canvas.addEventListener(\n",
       "        'mouseleave',\n",
       "        on_mouse_event_closure('figure_leave')\n",
       "    );\n",
       "\n",
       "    canvas_div.addEventListener('wheel', function (event) {\n",
       "        if (event.deltaY < 0) {\n",
       "            event.step = 1;\n",
       "        } else {\n",
       "            event.step = -1;\n",
       "        }\n",
       "        on_mouse_event_closure('scroll')(event);\n",
       "    });\n",
       "\n",
       "    canvas_div.appendChild(canvas);\n",
       "    canvas_div.appendChild(rubberband_canvas);\n",
       "\n",
       "    this.rubberband_context = rubberband_canvas.getContext('2d');\n",
       "    this.rubberband_context.strokeStyle = '#000000';\n",
       "\n",
       "    this._resize_canvas = function (width, height, forward) {\n",
       "        if (forward) {\n",
       "            canvas_div.style.width = width + 'px';\n",
       "            canvas_div.style.height = height + 'px';\n",
       "        }\n",
       "    };\n",
       "\n",
       "    // Disable right mouse context menu.\n",
       "    this.rubberband_canvas.addEventListener('contextmenu', function (_e) {\n",
       "        event.preventDefault();\n",
       "        return false;\n",
       "    });\n",
       "\n",
       "    function set_focus() {\n",
       "        canvas.focus();\n",
       "        canvas_div.focus();\n",
       "    }\n",
       "\n",
       "    window.setTimeout(set_focus, 100);\n",
       "};\n",
       "\n",
       "mpl.figure.prototype._init_toolbar = function () {\n",
       "    var fig = this;\n",
       "\n",
       "    var toolbar = document.createElement('div');\n",
       "    toolbar.classList = 'mpl-toolbar';\n",
       "    this.root.appendChild(toolbar);\n",
       "\n",
       "    function on_click_closure(name) {\n",
       "        return function (_event) {\n",
       "            return fig.toolbar_button_onclick(name);\n",
       "        };\n",
       "    }\n",
       "\n",
       "    function on_mouseover_closure(tooltip) {\n",
       "        return function (event) {\n",
       "            if (!event.currentTarget.disabled) {\n",
       "                return fig.toolbar_button_onmouseover(tooltip);\n",
       "            }\n",
       "        };\n",
       "    }\n",
       "\n",
       "    fig.buttons = {};\n",
       "    var buttonGroup = document.createElement('div');\n",
       "    buttonGroup.classList = 'mpl-button-group';\n",
       "    for (var toolbar_ind in mpl.toolbar_items) {\n",
       "        var name = mpl.toolbar_items[toolbar_ind][0];\n",
       "        var tooltip = mpl.toolbar_items[toolbar_ind][1];\n",
       "        var image = mpl.toolbar_items[toolbar_ind][2];\n",
       "        var method_name = mpl.toolbar_items[toolbar_ind][3];\n",
       "\n",
       "        if (!name) {\n",
       "            /* Instead of a spacer, we start a new button group. */\n",
       "            if (buttonGroup.hasChildNodes()) {\n",
       "                toolbar.appendChild(buttonGroup);\n",
       "            }\n",
       "            buttonGroup = document.createElement('div');\n",
       "            buttonGroup.classList = 'mpl-button-group';\n",
       "            continue;\n",
       "        }\n",
       "\n",
       "        var button = (fig.buttons[name] = document.createElement('button'));\n",
       "        button.classList = 'mpl-widget';\n",
       "        button.setAttribute('role', 'button');\n",
       "        button.setAttribute('aria-disabled', 'false');\n",
       "        button.addEventListener('click', on_click_closure(method_name));\n",
       "        button.addEventListener('mouseover', on_mouseover_closure(tooltip));\n",
       "\n",
       "        var icon_img = document.createElement('img');\n",
       "        icon_img.src = '_images/' + image + '.png';\n",
       "        icon_img.srcset = '_images/' + image + '_large.png 2x';\n",
       "        icon_img.alt = tooltip;\n",
       "        button.appendChild(icon_img);\n",
       "\n",
       "        buttonGroup.appendChild(button);\n",
       "    }\n",
       "\n",
       "    if (buttonGroup.hasChildNodes()) {\n",
       "        toolbar.appendChild(buttonGroup);\n",
       "    }\n",
       "\n",
       "    var fmt_picker = document.createElement('select');\n",
       "    fmt_picker.classList = 'mpl-widget';\n",
       "    toolbar.appendChild(fmt_picker);\n",
       "    this.format_dropdown = fmt_picker;\n",
       "\n",
       "    for (var ind in mpl.extensions) {\n",
       "        var fmt = mpl.extensions[ind];\n",
       "        var option = document.createElement('option');\n",
       "        option.selected = fmt === mpl.default_extension;\n",
       "        option.innerHTML = fmt;\n",
       "        fmt_picker.appendChild(option);\n",
       "    }\n",
       "\n",
       "    var status_bar = document.createElement('span');\n",
       "    status_bar.classList = 'mpl-message';\n",
       "    toolbar.appendChild(status_bar);\n",
       "    this.message = status_bar;\n",
       "};\n",
       "\n",
       "mpl.figure.prototype.request_resize = function (x_pixels, y_pixels) {\n",
       "    // Request matplotlib to resize the figure. Matplotlib will then trigger a resize in the client,\n",
       "    // which will in turn request a refresh of the image.\n",
       "    this.send_message('resize', { width: x_pixels, height: y_pixels });\n",
       "};\n",
       "\n",
       "mpl.figure.prototype.send_message = function (type, properties) {\n",
       "    properties['type'] = type;\n",
       "    properties['figure_id'] = this.id;\n",
       "    this.ws.send(JSON.stringify(properties));\n",
       "};\n",
       "\n",
       "mpl.figure.prototype.send_draw_message = function () {\n",
       "    if (!this.waiting) {\n",
       "        this.waiting = true;\n",
       "        this.ws.send(JSON.stringify({ type: 'draw', figure_id: this.id }));\n",
       "    }\n",
       "};\n",
       "\n",
       "mpl.figure.prototype.handle_save = function (fig, _msg) {\n",
       "    var format_dropdown = fig.format_dropdown;\n",
       "    var format = format_dropdown.options[format_dropdown.selectedIndex].value;\n",
       "    fig.ondownload(fig, format);\n",
       "};\n",
       "\n",
       "mpl.figure.prototype.handle_resize = function (fig, msg) {\n",
       "    var size = msg['size'];\n",
       "    if (size[0] !== fig.canvas.width || size[1] !== fig.canvas.height) {\n",
       "        fig._resize_canvas(size[0], size[1], msg['forward']);\n",
       "        fig.send_message('refresh', {});\n",
       "    }\n",
       "};\n",
       "\n",
       "mpl.figure.prototype.handle_rubberband = function (fig, msg) {\n",
       "    var x0 = msg['x0'] / fig.ratio;\n",
       "    var y0 = (fig.canvas.height - msg['y0']) / fig.ratio;\n",
       "    var x1 = msg['x1'] / fig.ratio;\n",
       "    var y1 = (fig.canvas.height - msg['y1']) / fig.ratio;\n",
       "    x0 = Math.floor(x0) + 0.5;\n",
       "    y0 = Math.floor(y0) + 0.5;\n",
       "    x1 = Math.floor(x1) + 0.5;\n",
       "    y1 = Math.floor(y1) + 0.5;\n",
       "    var min_x = Math.min(x0, x1);\n",
       "    var min_y = Math.min(y0, y1);\n",
       "    var width = Math.abs(x1 - x0);\n",
       "    var height = Math.abs(y1 - y0);\n",
       "\n",
       "    fig.rubberband_context.clearRect(\n",
       "        0,\n",
       "        0,\n",
       "        fig.canvas.width / fig.ratio,\n",
       "        fig.canvas.height / fig.ratio\n",
       "    );\n",
       "\n",
       "    fig.rubberband_context.strokeRect(min_x, min_y, width, height);\n",
       "};\n",
       "\n",
       "mpl.figure.prototype.handle_figure_label = function (fig, msg) {\n",
       "    // Updates the figure title.\n",
       "    fig.header.textContent = msg['label'];\n",
       "};\n",
       "\n",
       "mpl.figure.prototype.handle_cursor = function (fig, msg) {\n",
       "    var cursor = msg['cursor'];\n",
       "    switch (cursor) {\n",
       "        case 0:\n",
       "            cursor = 'pointer';\n",
       "            break;\n",
       "        case 1:\n",
       "            cursor = 'default';\n",
       "            break;\n",
       "        case 2:\n",
       "            cursor = 'crosshair';\n",
       "            break;\n",
       "        case 3:\n",
       "            cursor = 'move';\n",
       "            break;\n",
       "    }\n",
       "    fig.rubberband_canvas.style.cursor = cursor;\n",
       "};\n",
       "\n",
       "mpl.figure.prototype.handle_message = function (fig, msg) {\n",
       "    fig.message.textContent = msg['message'];\n",
       "};\n",
       "\n",
       "mpl.figure.prototype.handle_draw = function (fig, _msg) {\n",
       "    // Request the server to send over a new figure.\n",
       "    fig.send_draw_message();\n",
       "};\n",
       "\n",
       "mpl.figure.prototype.handle_image_mode = function (fig, msg) {\n",
       "    fig.image_mode = msg['mode'];\n",
       "};\n",
       "\n",
       "mpl.figure.prototype.handle_history_buttons = function (fig, msg) {\n",
       "    for (var key in msg) {\n",
       "        if (!(key in fig.buttons)) {\n",
       "            continue;\n",
       "        }\n",
       "        fig.buttons[key].disabled = !msg[key];\n",
       "        fig.buttons[key].setAttribute('aria-disabled', !msg[key]);\n",
       "    }\n",
       "};\n",
       "\n",
       "mpl.figure.prototype.handle_navigate_mode = function (fig, msg) {\n",
       "    if (msg['mode'] === 'PAN') {\n",
       "        fig.buttons['Pan'].classList.add('active');\n",
       "        fig.buttons['Zoom'].classList.remove('active');\n",
       "    } else if (msg['mode'] === 'ZOOM') {\n",
       "        fig.buttons['Pan'].classList.remove('active');\n",
       "        fig.buttons['Zoom'].classList.add('active');\n",
       "    } else {\n",
       "        fig.buttons['Pan'].classList.remove('active');\n",
       "        fig.buttons['Zoom'].classList.remove('active');\n",
       "    }\n",
       "};\n",
       "\n",
       "mpl.figure.prototype.updated_canvas_event = function () {\n",
       "    // Called whenever the canvas gets updated.\n",
       "    this.send_message('ack', {});\n",
       "};\n",
       "\n",
       "// A function to construct a web socket function for onmessage handling.\n",
       "// Called in the figure constructor.\n",
       "mpl.figure.prototype._make_on_message_function = function (fig) {\n",
       "    return function socket_on_message(evt) {\n",
       "        if (evt.data instanceof Blob) {\n",
       "            var img = evt.data;\n",
       "            if (img.type !== 'image/png') {\n",
       "                /* FIXME: We get \"Resource interpreted as Image but\n",
       "                 * transferred with MIME type text/plain:\" errors on\n",
       "                 * Chrome.  But how to set the MIME type?  It doesn't seem\n",
       "                 * to be part of the websocket stream */\n",
       "                img.type = 'image/png';\n",
       "            }\n",
       "\n",
       "            /* Free the memory for the previous frames */\n",
       "            if (fig.imageObj.src) {\n",
       "                (window.URL || window.webkitURL).revokeObjectURL(\n",
       "                    fig.imageObj.src\n",
       "                );\n",
       "            }\n",
       "\n",
       "            fig.imageObj.src = (window.URL || window.webkitURL).createObjectURL(\n",
       "                img\n",
       "            );\n",
       "            fig.updated_canvas_event();\n",
       "            fig.waiting = false;\n",
       "            return;\n",
       "        } else if (\n",
       "            typeof evt.data === 'string' &&\n",
       "            evt.data.slice(0, 21) === 'data:image/png;base64'\n",
       "        ) {\n",
       "            fig.imageObj.src = evt.data;\n",
       "            fig.updated_canvas_event();\n",
       "            fig.waiting = false;\n",
       "            return;\n",
       "        }\n",
       "\n",
       "        var msg = JSON.parse(evt.data);\n",
       "        var msg_type = msg['type'];\n",
       "\n",
       "        // Call the  \"handle_{type}\" callback, which takes\n",
       "        // the figure and JSON message as its only arguments.\n",
       "        try {\n",
       "            var callback = fig['handle_' + msg_type];\n",
       "        } catch (e) {\n",
       "            console.log(\n",
       "                \"No handler for the '\" + msg_type + \"' message type: \",\n",
       "                msg\n",
       "            );\n",
       "            return;\n",
       "        }\n",
       "\n",
       "        if (callback) {\n",
       "            try {\n",
       "                // console.log(\"Handling '\" + msg_type + \"' message: \", msg);\n",
       "                callback(fig, msg);\n",
       "            } catch (e) {\n",
       "                console.log(\n",
       "                    \"Exception inside the 'handler_\" + msg_type + \"' callback:\",\n",
       "                    e,\n",
       "                    e.stack,\n",
       "                    msg\n",
       "                );\n",
       "            }\n",
       "        }\n",
       "    };\n",
       "};\n",
       "\n",
       "// from http://stackoverflow.com/questions/1114465/getting-mouse-location-in-canvas\n",
       "mpl.findpos = function (e) {\n",
       "    //this section is from http://www.quirksmode.org/js/events_properties.html\n",
       "    var targ;\n",
       "    if (!e) {\n",
       "        e = window.event;\n",
       "    }\n",
       "    if (e.target) {\n",
       "        targ = e.target;\n",
       "    } else if (e.srcElement) {\n",
       "        targ = e.srcElement;\n",
       "    }\n",
       "    if (targ.nodeType === 3) {\n",
       "        // defeat Safari bug\n",
       "        targ = targ.parentNode;\n",
       "    }\n",
       "\n",
       "    // pageX,Y are the mouse positions relative to the document\n",
       "    var boundingRect = targ.getBoundingClientRect();\n",
       "    var x = e.pageX - (boundingRect.left + document.body.scrollLeft);\n",
       "    var y = e.pageY - (boundingRect.top + document.body.scrollTop);\n",
       "\n",
       "    return { x: x, y: y };\n",
       "};\n",
       "\n",
       "/*\n",
       " * return a copy of an object with only non-object keys\n",
       " * we need this to avoid circular references\n",
       " * http://stackoverflow.com/a/24161582/3208463\n",
       " */\n",
       "function simpleKeys(original) {\n",
       "    return Object.keys(original).reduce(function (obj, key) {\n",
       "        if (typeof original[key] !== 'object') {\n",
       "            obj[key] = original[key];\n",
       "        }\n",
       "        return obj;\n",
       "    }, {});\n",
       "}\n",
       "\n",
       "mpl.figure.prototype.mouse_event = function (event, name) {\n",
       "    var canvas_pos = mpl.findpos(event);\n",
       "\n",
       "    if (name === 'button_press') {\n",
       "        this.canvas.focus();\n",
       "        this.canvas_div.focus();\n",
       "    }\n",
       "\n",
       "    var x = canvas_pos.x * this.ratio;\n",
       "    var y = canvas_pos.y * this.ratio;\n",
       "\n",
       "    this.send_message(name, {\n",
       "        x: x,\n",
       "        y: y,\n",
       "        button: event.button,\n",
       "        step: event.step,\n",
       "        guiEvent: simpleKeys(event),\n",
       "    });\n",
       "\n",
       "    /* This prevents the web browser from automatically changing to\n",
       "     * the text insertion cursor when the button is pressed.  We want\n",
       "     * to control all of the cursor setting manually through the\n",
       "     * 'cursor' event from matplotlib */\n",
       "    event.preventDefault();\n",
       "    return false;\n",
       "};\n",
       "\n",
       "mpl.figure.prototype._key_event_extra = function (_event, _name) {\n",
       "    // Handle any extra behaviour associated with a key event\n",
       "};\n",
       "\n",
       "mpl.figure.prototype.key_event = function (event, name) {\n",
       "    // Prevent repeat events\n",
       "    if (name === 'key_press') {\n",
       "        if (event.key === this._key) {\n",
       "            return;\n",
       "        } else {\n",
       "            this._key = event.key;\n",
       "        }\n",
       "    }\n",
       "    if (name === 'key_release') {\n",
       "        this._key = null;\n",
       "    }\n",
       "\n",
       "    var value = '';\n",
       "    if (event.ctrlKey && event.key !== 'Control') {\n",
       "        value += 'ctrl+';\n",
       "    }\n",
       "    else if (event.altKey && event.key !== 'Alt') {\n",
       "        value += 'alt+';\n",
       "    }\n",
       "    else if (event.shiftKey && event.key !== 'Shift') {\n",
       "        value += 'shift+';\n",
       "    }\n",
       "\n",
       "    value += 'k' + event.key;\n",
       "\n",
       "    this._key_event_extra(event, name);\n",
       "\n",
       "    this.send_message(name, { key: value, guiEvent: simpleKeys(event) });\n",
       "    return false;\n",
       "};\n",
       "\n",
       "mpl.figure.prototype.toolbar_button_onclick = function (name) {\n",
       "    if (name === 'download') {\n",
       "        this.handle_save(this, null);\n",
       "    } else {\n",
       "        this.send_message('toolbar_button', { name: name });\n",
       "    }\n",
       "};\n",
       "\n",
       "mpl.figure.prototype.toolbar_button_onmouseover = function (tooltip) {\n",
       "    this.message.textContent = tooltip;\n",
       "};\n",
       "\n",
       "///////////////// REMAINING CONTENT GENERATED BY embed_js.py /////////////////\n",
       "// prettier-ignore\n",
       "var _JSXTOOLS_RESIZE_OBSERVER=function(A){var t,i=new WeakMap,n=new WeakMap,a=new WeakMap,r=new WeakMap,o=new Set;function s(e){if(!(this instanceof s))throw new TypeError(\"Constructor requires 'new' operator\");i.set(this,e)}function h(){throw new TypeError(\"Function is not a constructor\")}function c(e,t,i,n){e=0 in arguments?Number(arguments[0]):0,t=1 in arguments?Number(arguments[1]):0,i=2 in arguments?Number(arguments[2]):0,n=3 in arguments?Number(arguments[3]):0,this.right=(this.x=this.left=e)+(this.width=i),this.bottom=(this.y=this.top=t)+(this.height=n),Object.freeze(this)}function d(){t=requestAnimationFrame(d);var s=new WeakMap,p=new Set;o.forEach((function(t){r.get(t).forEach((function(i){var r=t instanceof window.SVGElement,o=a.get(t),d=r?0:parseFloat(o.paddingTop),f=r?0:parseFloat(o.paddingRight),l=r?0:parseFloat(o.paddingBottom),u=r?0:parseFloat(o.paddingLeft),g=r?0:parseFloat(o.borderTopWidth),m=r?0:parseFloat(o.borderRightWidth),w=r?0:parseFloat(o.borderBottomWidth),b=u+f,F=d+l,v=(r?0:parseFloat(o.borderLeftWidth))+m,W=g+w,y=r?0:t.offsetHeight-W-t.clientHeight,E=r?0:t.offsetWidth-v-t.clientWidth,R=b+v,z=F+W,M=r?t.width:parseFloat(o.width)-R-E,O=r?t.height:parseFloat(o.height)-z-y;if(n.has(t)){var k=n.get(t);if(k[0]===M&&k[1]===O)return}n.set(t,[M,O]);var S=Object.create(h.prototype);S.target=t,S.contentRect=new c(u,d,M,O),s.has(i)||(s.set(i,[]),p.add(i)),s.get(i).push(S)}))})),p.forEach((function(e){i.get(e).call(e,s.get(e),e)}))}return s.prototype.observe=function(i){if(i instanceof window.Element){r.has(i)||(r.set(i,new Set),o.add(i),a.set(i,window.getComputedStyle(i)));var n=r.get(i);n.has(this)||n.add(this),cancelAnimationFrame(t),t=requestAnimationFrame(d)}},s.prototype.unobserve=function(i){if(i instanceof window.Element&&r.has(i)){var n=r.get(i);n.has(this)&&(n.delete(this),n.size||(r.delete(i),o.delete(i))),n.size||r.delete(i),o.size||cancelAnimationFrame(t)}},A.DOMRectReadOnly=c,A.ResizeObserver=s,A.ResizeObserverEntry=h,A}; // eslint-disable-line\n",
       "mpl.toolbar_items = [[\"Home\", \"Reset original view\", \"fa fa-home icon-home\", \"home\"], [\"Back\", \"Back to previous view\", \"fa fa-arrow-left icon-arrow-left\", \"back\"], [\"Forward\", \"Forward to next view\", \"fa fa-arrow-right icon-arrow-right\", \"forward\"], [\"\", \"\", \"\", \"\"], [\"Pan\", \"Left button pans, Right button zooms\\nx/y fixes axis, CTRL fixes aspect\", \"fa fa-arrows icon-move\", \"pan\"], [\"Zoom\", \"Zoom to rectangle\\nx/y fixes axis, CTRL fixes aspect\", \"fa fa-square-o icon-check-empty\", \"zoom\"], [\"\", \"\", \"\", \"\"], [\"Download\", \"Download plot\", \"fa fa-floppy-o icon-save\", \"download\"]];\n",
       "\n",
       "mpl.extensions = [\"eps\", \"jpeg\", \"pgf\", \"pdf\", \"png\", \"ps\", \"raw\", \"svg\", \"tif\"];\n",
       "\n",
       "mpl.default_extension = \"png\";/* global mpl */\n",
       "\n",
       "var comm_websocket_adapter = function (comm) {\n",
       "    // Create a \"websocket\"-like object which calls the given IPython comm\n",
       "    // object with the appropriate methods. Currently this is a non binary\n",
       "    // socket, so there is still some room for performance tuning.\n",
       "    var ws = {};\n",
       "\n",
       "    ws.binaryType = comm.kernel.ws.binaryType;\n",
       "    ws.readyState = comm.kernel.ws.readyState;\n",
       "    function updateReadyState(_event) {\n",
       "        if (comm.kernel.ws) {\n",
       "            ws.readyState = comm.kernel.ws.readyState;\n",
       "        } else {\n",
       "            ws.readyState = 3; // Closed state.\n",
       "        }\n",
       "    }\n",
       "    comm.kernel.ws.addEventListener('open', updateReadyState);\n",
       "    comm.kernel.ws.addEventListener('close', updateReadyState);\n",
       "    comm.kernel.ws.addEventListener('error', updateReadyState);\n",
       "\n",
       "    ws.close = function () {\n",
       "        comm.close();\n",
       "    };\n",
       "    ws.send = function (m) {\n",
       "        //console.log('sending', m);\n",
       "        comm.send(m);\n",
       "    };\n",
       "    // Register the callback with on_msg.\n",
       "    comm.on_msg(function (msg) {\n",
       "        //console.log('receiving', msg['content']['data'], msg);\n",
       "        var data = msg['content']['data'];\n",
       "        if (data['blob'] !== undefined) {\n",
       "            data = {\n",
       "                data: new Blob(msg['buffers'], { type: data['blob'] }),\n",
       "            };\n",
       "        }\n",
       "        // Pass the mpl event to the overridden (by mpl) onmessage function.\n",
       "        ws.onmessage(data);\n",
       "    });\n",
       "    return ws;\n",
       "};\n",
       "\n",
       "mpl.mpl_figure_comm = function (comm, msg) {\n",
       "    // This is the function which gets called when the mpl process\n",
       "    // starts-up an IPython Comm through the \"matplotlib\" channel.\n",
       "\n",
       "    var id = msg.content.data.id;\n",
       "    // Get hold of the div created by the display call when the Comm\n",
       "    // socket was opened in Python.\n",
       "    var element = document.getElementById(id);\n",
       "    var ws_proxy = comm_websocket_adapter(comm);\n",
       "\n",
       "    function ondownload(figure, _format) {\n",
       "        window.open(figure.canvas.toDataURL());\n",
       "    }\n",
       "\n",
       "    var fig = new mpl.figure(id, ws_proxy, ondownload, element);\n",
       "\n",
       "    // Call onopen now - mpl needs it, as it is assuming we've passed it a real\n",
       "    // web socket which is closed, not our websocket->open comm proxy.\n",
       "    ws_proxy.onopen();\n",
       "\n",
       "    fig.parent_element = element;\n",
       "    fig.cell_info = mpl.find_output_cell(\"<div id='\" + id + \"'></div>\");\n",
       "    if (!fig.cell_info) {\n",
       "        console.error('Failed to find cell for figure', id, fig);\n",
       "        return;\n",
       "    }\n",
       "    fig.cell_info[0].output_area.element.on(\n",
       "        'cleared',\n",
       "        { fig: fig },\n",
       "        fig._remove_fig_handler\n",
       "    );\n",
       "};\n",
       "\n",
       "mpl.figure.prototype.handle_close = function (fig, msg) {\n",
       "    var width = fig.canvas.width / fig.ratio;\n",
       "    fig.cell_info[0].output_area.element.off(\n",
       "        'cleared',\n",
       "        fig._remove_fig_handler\n",
       "    );\n",
       "    fig.resizeObserverInstance.unobserve(fig.canvas_div);\n",
       "\n",
       "    // Update the output cell to use the data from the current canvas.\n",
       "    fig.push_to_output();\n",
       "    var dataURL = fig.canvas.toDataURL();\n",
       "    // Re-enable the keyboard manager in IPython - without this line, in FF,\n",
       "    // the notebook keyboard shortcuts fail.\n",
       "    IPython.keyboard_manager.enable();\n",
       "    fig.parent_element.innerHTML =\n",
       "        '<img src=\"' + dataURL + '\" width=\"' + width + '\">';\n",
       "    fig.close_ws(fig, msg);\n",
       "};\n",
       "\n",
       "mpl.figure.prototype.close_ws = function (fig, msg) {\n",
       "    fig.send_message('closing', msg);\n",
       "    // fig.ws.close()\n",
       "};\n",
       "\n",
       "mpl.figure.prototype.push_to_output = function (_remove_interactive) {\n",
       "    // Turn the data on the canvas into data in the output cell.\n",
       "    var width = this.canvas.width / this.ratio;\n",
       "    var dataURL = this.canvas.toDataURL();\n",
       "    this.cell_info[1]['text/html'] =\n",
       "        '<img src=\"' + dataURL + '\" width=\"' + width + '\">';\n",
       "};\n",
       "\n",
       "mpl.figure.prototype.updated_canvas_event = function () {\n",
       "    // Tell IPython that the notebook contents must change.\n",
       "    IPython.notebook.set_dirty(true);\n",
       "    this.send_message('ack', {});\n",
       "    var fig = this;\n",
       "    // Wait a second, then push the new image to the DOM so\n",
       "    // that it is saved nicely (might be nice to debounce this).\n",
       "    setTimeout(function () {\n",
       "        fig.push_to_output();\n",
       "    }, 1000);\n",
       "};\n",
       "\n",
       "mpl.figure.prototype._init_toolbar = function () {\n",
       "    var fig = this;\n",
       "\n",
       "    var toolbar = document.createElement('div');\n",
       "    toolbar.classList = 'btn-toolbar';\n",
       "    this.root.appendChild(toolbar);\n",
       "\n",
       "    function on_click_closure(name) {\n",
       "        return function (_event) {\n",
       "            return fig.toolbar_button_onclick(name);\n",
       "        };\n",
       "    }\n",
       "\n",
       "    function on_mouseover_closure(tooltip) {\n",
       "        return function (event) {\n",
       "            if (!event.currentTarget.disabled) {\n",
       "                return fig.toolbar_button_onmouseover(tooltip);\n",
       "            }\n",
       "        };\n",
       "    }\n",
       "\n",
       "    fig.buttons = {};\n",
       "    var buttonGroup = document.createElement('div');\n",
       "    buttonGroup.classList = 'btn-group';\n",
       "    var button;\n",
       "    for (var toolbar_ind in mpl.toolbar_items) {\n",
       "        var name = mpl.toolbar_items[toolbar_ind][0];\n",
       "        var tooltip = mpl.toolbar_items[toolbar_ind][1];\n",
       "        var image = mpl.toolbar_items[toolbar_ind][2];\n",
       "        var method_name = mpl.toolbar_items[toolbar_ind][3];\n",
       "\n",
       "        if (!name) {\n",
       "            /* Instead of a spacer, we start a new button group. */\n",
       "            if (buttonGroup.hasChildNodes()) {\n",
       "                toolbar.appendChild(buttonGroup);\n",
       "            }\n",
       "            buttonGroup = document.createElement('div');\n",
       "            buttonGroup.classList = 'btn-group';\n",
       "            continue;\n",
       "        }\n",
       "\n",
       "        button = fig.buttons[name] = document.createElement('button');\n",
       "        button.classList = 'btn btn-default';\n",
       "        button.href = '#';\n",
       "        button.title = name;\n",
       "        button.innerHTML = '<i class=\"fa ' + image + ' fa-lg\"></i>';\n",
       "        button.addEventListener('click', on_click_closure(method_name));\n",
       "        button.addEventListener('mouseover', on_mouseover_closure(tooltip));\n",
       "        buttonGroup.appendChild(button);\n",
       "    }\n",
       "\n",
       "    if (buttonGroup.hasChildNodes()) {\n",
       "        toolbar.appendChild(buttonGroup);\n",
       "    }\n",
       "\n",
       "    // Add the status bar.\n",
       "    var status_bar = document.createElement('span');\n",
       "    status_bar.classList = 'mpl-message pull-right';\n",
       "    toolbar.appendChild(status_bar);\n",
       "    this.message = status_bar;\n",
       "\n",
       "    // Add the close button to the window.\n",
       "    var buttongrp = document.createElement('div');\n",
       "    buttongrp.classList = 'btn-group inline pull-right';\n",
       "    button = document.createElement('button');\n",
       "    button.classList = 'btn btn-mini btn-primary';\n",
       "    button.href = '#';\n",
       "    button.title = 'Stop Interaction';\n",
       "    button.innerHTML = '<i class=\"fa fa-power-off icon-remove icon-large\"></i>';\n",
       "    button.addEventListener('click', function (_evt) {\n",
       "        fig.handle_close(fig, {});\n",
       "    });\n",
       "    button.addEventListener(\n",
       "        'mouseover',\n",
       "        on_mouseover_closure('Stop Interaction')\n",
       "    );\n",
       "    buttongrp.appendChild(button);\n",
       "    var titlebar = this.root.querySelector('.ui-dialog-titlebar');\n",
       "    titlebar.insertBefore(buttongrp, titlebar.firstChild);\n",
       "};\n",
       "\n",
       "mpl.figure.prototype._remove_fig_handler = function (event) {\n",
       "    var fig = event.data.fig;\n",
       "    if (event.target !== this) {\n",
       "        // Ignore bubbled events from children.\n",
       "        return;\n",
       "    }\n",
       "    fig.close_ws(fig, {});\n",
       "};\n",
       "\n",
       "mpl.figure.prototype._root_extra_style = function (el) {\n",
       "    el.style.boxSizing = 'content-box'; // override notebook setting of border-box.\n",
       "};\n",
       "\n",
       "mpl.figure.prototype._canvas_extra_style = function (el) {\n",
       "    // this is important to make the div 'focusable\n",
       "    el.setAttribute('tabindex', 0);\n",
       "    // reach out to IPython and tell the keyboard manager to turn it's self\n",
       "    // off when our div gets focus\n",
       "\n",
       "    // location in version 3\n",
       "    if (IPython.notebook.keyboard_manager) {\n",
       "        IPython.notebook.keyboard_manager.register_events(el);\n",
       "    } else {\n",
       "        // location in version 2\n",
       "        IPython.keyboard_manager.register_events(el);\n",
       "    }\n",
       "};\n",
       "\n",
       "mpl.figure.prototype._key_event_extra = function (event, _name) {\n",
       "    var manager = IPython.notebook.keyboard_manager;\n",
       "    if (!manager) {\n",
       "        manager = IPython.keyboard_manager;\n",
       "    }\n",
       "\n",
       "    // Check for shift+enter\n",
       "    if (event.shiftKey && event.which === 13) {\n",
       "        this.canvas_div.blur();\n",
       "        // select the cell after this one\n",
       "        var index = IPython.notebook.find_cell_index(this.cell_info[0]);\n",
       "        IPython.notebook.select(index + 1);\n",
       "    }\n",
       "};\n",
       "\n",
       "mpl.figure.prototype.handle_save = function (fig, _msg) {\n",
       "    fig.ondownload(fig, null);\n",
       "};\n",
       "\n",
       "mpl.find_output_cell = function (html_output) {\n",
       "    // Return the cell and output element which can be found *uniquely* in the notebook.\n",
       "    // Note - this is a bit hacky, but it is done because the \"notebook_saving.Notebook\"\n",
       "    // IPython event is triggered only after the cells have been serialised, which for\n",
       "    // our purposes (turning an active figure into a static one), is too late.\n",
       "    var cells = IPython.notebook.get_cells();\n",
       "    var ncells = cells.length;\n",
       "    for (var i = 0; i < ncells; i++) {\n",
       "        var cell = cells[i];\n",
       "        if (cell.cell_type === 'code') {\n",
       "            for (var j = 0; j < cell.output_area.outputs.length; j++) {\n",
       "                var data = cell.output_area.outputs[j];\n",
       "                if (data.data) {\n",
       "                    // IPython >= 3 moved mimebundle to data attribute of output\n",
       "                    data = data.data;\n",
       "                }\n",
       "                if (data['text/html'] === html_output) {\n",
       "                    return [cell, data, j];\n",
       "                }\n",
       "            }\n",
       "        }\n",
       "    }\n",
       "};\n",
       "\n",
       "// Register the function which deals with the matplotlib target/channel.\n",
       "// The kernel may be null if the page has been refreshed.\n",
       "if (IPython.notebook.kernel !== null) {\n",
       "    IPython.notebook.kernel.comm_manager.register_target(\n",
       "        'matplotlib',\n",
       "        mpl.mpl_figure_comm\n",
       "    );\n",
       "}\n"
      ],
      "text/plain": [
       "<IPython.core.display.Javascript object>"
      ]
     },
     "metadata": {},
     "output_type": "display_data"
    },
    {
     "data": {
      "text/html": [
       "<img src=\"data:image/png;base64,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\" width=\"644.3166666666666\">"
      ],
      "text/plain": [
       "<IPython.core.display.HTML object>"
      ]
     },
     "metadata": {},
     "output_type": "display_data"
    }
   ],
   "source": [
    "%matplotlib notebook\n",
    "\n",
    "fig = plt.figure(figsize=(10,6))\n",
    "ax = Axes3D(fig, auto_add_to_figure=False)\n",
    "fig.add_axes(ax)\n",
    "\n",
    "cmap = ListedColormap(sns.color_palette('husl', 25).as_hex())\n",
    "\n",
    "sc = ax.scatter(Y3d[:,0], Y3d[:,1], Y3d[:,2], c=Y3d[:,0], cmap=cmap, marker='o', s=40)\n",
    "ax.set_xlabel('axis 1')\n",
    "ax.set_ylabel('axis 2')\n",
    "ax.set_zlabel('axis 3')\n",
    "\n",
    "plt.legend(*sc.legend_elements(), bbox_to_anchor=(1.05, 1), loc=2)\n",
    "plt.show()"
   ]
  },
  {
   "cell_type": "markdown",
   "id": "ee76d59c",
   "metadata": {},
   "source": [
    "We can see that there are clearly seperable clusters. However, each cluster contains several species. Therefore species are not seperable. It is important to find another way to cluster the species together. To do this, I only select species that are seperable and create `another species` column."
   ]
  },
  {
   "cell_type": "code",
   "execution_count": 45,
   "id": "84455047",
   "metadata": {},
   "outputs": [
    {
     "data": {
      "text/plain": [
       "Colobus           20\n",
       "Hylobates         18\n",
       "Trachypithecus    18\n",
       "Macaca            15\n",
       "Presbytis         13\n",
       "Pan               12\n",
       "Cercopithecus     10\n",
       "Papio              9\n",
       "Nasalis            9\n",
       "Cercocebus         9\n",
       "Gorilla            6\n",
       "Mandrillus         6\n",
       "Lophocebus         6\n",
       "Miopithecus        5\n",
       "Erythrocebus       4\n",
       "Symphalangus       2\n",
       "Pongo              2\n",
       "Theropithecus      1\n",
       "Name: Genus, dtype: int64"
      ]
     },
     "execution_count": 45,
     "metadata": {},
     "output_type": "execute_result"
    }
   ],
   "source": [
    "df['Genus'].value_counts()"
   ]
  },
  {
   "cell_type": "code",
   "execution_count": 37,
   "id": "9a5d80ae",
   "metadata": {},
   "outputs": [
    {
     "data": {
      "text/plain": [
       "cristata        18\n",
       "lar             18\n",
       "polykomos       10\n",
       "mitis           10\n",
       "badius          10\n",
       "troglodytes      9\n",
       "larvatus         9\n",
       "anubis           9\n",
       "torquatus        9\n",
       "fascicularis     8\n",
       "rubicunda        8\n",
       "gorilla          6\n",
       "albigena         6\n",
       "talapoin         5\n",
       "hosei            5\n",
       "leucophaeus      4\n",
       "patas            4\n",
       "mulatta          3\n",
       "paniscus         3\n",
       "fuscata          2\n",
       "sphinx           2\n",
       "sylvanus         2\n",
       "syndactylus      2\n",
       "pygmaeus         2\n",
       "gelada           1\n",
       "Name: Species, dtype: int64"
      ]
     },
     "execution_count": 37,
     "metadata": {},
     "output_type": "execute_result"
    }
   ],
   "source": [
    "y.value_counts()"
   ]
  },
  {
   "cell_type": "markdown",
   "id": "181b3acb",
   "metadata": {},
   "source": [
    "# Create a seperable dataset\n",
    "First we inspect a plot of the `Genus`. We assume that the `species` within a `genus` have similar skull features. If the genus seems seperable it will be added to the potential list of seperable classes. If the genus overlaps with a lot of ther genus, than we will classify it as `other`. Accordingly, we will investigate whether the species of the potential list are seperable. "
   ]
  },
  {
   "cell_type": "code",
   "execution_count": 12,
   "id": "0b9ca76e",
   "metadata": {},
   "outputs": [],
   "source": [
    "import plotly.express as px"
   ]
  },
  {
   "cell_type": "code",
   "execution_count": 44,
   "id": "b3363dd2",
   "metadata": {},
   "outputs": [
    {
     "data": {
      "application/vnd.plotly.v1+json": {
       "config": {
        "plotlyServerURL": "https://plot.ly"
       },
       "data": [
        {
         "hovertemplate": "color=Presbytis<br>x=%{x}<br>y=%{y}<extra></extra>",
         "legendgroup": "Presbytis",
         "marker": {
          "color": "#636efa",
          "symbol": "circle"
         },
         "mode": "markers",
         "name": "Presbytis",
         "orientation": "v",
         "showlegend": true,
         "type": "scatter",
         "x": [
          9.828705787658691,
          9.76897144317627,
          9.641623497009277,
          9.792816162109375,
          9.523428916931152,
          -3.5565872192382812,
          -3.742403268814087,
          -3.743901491165161,
          -3.7181217670440674,
          -3.7265117168426514,
          -3.5735116004943848,
          -3.8150014877319336,
          -4.013675689697266
         ],
         "xaxis": "x",
         "y": [
          -4.5030622482299805,
          -4.311244964599609,
          -4.796391010284424,
          -4.459084987640381,
          -4.164031028747559,
          1.6044001579284668,
          1.5411105155944824,
          1.544351577758789,
          1.3177945613861084,
          1.3523292541503906,
          1.5331398248672485,
          1.527632474899292,
          1.498661756515503
         ],
         "yaxis": "y"
        },
        {
         "hovertemplate": "color=Cercopithecus<br>x=%{x}<br>y=%{y}<extra></extra>",
         "legendgroup": "Cercopithecus",
         "marker": {
          "color": "#EF553B",
          "symbol": "circle"
         },
         "mode": "markers",
         "name": "Cercopithecus",
         "orientation": "v",
         "showlegend": true,
         "type": "scatter",
         "x": [
          9.816354751586914,
          9.853443145751953,
          9.66506576538086,
          9.450643539428711,
          9.57726001739502,
          9.307147026062012,
          9.505976676940918,
          9.449603080749512,
          9.649392127990723,
          9.138097763061523
         ],
         "xaxis": "x",
         "y": [
          -4.609023094177246,
          -4.412751197814941,
          -4.778528213500977,
          -4.766037940979004,
          -4.216433525085449,
          -4.73550271987915,
          -4.802736282348633,
          -4.179542541503906,
          -4.28103494644165,
          -4.58045768737793
         ],
         "yaxis": "y"
        },
        {
         "hovertemplate": "color=Miopithecus<br>x=%{x}<br>y=%{y}<extra></extra>",
         "legendgroup": "Miopithecus",
         "marker": {
          "color": "#00cc96",
          "symbol": "circle"
         },
         "mode": "markers",
         "name": "Miopithecus",
         "orientation": "v",
         "showlegend": true,
         "type": "scatter",
         "x": [
          9.082483291625977,
          9.139853477478027,
          8.985387802124023,
          8.962888717651367,
          8.993021011352539
         ],
         "xaxis": "x",
         "y": [
          -4.168076515197754,
          -4.141307830810547,
          -4.47036075592041,
          -4.254055500030518,
          -4.3354387283325195
         ],
         "yaxis": "y"
        },
        {
         "hovertemplate": "color=Lophocebus<br>x=%{x}<br>y=%{y}<extra></extra>",
         "legendgroup": "Lophocebus",
         "marker": {
          "color": "#ab63fa",
          "symbol": "circle"
         },
         "mode": "markers",
         "name": "Lophocebus",
         "orientation": "v",
         "showlegend": true,
         "type": "scatter",
         "x": [
          6.899401664733887,
          6.686721324920654,
          6.860642910003662,
          6.806887149810791,
          9.343864440917969,
          6.416675567626953
         ],
         "xaxis": "x",
         "y": [
          -2.0393874645233154,
          -1.99024498462677,
          -1.9874024391174316,
          -1.9263418912887573,
          -4.816983699798584,
          -1.8811407089233398
         ],
         "yaxis": "y"
        },
        {
         "hovertemplate": "color=Colobus<br>x=%{x}<br>y=%{y}<extra></extra>",
         "legendgroup": "Colobus",
         "marker": {
          "color": "#FFA15A",
          "symbol": "circle"
         },
         "mode": "markers",
         "name": "Colobus",
         "orientation": "v",
         "showlegend": true,
         "type": "scatter",
         "x": [
          -3.7629501819610596,
          -4.243905067443848,
          -4.2895050048828125,
          -4.0477070808410645,
          -4.015504837036133,
          -4.184250354766846,
          -4.066152095794678,
          -4.1654558181762695,
          -4.064906120300293,
          -4.221950531005859,
          4.424674034118652,
          4.846656799316406,
          4.633509159088135,
          4.639214515686035,
          4.799399375915527,
          5.202383995056152,
          5.257413864135742,
          5.505031108856201,
          5.911628246307373,
          6.524320602416992
         ],
         "xaxis": "x",
         "y": [
          1.1622852087020874,
          1.1410682201385498,
          1.2820614576339722,
          1.1496386528015137,
          1.0984693765640259,
          1.5510687828063965,
          0.8636910915374756,
          1.1464803218841553,
          1.4930388927459717,
          1.3866026401519775,
          -1.915041446685791,
          -1.6359302997589111,
          -1.855337381362915,
          -1.8404070138931274,
          -2.0794320106506348,
          -1.7409387826919556,
          -2.0043699741363525,
          -2.0474486351013184,
          -2.004300594329834,
          -2.178476333618164
         ],
         "yaxis": "y"
        },
        {
         "hovertemplate": "color=Erythrocebus<br>x=%{x}<br>y=%{y}<extra></extra>",
         "legendgroup": "Erythrocebus",
         "marker": {
          "color": "#19d3f3",
          "symbol": "circle"
         },
         "mode": "markers",
         "name": "Erythrocebus",
         "orientation": "v",
         "showlegend": true,
         "type": "scatter",
         "x": [
          -1.3005824089050293,
          -0.9863495826721191,
          -1.7103970050811768,
          -1.8730566501617432
         ],
         "xaxis": "x",
         "y": [
          -3.3994243144989014,
          -3.7645556926727295,
          -3.589738368988037,
          -3.8473939895629883
         ],
         "yaxis": "y"
        },
        {
         "hovertemplate": "color=Macaca<br>x=%{x}<br>y=%{y}<extra></extra>",
         "legendgroup": "Macaca",
         "marker": {
          "color": "#FF6692",
          "symbol": "circle"
         },
         "mode": "markers",
         "name": "Macaca",
         "orientation": "v",
         "showlegend": true,
         "type": "scatter",
         "x": [
          -0.2899045944213867,
          -0.6381977796554565,
          -0.36404019594192505,
          -0.5572945475578308,
          -0.6074912548065186,
          -0.9015113711357117,
          -0.5177316069602966,
          -0.6601182222366333,
          -1.4370225667953491,
          -1.787552833557129,
          -1.6768954992294312,
          -1.740609884262085,
          -1.1474478244781494,
          -1.54953134059906,
          -1.6478523015975952
         ],
         "xaxis": "x",
         "y": [
          -4.254012584686279,
          -5.105381488800049,
          -3.9831814765930176,
          -4.356873512268066,
          -4.65355110168457,
          -3.8347768783569336,
          -4.602858066558838,
          -4.352019786834717,
          -3.8704590797424316,
          -5.659992218017578,
          -4.489441394805908,
          -3.6759233474731445,
          -4.709652900695801,
          -4.508425235748291,
          -4.0673909187316895
         ],
         "yaxis": "y"
        },
        {
         "hovertemplate": "color=Trachypithecus<br>x=%{x}<br>y=%{y}<extra></extra>",
         "legendgroup": "Trachypithecus",
         "marker": {
          "color": "#B6E880",
          "symbol": "circle"
         },
         "mode": "markers",
         "name": "Trachypithecus",
         "orientation": "v",
         "showlegend": true,
         "type": "scatter",
         "x": [
          3.6439359188079834,
          3.788558006286621,
          4.0231194496154785,
          4.12253999710083,
          4.025287628173828,
          4.022385120391846,
          4.213526725769043,
          4.599451541900635,
          4.169895172119141,
          4.952606201171875,
          -0.8118071556091309,
          -0.8042327165603638,
          -0.8896768093109131,
          -0.9254224300384521,
          -1.0116215944290161,
          -0.9662079811096191,
          -1.0771178007125854,
          -1.2862509489059448
         ],
         "xaxis": "x",
         "y": [
          -0.8397595286369324,
          -1.1802825927734375,
          -1.1629201173782349,
          -1.1180683374404907,
          -1.3288642168045044,
          -1.2030912637710571,
          -1.4767076969146729,
          -1.4773699045181274,
          -1.6889703273773193,
          -1.5406728982925415,
          2.4959936141967773,
          2.486448049545288,
          2.6027984619140625,
          2.3615245819091797,
          2.435647964477539,
          2.411924362182617,
          2.301673412322998,
          2.235029697418213
         ],
         "yaxis": "y"
        },
        {
         "hovertemplate": "color=Cercocebus<br>x=%{x}<br>y=%{y}<extra></extra>",
         "legendgroup": "Cercocebus",
         "marker": {
          "color": "#FF97FF",
          "symbol": "circle"
         },
         "mode": "markers",
         "name": "Cercocebus",
         "orientation": "v",
         "showlegend": true,
         "type": "scatter",
         "x": [
          4.796290874481201,
          4.988455295562744,
          5.341858863830566,
          5.983438014984131,
          5.215162754058838,
          6.455885410308838,
          5.540273666381836,
          5.235693454742432,
          5.445168495178223
         ],
         "xaxis": "x",
         "y": [
          -2.2746634483337402,
          -2.5072216987609863,
          -2.521637439727783,
          -2.8337759971618652,
          -2.5761892795562744,
          -2.6047310829162598,
          -2.5012848377227783,
          -2.3843135833740234,
          -2.5048789978027344
         ],
         "yaxis": "y"
        },
        {
         "hovertemplate": "color=Theropithecus<br>x=%{x}<br>y=%{y}<extra></extra>",
         "legendgroup": "Theropithecus",
         "marker": {
          "color": "#FECB52",
          "symbol": "circle"
         },
         "mode": "markers",
         "name": "Theropithecus",
         "orientation": "v",
         "showlegend": true,
         "type": "scatter",
         "x": [
          1.371872901916504
         ],
         "xaxis": "x",
         "y": [
          2.809514284133911
         ],
         "yaxis": "y"
        },
        {
         "hovertemplate": "color=Mandrillus<br>x=%{x}<br>y=%{y}<extra></extra>",
         "legendgroup": "Mandrillus",
         "marker": {
          "color": "#636efa",
          "symbol": "circle"
         },
         "mode": "markers",
         "name": "Mandrillus",
         "orientation": "v",
         "showlegend": true,
         "type": "scatter",
         "x": [
          1.3916569948196411,
          1.3821946382522583,
          5.549440383911133,
          0.7732639312744141,
          -1.9965161085128784,
          -2.2083089351654053
         ],
         "xaxis": "x",
         "y": [
          2.8067052364349365,
          2.823822498321533,
          -0.30684128403663635,
          1.093402624130249,
          -2.9840662479400635,
          -2.867887496948242
         ],
         "yaxis": "y"
        },
        {
         "hovertemplate": "color=Papio<br>x=%{x}<br>y=%{y}<extra></extra>",
         "legendgroup": "Papio",
         "marker": {
          "color": "#EF553B",
          "symbol": "circle"
         },
         "mode": "markers",
         "name": "Papio",
         "orientation": "v",
         "showlegend": true,
         "type": "scatter",
         "x": [
          0.32032179832458496,
          0.48056960105895996,
          0.9042423367500305,
          0.8235083222389221,
          0.730903148651123,
          0.976368248462677,
          1.1878416538238525,
          0.6938832402229309,
          -2.1198673248291016
         ],
         "xaxis": "x",
         "y": [
          1.4400806427001953,
          1.1235151290893555,
          0.5448141694068909,
          0.4037667512893677,
          0.6552577614784241,
          0.4851209819316864,
          0.2642403244972229,
          0.566463053226471,
          -2.9718191623687744
         ],
         "yaxis": "y"
        },
        {
         "hovertemplate": "color=Nasalis<br>x=%{x}<br>y=%{y}<extra></extra>",
         "legendgroup": "Nasalis",
         "marker": {
          "color": "#00cc96",
          "symbol": "circle"
         },
         "mode": "markers",
         "name": "Nasalis",
         "orientation": "v",
         "showlegend": true,
         "type": "scatter",
         "x": [
          1.865389347076416,
          2.7350525856018066,
          2.9555323123931885,
          3.551578998565674,
          1.6171574592590332,
          1.5531105995178223,
          1.576367974281311,
          1.6914689540863037,
          1.600687026977539
         ],
         "xaxis": "x",
         "y": [
          -0.4806350767612457,
          -0.9847151637077332,
          -1.2223193645477295,
          -1.7212942838668823,
          -0.31789711117744446,
          -0.23091936111450195,
          -0.3064735531806946,
          -0.42179909348487854,
          -0.4799325168132782
         ],
         "yaxis": "y"
        },
        {
         "hovertemplate": "color=Symphalangus<br>x=%{x}<br>y=%{y}<extra></extra>",
         "legendgroup": "Symphalangus",
         "marker": {
          "color": "#ab63fa",
          "symbol": "circle"
         },
         "mode": "markers",
         "name": "Symphalangus",
         "orientation": "v",
         "showlegend": true,
         "type": "scatter",
         "x": [
          -1.1261560916900635,
          -0.6993654370307922
         ],
         "xaxis": "x",
         "y": [
          -3.5446653366088867,
          -3.1939361095428467
         ],
         "yaxis": "y"
        },
        {
         "hovertemplate": "color=Hylobates<br>x=%{x}<br>y=%{y}<extra></extra>",
         "legendgroup": "Hylobates",
         "marker": {
          "color": "#FFA15A",
          "symbol": "circle"
         },
         "mode": "markers",
         "name": "Hylobates",
         "orientation": "v",
         "showlegend": true,
         "type": "scatter",
         "x": [
          -0.4707980751991272,
          -0.6044176816940308,
          -1.089600920677185,
          -0.9273282289505005,
          -1.29685378074646,
          -0.8531384468078613,
          -0.7476508617401123,
          -1.2010363340377808,
          -1.0998972654342651,
          -1.2110464572906494,
          -1.384216070175171,
          -1.30219566822052,
          -1.4512372016906738,
          -1.5319572687149048,
          -1.4439258575439453,
          -1.5141047239303589,
          -1.6946570873260498,
          -1.6476777791976929
         ],
         "xaxis": "x",
         "y": [
          -3.5062756538391113,
          -3.7173216342926025,
          -4.49524450302124,
          -3.8624727725982666,
          -4.360170364379883,
          -4.101175308227539,
          -5.405130863189697,
          -4.288078784942627,
          -4.140627384185791,
          -4.795642375946045,
          -4.6955952644348145,
          2.4218428134918213,
          2.449127435684204,
          2.394883632659912,
          2.413552761077881,
          2.3639774322509766,
          2.321350336074829,
          2.2941949367523193
         ],
         "yaxis": "y"
        },
        {
         "hovertemplate": "color=Pongo<br>x=%{x}<br>y=%{y}<extra></extra>",
         "legendgroup": "Pongo",
         "marker": {
          "color": "#19d3f3",
          "symbol": "circle"
         },
         "mode": "markers",
         "name": "Pongo",
         "orientation": "v",
         "showlegend": true,
         "type": "scatter",
         "x": [
          -6.445945739746094,
          0.21155919134616852
         ],
         "xaxis": "x",
         "y": [
          -3.0234131813049316,
          2.518656015396118
         ],
         "yaxis": "y"
        },
        {
         "hovertemplate": "color=Pan<br>x=%{x}<br>y=%{y}<extra></extra>",
         "legendgroup": "Pan",
         "marker": {
          "color": "#FF6692",
          "symbol": "circle"
         },
         "mode": "markers",
         "name": "Pan",
         "orientation": "v",
         "showlegend": true,
         "type": "scatter",
         "x": [
          -6.569851398468018,
          -6.290817737579346,
          -6.272915363311768,
          -5.974134922027588,
          -6.377287864685059,
          -6.144253253936768,
          -5.90756368637085,
          -6.248602390289307,
          -6.614528656005859,
          -6.510024547576904,
          -6.590537071228027,
          -6.567680835723877
         ],
         "xaxis": "x",
         "y": [
          -2.940706968307495,
          -3.040914535522461,
          -3.1656079292297363,
          -3.0769248008728027,
          -2.9789483547210693,
          -3.026242256164551,
          -3.0527760982513428,
          -2.9327337741851807,
          -3.132150650024414,
          -3.146167516708374,
          -3.367403030395508,
          -3.3219852447509766
         ],
         "yaxis": "y"
        },
        {
         "hovertemplate": "color=Gorilla<br>x=%{x}<br>y=%{y}<extra></extra>",
         "legendgroup": "Gorilla",
         "marker": {
          "color": "#B6E880",
          "symbol": "circle"
         },
         "mode": "markers",
         "name": "Gorilla",
         "orientation": "v",
         "showlegend": true,
         "type": "scatter",
         "x": [
          -7.089005947113037,
          -7.123398303985596,
          -6.956730365753174,
          -7.1576032638549805,
          -7.11610221862793,
          -7.0494208335876465
         ],
         "xaxis": "x",
         "y": [
          -2.661733865737915,
          -2.89268159866333,
          -2.8038127422332764,
          -2.6806893348693848,
          -3.2261204719543457,
          -3.188230276107788
         ],
         "yaxis": "y"
        }
       ],
       "layout": {
        "legend": {
         "title": {
          "text": "color"
         },
         "tracegroupgap": 0
        },
        "template": {
         "data": {
          "bar": [
           {
            "error_x": {
             "color": "#2a3f5f"
            },
            "error_y": {
             "color": "#2a3f5f"
            },
            "marker": {
             "line": {
              "color": "#E5ECF6",
              "width": 0.5
             },
             "pattern": {
              "fillmode": "overlay",
              "size": 10,
              "solidity": 0.2
             }
            },
            "type": "bar"
           }
          ],
          "barpolar": [
           {
            "marker": {
             "line": {
              "color": "#E5ECF6",
              "width": 0.5
             },
             "pattern": {
              "fillmode": "overlay",
              "size": 10,
              "solidity": 0.2
             }
            },
            "type": "barpolar"
           }
          ],
          "carpet": [
           {
            "aaxis": {
             "endlinecolor": "#2a3f5f",
             "gridcolor": "white",
             "linecolor": "white",
             "minorgridcolor": "white",
             "startlinecolor": "#2a3f5f"
            },
            "baxis": {
             "endlinecolor": "#2a3f5f",
             "gridcolor": "white",
             "linecolor": "white",
             "minorgridcolor": "white",
             "startlinecolor": "#2a3f5f"
            },
            "type": "carpet"
           }
          ],
          "choropleth": [
           {
            "colorbar": {
             "outlinewidth": 0,
             "ticks": ""
            },
            "type": "choropleth"
           }
          ],
          "contour": [
           {
            "colorbar": {
             "outlinewidth": 0,
             "ticks": ""
            },
            "colorscale": [
             [
              0,
              "#0d0887"
             ],
             [
              0.1111111111111111,
              "#46039f"
             ],
             [
              0.2222222222222222,
              "#7201a8"
             ],
             [
              0.3333333333333333,
              "#9c179e"
             ],
             [
              0.4444444444444444,
              "#bd3786"
             ],
             [
              0.5555555555555556,
              "#d8576b"
             ],
             [
              0.6666666666666666,
              "#ed7953"
             ],
             [
              0.7777777777777778,
              "#fb9f3a"
             ],
             [
              0.8888888888888888,
              "#fdca26"
             ],
             [
              1,
              "#f0f921"
             ]
            ],
            "type": "contour"
           }
          ],
          "contourcarpet": [
           {
            "colorbar": {
             "outlinewidth": 0,
             "ticks": ""
            },
            "type": "contourcarpet"
           }
          ],
          "heatmap": [
           {
            "colorbar": {
             "outlinewidth": 0,
             "ticks": ""
            },
            "colorscale": [
             [
              0,
              "#0d0887"
             ],
             [
              0.1111111111111111,
              "#46039f"
             ],
             [
              0.2222222222222222,
              "#7201a8"
             ],
             [
              0.3333333333333333,
              "#9c179e"
             ],
             [
              0.4444444444444444,
              "#bd3786"
             ],
             [
              0.5555555555555556,
              "#d8576b"
             ],
             [
              0.6666666666666666,
              "#ed7953"
             ],
             [
              0.7777777777777778,
              "#fb9f3a"
             ],
             [
              0.8888888888888888,
              "#fdca26"
             ],
             [
              1,
              "#f0f921"
             ]
            ],
            "type": "heatmap"
           }
          ],
          "heatmapgl": [
           {
            "colorbar": {
             "outlinewidth": 0,
             "ticks": ""
            },
            "colorscale": [
             [
              0,
              "#0d0887"
             ],
             [
              0.1111111111111111,
              "#46039f"
             ],
             [
              0.2222222222222222,
              "#7201a8"
             ],
             [
              0.3333333333333333,
              "#9c179e"
             ],
             [
              0.4444444444444444,
              "#bd3786"
             ],
             [
              0.5555555555555556,
              "#d8576b"
             ],
             [
              0.6666666666666666,
              "#ed7953"
             ],
             [
              0.7777777777777778,
              "#fb9f3a"
             ],
             [
              0.8888888888888888,
              "#fdca26"
             ],
             [
              1,
              "#f0f921"
             ]
            ],
            "type": "heatmapgl"
           }
          ],
          "histogram": [
           {
            "marker": {
             "pattern": {
              "fillmode": "overlay",
              "size": 10,
              "solidity": 0.2
             }
            },
            "type": "histogram"
           }
          ],
          "histogram2d": [
           {
            "colorbar": {
             "outlinewidth": 0,
             "ticks": ""
            },
            "colorscale": [
             [
              0,
              "#0d0887"
             ],
             [
              0.1111111111111111,
              "#46039f"
             ],
             [
              0.2222222222222222,
              "#7201a8"
             ],
             [
              0.3333333333333333,
              "#9c179e"
             ],
             [
              0.4444444444444444,
              "#bd3786"
             ],
             [
              0.5555555555555556,
              "#d8576b"
             ],
             [
              0.6666666666666666,
              "#ed7953"
             ],
             [
              0.7777777777777778,
              "#fb9f3a"
             ],
             [
              0.8888888888888888,
              "#fdca26"
             ],
             [
              1,
              "#f0f921"
             ]
            ],
            "type": "histogram2d"
           }
          ],
          "histogram2dcontour": [
           {
            "colorbar": {
             "outlinewidth": 0,
             "ticks": ""
            },
            "colorscale": [
             [
              0,
              "#0d0887"
             ],
             [
              0.1111111111111111,
              "#46039f"
             ],
             [
              0.2222222222222222,
              "#7201a8"
             ],
             [
              0.3333333333333333,
              "#9c179e"
             ],
             [
              0.4444444444444444,
              "#bd3786"
             ],
             [
              0.5555555555555556,
              "#d8576b"
             ],
             [
              0.6666666666666666,
              "#ed7953"
             ],
             [
              0.7777777777777778,
              "#fb9f3a"
             ],
             [
              0.8888888888888888,
              "#fdca26"
             ],
             [
              1,
              "#f0f921"
             ]
            ],
            "type": "histogram2dcontour"
           }
          ],
          "mesh3d": [
           {
            "colorbar": {
             "outlinewidth": 0,
             "ticks": ""
            },
            "type": "mesh3d"
           }
          ],
          "parcoords": [
           {
            "line": {
             "colorbar": {
              "outlinewidth": 0,
              "ticks": ""
             }
            },
            "type": "parcoords"
           }
          ],
          "pie": [
           {
            "automargin": true,
            "type": "pie"
           }
          ],
          "scatter": [
           {
            "marker": {
             "colorbar": {
              "outlinewidth": 0,
              "ticks": ""
             }
            },
            "type": "scatter"
           }
          ],
          "scatter3d": [
           {
            "line": {
             "colorbar": {
              "outlinewidth": 0,
              "ticks": ""
             }
            },
            "marker": {
             "colorbar": {
              "outlinewidth": 0,
              "ticks": ""
             }
            },
            "type": "scatter3d"
           }
          ],
          "scattercarpet": [
           {
            "marker": {
             "colorbar": {
              "outlinewidth": 0,
              "ticks": ""
             }
            },
            "type": "scattercarpet"
           }
          ],
          "scattergeo": [
           {
            "marker": {
             "colorbar": {
              "outlinewidth": 0,
              "ticks": ""
             }
            },
            "type": "scattergeo"
           }
          ],
          "scattergl": [
           {
            "marker": {
             "colorbar": {
              "outlinewidth": 0,
              "ticks": ""
             }
            },
            "type": "scattergl"
           }
          ],
          "scattermapbox": [
           {
            "marker": {
             "colorbar": {
              "outlinewidth": 0,
              "ticks": ""
             }
            },
            "type": "scattermapbox"
           }
          ],
          "scatterpolar": [
           {
            "marker": {
             "colorbar": {
              "outlinewidth": 0,
              "ticks": ""
             }
            },
            "type": "scatterpolar"
           }
          ],
          "scatterpolargl": [
           {
            "marker": {
             "colorbar": {
              "outlinewidth": 0,
              "ticks": ""
             }
            },
            "type": "scatterpolargl"
           }
          ],
          "scatterternary": [
           {
            "marker": {
             "colorbar": {
              "outlinewidth": 0,
              "ticks": ""
             }
            },
            "type": "scatterternary"
           }
          ],
          "surface": [
           {
            "colorbar": {
             "outlinewidth": 0,
             "ticks": ""
            },
            "colorscale": [
             [
              0,
              "#0d0887"
             ],
             [
              0.1111111111111111,
              "#46039f"
             ],
             [
              0.2222222222222222,
              "#7201a8"
             ],
             [
              0.3333333333333333,
              "#9c179e"
             ],
             [
              0.4444444444444444,
              "#bd3786"
             ],
             [
              0.5555555555555556,
              "#d8576b"
             ],
             [
              0.6666666666666666,
              "#ed7953"
             ],
             [
              0.7777777777777778,
              "#fb9f3a"
             ],
             [
              0.8888888888888888,
              "#fdca26"
             ],
             [
              1,
              "#f0f921"
             ]
            ],
            "type": "surface"
           }
          ],
          "table": [
           {
            "cells": {
             "fill": {
              "color": "#EBF0F8"
             },
             "line": {
              "color": "white"
             }
            },
            "header": {
             "fill": {
              "color": "#C8D4E3"
             },
             "line": {
              "color": "white"
             }
            },
            "type": "table"
           }
          ]
         },
         "layout": {
          "annotationdefaults": {
           "arrowcolor": "#2a3f5f",
           "arrowhead": 0,
           "arrowwidth": 1
          },
          "autotypenumbers": "strict",
          "coloraxis": {
           "colorbar": {
            "outlinewidth": 0,
            "ticks": ""
           }
          },
          "colorscale": {
           "diverging": [
            [
             0,
             "#8e0152"
            ],
            [
             0.1,
             "#c51b7d"
            ],
            [
             0.2,
             "#de77ae"
            ],
            [
             0.3,
             "#f1b6da"
            ],
            [
             0.4,
             "#fde0ef"
            ],
            [
             0.5,
             "#f7f7f7"
            ],
            [
             0.6,
             "#e6f5d0"
            ],
            [
             0.7,
             "#b8e186"
            ],
            [
             0.8,
             "#7fbc41"
            ],
            [
             0.9,
             "#4d9221"
            ],
            [
             1,
             "#276419"
            ]
           ],
           "sequential": [
            [
             0,
             "#0d0887"
            ],
            [
             0.1111111111111111,
             "#46039f"
            ],
            [
             0.2222222222222222,
             "#7201a8"
            ],
            [
             0.3333333333333333,
             "#9c179e"
            ],
            [
             0.4444444444444444,
             "#bd3786"
            ],
            [
             0.5555555555555556,
             "#d8576b"
            ],
            [
             0.6666666666666666,
             "#ed7953"
            ],
            [
             0.7777777777777778,
             "#fb9f3a"
            ],
            [
             0.8888888888888888,
             "#fdca26"
            ],
            [
             1,
             "#f0f921"
            ]
           ],
           "sequentialminus": [
            [
             0,
             "#0d0887"
            ],
            [
             0.1111111111111111,
             "#46039f"
            ],
            [
             0.2222222222222222,
             "#7201a8"
            ],
            [
             0.3333333333333333,
             "#9c179e"
            ],
            [
             0.4444444444444444,
             "#bd3786"
            ],
            [
             0.5555555555555556,
             "#d8576b"
            ],
            [
             0.6666666666666666,
             "#ed7953"
            ],
            [
             0.7777777777777778,
             "#fb9f3a"
            ],
            [
             0.8888888888888888,
             "#fdca26"
            ],
            [
             1,
             "#f0f921"
            ]
           ]
          },
          "colorway": [
           "#636efa",
           "#EF553B",
           "#00cc96",
           "#ab63fa",
           "#FFA15A",
           "#19d3f3",
           "#FF6692",
           "#B6E880",
           "#FF97FF",
           "#FECB52"
          ],
          "font": {
           "color": "#2a3f5f"
          },
          "geo": {
           "bgcolor": "white",
           "lakecolor": "white",
           "landcolor": "#E5ECF6",
           "showlakes": true,
           "showland": true,
           "subunitcolor": "white"
          },
          "hoverlabel": {
           "align": "left"
          },
          "hovermode": "closest",
          "mapbox": {
           "style": "light"
          },
          "paper_bgcolor": "white",
          "plot_bgcolor": "#E5ECF6",
          "polar": {
           "angularaxis": {
            "gridcolor": "white",
            "linecolor": "white",
            "ticks": ""
           },
           "bgcolor": "#E5ECF6",
           "radialaxis": {
            "gridcolor": "white",
            "linecolor": "white",
            "ticks": ""
           }
          },
          "scene": {
           "xaxis": {
            "backgroundcolor": "#E5ECF6",
            "gridcolor": "white",
            "gridwidth": 2,
            "linecolor": "white",
            "showbackground": true,
            "ticks": "",
            "zerolinecolor": "white"
           },
           "yaxis": {
            "backgroundcolor": "#E5ECF6",
            "gridcolor": "white",
            "gridwidth": 2,
            "linecolor": "white",
            "showbackground": true,
            "ticks": "",
            "zerolinecolor": "white"
           },
           "zaxis": {
            "backgroundcolor": "#E5ECF6",
            "gridcolor": "white",
            "gridwidth": 2,
            "linecolor": "white",
            "showbackground": true,
            "ticks": "",
            "zerolinecolor": "white"
           }
          },
          "shapedefaults": {
           "line": {
            "color": "#2a3f5f"
           }
          },
          "ternary": {
           "aaxis": {
            "gridcolor": "white",
            "linecolor": "white",
            "ticks": ""
           },
           "baxis": {
            "gridcolor": "white",
            "linecolor": "white",
            "ticks": ""
           },
           "bgcolor": "#E5ECF6",
           "caxis": {
            "gridcolor": "white",
            "linecolor": "white",
            "ticks": ""
           }
          },
          "title": {
           "x": 0.05
          },
          "xaxis": {
           "automargin": true,
           "gridcolor": "white",
           "linecolor": "white",
           "ticks": "",
           "title": {
            "standoff": 15
           },
           "zerolinecolor": "white",
           "zerolinewidth": 2
          },
          "yaxis": {
           "automargin": true,
           "gridcolor": "white",
           "linecolor": "white",
           "ticks": "",
           "title": {
            "standoff": 15
           },
           "zerolinecolor": "white",
           "zerolinewidth": 2
          }
         }
        },
        "title": {
         "text": "2D t-SNE visualization"
        },
        "xaxis": {
         "anchor": "y",
         "domain": [
          0,
          1
         ],
         "title": {
          "text": "x"
         }
        },
        "yaxis": {
         "anchor": "x",
         "domain": [
          0,
          1
         ],
         "title": {
          "text": "y"
         }
        }
       }
      },
      "text/html": [
       "<div>                            <div id=\"124bb7d5-936d-41e1-a264-a9dc8ef87515\" class=\"plotly-graph-div\" style=\"height:525px; width:100%;\"></div>            <script type=\"text/javascript\">                require([\"plotly\"], function(Plotly) {                    window.PLOTLYENV=window.PLOTLYENV || {};                                    if (document.getElementById(\"124bb7d5-936d-41e1-a264-a9dc8ef87515\")) {                    Plotly.newPlot(                        \"124bb7d5-936d-41e1-a264-a9dc8ef87515\",                        [{\"hovertemplate\":\"color=Presbytis<br>x=%{x}<br>y=%{y}<extra></extra>\",\"legendgroup\":\"Presbytis\",\"marker\":{\"color\":\"#636efa\",\"symbol\":\"circle\"},\"mode\":\"markers\",\"name\":\"Presbytis\",\"orientation\":\"v\",\"showlegend\":true,\"x\":[9.828705787658691,9.76897144317627,9.641623497009277,9.792816162109375,9.523428916931152,-3.5565872192382812,-3.742403268814087,-3.743901491165161,-3.7181217670440674,-3.7265117168426514,-3.5735116004943848,-3.8150014877319336,-4.013675689697266],\"xaxis\":\"x\",\"y\":[-4.5030622482299805,-4.311244964599609,-4.796391010284424,-4.459084987640381,-4.164031028747559,1.6044001579284668,1.5411105155944824,1.544351577758789,1.3177945613861084,1.3523292541503906,1.5331398248672485,1.527632474899292,1.498661756515503],\"yaxis\":\"y\",\"type\":\"scatter\"},{\"hovertemplate\":\"color=Cercopithecus<br>x=%{x}<br>y=%{y}<extra></extra>\",\"legendgroup\":\"Cercopithecus\",\"marker\":{\"color\":\"#EF553B\",\"symbol\":\"circle\"},\"mode\":\"markers\",\"name\":\"Cercopithecus\",\"orientation\":\"v\",\"showlegend\":true,\"x\":[9.816354751586914,9.853443145751953,9.66506576538086,9.450643539428711,9.57726001739502,9.307147026062012,9.505976676940918,9.449603080749512,9.649392127990723,9.138097763061523],\"xaxis\":\"x\",\"y\":[-4.609023094177246,-4.412751197814941,-4.778528213500977,-4.766037940979004,-4.216433525085449,-4.73550271987915,-4.802736282348633,-4.179542541503906,-4.28103494644165,-4.58045768737793],\"yaxis\":\"y\",\"type\":\"scatter\"},{\"hovertemplate\":\"color=Miopithecus<br>x=%{x}<br>y=%{y}<extra></extra>\",\"legendgroup\":\"Miopithecus\",\"marker\":{\"color\":\"#00cc96\",\"symbol\":\"circle\"},\"mode\":\"markers\",\"name\":\"Miopithecus\",\"orientation\":\"v\",\"showlegend\":true,\"x\":[9.082483291625977,9.139853477478027,8.985387802124023,8.962888717651367,8.993021011352539],\"xaxis\":\"x\",\"y\":[-4.168076515197754,-4.141307830810547,-4.47036075592041,-4.254055500030518,-4.3354387283325195],\"yaxis\":\"y\",\"type\":\"scatter\"},{\"hovertemplate\":\"color=Lophocebus<br>x=%{x}<br>y=%{y}<extra></extra>\",\"legendgroup\":\"Lophocebus\",\"marker\":{\"color\":\"#ab63fa\",\"symbol\":\"circle\"},\"mode\":\"markers\",\"name\":\"Lophocebus\",\"orientation\":\"v\",\"showlegend\":true,\"x\":[6.899401664733887,6.686721324920654,6.860642910003662,6.806887149810791,9.343864440917969,6.416675567626953],\"xaxis\":\"x\",\"y\":[-2.0393874645233154,-1.99024498462677,-1.9874024391174316,-1.9263418912887573,-4.816983699798584,-1.8811407089233398],\"yaxis\":\"y\",\"type\":\"scatter\"},{\"hovertemplate\":\"color=Colobus<br>x=%{x}<br>y=%{y}<extra></extra>\",\"legendgroup\":\"Colobus\",\"marker\":{\"color\":\"#FFA15A\",\"symbol\":\"circle\"},\"mode\":\"markers\",\"name\":\"Colobus\",\"orientation\":\"v\",\"showlegend\":true,\"x\":[-3.7629501819610596,-4.243905067443848,-4.2895050048828125,-4.0477070808410645,-4.015504837036133,-4.184250354766846,-4.066152095794678,-4.1654558181762695,-4.064906120300293,-4.221950531005859,4.424674034118652,4.846656799316406,4.633509159088135,4.639214515686035,4.799399375915527,5.202383995056152,5.257413864135742,5.505031108856201,5.911628246307373,6.524320602416992],\"xaxis\":\"x\",\"y\":[1.1622852087020874,1.1410682201385498,1.2820614576339722,1.1496386528015137,1.0984693765640259,1.5510687828063965,0.8636910915374756,1.1464803218841553,1.4930388927459717,1.3866026401519775,-1.915041446685791,-1.6359302997589111,-1.855337381362915,-1.8404070138931274,-2.0794320106506348,-1.7409387826919556,-2.0043699741363525,-2.0474486351013184,-2.004300594329834,-2.178476333618164],\"yaxis\":\"y\",\"type\":\"scatter\"},{\"hovertemplate\":\"color=Erythrocebus<br>x=%{x}<br>y=%{y}<extra></extra>\",\"legendgroup\":\"Erythrocebus\",\"marker\":{\"color\":\"#19d3f3\",\"symbol\":\"circle\"},\"mode\":\"markers\",\"name\":\"Erythrocebus\",\"orientation\":\"v\",\"showlegend\":true,\"x\":[-1.3005824089050293,-0.9863495826721191,-1.7103970050811768,-1.8730566501617432],\"xaxis\":\"x\",\"y\":[-3.3994243144989014,-3.7645556926727295,-3.589738368988037,-3.8473939895629883],\"yaxis\":\"y\",\"type\":\"scatter\"},{\"hovertemplate\":\"color=Macaca<br>x=%{x}<br>y=%{y}<extra></extra>\",\"legendgroup\":\"Macaca\",\"marker\":{\"color\":\"#FF6692\",\"symbol\":\"circle\"},\"mode\":\"markers\",\"name\":\"Macaca\",\"orientation\":\"v\",\"showlegend\":true,\"x\":[-0.2899045944213867,-0.6381977796554565,-0.36404019594192505,-0.5572945475578308,-0.6074912548065186,-0.9015113711357117,-0.5177316069602966,-0.6601182222366333,-1.4370225667953491,-1.787552833557129,-1.6768954992294312,-1.740609884262085,-1.1474478244781494,-1.54953134059906,-1.6478523015975952],\"xaxis\":\"x\",\"y\":[-4.254012584686279,-5.105381488800049,-3.9831814765930176,-4.356873512268066,-4.65355110168457,-3.8347768783569336,-4.602858066558838,-4.352019786834717,-3.8704590797424316,-5.659992218017578,-4.489441394805908,-3.6759233474731445,-4.709652900695801,-4.508425235748291,-4.0673909187316895],\"yaxis\":\"y\",\"type\":\"scatter\"},{\"hovertemplate\":\"color=Trachypithecus<br>x=%{x}<br>y=%{y}<extra></extra>\",\"legendgroup\":\"Trachypithecus\",\"marker\":{\"color\":\"#B6E880\",\"symbol\":\"circle\"},\"mode\":\"markers\",\"name\":\"Trachypithecus\",\"orientation\":\"v\",\"showlegend\":true,\"x\":[3.6439359188079834,3.788558006286621,4.0231194496154785,4.12253999710083,4.025287628173828,4.022385120391846,4.213526725769043,4.599451541900635,4.169895172119141,4.952606201171875,-0.8118071556091309,-0.8042327165603638,-0.8896768093109131,-0.9254224300384521,-1.0116215944290161,-0.9662079811096191,-1.0771178007125854,-1.2862509489059448],\"xaxis\":\"x\",\"y\":[-0.8397595286369324,-1.1802825927734375,-1.1629201173782349,-1.1180683374404907,-1.3288642168045044,-1.2030912637710571,-1.4767076969146729,-1.4773699045181274,-1.6889703273773193,-1.5406728982925415,2.4959936141967773,2.486448049545288,2.6027984619140625,2.3615245819091797,2.435647964477539,2.411924362182617,2.301673412322998,2.235029697418213],\"yaxis\":\"y\",\"type\":\"scatter\"},{\"hovertemplate\":\"color=Cercocebus<br>x=%{x}<br>y=%{y}<extra></extra>\",\"legendgroup\":\"Cercocebus\",\"marker\":{\"color\":\"#FF97FF\",\"symbol\":\"circle\"},\"mode\":\"markers\",\"name\":\"Cercocebus\",\"orientation\":\"v\",\"showlegend\":true,\"x\":[4.796290874481201,4.988455295562744,5.341858863830566,5.983438014984131,5.215162754058838,6.455885410308838,5.540273666381836,5.235693454742432,5.445168495178223],\"xaxis\":\"x\",\"y\":[-2.2746634483337402,-2.5072216987609863,-2.521637439727783,-2.8337759971618652,-2.5761892795562744,-2.6047310829162598,-2.5012848377227783,-2.3843135833740234,-2.5048789978027344],\"yaxis\":\"y\",\"type\":\"scatter\"},{\"hovertemplate\":\"color=Theropithecus<br>x=%{x}<br>y=%{y}<extra></extra>\",\"legendgroup\":\"Theropithecus\",\"marker\":{\"color\":\"#FECB52\",\"symbol\":\"circle\"},\"mode\":\"markers\",\"name\":\"Theropithecus\",\"orientation\":\"v\",\"showlegend\":true,\"x\":[1.371872901916504],\"xaxis\":\"x\",\"y\":[2.809514284133911],\"yaxis\":\"y\",\"type\":\"scatter\"},{\"hovertemplate\":\"color=Mandrillus<br>x=%{x}<br>y=%{y}<extra></extra>\",\"legendgroup\":\"Mandrillus\",\"marker\":{\"color\":\"#636efa\",\"symbol\":\"circle\"},\"mode\":\"markers\",\"name\":\"Mandrillus\",\"orientation\":\"v\",\"showlegend\":true,\"x\":[1.3916569948196411,1.3821946382522583,5.549440383911133,0.7732639312744141,-1.9965161085128784,-2.2083089351654053],\"xaxis\":\"x\",\"y\":[2.8067052364349365,2.823822498321533,-0.30684128403663635,1.093402624130249,-2.9840662479400635,-2.867887496948242],\"yaxis\":\"y\",\"type\":\"scatter\"},{\"hovertemplate\":\"color=Papio<br>x=%{x}<br>y=%{y}<extra></extra>\",\"legendgroup\":\"Papio\",\"marker\":{\"color\":\"#EF553B\",\"symbol\":\"circle\"},\"mode\":\"markers\",\"name\":\"Papio\",\"orientation\":\"v\",\"showlegend\":true,\"x\":[0.32032179832458496,0.48056960105895996,0.9042423367500305,0.8235083222389221,0.730903148651123,0.976368248462677,1.1878416538238525,0.6938832402229309,-2.1198673248291016],\"xaxis\":\"x\",\"y\":[1.4400806427001953,1.1235151290893555,0.5448141694068909,0.4037667512893677,0.6552577614784241,0.4851209819316864,0.2642403244972229,0.566463053226471,-2.9718191623687744],\"yaxis\":\"y\",\"type\":\"scatter\"},{\"hovertemplate\":\"color=Nasalis<br>x=%{x}<br>y=%{y}<extra></extra>\",\"legendgroup\":\"Nasalis\",\"marker\":{\"color\":\"#00cc96\",\"symbol\":\"circle\"},\"mode\":\"markers\",\"name\":\"Nasalis\",\"orientation\":\"v\",\"showlegend\":true,\"x\":[1.865389347076416,2.7350525856018066,2.9555323123931885,3.551578998565674,1.6171574592590332,1.5531105995178223,1.576367974281311,1.6914689540863037,1.600687026977539],\"xaxis\":\"x\",\"y\":[-0.4806350767612457,-0.9847151637077332,-1.2223193645477295,-1.7212942838668823,-0.31789711117744446,-0.23091936111450195,-0.3064735531806946,-0.42179909348487854,-0.4799325168132782],\"yaxis\":\"y\",\"type\":\"scatter\"},{\"hovertemplate\":\"color=Symphalangus<br>x=%{x}<br>y=%{y}<extra></extra>\",\"legendgroup\":\"Symphalangus\",\"marker\":{\"color\":\"#ab63fa\",\"symbol\":\"circle\"},\"mode\":\"markers\",\"name\":\"Symphalangus\",\"orientation\":\"v\",\"showlegend\":true,\"x\":[-1.1261560916900635,-0.6993654370307922],\"xaxis\":\"x\",\"y\":[-3.5446653366088867,-3.1939361095428467],\"yaxis\":\"y\",\"type\":\"scatter\"},{\"hovertemplate\":\"color=Hylobates<br>x=%{x}<br>y=%{y}<extra></extra>\",\"legendgroup\":\"Hylobates\",\"marker\":{\"color\":\"#FFA15A\",\"symbol\":\"circle\"},\"mode\":\"markers\",\"name\":\"Hylobates\",\"orientation\":\"v\",\"showlegend\":true,\"x\":[-0.4707980751991272,-0.6044176816940308,-1.089600920677185,-0.9273282289505005,-1.29685378074646,-0.8531384468078613,-0.7476508617401123,-1.2010363340377808,-1.0998972654342651,-1.2110464572906494,-1.384216070175171,-1.30219566822052,-1.4512372016906738,-1.5319572687149048,-1.4439258575439453,-1.5141047239303589,-1.6946570873260498,-1.6476777791976929],\"xaxis\":\"x\",\"y\":[-3.5062756538391113,-3.7173216342926025,-4.49524450302124,-3.8624727725982666,-4.360170364379883,-4.101175308227539,-5.405130863189697,-4.288078784942627,-4.140627384185791,-4.795642375946045,-4.6955952644348145,2.4218428134918213,2.449127435684204,2.394883632659912,2.413552761077881,2.3639774322509766,2.321350336074829,2.2941949367523193],\"yaxis\":\"y\",\"type\":\"scatter\"},{\"hovertemplate\":\"color=Pongo<br>x=%{x}<br>y=%{y}<extra></extra>\",\"legendgroup\":\"Pongo\",\"marker\":{\"color\":\"#19d3f3\",\"symbol\":\"circle\"},\"mode\":\"markers\",\"name\":\"Pongo\",\"orientation\":\"v\",\"showlegend\":true,\"x\":[-6.445945739746094,0.21155919134616852],\"xaxis\":\"x\",\"y\":[-3.0234131813049316,2.518656015396118],\"yaxis\":\"y\",\"type\":\"scatter\"},{\"hovertemplate\":\"color=Pan<br>x=%{x}<br>y=%{y}<extra></extra>\",\"legendgroup\":\"Pan\",\"marker\":{\"color\":\"#FF6692\",\"symbol\":\"circle\"},\"mode\":\"markers\",\"name\":\"Pan\",\"orientation\":\"v\",\"showlegend\":true,\"x\":[-6.569851398468018,-6.290817737579346,-6.272915363311768,-5.974134922027588,-6.377287864685059,-6.144253253936768,-5.90756368637085,-6.248602390289307,-6.614528656005859,-6.510024547576904,-6.590537071228027,-6.567680835723877],\"xaxis\":\"x\",\"y\":[-2.940706968307495,-3.040914535522461,-3.1656079292297363,-3.0769248008728027,-2.9789483547210693,-3.026242256164551,-3.0527760982513428,-2.9327337741851807,-3.132150650024414,-3.146167516708374,-3.367403030395508,-3.3219852447509766],\"yaxis\":\"y\",\"type\":\"scatter\"},{\"hovertemplate\":\"color=Gorilla<br>x=%{x}<br>y=%{y}<extra></extra>\",\"legendgroup\":\"Gorilla\",\"marker\":{\"color\":\"#B6E880\",\"symbol\":\"circle\"},\"mode\":\"markers\",\"name\":\"Gorilla\",\"orientation\":\"v\",\"showlegend\":true,\"x\":[-7.089005947113037,-7.123398303985596,-6.956730365753174,-7.1576032638549805,-7.11610221862793,-7.0494208335876465],\"xaxis\":\"x\",\"y\":[-2.661733865737915,-2.89268159866333,-2.8038127422332764,-2.6806893348693848,-3.2261204719543457,-3.188230276107788],\"yaxis\":\"y\",\"type\":\"scatter\"}],                        {\"template\":{\"data\":{\"bar\":[{\"error_x\":{\"color\":\"#2a3f5f\"},\"error_y\":{\"color\":\"#2a3f5f\"},\"marker\":{\"line\":{\"color\":\"#E5ECF6\",\"width\":0.5},\"pattern\":{\"fillmode\":\"overlay\",\"size\":10,\"solidity\":0.2}},\"type\":\"bar\"}],\"barpolar\":[{\"marker\":{\"line\":{\"color\":\"#E5ECF6\",\"width\":0.5},\"pattern\":{\"fillmode\":\"overlay\",\"size\":10,\"solidity\":0.2}},\"type\":\"barpolar\"}],\"carpet\":[{\"aaxis\":{\"endlinecolor\":\"#2a3f5f\",\"gridcolor\":\"white\",\"linecolor\":\"white\",\"minorgridcolor\":\"white\",\"startlinecolor\":\"#2a3f5f\"},\"baxis\":{\"endlinecolor\":\"#2a3f5f\",\"gridcolor\":\"white\",\"linecolor\":\"white\",\"minorgridcolor\":\"white\",\"startlinecolor\":\"#2a3f5f\"},\"type\":\"carpet\"}],\"choropleth\":[{\"colorbar\":{\"outlinewidth\":0,\"ticks\":\"\"},\"type\":\"choropleth\"}],\"contour\":[{\"colorbar\":{\"outlinewidth\":0,\"ticks\":\"\"},\"colorscale\":[[0.0,\"#0d0887\"],[0.1111111111111111,\"#46039f\"],[0.2222222222222222,\"#7201a8\"],[0.3333333333333333,\"#9c179e\"],[0.4444444444444444,\"#bd3786\"],[0.5555555555555556,\"#d8576b\"],[0.6666666666666666,\"#ed7953\"],[0.7777777777777778,\"#fb9f3a\"],[0.8888888888888888,\"#fdca26\"],[1.0,\"#f0f921\"]],\"type\":\"contour\"}],\"contourcarpet\":[{\"colorbar\":{\"outlinewidth\":0,\"ticks\":\"\"},\"type\":\"contourcarpet\"}],\"heatmap\":[{\"colorbar\":{\"outlinewidth\":0,\"ticks\":\"\"},\"colorscale\":[[0.0,\"#0d0887\"],[0.1111111111111111,\"#46039f\"],[0.2222222222222222,\"#7201a8\"],[0.3333333333333333,\"#9c179e\"],[0.4444444444444444,\"#bd3786\"],[0.5555555555555556,\"#d8576b\"],[0.6666666666666666,\"#ed7953\"],[0.7777777777777778,\"#fb9f3a\"],[0.8888888888888888,\"#fdca26\"],[1.0,\"#f0f921\"]],\"type\":\"heatmap\"}],\"heatmapgl\":[{\"colorbar\":{\"outlinewidth\":0,\"ticks\":\"\"},\"colorscale\":[[0.0,\"#0d0887\"],[0.1111111111111111,\"#46039f\"],[0.2222222222222222,\"#7201a8\"],[0.3333333333333333,\"#9c179e\"],[0.4444444444444444,\"#bd3786\"],[0.5555555555555556,\"#d8576b\"],[0.6666666666666666,\"#ed7953\"],[0.7777777777777778,\"#fb9f3a\"],[0.8888888888888888,\"#fdca26\"],[1.0,\"#f0f921\"]],\"type\":\"heatmapgl\"}],\"histogram\":[{\"marker\":{\"pattern\":{\"fillmode\":\"overlay\",\"size\":10,\"solidity\":0.2}},\"type\":\"histogram\"}],\"histogram2d\":[{\"colorbar\":{\"outlinewidth\":0,\"ticks\":\"\"},\"colorscale\":[[0.0,\"#0d0887\"],[0.1111111111111111,\"#46039f\"],[0.2222222222222222,\"#7201a8\"],[0.3333333333333333,\"#9c179e\"],[0.4444444444444444,\"#bd3786\"],[0.5555555555555556,\"#d8576b\"],[0.6666666666666666,\"#ed7953\"],[0.7777777777777778,\"#fb9f3a\"],[0.8888888888888888,\"#fdca26\"],[1.0,\"#f0f921\"]],\"type\":\"histogram2d\"}],\"histogram2dcontour\":[{\"colorbar\":{\"outlinewidth\":0,\"ticks\":\"\"},\"colorscale\":[[0.0,\"#0d0887\"],[0.1111111111111111,\"#46039f\"],[0.2222222222222222,\"#7201a8\"],[0.3333333333333333,\"#9c179e\"],[0.4444444444444444,\"#bd3786\"],[0.5555555555555556,\"#d8576b\"],[0.6666666666666666,\"#ed7953\"],[0.7777777777777778,\"#fb9f3a\"],[0.8888888888888888,\"#fdca26\"],[1.0,\"#f0f921\"]],\"type\":\"histogram2dcontour\"}],\"mesh3d\":[{\"colorbar\":{\"outlinewidth\":0,\"ticks\":\"\"},\"type\":\"mesh3d\"}],\"parcoords\":[{\"line\":{\"colorbar\":{\"outlinewidth\":0,\"ticks\":\"\"}},\"type\":\"parcoords\"}],\"pie\":[{\"automargin\":true,\"type\":\"pie\"}],\"scatter\":[{\"marker\":{\"colorbar\":{\"outlinewidth\":0,\"ticks\":\"\"}},\"type\":\"scatter\"}],\"scatter3d\":[{\"line\":{\"colorbar\":{\"outlinewidth\":0,\"ticks\":\"\"}},\"marker\":{\"colorbar\":{\"outlinewidth\":0,\"ticks\":\"\"}},\"type\":\"scatter3d\"}],\"scattercarpet\":[{\"marker\":{\"colorbar\":{\"outlinewidth\":0,\"ticks\":\"\"}},\"type\":\"scattercarpet\"}],\"scattergeo\":[{\"marker\":{\"colorbar\":{\"outlinewidth\":0,\"ticks\":\"\"}},\"type\":\"scattergeo\"}],\"scattergl\":[{\"marker\":{\"colorbar\":{\"outlinewidth\":0,\"ticks\":\"\"}},\"type\":\"scattergl\"}],\"scattermapbox\":[{\"marker\":{\"colorbar\":{\"outlinewidth\":0,\"ticks\":\"\"}},\"type\":\"scattermapbox\"}],\"scatterpolar\":[{\"marker\":{\"colorbar\":{\"outlinewidth\":0,\"ticks\":\"\"}},\"type\":\"scatterpolar\"}],\"scatterpolargl\":[{\"marker\":{\"colorbar\":{\"outlinewidth\":0,\"ticks\":\"\"}},\"type\":\"scatterpolargl\"}],\"scatterternary\":[{\"marker\":{\"colorbar\":{\"outlinewidth\":0,\"ticks\":\"\"}},\"type\":\"scatterternary\"}],\"surface\":[{\"colorbar\":{\"outlinewidth\":0,\"ticks\":\"\"},\"colorscale\":[[0.0,\"#0d0887\"],[0.1111111111111111,\"#46039f\"],[0.2222222222222222,\"#7201a8\"],[0.3333333333333333,\"#9c179e\"],[0.4444444444444444,\"#bd3786\"],[0.5555555555555556,\"#d8576b\"],[0.6666666666666666,\"#ed7953\"],[0.7777777777777778,\"#fb9f3a\"],[0.8888888888888888,\"#fdca26\"],[1.0,\"#f0f921\"]],\"type\":\"surface\"}],\"table\":[{\"cells\":{\"fill\":{\"color\":\"#EBF0F8\"},\"line\":{\"color\":\"white\"}},\"header\":{\"fill\":{\"color\":\"#C8D4E3\"},\"line\":{\"color\":\"white\"}},\"type\":\"table\"}]},\"layout\":{\"annotationdefaults\":{\"arrowcolor\":\"#2a3f5f\",\"arrowhead\":0,\"arrowwidth\":1},\"autotypenumbers\":\"strict\",\"coloraxis\":{\"colorbar\":{\"outlinewidth\":0,\"ticks\":\"\"}},\"colorscale\":{\"diverging\":[[0,\"#8e0152\"],[0.1,\"#c51b7d\"],[0.2,\"#de77ae\"],[0.3,\"#f1b6da\"],[0.4,\"#fde0ef\"],[0.5,\"#f7f7f7\"],[0.6,\"#e6f5d0\"],[0.7,\"#b8e186\"],[0.8,\"#7fbc41\"],[0.9,\"#4d9221\"],[1,\"#276419\"]],\"sequential\":[[0.0,\"#0d0887\"],[0.1111111111111111,\"#46039f\"],[0.2222222222222222,\"#7201a8\"],[0.3333333333333333,\"#9c179e\"],[0.4444444444444444,\"#bd3786\"],[0.5555555555555556,\"#d8576b\"],[0.6666666666666666,\"#ed7953\"],[0.7777777777777778,\"#fb9f3a\"],[0.8888888888888888,\"#fdca26\"],[1.0,\"#f0f921\"]],\"sequentialminus\":[[0.0,\"#0d0887\"],[0.1111111111111111,\"#46039f\"],[0.2222222222222222,\"#7201a8\"],[0.3333333333333333,\"#9c179e\"],[0.4444444444444444,\"#bd3786\"],[0.5555555555555556,\"#d8576b\"],[0.6666666666666666,\"#ed7953\"],[0.7777777777777778,\"#fb9f3a\"],[0.8888888888888888,\"#fdca26\"],[1.0,\"#f0f921\"]]},\"colorway\":[\"#636efa\",\"#EF553B\",\"#00cc96\",\"#ab63fa\",\"#FFA15A\",\"#19d3f3\",\"#FF6692\",\"#B6E880\",\"#FF97FF\",\"#FECB52\"],\"font\":{\"color\":\"#2a3f5f\"},\"geo\":{\"bgcolor\":\"white\",\"lakecolor\":\"white\",\"landcolor\":\"#E5ECF6\",\"showlakes\":true,\"showland\":true,\"subunitcolor\":\"white\"},\"hoverlabel\":{\"align\":\"left\"},\"hovermode\":\"closest\",\"mapbox\":{\"style\":\"light\"},\"paper_bgcolor\":\"white\",\"plot_bgcolor\":\"#E5ECF6\",\"polar\":{\"angularaxis\":{\"gridcolor\":\"white\",\"linecolor\":\"white\",\"ticks\":\"\"},\"bgcolor\":\"#E5ECF6\",\"radialaxis\":{\"gridcolor\":\"white\",\"linecolor\":\"white\",\"ticks\":\"\"}},\"scene\":{\"xaxis\":{\"backgroundcolor\":\"#E5ECF6\",\"gridcolor\":\"white\",\"gridwidth\":2,\"linecolor\":\"white\",\"showbackground\":true,\"ticks\":\"\",\"zerolinecolor\":\"white\"},\"yaxis\":{\"backgroundcolor\":\"#E5ECF6\",\"gridcolor\":\"white\",\"gridwidth\":2,\"linecolor\":\"white\",\"showbackground\":true,\"ticks\":\"\",\"zerolinecolor\":\"white\"},\"zaxis\":{\"backgroundcolor\":\"#E5ECF6\",\"gridcolor\":\"white\",\"gridwidth\":2,\"linecolor\":\"white\",\"showbackground\":true,\"ticks\":\"\",\"zerolinecolor\":\"white\"}},\"shapedefaults\":{\"line\":{\"color\":\"#2a3f5f\"}},\"ternary\":{\"aaxis\":{\"gridcolor\":\"white\",\"linecolor\":\"white\",\"ticks\":\"\"},\"baxis\":{\"gridcolor\":\"white\",\"linecolor\":\"white\",\"ticks\":\"\"},\"bgcolor\":\"#E5ECF6\",\"caxis\":{\"gridcolor\":\"white\",\"linecolor\":\"white\",\"ticks\":\"\"}},\"title\":{\"x\":0.05},\"xaxis\":{\"automargin\":true,\"gridcolor\":\"white\",\"linecolor\":\"white\",\"ticks\":\"\",\"title\":{\"standoff\":15},\"zerolinecolor\":\"white\",\"zerolinewidth\":2},\"yaxis\":{\"automargin\":true,\"gridcolor\":\"white\",\"linecolor\":\"white\",\"ticks\":\"\",\"title\":{\"standoff\":15},\"zerolinecolor\":\"white\",\"zerolinewidth\":2}}},\"xaxis\":{\"anchor\":\"y\",\"domain\":[0.0,1.0],\"title\":{\"text\":\"x\"}},\"yaxis\":{\"anchor\":\"x\",\"domain\":[0.0,1.0],\"title\":{\"text\":\"y\"}},\"legend\":{\"title\":{\"text\":\"color\"},\"tracegroupgap\":0},\"title\":{\"text\":\"2D t-SNE visualization\"}},                        {\"responsive\": true}                    ).then(function(){\n",
       "                            \n",
       "var gd = document.getElementById('124bb7d5-936d-41e1-a264-a9dc8ef87515');\n",
       "var x = new MutationObserver(function (mutations, observer) {{\n",
       "        var display = window.getComputedStyle(gd).display;\n",
       "        if (!display || display === 'none') {{\n",
       "            console.log([gd, 'removed!']);\n",
       "            Plotly.purge(gd);\n",
       "            observer.disconnect();\n",
       "        }}\n",
       "}});\n",
       "\n",
       "// Listen for the removal of the full notebook cells\n",
       "var notebookContainer = gd.closest('#notebook-container');\n",
       "if (notebookContainer) {{\n",
       "    x.observe(notebookContainer, {childList: true});\n",
       "}}\n",
       "\n",
       "// Listen for the clearing of the current output cell\n",
       "var outputEl = gd.closest('.output');\n",
       "if (outputEl) {{\n",
       "    x.observe(outputEl, {childList: true});\n",
       "}}\n",
       "\n",
       "                        })                };                });            </script>        </div>"
      ]
     },
     "metadata": {},
     "output_type": "display_data"
    }
   ],
   "source": [
    "fig = px.scatter(x=Y[:, 0], y=Y[:, 1], color=df['Genus'], title=\"2D t-SNE visualization\")\n",
    "fig.show()"
   ]
  },
  {
   "cell_type": "code",
   "execution_count": 46,
   "id": "72c21cd3",
   "metadata": {},
   "outputs": [
    {
     "data": {
      "application/vnd.plotly.v1+json": {
       "config": {
        "plotlyServerURL": "https://plot.ly"
       },
       "data": [
        {
         "hovertemplate": "color=Presbytis<br>x=%{x}<br>y=%{y}<br>z=%{z}<extra></extra>",
         "legendgroup": "Presbytis",
         "marker": {
          "color": "#636efa",
          "symbol": "circle"
         },
         "mode": "markers",
         "name": "Presbytis",
         "scene": "scene",
         "showlegend": true,
         "type": "scatter3d",
         "x": [
          6.606507778167725,
          7.130660057067871,
          6.947509288787842,
          7.024190425872803,
          6.43961763381958,
          -3.3348324298858643,
          -3.375565528869629,
          -3.313793659210205,
          -3.1403543949127197,
          -3.056025266647339,
          -3.1895864009857178,
          -3.3579862117767334,
          -3.497030019760132
         ],
         "y": [
          0.5957826375961304,
          0.7471973299980164,
          0.4701696038246155,
          0.7691675424575806,
          0.6750195026397705,
          -0.210525780916214,
          -0.4834035336971283,
          -0.38236552476882935,
          -0.5757009387016296,
          -0.483216255903244,
          -0.2717640995979309,
          -0.544074535369873,
          -0.7064713835716248
         ],
         "z": [
          0.7215279936790466,
          0.9237288236618042,
          1.0532035827636719,
          0.7591264247894287,
          1.3014435768127441,
          -1.3298283815383911,
          -1.138886570930481,
          -1.5470974445343018,
          -1.1534734964370728,
          -1.5019924640655518,
          -1.3188613653182983,
          -1.1603456735610962,
          -1.3104896545410156
         ]
        },
        {
         "hovertemplate": "color=Cercopithecus<br>x=%{x}<br>y=%{y}<br>z=%{z}<extra></extra>",
         "legendgroup": "Cercopithecus",
         "marker": {
          "color": "#EF553B",
          "symbol": "circle"
         },
         "mode": "markers",
         "name": "Cercopithecus",
         "scene": "scene",
         "showlegend": true,
         "type": "scatter3d",
         "x": [
          6.492613792419434,
          6.368019104003906,
          6.683209419250488,
          6.659628868103027,
          6.599498748779297,
          6.980906009674072,
          6.924691677093506,
          6.64163064956665,
          6.977196216583252,
          6.843776702880859
         ],
         "y": [
          0.500079870223999,
          0.5927926301956177,
          0.4180229604244232,
          0.9145186543464661,
          0.9920152425765991,
          0.8118271231651306,
          0.5416481494903564,
          0.7739791870117188,
          0.9874401688575745,
          1.2939432859420776
         ],
         "z": [
          0.8970407247543335,
          0.8563823103904724,
          1.1029363870620728,
          0.6647481918334961,
          0.7074207663536072,
          1.400309443473816,
          1.2914432287216187,
          1.4624651670455933,
          0.7629798054695129,
          0.9815056324005127
         ]
        },
        {
         "hovertemplate": "color=Miopithecus<br>x=%{x}<br>y=%{y}<br>z=%{z}<extra></extra>",
         "legendgroup": "Miopithecus",
         "marker": {
          "color": "#00cc96",
          "symbol": "circle"
         },
         "mode": "markers",
         "name": "Miopithecus",
         "scene": "scene",
         "showlegend": true,
         "type": "scatter3d",
         "x": [
          6.372422695159912,
          6.333598613739014,
          6.8446044921875,
          6.570054531097412,
          6.657009124755859
         ],
         "y": [
          1.2589150667190552,
          1.1146469116210938,
          1.2903454303741455,
          1.3581956624984741,
          1.4016406536102295
         ],
         "z": [
          1.153965950012207,
          1.291309118270874,
          1.4371485710144043,
          1.433027982711792,
          1.2196742296218872
         ]
        },
        {
         "hovertemplate": "color=Lophocebus<br>x=%{x}<br>y=%{y}<br>z=%{z}<extra></extra>",
         "legendgroup": "Lophocebus",
         "marker": {
          "color": "#ab63fa",
          "symbol": "circle"
         },
         "mode": "markers",
         "name": "Lophocebus",
         "scene": "scene",
         "showlegend": true,
         "type": "scatter3d",
         "x": [
          4.666571617126465,
          4.463443279266357,
          4.607178688049316,
          4.530824184417725,
          7.1788835525512695,
          4.164746284484863
         ],
         "y": [
          3.091308116912842,
          3.0505740642547607,
          3.119851589202881,
          3.154545783996582,
          0.9335595965385437,
          3.0423583984375
         ],
         "z": [
          2.0594115257263184,
          2.038426160812378,
          2.0823936462402344,
          2.0898125171661377,
          1.1837823390960693,
          1.9828490018844604
         ]
        },
        {
         "hovertemplate": "color=Colobus<br>x=%{x}<br>y=%{y}<br>z=%{z}<extra></extra>",
         "legendgroup": "Colobus",
         "marker": {
          "color": "#FFA15A",
          "symbol": "circle"
         },
         "mode": "markers",
         "name": "Colobus",
         "scene": "scene",
         "showlegend": true,
         "type": "scatter3d",
         "x": [
          -3.0209872722625732,
          -3.276646852493286,
          -3.476935386657715,
          -3.0698511600494385,
          -3.0410451889038086,
          -3.599479913711548,
          -2.7722980976104736,
          -3.1421265602111816,
          -3.4726109504699707,
          -3.3222901821136475,
          2.553147554397583,
          2.806628465652466,
          2.7292215824127197,
          2.6638588905334473,
          2.8955721855163574,
          3.126192808151245,
          3.255368947982788,
          3.518221855163574,
          3.8149709701538086,
          4.427865982055664
         ],
         "y": [
          -0.611335039138794,
          -1.0860220193862915,
          -1.0583168268203735,
          -0.9439737200737,
          -0.8744914531707764,
          -0.7635160088539124,
          -1.0572290420532227,
          -1.050191879272461,
          -0.6907199025154114,
          -0.9215362668037415,
          2.1001060009002686,
          2.623584747314453,
          2.3434383869171143,
          2.1404945850372314,
          1.957018256187439,
          2.650277853012085,
          2.1999850273132324,
          2.400350570678711,
          2.584799289703369,
          2.738377571105957
         ],
         "z": [
          -1.718132734298706,
          -1.2455589771270752,
          -1.3421419858932495,
          -1.3408019542694092,
          -1.7029588222503662,
          -1.6218153238296509,
          -1.3811157941818237,
          -1.5432829856872559,
          -1.6098270416259766,
          -1.7300933599472046,
          1.2073248624801636,
          1.333857536315918,
          1.1866995096206665,
          1.7037267684936523,
          1.6893502473831177,
          1.5631518363952637,
          1.849829077720642,
          1.6470530033111572,
          1.9114478826522827,
          1.946216344833374
         ]
        },
        {
         "hovertemplate": "color=Erythrocebus<br>x=%{x}<br>y=%{y}<br>z=%{z}<extra></extra>",
         "legendgroup": "Erythrocebus",
         "marker": {
          "color": "#19d3f3",
          "symbol": "circle"
         },
         "mode": "markers",
         "name": "Erythrocebus",
         "scene": "scene",
         "showlegend": true,
         "type": "scatter3d",
         "x": [
          -0.667517364025116,
          -0.5861485600471497,
          -0.6451327204704285,
          -0.21100807189941406
         ],
         "y": [
          -1.0748740434646606,
          -1.1609244346618652,
          -1.6104755401611328,
          -1.7718045711517334
         ],
         "z": [
          1.624725103378296,
          2.165964126586914,
          1.5090701580047607,
          1.3654226064682007
         ]
        },
        {
         "hovertemplate": "color=Macaca<br>x=%{x}<br>y=%{y}<br>z=%{z}<extra></extra>",
         "legendgroup": "Macaca",
         "marker": {
          "color": "#FF6692",
          "symbol": "circle"
         },
         "mode": "markers",
         "name": "Macaca",
         "scene": "scene",
         "showlegend": true,
         "type": "scatter3d",
         "x": [
          -0.3991914391517639,
          -0.14300638437271118,
          -0.6293728947639465,
          -0.3547053337097168,
          0.030593372881412506,
          -0.7022908926010132,
          0.0813862606883049,
          -0.47733673453330994,
          -0.4728592038154602,
          -0.8407926559448242,
          -0.20352508127689362,
          -0.8660365343093872,
          0.14003713428974152,
          -0.11579761654138565,
          -0.15511097013950348
         ],
         "y": [
          -0.9374655485153198,
          -1.8798941373825073,
          -0.9081891775131226,
          -1.279748558998108,
          -1.3189090490341187,
          -1.30513334274292,
          -1.2287710905075073,
          -1.44417405128479,
          -1.5806288719177246,
          -2.409271478652954,
          -2.0750014781951904,
          -1.62406325340271,
          -1.8534204959869385,
          -2.0023486614227295,
          -1.7774503231048584
         ],
         "z": [
          2.8933768272399902,
          3.1098690032958984,
          2.6516010761260986,
          2.7414233684539795,
          2.895022392272949,
          2.322969913482666,
          2.889141082763672,
          2.6312856674194336,
          1.8982399702072144,
          3.2178897857666016,
          2.150134801864624,
          1.7774596214294434,
          2.422746419906616,
          2.1825320720672607,
          1.693042278289795
         ]
        },
        {
         "hovertemplate": "color=Trachypithecus<br>x=%{x}<br>y=%{y}<br>z=%{z}<extra></extra>",
         "legendgroup": "Trachypithecus",
         "marker": {
          "color": "#B6E880",
          "symbol": "circle"
         },
         "mode": "markers",
         "name": "Trachypithecus",
         "scene": "scene",
         "showlegend": true,
         "type": "scatter3d",
         "x": [
          1.3792154788970947,
          1.6442897319793701,
          1.8747732639312744,
          1.9286670684814453,
          1.9611424207687378,
          1.8434298038482666,
          2.111600160598755,
          2.455530881881714,
          2.169542074203491,
          2.790379285812378,
          -2.720813274383545,
          -2.6936511993408203,
          -2.7513718605041504,
          -2.5885307788848877,
          -2.781628131866455,
          -2.6599769592285156,
          -2.5532402992248535,
          -2.6698389053344727
         ],
         "y": [
          2.7494490146636963,
          2.482048749923706,
          2.6722891330718994,
          2.7728188037872314,
          2.5120127201080322,
          2.6129672527313232,
          2.3498311042785645,
          2.5087509155273438,
          2.1048460006713867,
          2.6254994869232178,
          2.2809383869171143,
          2.302316904067993,
          2.3642890453338623,
          2.126849412918091,
          2.062037467956543,
          2.140489339828491,
          1.9459319114685059,
          1.6857491731643677
         ],
         "z": [
          1.3680113554000854,
          1.4758554697036743,
          1.349240779876709,
          1.4878021478652954,
          1.2595523595809937,
          1.597211480140686,
          1.696999192237854,
          1.8130958080291748,
          1.6144490242004395,
          1.831183671951294,
          -0.6850385665893555,
          -0.7166780829429626,
          -0.9346272945404053,
          -0.8077166676521301,
          -0.7284954190254211,
          -0.8489575982093811,
          -0.9461637735366821,
          -0.8507511615753174
         ]
        },
        {
         "hovertemplate": "color=Cercocebus<br>x=%{x}<br>y=%{y}<br>z=%{z}<extra></extra>",
         "legendgroup": "Cercocebus",
         "marker": {
          "color": "#FF97FF",
          "symbol": "circle"
         },
         "mode": "markers",
         "name": "Cercocebus",
         "scene": "scene",
         "showlegend": true,
         "type": "scatter3d",
         "x": [
          -44.99726867675781,
          3.2702476978302,
          3.6078851222991943,
          4.220189094543457,
          3.5176258087158203,
          4.553872108459473,
          3.770176649093628,
          3.426839590072632,
          3.6938605308532715
         ],
         "y": [
          2.878274440765381,
          1.7823123931884766,
          1.8815637826919556,
          2.2849342823028564,
          1.7525235414505005,
          2.561708927154541,
          1.9018168449401855,
          1.8422634601593018,
          1.9110220670700073
         ],
         "z": [
          5.469038486480713,
          1.2031203508377075,
          1.361838459968567,
          1.0558905601501465,
          1.357203722000122,
          1.4394252300262451,
          1.534722089767456,
          1.5935219526290894,
          1.449586033821106
         ]
        },
        {
         "hovertemplate": "color=Theropithecus<br>x=%{x}<br>y=%{y}<br>z=%{z}<extra></extra>",
         "legendgroup": "Theropithecus",
         "marker": {
          "color": "#FECB52",
          "symbol": "circle"
         },
         "mode": "markers",
         "name": "Theropithecus",
         "scene": "scene",
         "showlegend": true,
         "type": "scatter3d",
         "x": [
          -2.046233654022217
         ],
         "y": [
          3.130636215209961
         ],
         "z": [
          1.237209677696228
         ]
        },
        {
         "hovertemplate": "color=Mandrillus<br>x=%{x}<br>y=%{y}<br>z=%{z}<extra></extra>",
         "legendgroup": "Mandrillus",
         "marker": {
          "color": "#636efa",
          "symbol": "circle"
         },
         "mode": "markers",
         "name": "Mandrillus",
         "scene": "scene",
         "showlegend": true,
         "type": "scatter3d",
         "x": [
          -2.0373008251190186,
          -2.0542290210723877,
          2.667188882827759,
          -1.0785070657730103,
          -0.8485292792320251,
          -0.916820764541626
         ],
         "y": [
          3.1354410648345947,
          3.1383416652679443,
          3.9317069053649902,
          2.184824228286743,
          -1.4103116989135742,
          -1.5185883045196533
         ],
         "z": [
          1.2490599155426025,
          1.2539687156677246,
          2.0825607776641846,
          0.22032292187213898,
          0.861754298210144,
          0.6574711203575134
         ]
        },
        {
         "hovertemplate": "color=Papio<br>x=%{x}<br>y=%{y}<br>z=%{z}<extra></extra>",
         "legendgroup": "Papio",
         "marker": {
          "color": "#EF553B",
          "symbol": "circle"
         },
         "mode": "markers",
         "name": "Papio",
         "scene": "scene",
         "showlegend": true,
         "type": "scatter3d",
         "x": [
          -1.4129809141159058,
          -1.1029103994369507,
          -0.5358489751815796,
          -0.37949660420417786,
          -0.6340190768241882,
          -0.4944515526294708,
          -0.3512924313545227,
          -0.5099934935569763,
          -0.7155619859695435
         ],
         "y": [
          2.283951997756958,
          2.191457748413086,
          2.000474452972412,
          1.8766415119171143,
          1.9970300197601318,
          1.9889041185379028,
          1.9401746988296509,
          1.949015498161316,
          -1.5402511358261108
         ],
         "z": [
          -0.2312556505203247,
          -0.29268017411231995,
          -0.0809667557477951,
          -0.2519993782043457,
          -0.26554855704307556,
          0.0023803794756531715,
          0.271911084651947,
          -0.388094961643219,
          0.6932927370071411
         ]
        },
        {
         "hovertemplate": "color=Nasalis<br>x=%{x}<br>y=%{y}<br>z=%{z}<extra></extra>",
         "legendgroup": "Nasalis",
         "marker": {
          "color": "#00cc96",
          "symbol": "circle"
         },
         "mode": "markers",
         "name": "Nasalis",
         "scene": "scene",
         "showlegend": true,
         "type": "scatter3d",
         "x": [
          0.20627349615097046,
          0.9502537846565247,
          1.179883360862732,
          1.7728946208953857,
          -0.06646165251731873,
          -0.14969415962696075,
          -0.12606234848499298,
          0.036976058036088943,
          -0.019744182005524635
         ],
         "y": [
          1.7858952283859253,
          1.8919962644577026,
          1.7940609455108643,
          1.7174410820007324,
          1.752231478691101,
          1.7778581380844116,
          1.733728051185608,
          1.7136309146881104,
          1.610221266746521
         ],
         "z": [
          0.964631974697113,
          1.157362699508667,
          1.2462272644042969,
          1.3606128692626953,
          0.8925594091415405,
          0.837820291519165,
          0.9053885340690613,
          0.9461163878440857,
          0.9762962460517883
         ]
        },
        {
         "hovertemplate": "color=Symphalangus<br>x=%{x}<br>y=%{y}<br>z=%{z}<extra></extra>",
         "legendgroup": "Symphalangus",
         "marker": {
          "color": "#ab63fa",
          "symbol": "circle"
         },
         "mode": "markers",
         "name": "Symphalangus",
         "scene": "scene",
         "showlegend": true,
         "type": "scatter3d",
         "x": [
          -0.285102903842926,
          -0.6774467825889587
         ],
         "y": [
          -0.9639912247657776,
          -0.47565245628356934
         ],
         "z": [
          1.6512295007705688,
          1.8881351947784424
         ]
        },
        {
         "hovertemplate": "color=Hylobates<br>x=%{x}<br>y=%{y}<br>z=%{z}<extra></extra>",
         "legendgroup": "Hylobates",
         "marker": {
          "color": "#FFA15A",
          "symbol": "circle"
         },
         "mode": "markers",
         "name": "Hylobates",
         "scene": "scene",
         "showlegend": true,
         "type": "scatter3d",
         "x": [
          -0.36454370617866516,
          -0.07941331714391708,
          0.34365808963775635,
          0.07241170108318329,
          0.3605118989944458,
          0.2155091017484665,
          0.4135689437389374,
          0.42894676327705383,
          0.28388574719429016,
          0.649151623249054,
          0.5530083179473877,
          -2.737640619277954,
          -2.9057857990264893,
          -2.9387617111206055,
          -3.009584665298462,
          -2.9525845050811768,
          -2.978581428527832,
          -2.9156429767608643
         ],
         "y": [
          -0.46545660495758057,
          -0.668869137763977,
          -1.4110108613967896,
          -0.941366970539093,
          -1.4614413976669312,
          -0.9687504768371582,
          -2.1346259117126465,
          -1.2339229583740234,
          -1.1313287019729614,
          -1.6022557020187378,
          -1.7162256240844727,
          1.8945945501327515,
          1.7973140478134155,
          1.6697121858596802,
          1.7372294664382935,
          1.6402593851089478,
          1.4767431020736694,
          1.4747909307479858
         ],
         "z": [
          2.1684796810150146,
          2.180292844772339,
          2.344278335571289,
          1.924881935119629,
          1.8789616823196411,
          2.243298053741455,
          3.0702786445617676,
          1.8692883253097534,
          1.9145435094833374,
          2.2467777729034424,
          2.015429973602295,
          -1.1543337106704712,
          -1.1850063800811768,
          -1.1428914070129395,
          -0.936881959438324,
          -1.0081855058670044,
          -1.1233267784118652,
          -1.0753424167633057
         ]
        },
        {
         "hovertemplate": "color=Pongo<br>x=%{x}<br>y=%{y}<br>z=%{z}<extra></extra>",
         "legendgroup": "Pongo",
         "marker": {
          "color": "#19d3f3",
          "symbol": "circle"
         },
         "mode": "markers",
         "name": "Pongo",
         "scene": "scene",
         "showlegend": true,
         "type": "scatter3d",
         "x": [
          -4.144425392150879,
          -2.2851603031158447
         ],
         "y": [
          -2.1214702129364014,
          2.7549495697021484
         ],
         "z": [
          2.141718626022339,
          0.178935706615448
         ]
        },
        {
         "hovertemplate": "color=Pan<br>x=%{x}<br>y=%{y}<br>z=%{z}<extra></extra>",
         "legendgroup": "Pan",
         "marker": {
          "color": "#FF6692",
          "symbol": "circle"
         },
         "mode": "markers",
         "name": "Pan",
         "scene": "scene",
         "showlegend": true,
         "type": "scatter3d",
         "x": [
          -4.296156406402588,
          -3.9756033420562744,
          -3.933774709701538,
          -3.629251718521118,
          -4.0770463943481445,
          -3.824918508529663,
          -3.5637705326080322,
          -3.949810028076172,
          -4.319692611694336,
          -4.196303844451904,
          -4.267042636871338,
          -4.236098766326904
         ],
         "y": [
          -2.084052324295044,
          -2.474242925643921,
          -2.525481939315796,
          -2.379997491836548,
          -2.41420578956604,
          -2.2247354984283447,
          -2.353238582611084,
          -2.227994918823242,
          -2.452711582183838,
          -2.24100399017334,
          -2.361375093460083,
          -2.5251340866088867
         ],
         "z": [
          2.097017526626587,
          1.9126607179641724,
          2.0507423877716064,
          1.9348931312561035,
          1.8580719232559204,
          1.9914021492004395,
          1.904119610786438,
          1.8653976917266846,
          2.133347511291504,
          2.2471556663513184,
          2.4475598335266113,
          2.3303656578063965
         ]
        },
        {
         "hovertemplate": "color=Gorilla<br>x=%{x}<br>y=%{y}<br>z=%{z}<extra></extra>",
         "legendgroup": "Gorilla",
         "marker": {
          "color": "#B6E880",
          "symbol": "circle"
         },
         "mode": "markers",
         "name": "Gorilla",
         "scene": "scene",
         "showlegend": true,
         "type": "scatter3d",
         "x": [
          -4.875297546386719,
          -4.909736633300781,
          -4.739184379577637,
          -4.940290927886963,
          -4.804561614990234,
          -4.766472816467285
         ],
         "y": [
          -2.0833351612091064,
          -2.234471559524536,
          -2.2042622566223145,
          -2.1788876056671143,
          -2.710685968399048,
          -2.563904047012329
         ],
         "z": [
          1.7173763513565063,
          1.9596022367477417,
          1.8122878074645996,
          1.680894374847412,
          2.097607374191284,
          2.173375129699707
         ]
        }
       ],
       "layout": {
        "legend": {
         "title": {
          "text": "color"
         },
         "tracegroupgap": 0
        },
        "margin": {
         "b": 0,
         "l": 0,
         "r": 0,
         "t": 0
        },
        "scene": {
         "domain": {
          "x": [
           0,
           1
          ],
          "y": [
           0,
           1
          ]
         },
         "xaxis": {
          "title": {
           "text": "x"
          }
         },
         "yaxis": {
          "title": {
           "text": "y"
          }
         },
         "zaxis": {
          "title": {
           "text": "z"
          }
         }
        },
        "template": {
         "data": {
          "bar": [
           {
            "error_x": {
             "color": "#2a3f5f"
            },
            "error_y": {
             "color": "#2a3f5f"
            },
            "marker": {
             "line": {
              "color": "#E5ECF6",
              "width": 0.5
             },
             "pattern": {
              "fillmode": "overlay",
              "size": 10,
              "solidity": 0.2
             }
            },
            "type": "bar"
           }
          ],
          "barpolar": [
           {
            "marker": {
             "line": {
              "color": "#E5ECF6",
              "width": 0.5
             },
             "pattern": {
              "fillmode": "overlay",
              "size": 10,
              "solidity": 0.2
             }
            },
            "type": "barpolar"
           }
          ],
          "carpet": [
           {
            "aaxis": {
             "endlinecolor": "#2a3f5f",
             "gridcolor": "white",
             "linecolor": "white",
             "minorgridcolor": "white",
             "startlinecolor": "#2a3f5f"
            },
            "baxis": {
             "endlinecolor": "#2a3f5f",
             "gridcolor": "white",
             "linecolor": "white",
             "minorgridcolor": "white",
             "startlinecolor": "#2a3f5f"
            },
            "type": "carpet"
           }
          ],
          "choropleth": [
           {
            "colorbar": {
             "outlinewidth": 0,
             "ticks": ""
            },
            "type": "choropleth"
           }
          ],
          "contour": [
           {
            "colorbar": {
             "outlinewidth": 0,
             "ticks": ""
            },
            "colorscale": [
             [
              0,
              "#0d0887"
             ],
             [
              0.1111111111111111,
              "#46039f"
             ],
             [
              0.2222222222222222,
              "#7201a8"
             ],
             [
              0.3333333333333333,
              "#9c179e"
             ],
             [
              0.4444444444444444,
              "#bd3786"
             ],
             [
              0.5555555555555556,
              "#d8576b"
             ],
             [
              0.6666666666666666,
              "#ed7953"
             ],
             [
              0.7777777777777778,
              "#fb9f3a"
             ],
             [
              0.8888888888888888,
              "#fdca26"
             ],
             [
              1,
              "#f0f921"
             ]
            ],
            "type": "contour"
           }
          ],
          "contourcarpet": [
           {
            "colorbar": {
             "outlinewidth": 0,
             "ticks": ""
            },
            "type": "contourcarpet"
           }
          ],
          "heatmap": [
           {
            "colorbar": {
             "outlinewidth": 0,
             "ticks": ""
            },
            "colorscale": [
             [
              0,
              "#0d0887"
             ],
             [
              0.1111111111111111,
              "#46039f"
             ],
             [
              0.2222222222222222,
              "#7201a8"
             ],
             [
              0.3333333333333333,
              "#9c179e"
             ],
             [
              0.4444444444444444,
              "#bd3786"
             ],
             [
              0.5555555555555556,
              "#d8576b"
             ],
             [
              0.6666666666666666,
              "#ed7953"
             ],
             [
              0.7777777777777778,
              "#fb9f3a"
             ],
             [
              0.8888888888888888,
              "#fdca26"
             ],
             [
              1,
              "#f0f921"
             ]
            ],
            "type": "heatmap"
           }
          ],
          "heatmapgl": [
           {
            "colorbar": {
             "outlinewidth": 0,
             "ticks": ""
            },
            "colorscale": [
             [
              0,
              "#0d0887"
             ],
             [
              0.1111111111111111,
              "#46039f"
             ],
             [
              0.2222222222222222,
              "#7201a8"
             ],
             [
              0.3333333333333333,
              "#9c179e"
             ],
             [
              0.4444444444444444,
              "#bd3786"
             ],
             [
              0.5555555555555556,
              "#d8576b"
             ],
             [
              0.6666666666666666,
              "#ed7953"
             ],
             [
              0.7777777777777778,
              "#fb9f3a"
             ],
             [
              0.8888888888888888,
              "#fdca26"
             ],
             [
              1,
              "#f0f921"
             ]
            ],
            "type": "heatmapgl"
           }
          ],
          "histogram": [
           {
            "marker": {
             "pattern": {
              "fillmode": "overlay",
              "size": 10,
              "solidity": 0.2
             }
            },
            "type": "histogram"
           }
          ],
          "histogram2d": [
           {
            "colorbar": {
             "outlinewidth": 0,
             "ticks": ""
            },
            "colorscale": [
             [
              0,
              "#0d0887"
             ],
             [
              0.1111111111111111,
              "#46039f"
             ],
             [
              0.2222222222222222,
              "#7201a8"
             ],
             [
              0.3333333333333333,
              "#9c179e"
             ],
             [
              0.4444444444444444,
              "#bd3786"
             ],
             [
              0.5555555555555556,
              "#d8576b"
             ],
             [
              0.6666666666666666,
              "#ed7953"
             ],
             [
              0.7777777777777778,
              "#fb9f3a"
             ],
             [
              0.8888888888888888,
              "#fdca26"
             ],
             [
              1,
              "#f0f921"
             ]
            ],
            "type": "histogram2d"
           }
          ],
          "histogram2dcontour": [
           {
            "colorbar": {
             "outlinewidth": 0,
             "ticks": ""
            },
            "colorscale": [
             [
              0,
              "#0d0887"
             ],
             [
              0.1111111111111111,
              "#46039f"
             ],
             [
              0.2222222222222222,
              "#7201a8"
             ],
             [
              0.3333333333333333,
              "#9c179e"
             ],
             [
              0.4444444444444444,
              "#bd3786"
             ],
             [
              0.5555555555555556,
              "#d8576b"
             ],
             [
              0.6666666666666666,
              "#ed7953"
             ],
             [
              0.7777777777777778,
              "#fb9f3a"
             ],
             [
              0.8888888888888888,
              "#fdca26"
             ],
             [
              1,
              "#f0f921"
             ]
            ],
            "type": "histogram2dcontour"
           }
          ],
          "mesh3d": [
           {
            "colorbar": {
             "outlinewidth": 0,
             "ticks": ""
            },
            "type": "mesh3d"
           }
          ],
          "parcoords": [
           {
            "line": {
             "colorbar": {
              "outlinewidth": 0,
              "ticks": ""
             }
            },
            "type": "parcoords"
           }
          ],
          "pie": [
           {
            "automargin": true,
            "type": "pie"
           }
          ],
          "scatter": [
           {
            "marker": {
             "colorbar": {
              "outlinewidth": 0,
              "ticks": ""
             }
            },
            "type": "scatter"
           }
          ],
          "scatter3d": [
           {
            "line": {
             "colorbar": {
              "outlinewidth": 0,
              "ticks": ""
             }
            },
            "marker": {
             "colorbar": {
              "outlinewidth": 0,
              "ticks": ""
             }
            },
            "type": "scatter3d"
           }
          ],
          "scattercarpet": [
           {
            "marker": {
             "colorbar": {
              "outlinewidth": 0,
              "ticks": ""
             }
            },
            "type": "scattercarpet"
           }
          ],
          "scattergeo": [
           {
            "marker": {
             "colorbar": {
              "outlinewidth": 0,
              "ticks": ""
             }
            },
            "type": "scattergeo"
           }
          ],
          "scattergl": [
           {
            "marker": {
             "colorbar": {
              "outlinewidth": 0,
              "ticks": ""
             }
            },
            "type": "scattergl"
           }
          ],
          "scattermapbox": [
           {
            "marker": {
             "colorbar": {
              "outlinewidth": 0,
              "ticks": ""
             }
            },
            "type": "scattermapbox"
           }
          ],
          "scatterpolar": [
           {
            "marker": {
             "colorbar": {
              "outlinewidth": 0,
              "ticks": ""
             }
            },
            "type": "scatterpolar"
           }
          ],
          "scatterpolargl": [
           {
            "marker": {
             "colorbar": {
              "outlinewidth": 0,
              "ticks": ""
             }
            },
            "type": "scatterpolargl"
           }
          ],
          "scatterternary": [
           {
            "marker": {
             "colorbar": {
              "outlinewidth": 0,
              "ticks": ""
             }
            },
            "type": "scatterternary"
           }
          ],
          "surface": [
           {
            "colorbar": {
             "outlinewidth": 0,
             "ticks": ""
            },
            "colorscale": [
             [
              0,
              "#0d0887"
             ],
             [
              0.1111111111111111,
              "#46039f"
             ],
             [
              0.2222222222222222,
              "#7201a8"
             ],
             [
              0.3333333333333333,
              "#9c179e"
             ],
             [
              0.4444444444444444,
              "#bd3786"
             ],
             [
              0.5555555555555556,
              "#d8576b"
             ],
             [
              0.6666666666666666,
              "#ed7953"
             ],
             [
              0.7777777777777778,
              "#fb9f3a"
             ],
             [
              0.8888888888888888,
              "#fdca26"
             ],
             [
              1,
              "#f0f921"
             ]
            ],
            "type": "surface"
           }
          ],
          "table": [
           {
            "cells": {
             "fill": {
              "color": "#EBF0F8"
             },
             "line": {
              "color": "white"
             }
            },
            "header": {
             "fill": {
              "color": "#C8D4E3"
             },
             "line": {
              "color": "white"
             }
            },
            "type": "table"
           }
          ]
         },
         "layout": {
          "annotationdefaults": {
           "arrowcolor": "#2a3f5f",
           "arrowhead": 0,
           "arrowwidth": 1
          },
          "autotypenumbers": "strict",
          "coloraxis": {
           "colorbar": {
            "outlinewidth": 0,
            "ticks": ""
           }
          },
          "colorscale": {
           "diverging": [
            [
             0,
             "#8e0152"
            ],
            [
             0.1,
             "#c51b7d"
            ],
            [
             0.2,
             "#de77ae"
            ],
            [
             0.3,
             "#f1b6da"
            ],
            [
             0.4,
             "#fde0ef"
            ],
            [
             0.5,
             "#f7f7f7"
            ],
            [
             0.6,
             "#e6f5d0"
            ],
            [
             0.7,
             "#b8e186"
            ],
            [
             0.8,
             "#7fbc41"
            ],
            [
             0.9,
             "#4d9221"
            ],
            [
             1,
             "#276419"
            ]
           ],
           "sequential": [
            [
             0,
             "#0d0887"
            ],
            [
             0.1111111111111111,
             "#46039f"
            ],
            [
             0.2222222222222222,
             "#7201a8"
            ],
            [
             0.3333333333333333,
             "#9c179e"
            ],
            [
             0.4444444444444444,
             "#bd3786"
            ],
            [
             0.5555555555555556,
             "#d8576b"
            ],
            [
             0.6666666666666666,
             "#ed7953"
            ],
            [
             0.7777777777777778,
             "#fb9f3a"
            ],
            [
             0.8888888888888888,
             "#fdca26"
            ],
            [
             1,
             "#f0f921"
            ]
           ],
           "sequentialminus": [
            [
             0,
             "#0d0887"
            ],
            [
             0.1111111111111111,
             "#46039f"
            ],
            [
             0.2222222222222222,
             "#7201a8"
            ],
            [
             0.3333333333333333,
             "#9c179e"
            ],
            [
             0.4444444444444444,
             "#bd3786"
            ],
            [
             0.5555555555555556,
             "#d8576b"
            ],
            [
             0.6666666666666666,
             "#ed7953"
            ],
            [
             0.7777777777777778,
             "#fb9f3a"
            ],
            [
             0.8888888888888888,
             "#fdca26"
            ],
            [
             1,
             "#f0f921"
            ]
           ]
          },
          "colorway": [
           "#636efa",
           "#EF553B",
           "#00cc96",
           "#ab63fa",
           "#FFA15A",
           "#19d3f3",
           "#FF6692",
           "#B6E880",
           "#FF97FF",
           "#FECB52"
          ],
          "font": {
           "color": "#2a3f5f"
          },
          "geo": {
           "bgcolor": "white",
           "lakecolor": "white",
           "landcolor": "#E5ECF6",
           "showlakes": true,
           "showland": true,
           "subunitcolor": "white"
          },
          "hoverlabel": {
           "align": "left"
          },
          "hovermode": "closest",
          "mapbox": {
           "style": "light"
          },
          "paper_bgcolor": "white",
          "plot_bgcolor": "#E5ECF6",
          "polar": {
           "angularaxis": {
            "gridcolor": "white",
            "linecolor": "white",
            "ticks": ""
           },
           "bgcolor": "#E5ECF6",
           "radialaxis": {
            "gridcolor": "white",
            "linecolor": "white",
            "ticks": ""
           }
          },
          "scene": {
           "xaxis": {
            "backgroundcolor": "#E5ECF6",
            "gridcolor": "white",
            "gridwidth": 2,
            "linecolor": "white",
            "showbackground": true,
            "ticks": "",
            "zerolinecolor": "white"
           },
           "yaxis": {
            "backgroundcolor": "#E5ECF6",
            "gridcolor": "white",
            "gridwidth": 2,
            "linecolor": "white",
            "showbackground": true,
            "ticks": "",
            "zerolinecolor": "white"
           },
           "zaxis": {
            "backgroundcolor": "#E5ECF6",
            "gridcolor": "white",
            "gridwidth": 2,
            "linecolor": "white",
            "showbackground": true,
            "ticks": "",
            "zerolinecolor": "white"
           }
          },
          "shapedefaults": {
           "line": {
            "color": "#2a3f5f"
           }
          },
          "ternary": {
           "aaxis": {
            "gridcolor": "white",
            "linecolor": "white",
            "ticks": ""
           },
           "baxis": {
            "gridcolor": "white",
            "linecolor": "white",
            "ticks": ""
           },
           "bgcolor": "#E5ECF6",
           "caxis": {
            "gridcolor": "white",
            "linecolor": "white",
            "ticks": ""
           }
          },
          "title": {
           "x": 0.05
          },
          "xaxis": {
           "automargin": true,
           "gridcolor": "white",
           "linecolor": "white",
           "ticks": "",
           "title": {
            "standoff": 15
           },
           "zerolinecolor": "white",
           "zerolinewidth": 2
          },
          "yaxis": {
           "automargin": true,
           "gridcolor": "white",
           "linecolor": "white",
           "ticks": "",
           "title": {
            "standoff": 15
           },
           "zerolinecolor": "white",
           "zerolinewidth": 2
          }
         }
        },
        "title": {
         "text": "3D t-SNE visualization"
        }
       }
      },
      "text/html": [
       "<div>                            <div id=\"2d4cb1ea-5116-4aee-bc19-3a5fb50ab41a\" class=\"plotly-graph-div\" style=\"height:525px; width:100%;\"></div>            <script type=\"text/javascript\">                require([\"plotly\"], function(Plotly) {                    window.PLOTLYENV=window.PLOTLYENV || {};                                    if (document.getElementById(\"2d4cb1ea-5116-4aee-bc19-3a5fb50ab41a\")) {                    Plotly.newPlot(                        \"2d4cb1ea-5116-4aee-bc19-3a5fb50ab41a\",                        [{\"hovertemplate\":\"color=Presbytis<br>x=%{x}<br>y=%{y}<br>z=%{z}<extra></extra>\",\"legendgroup\":\"Presbytis\",\"marker\":{\"color\":\"#636efa\",\"symbol\":\"circle\"},\"mode\":\"markers\",\"name\":\"Presbytis\",\"scene\":\"scene\",\"showlegend\":true,\"x\":[6.606507778167725,7.130660057067871,6.947509288787842,7.024190425872803,6.43961763381958,-3.3348324298858643,-3.375565528869629,-3.313793659210205,-3.1403543949127197,-3.056025266647339,-3.1895864009857178,-3.3579862117767334,-3.497030019760132],\"y\":[0.5957826375961304,0.7471973299980164,0.4701696038246155,0.7691675424575806,0.6750195026397705,-0.210525780916214,-0.4834035336971283,-0.38236552476882935,-0.5757009387016296,-0.483216255903244,-0.2717640995979309,-0.544074535369873,-0.7064713835716248],\"z\":[0.7215279936790466,0.9237288236618042,1.0532035827636719,0.7591264247894287,1.3014435768127441,-1.3298283815383911,-1.138886570930481,-1.5470974445343018,-1.1534734964370728,-1.5019924640655518,-1.3188613653182983,-1.1603456735610962,-1.3104896545410156],\"type\":\"scatter3d\"},{\"hovertemplate\":\"color=Cercopithecus<br>x=%{x}<br>y=%{y}<br>z=%{z}<extra></extra>\",\"legendgroup\":\"Cercopithecus\",\"marker\":{\"color\":\"#EF553B\",\"symbol\":\"circle\"},\"mode\":\"markers\",\"name\":\"Cercopithecus\",\"scene\":\"scene\",\"showlegend\":true,\"x\":[6.492613792419434,6.368019104003906,6.683209419250488,6.659628868103027,6.599498748779297,6.980906009674072,6.924691677093506,6.64163064956665,6.977196216583252,6.843776702880859],\"y\":[0.500079870223999,0.5927926301956177,0.4180229604244232,0.9145186543464661,0.9920152425765991,0.8118271231651306,0.5416481494903564,0.7739791870117188,0.9874401688575745,1.2939432859420776],\"z\":[0.8970407247543335,0.8563823103904724,1.1029363870620728,0.6647481918334961,0.7074207663536072,1.400309443473816,1.2914432287216187,1.4624651670455933,0.7629798054695129,0.9815056324005127],\"type\":\"scatter3d\"},{\"hovertemplate\":\"color=Miopithecus<br>x=%{x}<br>y=%{y}<br>z=%{z}<extra></extra>\",\"legendgroup\":\"Miopithecus\",\"marker\":{\"color\":\"#00cc96\",\"symbol\":\"circle\"},\"mode\":\"markers\",\"name\":\"Miopithecus\",\"scene\":\"scene\",\"showlegend\":true,\"x\":[6.372422695159912,6.333598613739014,6.8446044921875,6.570054531097412,6.657009124755859],\"y\":[1.2589150667190552,1.1146469116210938,1.2903454303741455,1.3581956624984741,1.4016406536102295],\"z\":[1.153965950012207,1.291309118270874,1.4371485710144043,1.433027982711792,1.2196742296218872],\"type\":\"scatter3d\"},{\"hovertemplate\":\"color=Lophocebus<br>x=%{x}<br>y=%{y}<br>z=%{z}<extra></extra>\",\"legendgroup\":\"Lophocebus\",\"marker\":{\"color\":\"#ab63fa\",\"symbol\":\"circle\"},\"mode\":\"markers\",\"name\":\"Lophocebus\",\"scene\":\"scene\",\"showlegend\":true,\"x\":[4.666571617126465,4.463443279266357,4.607178688049316,4.530824184417725,7.1788835525512695,4.164746284484863],\"y\":[3.091308116912842,3.0505740642547607,3.119851589202881,3.154545783996582,0.9335595965385437,3.0423583984375],\"z\":[2.0594115257263184,2.038426160812378,2.0823936462402344,2.0898125171661377,1.1837823390960693,1.9828490018844604],\"type\":\"scatter3d\"},{\"hovertemplate\":\"color=Colobus<br>x=%{x}<br>y=%{y}<br>z=%{z}<extra></extra>\",\"legendgroup\":\"Colobus\",\"marker\":{\"color\":\"#FFA15A\",\"symbol\":\"circle\"},\"mode\":\"markers\",\"name\":\"Colobus\",\"scene\":\"scene\",\"showlegend\":true,\"x\":[-3.0209872722625732,-3.276646852493286,-3.476935386657715,-3.0698511600494385,-3.0410451889038086,-3.599479913711548,-2.7722980976104736,-3.1421265602111816,-3.4726109504699707,-3.3222901821136475,2.553147554397583,2.806628465652466,2.7292215824127197,2.6638588905334473,2.8955721855163574,3.126192808151245,3.255368947982788,3.518221855163574,3.8149709701538086,4.427865982055664],\"y\":[-0.611335039138794,-1.0860220193862915,-1.0583168268203735,-0.9439737200737,-0.8744914531707764,-0.7635160088539124,-1.0572290420532227,-1.050191879272461,-0.6907199025154114,-0.9215362668037415,2.1001060009002686,2.623584747314453,2.3434383869171143,2.1404945850372314,1.957018256187439,2.650277853012085,2.1999850273132324,2.400350570678711,2.584799289703369,2.738377571105957],\"z\":[-1.718132734298706,-1.2455589771270752,-1.3421419858932495,-1.3408019542694092,-1.7029588222503662,-1.6218153238296509,-1.3811157941818237,-1.5432829856872559,-1.6098270416259766,-1.7300933599472046,1.2073248624801636,1.333857536315918,1.1866995096206665,1.7037267684936523,1.6893502473831177,1.5631518363952637,1.849829077720642,1.6470530033111572,1.9114478826522827,1.946216344833374],\"type\":\"scatter3d\"},{\"hovertemplate\":\"color=Erythrocebus<br>x=%{x}<br>y=%{y}<br>z=%{z}<extra></extra>\",\"legendgroup\":\"Erythrocebus\",\"marker\":{\"color\":\"#19d3f3\",\"symbol\":\"circle\"},\"mode\":\"markers\",\"name\":\"Erythrocebus\",\"scene\":\"scene\",\"showlegend\":true,\"x\":[-0.667517364025116,-0.5861485600471497,-0.6451327204704285,-0.21100807189941406],\"y\":[-1.0748740434646606,-1.1609244346618652,-1.6104755401611328,-1.7718045711517334],\"z\":[1.624725103378296,2.165964126586914,1.5090701580047607,1.3654226064682007],\"type\":\"scatter3d\"},{\"hovertemplate\":\"color=Macaca<br>x=%{x}<br>y=%{y}<br>z=%{z}<extra></extra>\",\"legendgroup\":\"Macaca\",\"marker\":{\"color\":\"#FF6692\",\"symbol\":\"circle\"},\"mode\":\"markers\",\"name\":\"Macaca\",\"scene\":\"scene\",\"showlegend\":true,\"x\":[-0.3991914391517639,-0.14300638437271118,-0.6293728947639465,-0.3547053337097168,0.030593372881412506,-0.7022908926010132,0.0813862606883049,-0.47733673453330994,-0.4728592038154602,-0.8407926559448242,-0.20352508127689362,-0.8660365343093872,0.14003713428974152,-0.11579761654138565,-0.15511097013950348],\"y\":[-0.9374655485153198,-1.8798941373825073,-0.9081891775131226,-1.279748558998108,-1.3189090490341187,-1.30513334274292,-1.2287710905075073,-1.44417405128479,-1.5806288719177246,-2.409271478652954,-2.0750014781951904,-1.62406325340271,-1.8534204959869385,-2.0023486614227295,-1.7774503231048584],\"z\":[2.8933768272399902,3.1098690032958984,2.6516010761260986,2.7414233684539795,2.895022392272949,2.322969913482666,2.889141082763672,2.6312856674194336,1.8982399702072144,3.2178897857666016,2.150134801864624,1.7774596214294434,2.422746419906616,2.1825320720672607,1.693042278289795],\"type\":\"scatter3d\"},{\"hovertemplate\":\"color=Trachypithecus<br>x=%{x}<br>y=%{y}<br>z=%{z}<extra></extra>\",\"legendgroup\":\"Trachypithecus\",\"marker\":{\"color\":\"#B6E880\",\"symbol\":\"circle\"},\"mode\":\"markers\",\"name\":\"Trachypithecus\",\"scene\":\"scene\",\"showlegend\":true,\"x\":[1.3792154788970947,1.6442897319793701,1.8747732639312744,1.9286670684814453,1.9611424207687378,1.8434298038482666,2.111600160598755,2.455530881881714,2.169542074203491,2.790379285812378,-2.720813274383545,-2.6936511993408203,-2.7513718605041504,-2.5885307788848877,-2.781628131866455,-2.6599769592285156,-2.5532402992248535,-2.6698389053344727],\"y\":[2.7494490146636963,2.482048749923706,2.6722891330718994,2.7728188037872314,2.5120127201080322,2.6129672527313232,2.3498311042785645,2.5087509155273438,2.1048460006713867,2.6254994869232178,2.2809383869171143,2.302316904067993,2.3642890453338623,2.126849412918091,2.062037467956543,2.140489339828491,1.9459319114685059,1.6857491731643677],\"z\":[1.3680113554000854,1.4758554697036743,1.349240779876709,1.4878021478652954,1.2595523595809937,1.597211480140686,1.696999192237854,1.8130958080291748,1.6144490242004395,1.831183671951294,-0.6850385665893555,-0.7166780829429626,-0.9346272945404053,-0.8077166676521301,-0.7284954190254211,-0.8489575982093811,-0.9461637735366821,-0.8507511615753174],\"type\":\"scatter3d\"},{\"hovertemplate\":\"color=Cercocebus<br>x=%{x}<br>y=%{y}<br>z=%{z}<extra></extra>\",\"legendgroup\":\"Cercocebus\",\"marker\":{\"color\":\"#FF97FF\",\"symbol\":\"circle\"},\"mode\":\"markers\",\"name\":\"Cercocebus\",\"scene\":\"scene\",\"showlegend\":true,\"x\":[-44.99726867675781,3.2702476978302,3.6078851222991943,4.220189094543457,3.5176258087158203,4.553872108459473,3.770176649093628,3.426839590072632,3.6938605308532715],\"y\":[2.878274440765381,1.7823123931884766,1.8815637826919556,2.2849342823028564,1.7525235414505005,2.561708927154541,1.9018168449401855,1.8422634601593018,1.9110220670700073],\"z\":[5.469038486480713,1.2031203508377075,1.361838459968567,1.0558905601501465,1.357203722000122,1.4394252300262451,1.534722089767456,1.5935219526290894,1.449586033821106],\"type\":\"scatter3d\"},{\"hovertemplate\":\"color=Theropithecus<br>x=%{x}<br>y=%{y}<br>z=%{z}<extra></extra>\",\"legendgroup\":\"Theropithecus\",\"marker\":{\"color\":\"#FECB52\",\"symbol\":\"circle\"},\"mode\":\"markers\",\"name\":\"Theropithecus\",\"scene\":\"scene\",\"showlegend\":true,\"x\":[-2.046233654022217],\"y\":[3.130636215209961],\"z\":[1.237209677696228],\"type\":\"scatter3d\"},{\"hovertemplate\":\"color=Mandrillus<br>x=%{x}<br>y=%{y}<br>z=%{z}<extra></extra>\",\"legendgroup\":\"Mandrillus\",\"marker\":{\"color\":\"#636efa\",\"symbol\":\"circle\"},\"mode\":\"markers\",\"name\":\"Mandrillus\",\"scene\":\"scene\",\"showlegend\":true,\"x\":[-2.0373008251190186,-2.0542290210723877,2.667188882827759,-1.0785070657730103,-0.8485292792320251,-0.916820764541626],\"y\":[3.1354410648345947,3.1383416652679443,3.9317069053649902,2.184824228286743,-1.4103116989135742,-1.5185883045196533],\"z\":[1.2490599155426025,1.2539687156677246,2.0825607776641846,0.22032292187213898,0.861754298210144,0.6574711203575134],\"type\":\"scatter3d\"},{\"hovertemplate\":\"color=Papio<br>x=%{x}<br>y=%{y}<br>z=%{z}<extra></extra>\",\"legendgroup\":\"Papio\",\"marker\":{\"color\":\"#EF553B\",\"symbol\":\"circle\"},\"mode\":\"markers\",\"name\":\"Papio\",\"scene\":\"scene\",\"showlegend\":true,\"x\":[-1.4129809141159058,-1.1029103994369507,-0.5358489751815796,-0.37949660420417786,-0.6340190768241882,-0.4944515526294708,-0.3512924313545227,-0.5099934935569763,-0.7155619859695435],\"y\":[2.283951997756958,2.191457748413086,2.000474452972412,1.8766415119171143,1.9970300197601318,1.9889041185379028,1.9401746988296509,1.949015498161316,-1.5402511358261108],\"z\":[-0.2312556505203247,-0.29268017411231995,-0.0809667557477951,-0.2519993782043457,-0.26554855704307556,0.0023803794756531715,0.271911084651947,-0.388094961643219,0.6932927370071411],\"type\":\"scatter3d\"},{\"hovertemplate\":\"color=Nasalis<br>x=%{x}<br>y=%{y}<br>z=%{z}<extra></extra>\",\"legendgroup\":\"Nasalis\",\"marker\":{\"color\":\"#00cc96\",\"symbol\":\"circle\"},\"mode\":\"markers\",\"name\":\"Nasalis\",\"scene\":\"scene\",\"showlegend\":true,\"x\":[0.20627349615097046,0.9502537846565247,1.179883360862732,1.7728946208953857,-0.06646165251731873,-0.14969415962696075,-0.12606234848499298,0.036976058036088943,-0.019744182005524635],\"y\":[1.7858952283859253,1.8919962644577026,1.7940609455108643,1.7174410820007324,1.752231478691101,1.7778581380844116,1.733728051185608,1.7136309146881104,1.610221266746521],\"z\":[0.964631974697113,1.157362699508667,1.2462272644042969,1.3606128692626953,0.8925594091415405,0.837820291519165,0.9053885340690613,0.9461163878440857,0.9762962460517883],\"type\":\"scatter3d\"},{\"hovertemplate\":\"color=Symphalangus<br>x=%{x}<br>y=%{y}<br>z=%{z}<extra></extra>\",\"legendgroup\":\"Symphalangus\",\"marker\":{\"color\":\"#ab63fa\",\"symbol\":\"circle\"},\"mode\":\"markers\",\"name\":\"Symphalangus\",\"scene\":\"scene\",\"showlegend\":true,\"x\":[-0.285102903842926,-0.6774467825889587],\"y\":[-0.9639912247657776,-0.47565245628356934],\"z\":[1.6512295007705688,1.8881351947784424],\"type\":\"scatter3d\"},{\"hovertemplate\":\"color=Hylobates<br>x=%{x}<br>y=%{y}<br>z=%{z}<extra></extra>\",\"legendgroup\":\"Hylobates\",\"marker\":{\"color\":\"#FFA15A\",\"symbol\":\"circle\"},\"mode\":\"markers\",\"name\":\"Hylobates\",\"scene\":\"scene\",\"showlegend\":true,\"x\":[-0.36454370617866516,-0.07941331714391708,0.34365808963775635,0.07241170108318329,0.3605118989944458,0.2155091017484665,0.4135689437389374,0.42894676327705383,0.28388574719429016,0.649151623249054,0.5530083179473877,-2.737640619277954,-2.9057857990264893,-2.9387617111206055,-3.009584665298462,-2.9525845050811768,-2.978581428527832,-2.9156429767608643],\"y\":[-0.46545660495758057,-0.668869137763977,-1.4110108613967896,-0.941366970539093,-1.4614413976669312,-0.9687504768371582,-2.1346259117126465,-1.2339229583740234,-1.1313287019729614,-1.6022557020187378,-1.7162256240844727,1.8945945501327515,1.7973140478134155,1.6697121858596802,1.7372294664382935,1.6402593851089478,1.4767431020736694,1.4747909307479858],\"z\":[2.1684796810150146,2.180292844772339,2.344278335571289,1.924881935119629,1.8789616823196411,2.243298053741455,3.0702786445617676,1.8692883253097534,1.9145435094833374,2.2467777729034424,2.015429973602295,-1.1543337106704712,-1.1850063800811768,-1.1428914070129395,-0.936881959438324,-1.0081855058670044,-1.1233267784118652,-1.0753424167633057],\"type\":\"scatter3d\"},{\"hovertemplate\":\"color=Pongo<br>x=%{x}<br>y=%{y}<br>z=%{z}<extra></extra>\",\"legendgroup\":\"Pongo\",\"marker\":{\"color\":\"#19d3f3\",\"symbol\":\"circle\"},\"mode\":\"markers\",\"name\":\"Pongo\",\"scene\":\"scene\",\"showlegend\":true,\"x\":[-4.144425392150879,-2.2851603031158447],\"y\":[-2.1214702129364014,2.7549495697021484],\"z\":[2.141718626022339,0.178935706615448],\"type\":\"scatter3d\"},{\"hovertemplate\":\"color=Pan<br>x=%{x}<br>y=%{y}<br>z=%{z}<extra></extra>\",\"legendgroup\":\"Pan\",\"marker\":{\"color\":\"#FF6692\",\"symbol\":\"circle\"},\"mode\":\"markers\",\"name\":\"Pan\",\"scene\":\"scene\",\"showlegend\":true,\"x\":[-4.296156406402588,-3.9756033420562744,-3.933774709701538,-3.629251718521118,-4.0770463943481445,-3.824918508529663,-3.5637705326080322,-3.949810028076172,-4.319692611694336,-4.196303844451904,-4.267042636871338,-4.236098766326904],\"y\":[-2.084052324295044,-2.474242925643921,-2.525481939315796,-2.379997491836548,-2.41420578956604,-2.2247354984283447,-2.353238582611084,-2.227994918823242,-2.452711582183838,-2.24100399017334,-2.361375093460083,-2.5251340866088867],\"z\":[2.097017526626587,1.9126607179641724,2.0507423877716064,1.9348931312561035,1.8580719232559204,1.9914021492004395,1.904119610786438,1.8653976917266846,2.133347511291504,2.2471556663513184,2.4475598335266113,2.3303656578063965],\"type\":\"scatter3d\"},{\"hovertemplate\":\"color=Gorilla<br>x=%{x}<br>y=%{y}<br>z=%{z}<extra></extra>\",\"legendgroup\":\"Gorilla\",\"marker\":{\"color\":\"#B6E880\",\"symbol\":\"circle\"},\"mode\":\"markers\",\"name\":\"Gorilla\",\"scene\":\"scene\",\"showlegend\":true,\"x\":[-4.875297546386719,-4.909736633300781,-4.739184379577637,-4.940290927886963,-4.804561614990234,-4.766472816467285],\"y\":[-2.0833351612091064,-2.234471559524536,-2.2042622566223145,-2.1788876056671143,-2.710685968399048,-2.563904047012329],\"z\":[1.7173763513565063,1.9596022367477417,1.8122878074645996,1.680894374847412,2.097607374191284,2.173375129699707],\"type\":\"scatter3d\"}],                        {\"template\":{\"data\":{\"bar\":[{\"error_x\":{\"color\":\"#2a3f5f\"},\"error_y\":{\"color\":\"#2a3f5f\"},\"marker\":{\"line\":{\"color\":\"#E5ECF6\",\"width\":0.5},\"pattern\":{\"fillmode\":\"overlay\",\"size\":10,\"solidity\":0.2}},\"type\":\"bar\"}],\"barpolar\":[{\"marker\":{\"line\":{\"color\":\"#E5ECF6\",\"width\":0.5},\"pattern\":{\"fillmode\":\"overlay\",\"size\":10,\"solidity\":0.2}},\"type\":\"barpolar\"}],\"carpet\":[{\"aaxis\":{\"endlinecolor\":\"#2a3f5f\",\"gridcolor\":\"white\",\"linecolor\":\"white\",\"minorgridcolor\":\"white\",\"startlinecolor\":\"#2a3f5f\"},\"baxis\":{\"endlinecolor\":\"#2a3f5f\",\"gridcolor\":\"white\",\"linecolor\":\"white\",\"minorgridcolor\":\"white\",\"startlinecolor\":\"#2a3f5f\"},\"type\":\"carpet\"}],\"choropleth\":[{\"colorbar\":{\"outlinewidth\":0,\"ticks\":\"\"},\"type\":\"choropleth\"}],\"contour\":[{\"colorbar\":{\"outlinewidth\":0,\"ticks\":\"\"},\"colorscale\":[[0.0,\"#0d0887\"],[0.1111111111111111,\"#46039f\"],[0.2222222222222222,\"#7201a8\"],[0.3333333333333333,\"#9c179e\"],[0.4444444444444444,\"#bd3786\"],[0.5555555555555556,\"#d8576b\"],[0.6666666666666666,\"#ed7953\"],[0.7777777777777778,\"#fb9f3a\"],[0.8888888888888888,\"#fdca26\"],[1.0,\"#f0f921\"]],\"type\":\"contour\"}],\"contourcarpet\":[{\"colorbar\":{\"outlinewidth\":0,\"ticks\":\"\"},\"type\":\"contourcarpet\"}],\"heatmap\":[{\"colorbar\":{\"outlinewidth\":0,\"ticks\":\"\"},\"colorscale\":[[0.0,\"#0d0887\"],[0.1111111111111111,\"#46039f\"],[0.2222222222222222,\"#7201a8\"],[0.3333333333333333,\"#9c179e\"],[0.4444444444444444,\"#bd3786\"],[0.5555555555555556,\"#d8576b\"],[0.6666666666666666,\"#ed7953\"],[0.7777777777777778,\"#fb9f3a\"],[0.8888888888888888,\"#fdca26\"],[1.0,\"#f0f921\"]],\"type\":\"heatmap\"}],\"heatmapgl\":[{\"colorbar\":{\"outlinewidth\":0,\"ticks\":\"\"},\"colorscale\":[[0.0,\"#0d0887\"],[0.1111111111111111,\"#46039f\"],[0.2222222222222222,\"#7201a8\"],[0.3333333333333333,\"#9c179e\"],[0.4444444444444444,\"#bd3786\"],[0.5555555555555556,\"#d8576b\"],[0.6666666666666666,\"#ed7953\"],[0.7777777777777778,\"#fb9f3a\"],[0.8888888888888888,\"#fdca26\"],[1.0,\"#f0f921\"]],\"type\":\"heatmapgl\"}],\"histogram\":[{\"marker\":{\"pattern\":{\"fillmode\":\"overlay\",\"size\":10,\"solidity\":0.2}},\"type\":\"histogram\"}],\"histogram2d\":[{\"colorbar\":{\"outlinewidth\":0,\"ticks\":\"\"},\"colorscale\":[[0.0,\"#0d0887\"],[0.1111111111111111,\"#46039f\"],[0.2222222222222222,\"#7201a8\"],[0.3333333333333333,\"#9c179e\"],[0.4444444444444444,\"#bd3786\"],[0.5555555555555556,\"#d8576b\"],[0.6666666666666666,\"#ed7953\"],[0.7777777777777778,\"#fb9f3a\"],[0.8888888888888888,\"#fdca26\"],[1.0,\"#f0f921\"]],\"type\":\"histogram2d\"}],\"histogram2dcontour\":[{\"colorbar\":{\"outlinewidth\":0,\"ticks\":\"\"},\"colorscale\":[[0.0,\"#0d0887\"],[0.1111111111111111,\"#46039f\"],[0.2222222222222222,\"#7201a8\"],[0.3333333333333333,\"#9c179e\"],[0.4444444444444444,\"#bd3786\"],[0.5555555555555556,\"#d8576b\"],[0.6666666666666666,\"#ed7953\"],[0.7777777777777778,\"#fb9f3a\"],[0.8888888888888888,\"#fdca26\"],[1.0,\"#f0f921\"]],\"type\":\"histogram2dcontour\"}],\"mesh3d\":[{\"colorbar\":{\"outlinewidth\":0,\"ticks\":\"\"},\"type\":\"mesh3d\"}],\"parcoords\":[{\"line\":{\"colorbar\":{\"outlinewidth\":0,\"ticks\":\"\"}},\"type\":\"parcoords\"}],\"pie\":[{\"automargin\":true,\"type\":\"pie\"}],\"scatter\":[{\"marker\":{\"colorbar\":{\"outlinewidth\":0,\"ticks\":\"\"}},\"type\":\"scatter\"}],\"scatter3d\":[{\"line\":{\"colorbar\":{\"outlinewidth\":0,\"ticks\":\"\"}},\"marker\":{\"colorbar\":{\"outlinewidth\":0,\"ticks\":\"\"}},\"type\":\"scatter3d\"}],\"scattercarpet\":[{\"marker\":{\"colorbar\":{\"outlinewidth\":0,\"ticks\":\"\"}},\"type\":\"scattercarpet\"}],\"scattergeo\":[{\"marker\":{\"colorbar\":{\"outlinewidth\":0,\"ticks\":\"\"}},\"type\":\"scattergeo\"}],\"scattergl\":[{\"marker\":{\"colorbar\":{\"outlinewidth\":0,\"ticks\":\"\"}},\"type\":\"scattergl\"}],\"scattermapbox\":[{\"marker\":{\"colorbar\":{\"outlinewidth\":0,\"ticks\":\"\"}},\"type\":\"scattermapbox\"}],\"scatterpolar\":[{\"marker\":{\"colorbar\":{\"outlinewidth\":0,\"ticks\":\"\"}},\"type\":\"scatterpolar\"}],\"scatterpolargl\":[{\"marker\":{\"colorbar\":{\"outlinewidth\":0,\"ticks\":\"\"}},\"type\":\"scatterpolargl\"}],\"scatterternary\":[{\"marker\":{\"colorbar\":{\"outlinewidth\":0,\"ticks\":\"\"}},\"type\":\"scatterternary\"}],\"surface\":[{\"colorbar\":{\"outlinewidth\":0,\"ticks\":\"\"},\"colorscale\":[[0.0,\"#0d0887\"],[0.1111111111111111,\"#46039f\"],[0.2222222222222222,\"#7201a8\"],[0.3333333333333333,\"#9c179e\"],[0.4444444444444444,\"#bd3786\"],[0.5555555555555556,\"#d8576b\"],[0.6666666666666666,\"#ed7953\"],[0.7777777777777778,\"#fb9f3a\"],[0.8888888888888888,\"#fdca26\"],[1.0,\"#f0f921\"]],\"type\":\"surface\"}],\"table\":[{\"cells\":{\"fill\":{\"color\":\"#EBF0F8\"},\"line\":{\"color\":\"white\"}},\"header\":{\"fill\":{\"color\":\"#C8D4E3\"},\"line\":{\"color\":\"white\"}},\"type\":\"table\"}]},\"layout\":{\"annotationdefaults\":{\"arrowcolor\":\"#2a3f5f\",\"arrowhead\":0,\"arrowwidth\":1},\"autotypenumbers\":\"strict\",\"coloraxis\":{\"colorbar\":{\"outlinewidth\":0,\"ticks\":\"\"}},\"colorscale\":{\"diverging\":[[0,\"#8e0152\"],[0.1,\"#c51b7d\"],[0.2,\"#de77ae\"],[0.3,\"#f1b6da\"],[0.4,\"#fde0ef\"],[0.5,\"#f7f7f7\"],[0.6,\"#e6f5d0\"],[0.7,\"#b8e186\"],[0.8,\"#7fbc41\"],[0.9,\"#4d9221\"],[1,\"#276419\"]],\"sequential\":[[0.0,\"#0d0887\"],[0.1111111111111111,\"#46039f\"],[0.2222222222222222,\"#7201a8\"],[0.3333333333333333,\"#9c179e\"],[0.4444444444444444,\"#bd3786\"],[0.5555555555555556,\"#d8576b\"],[0.6666666666666666,\"#ed7953\"],[0.7777777777777778,\"#fb9f3a\"],[0.8888888888888888,\"#fdca26\"],[1.0,\"#f0f921\"]],\"sequentialminus\":[[0.0,\"#0d0887\"],[0.1111111111111111,\"#46039f\"],[0.2222222222222222,\"#7201a8\"],[0.3333333333333333,\"#9c179e\"],[0.4444444444444444,\"#bd3786\"],[0.5555555555555556,\"#d8576b\"],[0.6666666666666666,\"#ed7953\"],[0.7777777777777778,\"#fb9f3a\"],[0.8888888888888888,\"#fdca26\"],[1.0,\"#f0f921\"]]},\"colorway\":[\"#636efa\",\"#EF553B\",\"#00cc96\",\"#ab63fa\",\"#FFA15A\",\"#19d3f3\",\"#FF6692\",\"#B6E880\",\"#FF97FF\",\"#FECB52\"],\"font\":{\"color\":\"#2a3f5f\"},\"geo\":{\"bgcolor\":\"white\",\"lakecolor\":\"white\",\"landcolor\":\"#E5ECF6\",\"showlakes\":true,\"showland\":true,\"subunitcolor\":\"white\"},\"hoverlabel\":{\"align\":\"left\"},\"hovermode\":\"closest\",\"mapbox\":{\"style\":\"light\"},\"paper_bgcolor\":\"white\",\"plot_bgcolor\":\"#E5ECF6\",\"polar\":{\"angularaxis\":{\"gridcolor\":\"white\",\"linecolor\":\"white\",\"ticks\":\"\"},\"bgcolor\":\"#E5ECF6\",\"radialaxis\":{\"gridcolor\":\"white\",\"linecolor\":\"white\",\"ticks\":\"\"}},\"scene\":{\"xaxis\":{\"backgroundcolor\":\"#E5ECF6\",\"gridcolor\":\"white\",\"gridwidth\":2,\"linecolor\":\"white\",\"showbackground\":true,\"ticks\":\"\",\"zerolinecolor\":\"white\"},\"yaxis\":{\"backgroundcolor\":\"#E5ECF6\",\"gridcolor\":\"white\",\"gridwidth\":2,\"linecolor\":\"white\",\"showbackground\":true,\"ticks\":\"\",\"zerolinecolor\":\"white\"},\"zaxis\":{\"backgroundcolor\":\"#E5ECF6\",\"gridcolor\":\"white\",\"gridwidth\":2,\"linecolor\":\"white\",\"showbackground\":true,\"ticks\":\"\",\"zerolinecolor\":\"white\"}},\"shapedefaults\":{\"line\":{\"color\":\"#2a3f5f\"}},\"ternary\":{\"aaxis\":{\"gridcolor\":\"white\",\"linecolor\":\"white\",\"ticks\":\"\"},\"baxis\":{\"gridcolor\":\"white\",\"linecolor\":\"white\",\"ticks\":\"\"},\"bgcolor\":\"#E5ECF6\",\"caxis\":{\"gridcolor\":\"white\",\"linecolor\":\"white\",\"ticks\":\"\"}},\"title\":{\"x\":0.05},\"xaxis\":{\"automargin\":true,\"gridcolor\":\"white\",\"linecolor\":\"white\",\"ticks\":\"\",\"title\":{\"standoff\":15},\"zerolinecolor\":\"white\",\"zerolinewidth\":2},\"yaxis\":{\"automargin\":true,\"gridcolor\":\"white\",\"linecolor\":\"white\",\"ticks\":\"\",\"title\":{\"standoff\":15},\"zerolinecolor\":\"white\",\"zerolinewidth\":2}}},\"scene\":{\"domain\":{\"x\":[0.0,1.0],\"y\":[0.0,1.0]},\"xaxis\":{\"title\":{\"text\":\"x\"}},\"yaxis\":{\"title\":{\"text\":\"y\"}},\"zaxis\":{\"title\":{\"text\":\"z\"}}},\"legend\":{\"title\":{\"text\":\"color\"},\"tracegroupgap\":0},\"title\":{\"text\":\"3D t-SNE visualization\"},\"margin\":{\"l\":0,\"r\":0,\"b\":0,\"t\":0}},                        {\"responsive\": true}                    ).then(function(){\n",
       "                            \n",
       "var gd = document.getElementById('2d4cb1ea-5116-4aee-bc19-3a5fb50ab41a');\n",
       "var x = new MutationObserver(function (mutations, observer) {{\n",
       "        var display = window.getComputedStyle(gd).display;\n",
       "        if (!display || display === 'none') {{\n",
       "            console.log([gd, 'removed!']);\n",
       "            Plotly.purge(gd);\n",
       "            observer.disconnect();\n",
       "        }}\n",
       "}});\n",
       "\n",
       "// Listen for the removal of the full notebook cells\n",
       "var notebookContainer = gd.closest('#notebook-container');\n",
       "if (notebookContainer) {{\n",
       "    x.observe(notebookContainer, {childList: true});\n",
       "}}\n",
       "\n",
       "// Listen for the clearing of the current output cell\n",
       "var outputEl = gd.closest('.output');\n",
       "if (outputEl) {{\n",
       "    x.observe(outputEl, {childList: true});\n",
       "}}\n",
       "\n",
       "                        })                };                });            </script>        </div>"
      ]
     },
     "metadata": {},
     "output_type": "display_data"
    }
   ],
   "source": [
    "fig = px.scatter_3d(x=Y3d[:, 0], y=Y3d[:, 1], z=Y3d[:, 2], color=df['Genus'], title=\"3D t-SNE visualization\")\n",
    "fig.update_layout(margin=dict(l=0, r=0, b=0, t=0))\n",
    "fig.show()"
   ]
  },
  {
   "cell_type": "markdown",
   "id": "e75d2d54",
   "metadata": {},
   "source": [
    "Several genus look seperable, namely:\n",
    "- Gorilla\n",
    "- Pan\n",
    "- Nasalis \n",
    "- Papio (mostly)\n",
    "- Cercocebus\n",
    "- Lophocebus\n",
    "- Miopithecus\n",
    "\n",
    "Several genus are not seperable:\n",
    "- Pongo (found in different places without a clear pattern)\n",
    "- Symphalangus (found in a cluster with others)\n",
    "- Mandrillus (scattered)\n",
    "- Theropithecus (found only once)\n",
    "- Macaca (found in a cluster with other genus)\n",
    "- Erythrocebus (found in a cluster with other genus)\n",
    "- Cercopithecus (found in a cluster with other genus)\n",
    "- Presbytis (can have his own cluster, but can also be found in a cluster with another genus)\n",
    "\n",
    "\n",
    "Doubts:\n",
    "- Hylobates can be found near `(0, 2)` and `(0, -4)`. The latter is not distinguishable. \n",
    "- Trachypithecus can be found near `(0, 2)` and `(5, 1)`. \n",
    "- Colobus can be found near `(-5, 1.5)` and `(5, -2)`.\n",
    "- Presbytis can be found near `(-5, 2)` and `(10, -4)`.\n",
    "\n",
    "In 3D, distinguishing the genus is even harder. "
   ]
  },
  {
   "cell_type": "code",
   "execution_count": 56,
   "id": "d43c6d42",
   "metadata": {},
   "outputs": [
    {
     "data": {
      "text/plain": [
       "56"
      ]
     },
     "execution_count": 56,
     "metadata": {},
     "output_type": "execute_result"
    }
   ],
   "source": [
    "genus_selection = ['Gorilla', 'Pan', 'Nasalis', 'Papio', 'Cercocebus', 'Lophocebus', 'Miopithecus']\n",
    "\n",
    "# total species in the genus selection\n",
    "df.groupby(by='Genus')['Species'].count().loc[genus_selection].sum()"
   ]
  },
  {
   "cell_type": "code",
   "execution_count": 61,
   "id": "766341a8",
   "metadata": {},
   "outputs": [
    {
     "data": {
      "text/plain": [
       "109"
      ]
     },
     "execution_count": 61,
     "metadata": {},
     "output_type": "execute_result"
    }
   ],
   "source": [
    "# total species out of the genus selection\n",
    "genus_count = df.groupby(by='Genus')['Species'].count()\n",
    "genus_count.loc[genus_count.index.difference(genus_selection)].sum()"
   ]
  },
  {
   "cell_type": "code",
   "execution_count": 65,
   "id": "632a34db",
   "metadata": {},
   "outputs": [
    {
     "data": {
      "text/plain": [
       "array(['talapoin', 'albigena', 'torquatus', 'anubis', 'larvatus',\n",
       "       'troglodytes', 'paniscus', 'gorilla'], dtype=object)"
      ]
     },
     "execution_count": 65,
     "metadata": {},
     "output_type": "execute_result"
    }
   ],
   "source": [
    "# check what species are in the genus selection\n",
    "df[df['Genus'].isin(genus_selection)]['Species'].unique()"
   ]
  },
  {
   "cell_type": "code",
   "execution_count": 66,
   "id": "02ebd294",
   "metadata": {},
   "outputs": [
    {
     "data": {
      "application/vnd.plotly.v1+json": {
       "config": {
        "plotlyServerURL": "https://plot.ly"
       },
       "data": [
        {
         "hovertemplate": "color=hosei<br>x=%{x}<br>y=%{y}<extra></extra>",
         "legendgroup": "hosei",
         "marker": {
          "color": "#636efa",
          "symbol": "circle"
         },
         "mode": "markers",
         "name": "hosei",
         "orientation": "v",
         "showlegend": true,
         "type": "scatter",
         "x": [
          9.828705787658691,
          9.76897144317627,
          -3.5735116004943848,
          -3.8150014877319336,
          -4.013675689697266
         ],
         "xaxis": "x",
         "y": [
          -4.5030622482299805,
          -4.311244964599609,
          1.5331398248672485,
          1.527632474899292,
          1.498661756515503
         ],
         "yaxis": "y"
        },
        {
         "hovertemplate": "color=rubicunda<br>x=%{x}<br>y=%{y}<extra></extra>",
         "legendgroup": "rubicunda",
         "marker": {
          "color": "#EF553B",
          "symbol": "circle"
         },
         "mode": "markers",
         "name": "rubicunda",
         "orientation": "v",
         "showlegend": true,
         "type": "scatter",
         "x": [
          9.641623497009277,
          9.792816162109375,
          9.523428916931152,
          -3.5565872192382812,
          -3.742403268814087,
          -3.743901491165161,
          -3.7181217670440674,
          -3.7265117168426514
         ],
         "xaxis": "x",
         "y": [
          -4.796391010284424,
          -4.459084987640381,
          -4.164031028747559,
          1.6044001579284668,
          1.5411105155944824,
          1.544351577758789,
          1.3177945613861084,
          1.3523292541503906
         ],
         "yaxis": "y"
        },
        {
         "hovertemplate": "color=mitis<br>x=%{x}<br>y=%{y}<extra></extra>",
         "legendgroup": "mitis",
         "marker": {
          "color": "#00cc96",
          "symbol": "circle"
         },
         "mode": "markers",
         "name": "mitis",
         "orientation": "v",
         "showlegend": true,
         "type": "scatter",
         "x": [
          9.816354751586914,
          9.853443145751953,
          9.66506576538086,
          9.450643539428711,
          9.57726001739502,
          9.307147026062012,
          9.505976676940918,
          9.449603080749512,
          9.649392127990723,
          9.138097763061523
         ],
         "xaxis": "x",
         "y": [
          -4.609023094177246,
          -4.412751197814941,
          -4.778528213500977,
          -4.766037940979004,
          -4.216433525085449,
          -4.73550271987915,
          -4.802736282348633,
          -4.179542541503906,
          -4.28103494644165,
          -4.58045768737793
         ],
         "yaxis": "y"
        },
        {
         "hovertemplate": "color=talapoin<br>x=%{x}<br>y=%{y}<extra></extra>",
         "legendgroup": "talapoin",
         "marker": {
          "color": "#ab63fa",
          "symbol": "circle"
         },
         "mode": "markers",
         "name": "talapoin",
         "orientation": "v",
         "showlegend": true,
         "type": "scatter",
         "x": [
          9.082483291625977,
          9.139853477478027,
          8.985387802124023,
          8.962888717651367,
          8.993021011352539
         ],
         "xaxis": "x",
         "y": [
          -4.168076515197754,
          -4.141307830810547,
          -4.47036075592041,
          -4.254055500030518,
          -4.3354387283325195
         ],
         "yaxis": "y"
        },
        {
         "hovertemplate": "color=albigena<br>x=%{x}<br>y=%{y}<extra></extra>",
         "legendgroup": "albigena",
         "marker": {
          "color": "#FFA15A",
          "symbol": "circle"
         },
         "mode": "markers",
         "name": "albigena",
         "orientation": "v",
         "showlegend": true,
         "type": "scatter",
         "x": [
          6.899401664733887,
          6.686721324920654,
          6.860642910003662,
          6.806887149810791,
          9.343864440917969,
          6.416675567626953
         ],
         "xaxis": "x",
         "y": [
          -2.0393874645233154,
          -1.99024498462677,
          -1.9874024391174316,
          -1.9263418912887573,
          -4.816983699798584,
          -1.8811407089233398
         ],
         "yaxis": "y"
        },
        {
         "hovertemplate": "color=badius<br>x=%{x}<br>y=%{y}<extra></extra>",
         "legendgroup": "badius",
         "marker": {
          "color": "#19d3f3",
          "symbol": "circle"
         },
         "mode": "markers",
         "name": "badius",
         "orientation": "v",
         "showlegend": true,
         "type": "scatter",
         "x": [
          -3.7629501819610596,
          -4.243905067443848,
          -4.2895050048828125,
          -4.0477070808410645,
          -4.015504837036133,
          -4.184250354766846,
          -4.066152095794678,
          -4.1654558181762695,
          -4.064906120300293,
          -4.221950531005859
         ],
         "xaxis": "x",
         "y": [
          1.1622852087020874,
          1.1410682201385498,
          1.2820614576339722,
          1.1496386528015137,
          1.0984693765640259,
          1.5510687828063965,
          0.8636910915374756,
          1.1464803218841553,
          1.4930388927459717,
          1.3866026401519775
         ],
         "yaxis": "y"
        },
        {
         "hovertemplate": "color=patas<br>x=%{x}<br>y=%{y}<extra></extra>",
         "legendgroup": "patas",
         "marker": {
          "color": "#FF6692",
          "symbol": "circle"
         },
         "mode": "markers",
         "name": "patas",
         "orientation": "v",
         "showlegend": true,
         "type": "scatter",
         "x": [
          -1.3005824089050293,
          -0.9863495826721191,
          -1.7103970050811768,
          -1.8730566501617432
         ],
         "xaxis": "x",
         "y": [
          -3.3994243144989014,
          -3.7645556926727295,
          -3.589738368988037,
          -3.8473939895629883
         ],
         "yaxis": "y"
        },
        {
         "hovertemplate": "color=fascicularis<br>x=%{x}<br>y=%{y}<extra></extra>",
         "legendgroup": "fascicularis",
         "marker": {
          "color": "#B6E880",
          "symbol": "circle"
         },
         "mode": "markers",
         "name": "fascicularis",
         "orientation": "v",
         "showlegend": true,
         "type": "scatter",
         "x": [
          -0.2899045944213867,
          -0.6381977796554565,
          -0.36404019594192505,
          -0.5572945475578308,
          -0.6074912548065186,
          -0.9015113711357117,
          -0.5177316069602966,
          -0.6601182222366333
         ],
         "xaxis": "x",
         "y": [
          -4.254012584686279,
          -5.105381488800049,
          -3.9831814765930176,
          -4.356873512268066,
          -4.65355110168457,
          -3.8347768783569336,
          -4.602858066558838,
          -4.352019786834717
         ],
         "yaxis": "y"
        },
        {
         "hovertemplate": "color=sylvanus<br>x=%{x}<br>y=%{y}<extra></extra>",
         "legendgroup": "sylvanus",
         "marker": {
          "color": "#FF97FF",
          "symbol": "circle"
         },
         "mode": "markers",
         "name": "sylvanus",
         "orientation": "v",
         "showlegend": true,
         "type": "scatter",
         "x": [
          -1.4370225667953491,
          -1.787552833557129
         ],
         "xaxis": "x",
         "y": [
          -3.8704590797424316,
          -5.659992218017578
         ],
         "yaxis": "y"
        },
        {
         "hovertemplate": "color=fuscata<br>x=%{x}<br>y=%{y}<extra></extra>",
         "legendgroup": "fuscata",
         "marker": {
          "color": "#FECB52",
          "symbol": "circle"
         },
         "mode": "markers",
         "name": "fuscata",
         "orientation": "v",
         "showlegend": true,
         "type": "scatter",
         "x": [
          -1.6768954992294312,
          -1.740609884262085
         ],
         "xaxis": "x",
         "y": [
          -4.489441394805908,
          -3.6759233474731445
         ],
         "yaxis": "y"
        },
        {
         "hovertemplate": "color=mulatta<br>x=%{x}<br>y=%{y}<extra></extra>",
         "legendgroup": "mulatta",
         "marker": {
          "color": "#636efa",
          "symbol": "circle"
         },
         "mode": "markers",
         "name": "mulatta",
         "orientation": "v",
         "showlegend": true,
         "type": "scatter",
         "x": [
          -1.1474478244781494,
          -1.54953134059906,
          -1.6478523015975952
         ],
         "xaxis": "x",
         "y": [
          -4.709652900695801,
          -4.508425235748291,
          -4.0673909187316895
         ],
         "yaxis": "y"
        },
        {
         "hovertemplate": "color=cristata<br>x=%{x}<br>y=%{y}<extra></extra>",
         "legendgroup": "cristata",
         "marker": {
          "color": "#EF553B",
          "symbol": "circle"
         },
         "mode": "markers",
         "name": "cristata",
         "orientation": "v",
         "showlegend": true,
         "type": "scatter",
         "x": [
          3.6439359188079834,
          3.788558006286621,
          4.0231194496154785,
          4.12253999710083,
          4.025287628173828,
          4.022385120391846,
          4.213526725769043,
          4.599451541900635,
          4.169895172119141,
          4.952606201171875,
          -0.8118071556091309,
          -0.8042327165603638,
          -0.8896768093109131,
          -0.9254224300384521,
          -1.0116215944290161,
          -0.9662079811096191,
          -1.0771178007125854,
          -1.2862509489059448
         ],
         "xaxis": "x",
         "y": [
          -0.8397595286369324,
          -1.1802825927734375,
          -1.1629201173782349,
          -1.1180683374404907,
          -1.3288642168045044,
          -1.2030912637710571,
          -1.4767076969146729,
          -1.4773699045181274,
          -1.6889703273773193,
          -1.5406728982925415,
          2.4959936141967773,
          2.486448049545288,
          2.6027984619140625,
          2.3615245819091797,
          2.435647964477539,
          2.411924362182617,
          2.301673412322998,
          2.235029697418213
         ],
         "yaxis": "y"
        },
        {
         "hovertemplate": "color=polykomos<br>x=%{x}<br>y=%{y}<extra></extra>",
         "legendgroup": "polykomos",
         "marker": {
          "color": "#00cc96",
          "symbol": "circle"
         },
         "mode": "markers",
         "name": "polykomos",
         "orientation": "v",
         "showlegend": true,
         "type": "scatter",
         "x": [
          4.424674034118652,
          4.846656799316406,
          4.633509159088135,
          4.639214515686035,
          4.799399375915527,
          5.202383995056152,
          5.257413864135742,
          5.505031108856201,
          5.911628246307373,
          6.524320602416992
         ],
         "xaxis": "x",
         "y": [
          -1.915041446685791,
          -1.6359302997589111,
          -1.855337381362915,
          -1.8404070138931274,
          -2.0794320106506348,
          -1.7409387826919556,
          -2.0043699741363525,
          -2.0474486351013184,
          -2.004300594329834,
          -2.178476333618164
         ],
         "yaxis": "y"
        },
        {
         "hovertemplate": "color=torquatus<br>x=%{x}<br>y=%{y}<extra></extra>",
         "legendgroup": "torquatus",
         "marker": {
          "color": "#ab63fa",
          "symbol": "circle"
         },
         "mode": "markers",
         "name": "torquatus",
         "orientation": "v",
         "showlegend": true,
         "type": "scatter",
         "x": [
          4.796290874481201,
          4.988455295562744,
          5.341858863830566,
          5.983438014984131,
          5.215162754058838,
          6.455885410308838,
          5.540273666381836,
          5.235693454742432,
          5.445168495178223
         ],
         "xaxis": "x",
         "y": [
          -2.2746634483337402,
          -2.5072216987609863,
          -2.521637439727783,
          -2.8337759971618652,
          -2.5761892795562744,
          -2.6047310829162598,
          -2.5012848377227783,
          -2.3843135833740234,
          -2.5048789978027344
         ],
         "yaxis": "y"
        },
        {
         "hovertemplate": "color=gelada<br>x=%{x}<br>y=%{y}<extra></extra>",
         "legendgroup": "gelada",
         "marker": {
          "color": "#FFA15A",
          "symbol": "circle"
         },
         "mode": "markers",
         "name": "gelada",
         "orientation": "v",
         "showlegend": true,
         "type": "scatter",
         "x": [
          1.371872901916504
         ],
         "xaxis": "x",
         "y": [
          2.809514284133911
         ],
         "yaxis": "y"
        },
        {
         "hovertemplate": "color=leucophaeus<br>x=%{x}<br>y=%{y}<extra></extra>",
         "legendgroup": "leucophaeus",
         "marker": {
          "color": "#19d3f3",
          "symbol": "circle"
         },
         "mode": "markers",
         "name": "leucophaeus",
         "orientation": "v",
         "showlegend": true,
         "type": "scatter",
         "x": [
          1.3916569948196411,
          1.3821946382522583,
          5.549440383911133,
          -1.9965161085128784
         ],
         "xaxis": "x",
         "y": [
          2.8067052364349365,
          2.823822498321533,
          -0.30684128403663635,
          -2.9840662479400635
         ],
         "yaxis": "y"
        },
        {
         "hovertemplate": "color=sphinx<br>x=%{x}<br>y=%{y}<extra></extra>",
         "legendgroup": "sphinx",
         "marker": {
          "color": "#FF6692",
          "symbol": "circle"
         },
         "mode": "markers",
         "name": "sphinx",
         "orientation": "v",
         "showlegend": true,
         "type": "scatter",
         "x": [
          0.7732639312744141,
          -2.2083089351654053
         ],
         "xaxis": "x",
         "y": [
          1.093402624130249,
          -2.867887496948242
         ],
         "yaxis": "y"
        },
        {
         "hovertemplate": "color=anubis<br>x=%{x}<br>y=%{y}<extra></extra>",
         "legendgroup": "anubis",
         "marker": {
          "color": "#B6E880",
          "symbol": "circle"
         },
         "mode": "markers",
         "name": "anubis",
         "orientation": "v",
         "showlegend": true,
         "type": "scatter",
         "x": [
          0.32032179832458496,
          0.48056960105895996,
          0.9042423367500305,
          0.8235083222389221,
          0.730903148651123,
          0.976368248462677,
          1.1878416538238525,
          0.6938832402229309,
          -2.1198673248291016
         ],
         "xaxis": "x",
         "y": [
          1.4400806427001953,
          1.1235151290893555,
          0.5448141694068909,
          0.4037667512893677,
          0.6552577614784241,
          0.4851209819316864,
          0.2642403244972229,
          0.566463053226471,
          -2.9718191623687744
         ],
         "yaxis": "y"
        },
        {
         "hovertemplate": "color=larvatus<br>x=%{x}<br>y=%{y}<extra></extra>",
         "legendgroup": "larvatus",
         "marker": {
          "color": "#FF97FF",
          "symbol": "circle"
         },
         "mode": "markers",
         "name": "larvatus",
         "orientation": "v",
         "showlegend": true,
         "type": "scatter",
         "x": [
          1.865389347076416,
          2.7350525856018066,
          2.9555323123931885,
          3.551578998565674,
          1.6171574592590332,
          1.5531105995178223,
          1.576367974281311,
          1.6914689540863037,
          1.600687026977539
         ],
         "xaxis": "x",
         "y": [
          -0.4806350767612457,
          -0.9847151637077332,
          -1.2223193645477295,
          -1.7212942838668823,
          -0.31789711117744446,
          -0.23091936111450195,
          -0.3064735531806946,
          -0.42179909348487854,
          -0.4799325168132782
         ],
         "yaxis": "y"
        },
        {
         "hovertemplate": "color=syndactylus<br>x=%{x}<br>y=%{y}<extra></extra>",
         "legendgroup": "syndactylus",
         "marker": {
          "color": "#FECB52",
          "symbol": "circle"
         },
         "mode": "markers",
         "name": "syndactylus",
         "orientation": "v",
         "showlegend": true,
         "type": "scatter",
         "x": [
          -1.1261560916900635,
          -0.6993654370307922
         ],
         "xaxis": "x",
         "y": [
          -3.5446653366088867,
          -3.1939361095428467
         ],
         "yaxis": "y"
        },
        {
         "hovertemplate": "color=lar<br>x=%{x}<br>y=%{y}<extra></extra>",
         "legendgroup": "lar",
         "marker": {
          "color": "#636efa",
          "symbol": "circle"
         },
         "mode": "markers",
         "name": "lar",
         "orientation": "v",
         "showlegend": true,
         "type": "scatter",
         "x": [
          -0.4707980751991272,
          -0.6044176816940308,
          -1.089600920677185,
          -0.9273282289505005,
          -1.29685378074646,
          -0.8531384468078613,
          -0.7476508617401123,
          -1.2010363340377808,
          -1.0998972654342651,
          -1.2110464572906494,
          -1.384216070175171,
          -1.30219566822052,
          -1.4512372016906738,
          -1.5319572687149048,
          -1.4439258575439453,
          -1.5141047239303589,
          -1.6946570873260498,
          -1.6476777791976929
         ],
         "xaxis": "x",
         "y": [
          -3.5062756538391113,
          -3.7173216342926025,
          -4.49524450302124,
          -3.8624727725982666,
          -4.360170364379883,
          -4.101175308227539,
          -5.405130863189697,
          -4.288078784942627,
          -4.140627384185791,
          -4.795642375946045,
          -4.6955952644348145,
          2.4218428134918213,
          2.449127435684204,
          2.394883632659912,
          2.413552761077881,
          2.3639774322509766,
          2.321350336074829,
          2.2941949367523193
         ],
         "yaxis": "y"
        },
        {
         "hovertemplate": "color=pygmaeus<br>x=%{x}<br>y=%{y}<extra></extra>",
         "legendgroup": "pygmaeus",
         "marker": {
          "color": "#EF553B",
          "symbol": "circle"
         },
         "mode": "markers",
         "name": "pygmaeus",
         "orientation": "v",
         "showlegend": true,
         "type": "scatter",
         "x": [
          -6.445945739746094,
          0.21155919134616852
         ],
         "xaxis": "x",
         "y": [
          -3.0234131813049316,
          2.518656015396118
         ],
         "yaxis": "y"
        },
        {
         "hovertemplate": "color=troglodytes<br>x=%{x}<br>y=%{y}<extra></extra>",
         "legendgroup": "troglodytes",
         "marker": {
          "color": "#00cc96",
          "symbol": "circle"
         },
         "mode": "markers",
         "name": "troglodytes",
         "orientation": "v",
         "showlegend": true,
         "type": "scatter",
         "x": [
          -6.569851398468018,
          -6.290817737579346,
          -6.272915363311768,
          -5.974134922027588,
          -6.377287864685059,
          -6.144253253936768,
          -5.90756368637085,
          -6.248602390289307,
          -6.614528656005859
         ],
         "xaxis": "x",
         "y": [
          -2.940706968307495,
          -3.040914535522461,
          -3.1656079292297363,
          -3.0769248008728027,
          -2.9789483547210693,
          -3.026242256164551,
          -3.0527760982513428,
          -2.9327337741851807,
          -3.132150650024414
         ],
         "yaxis": "y"
        },
        {
         "hovertemplate": "color=paniscus<br>x=%{x}<br>y=%{y}<extra></extra>",
         "legendgroup": "paniscus",
         "marker": {
          "color": "#ab63fa",
          "symbol": "circle"
         },
         "mode": "markers",
         "name": "paniscus",
         "orientation": "v",
         "showlegend": true,
         "type": "scatter",
         "x": [
          -6.510024547576904,
          -6.590537071228027,
          -6.567680835723877
         ],
         "xaxis": "x",
         "y": [
          -3.146167516708374,
          -3.367403030395508,
          -3.3219852447509766
         ],
         "yaxis": "y"
        },
        {
         "hovertemplate": "color=gorilla<br>x=%{x}<br>y=%{y}<extra></extra>",
         "legendgroup": "gorilla",
         "marker": {
          "color": "#FFA15A",
          "symbol": "circle"
         },
         "mode": "markers",
         "name": "gorilla",
         "orientation": "v",
         "showlegend": true,
         "type": "scatter",
         "x": [
          -7.089005947113037,
          -7.123398303985596,
          -6.956730365753174,
          -7.1576032638549805,
          -7.11610221862793,
          -7.0494208335876465
         ],
         "xaxis": "x",
         "y": [
          -2.661733865737915,
          -2.89268159866333,
          -2.8038127422332764,
          -2.6806893348693848,
          -3.2261204719543457,
          -3.188230276107788
         ],
         "yaxis": "y"
        }
       ],
       "layout": {
        "legend": {
         "title": {
          "text": "color"
         },
         "tracegroupgap": 0
        },
        "template": {
         "data": {
          "bar": [
           {
            "error_x": {
             "color": "#2a3f5f"
            },
            "error_y": {
             "color": "#2a3f5f"
            },
            "marker": {
             "line": {
              "color": "#E5ECF6",
              "width": 0.5
             },
             "pattern": {
              "fillmode": "overlay",
              "size": 10,
              "solidity": 0.2
             }
            },
            "type": "bar"
           }
          ],
          "barpolar": [
           {
            "marker": {
             "line": {
              "color": "#E5ECF6",
              "width": 0.5
             },
             "pattern": {
              "fillmode": "overlay",
              "size": 10,
              "solidity": 0.2
             }
            },
            "type": "barpolar"
           }
          ],
          "carpet": [
           {
            "aaxis": {
             "endlinecolor": "#2a3f5f",
             "gridcolor": "white",
             "linecolor": "white",
             "minorgridcolor": "white",
             "startlinecolor": "#2a3f5f"
            },
            "baxis": {
             "endlinecolor": "#2a3f5f",
             "gridcolor": "white",
             "linecolor": "white",
             "minorgridcolor": "white",
             "startlinecolor": "#2a3f5f"
            },
            "type": "carpet"
           }
          ],
          "choropleth": [
           {
            "colorbar": {
             "outlinewidth": 0,
             "ticks": ""
            },
            "type": "choropleth"
           }
          ],
          "contour": [
           {
            "colorbar": {
             "outlinewidth": 0,
             "ticks": ""
            },
            "colorscale": [
             [
              0,
              "#0d0887"
             ],
             [
              0.1111111111111111,
              "#46039f"
             ],
             [
              0.2222222222222222,
              "#7201a8"
             ],
             [
              0.3333333333333333,
              "#9c179e"
             ],
             [
              0.4444444444444444,
              "#bd3786"
             ],
             [
              0.5555555555555556,
              "#d8576b"
             ],
             [
              0.6666666666666666,
              "#ed7953"
             ],
             [
              0.7777777777777778,
              "#fb9f3a"
             ],
             [
              0.8888888888888888,
              "#fdca26"
             ],
             [
              1,
              "#f0f921"
             ]
            ],
            "type": "contour"
           }
          ],
          "contourcarpet": [
           {
            "colorbar": {
             "outlinewidth": 0,
             "ticks": ""
            },
            "type": "contourcarpet"
           }
          ],
          "heatmap": [
           {
            "colorbar": {
             "outlinewidth": 0,
             "ticks": ""
            },
            "colorscale": [
             [
              0,
              "#0d0887"
             ],
             [
              0.1111111111111111,
              "#46039f"
             ],
             [
              0.2222222222222222,
              "#7201a8"
             ],
             [
              0.3333333333333333,
              "#9c179e"
             ],
             [
              0.4444444444444444,
              "#bd3786"
             ],
             [
              0.5555555555555556,
              "#d8576b"
             ],
             [
              0.6666666666666666,
              "#ed7953"
             ],
             [
              0.7777777777777778,
              "#fb9f3a"
             ],
             [
              0.8888888888888888,
              "#fdca26"
             ],
             [
              1,
              "#f0f921"
             ]
            ],
            "type": "heatmap"
           }
          ],
          "heatmapgl": [
           {
            "colorbar": {
             "outlinewidth": 0,
             "ticks": ""
            },
            "colorscale": [
             [
              0,
              "#0d0887"
             ],
             [
              0.1111111111111111,
              "#46039f"
             ],
             [
              0.2222222222222222,
              "#7201a8"
             ],
             [
              0.3333333333333333,
              "#9c179e"
             ],
             [
              0.4444444444444444,
              "#bd3786"
             ],
             [
              0.5555555555555556,
              "#d8576b"
             ],
             [
              0.6666666666666666,
              "#ed7953"
             ],
             [
              0.7777777777777778,
              "#fb9f3a"
             ],
             [
              0.8888888888888888,
              "#fdca26"
             ],
             [
              1,
              "#f0f921"
             ]
            ],
            "type": "heatmapgl"
           }
          ],
          "histogram": [
           {
            "marker": {
             "pattern": {
              "fillmode": "overlay",
              "size": 10,
              "solidity": 0.2
             }
            },
            "type": "histogram"
           }
          ],
          "histogram2d": [
           {
            "colorbar": {
             "outlinewidth": 0,
             "ticks": ""
            },
            "colorscale": [
             [
              0,
              "#0d0887"
             ],
             [
              0.1111111111111111,
              "#46039f"
             ],
             [
              0.2222222222222222,
              "#7201a8"
             ],
             [
              0.3333333333333333,
              "#9c179e"
             ],
             [
              0.4444444444444444,
              "#bd3786"
             ],
             [
              0.5555555555555556,
              "#d8576b"
             ],
             [
              0.6666666666666666,
              "#ed7953"
             ],
             [
              0.7777777777777778,
              "#fb9f3a"
             ],
             [
              0.8888888888888888,
              "#fdca26"
             ],
             [
              1,
              "#f0f921"
             ]
            ],
            "type": "histogram2d"
           }
          ],
          "histogram2dcontour": [
           {
            "colorbar": {
             "outlinewidth": 0,
             "ticks": ""
            },
            "colorscale": [
             [
              0,
              "#0d0887"
             ],
             [
              0.1111111111111111,
              "#46039f"
             ],
             [
              0.2222222222222222,
              "#7201a8"
             ],
             [
              0.3333333333333333,
              "#9c179e"
             ],
             [
              0.4444444444444444,
              "#bd3786"
             ],
             [
              0.5555555555555556,
              "#d8576b"
             ],
             [
              0.6666666666666666,
              "#ed7953"
             ],
             [
              0.7777777777777778,
              "#fb9f3a"
             ],
             [
              0.8888888888888888,
              "#fdca26"
             ],
             [
              1,
              "#f0f921"
             ]
            ],
            "type": "histogram2dcontour"
           }
          ],
          "mesh3d": [
           {
            "colorbar": {
             "outlinewidth": 0,
             "ticks": ""
            },
            "type": "mesh3d"
           }
          ],
          "parcoords": [
           {
            "line": {
             "colorbar": {
              "outlinewidth": 0,
              "ticks": ""
             }
            },
            "type": "parcoords"
           }
          ],
          "pie": [
           {
            "automargin": true,
            "type": "pie"
           }
          ],
          "scatter": [
           {
            "marker": {
             "colorbar": {
              "outlinewidth": 0,
              "ticks": ""
             }
            },
            "type": "scatter"
           }
          ],
          "scatter3d": [
           {
            "line": {
             "colorbar": {
              "outlinewidth": 0,
              "ticks": ""
             }
            },
            "marker": {
             "colorbar": {
              "outlinewidth": 0,
              "ticks": ""
             }
            },
            "type": "scatter3d"
           }
          ],
          "scattercarpet": [
           {
            "marker": {
             "colorbar": {
              "outlinewidth": 0,
              "ticks": ""
             }
            },
            "type": "scattercarpet"
           }
          ],
          "scattergeo": [
           {
            "marker": {
             "colorbar": {
              "outlinewidth": 0,
              "ticks": ""
             }
            },
            "type": "scattergeo"
           }
          ],
          "scattergl": [
           {
            "marker": {
             "colorbar": {
              "outlinewidth": 0,
              "ticks": ""
             }
            },
            "type": "scattergl"
           }
          ],
          "scattermapbox": [
           {
            "marker": {
             "colorbar": {
              "outlinewidth": 0,
              "ticks": ""
             }
            },
            "type": "scattermapbox"
           }
          ],
          "scatterpolar": [
           {
            "marker": {
             "colorbar": {
              "outlinewidth": 0,
              "ticks": ""
             }
            },
            "type": "scatterpolar"
           }
          ],
          "scatterpolargl": [
           {
            "marker": {
             "colorbar": {
              "outlinewidth": 0,
              "ticks": ""
             }
            },
            "type": "scatterpolargl"
           }
          ],
          "scatterternary": [
           {
            "marker": {
             "colorbar": {
              "outlinewidth": 0,
              "ticks": ""
             }
            },
            "type": "scatterternary"
           }
          ],
          "surface": [
           {
            "colorbar": {
             "outlinewidth": 0,
             "ticks": ""
            },
            "colorscale": [
             [
              0,
              "#0d0887"
             ],
             [
              0.1111111111111111,
              "#46039f"
             ],
             [
              0.2222222222222222,
              "#7201a8"
             ],
             [
              0.3333333333333333,
              "#9c179e"
             ],
             [
              0.4444444444444444,
              "#bd3786"
             ],
             [
              0.5555555555555556,
              "#d8576b"
             ],
             [
              0.6666666666666666,
              "#ed7953"
             ],
             [
              0.7777777777777778,
              "#fb9f3a"
             ],
             [
              0.8888888888888888,
              "#fdca26"
             ],
             [
              1,
              "#f0f921"
             ]
            ],
            "type": "surface"
           }
          ],
          "table": [
           {
            "cells": {
             "fill": {
              "color": "#EBF0F8"
             },
             "line": {
              "color": "white"
             }
            },
            "header": {
             "fill": {
              "color": "#C8D4E3"
             },
             "line": {
              "color": "white"
             }
            },
            "type": "table"
           }
          ]
         },
         "layout": {
          "annotationdefaults": {
           "arrowcolor": "#2a3f5f",
           "arrowhead": 0,
           "arrowwidth": 1
          },
          "autotypenumbers": "strict",
          "coloraxis": {
           "colorbar": {
            "outlinewidth": 0,
            "ticks": ""
           }
          },
          "colorscale": {
           "diverging": [
            [
             0,
             "#8e0152"
            ],
            [
             0.1,
             "#c51b7d"
            ],
            [
             0.2,
             "#de77ae"
            ],
            [
             0.3,
             "#f1b6da"
            ],
            [
             0.4,
             "#fde0ef"
            ],
            [
             0.5,
             "#f7f7f7"
            ],
            [
             0.6,
             "#e6f5d0"
            ],
            [
             0.7,
             "#b8e186"
            ],
            [
             0.8,
             "#7fbc41"
            ],
            [
             0.9,
             "#4d9221"
            ],
            [
             1,
             "#276419"
            ]
           ],
           "sequential": [
            [
             0,
             "#0d0887"
            ],
            [
             0.1111111111111111,
             "#46039f"
            ],
            [
             0.2222222222222222,
             "#7201a8"
            ],
            [
             0.3333333333333333,
             "#9c179e"
            ],
            [
             0.4444444444444444,
             "#bd3786"
            ],
            [
             0.5555555555555556,
             "#d8576b"
            ],
            [
             0.6666666666666666,
             "#ed7953"
            ],
            [
             0.7777777777777778,
             "#fb9f3a"
            ],
            [
             0.8888888888888888,
             "#fdca26"
            ],
            [
             1,
             "#f0f921"
            ]
           ],
           "sequentialminus": [
            [
             0,
             "#0d0887"
            ],
            [
             0.1111111111111111,
             "#46039f"
            ],
            [
             0.2222222222222222,
             "#7201a8"
            ],
            [
             0.3333333333333333,
             "#9c179e"
            ],
            [
             0.4444444444444444,
             "#bd3786"
            ],
            [
             0.5555555555555556,
             "#d8576b"
            ],
            [
             0.6666666666666666,
             "#ed7953"
            ],
            [
             0.7777777777777778,
             "#fb9f3a"
            ],
            [
             0.8888888888888888,
             "#fdca26"
            ],
            [
             1,
             "#f0f921"
            ]
           ]
          },
          "colorway": [
           "#636efa",
           "#EF553B",
           "#00cc96",
           "#ab63fa",
           "#FFA15A",
           "#19d3f3",
           "#FF6692",
           "#B6E880",
           "#FF97FF",
           "#FECB52"
          ],
          "font": {
           "color": "#2a3f5f"
          },
          "geo": {
           "bgcolor": "white",
           "lakecolor": "white",
           "landcolor": "#E5ECF6",
           "showlakes": true,
           "showland": true,
           "subunitcolor": "white"
          },
          "hoverlabel": {
           "align": "left"
          },
          "hovermode": "closest",
          "mapbox": {
           "style": "light"
          },
          "paper_bgcolor": "white",
          "plot_bgcolor": "#E5ECF6",
          "polar": {
           "angularaxis": {
            "gridcolor": "white",
            "linecolor": "white",
            "ticks": ""
           },
           "bgcolor": "#E5ECF6",
           "radialaxis": {
            "gridcolor": "white",
            "linecolor": "white",
            "ticks": ""
           }
          },
          "scene": {
           "xaxis": {
            "backgroundcolor": "#E5ECF6",
            "gridcolor": "white",
            "gridwidth": 2,
            "linecolor": "white",
            "showbackground": true,
            "ticks": "",
            "zerolinecolor": "white"
           },
           "yaxis": {
            "backgroundcolor": "#E5ECF6",
            "gridcolor": "white",
            "gridwidth": 2,
            "linecolor": "white",
            "showbackground": true,
            "ticks": "",
            "zerolinecolor": "white"
           },
           "zaxis": {
            "backgroundcolor": "#E5ECF6",
            "gridcolor": "white",
            "gridwidth": 2,
            "linecolor": "white",
            "showbackground": true,
            "ticks": "",
            "zerolinecolor": "white"
           }
          },
          "shapedefaults": {
           "line": {
            "color": "#2a3f5f"
           }
          },
          "ternary": {
           "aaxis": {
            "gridcolor": "white",
            "linecolor": "white",
            "ticks": ""
           },
           "baxis": {
            "gridcolor": "white",
            "linecolor": "white",
            "ticks": ""
           },
           "bgcolor": "#E5ECF6",
           "caxis": {
            "gridcolor": "white",
            "linecolor": "white",
            "ticks": ""
           }
          },
          "title": {
           "x": 0.05
          },
          "xaxis": {
           "automargin": true,
           "gridcolor": "white",
           "linecolor": "white",
           "ticks": "",
           "title": {
            "standoff": 15
           },
           "zerolinecolor": "white",
           "zerolinewidth": 2
          },
          "yaxis": {
           "automargin": true,
           "gridcolor": "white",
           "linecolor": "white",
           "ticks": "",
           "title": {
            "standoff": 15
           },
           "zerolinecolor": "white",
           "zerolinewidth": 2
          }
         }
        },
        "title": {
         "text": "2D t-SNE visualization"
        },
        "xaxis": {
         "anchor": "y",
         "domain": [
          0,
          1
         ],
         "title": {
          "text": "x"
         }
        },
        "yaxis": {
         "anchor": "x",
         "domain": [
          0,
          1
         ],
         "title": {
          "text": "y"
         }
        }
       }
      },
      "text/html": [
       "<div>                            <div id=\"c7caa1d6-f598-4377-876a-e1406dbb24ff\" class=\"plotly-graph-div\" style=\"height:525px; width:100%;\"></div>            <script type=\"text/javascript\">                require([\"plotly\"], function(Plotly) {                    window.PLOTLYENV=window.PLOTLYENV || {};                                    if (document.getElementById(\"c7caa1d6-f598-4377-876a-e1406dbb24ff\")) {                    Plotly.newPlot(                        \"c7caa1d6-f598-4377-876a-e1406dbb24ff\",                        [{\"hovertemplate\":\"color=hosei<br>x=%{x}<br>y=%{y}<extra></extra>\",\"legendgroup\":\"hosei\",\"marker\":{\"color\":\"#636efa\",\"symbol\":\"circle\"},\"mode\":\"markers\",\"name\":\"hosei\",\"orientation\":\"v\",\"showlegend\":true,\"x\":[9.828705787658691,9.76897144317627,-3.5735116004943848,-3.8150014877319336,-4.013675689697266],\"xaxis\":\"x\",\"y\":[-4.5030622482299805,-4.311244964599609,1.5331398248672485,1.527632474899292,1.498661756515503],\"yaxis\":\"y\",\"type\":\"scatter\"},{\"hovertemplate\":\"color=rubicunda<br>x=%{x}<br>y=%{y}<extra></extra>\",\"legendgroup\":\"rubicunda\",\"marker\":{\"color\":\"#EF553B\",\"symbol\":\"circle\"},\"mode\":\"markers\",\"name\":\"rubicunda\",\"orientation\":\"v\",\"showlegend\":true,\"x\":[9.641623497009277,9.792816162109375,9.523428916931152,-3.5565872192382812,-3.742403268814087,-3.743901491165161,-3.7181217670440674,-3.7265117168426514],\"xaxis\":\"x\",\"y\":[-4.796391010284424,-4.459084987640381,-4.164031028747559,1.6044001579284668,1.5411105155944824,1.544351577758789,1.3177945613861084,1.3523292541503906],\"yaxis\":\"y\",\"type\":\"scatter\"},{\"hovertemplate\":\"color=mitis<br>x=%{x}<br>y=%{y}<extra></extra>\",\"legendgroup\":\"mitis\",\"marker\":{\"color\":\"#00cc96\",\"symbol\":\"circle\"},\"mode\":\"markers\",\"name\":\"mitis\",\"orientation\":\"v\",\"showlegend\":true,\"x\":[9.816354751586914,9.853443145751953,9.66506576538086,9.450643539428711,9.57726001739502,9.307147026062012,9.505976676940918,9.449603080749512,9.649392127990723,9.138097763061523],\"xaxis\":\"x\",\"y\":[-4.609023094177246,-4.412751197814941,-4.778528213500977,-4.766037940979004,-4.216433525085449,-4.73550271987915,-4.802736282348633,-4.179542541503906,-4.28103494644165,-4.58045768737793],\"yaxis\":\"y\",\"type\":\"scatter\"},{\"hovertemplate\":\"color=talapoin<br>x=%{x}<br>y=%{y}<extra></extra>\",\"legendgroup\":\"talapoin\",\"marker\":{\"color\":\"#ab63fa\",\"symbol\":\"circle\"},\"mode\":\"markers\",\"name\":\"talapoin\",\"orientation\":\"v\",\"showlegend\":true,\"x\":[9.082483291625977,9.139853477478027,8.985387802124023,8.962888717651367,8.993021011352539],\"xaxis\":\"x\",\"y\":[-4.168076515197754,-4.141307830810547,-4.47036075592041,-4.254055500030518,-4.3354387283325195],\"yaxis\":\"y\",\"type\":\"scatter\"},{\"hovertemplate\":\"color=albigena<br>x=%{x}<br>y=%{y}<extra></extra>\",\"legendgroup\":\"albigena\",\"marker\":{\"color\":\"#FFA15A\",\"symbol\":\"circle\"},\"mode\":\"markers\",\"name\":\"albigena\",\"orientation\":\"v\",\"showlegend\":true,\"x\":[6.899401664733887,6.686721324920654,6.860642910003662,6.806887149810791,9.343864440917969,6.416675567626953],\"xaxis\":\"x\",\"y\":[-2.0393874645233154,-1.99024498462677,-1.9874024391174316,-1.9263418912887573,-4.816983699798584,-1.8811407089233398],\"yaxis\":\"y\",\"type\":\"scatter\"},{\"hovertemplate\":\"color=badius<br>x=%{x}<br>y=%{y}<extra></extra>\",\"legendgroup\":\"badius\",\"marker\":{\"color\":\"#19d3f3\",\"symbol\":\"circle\"},\"mode\":\"markers\",\"name\":\"badius\",\"orientation\":\"v\",\"showlegend\":true,\"x\":[-3.7629501819610596,-4.243905067443848,-4.2895050048828125,-4.0477070808410645,-4.015504837036133,-4.184250354766846,-4.066152095794678,-4.1654558181762695,-4.064906120300293,-4.221950531005859],\"xaxis\":\"x\",\"y\":[1.1622852087020874,1.1410682201385498,1.2820614576339722,1.1496386528015137,1.0984693765640259,1.5510687828063965,0.8636910915374756,1.1464803218841553,1.4930388927459717,1.3866026401519775],\"yaxis\":\"y\",\"type\":\"scatter\"},{\"hovertemplate\":\"color=patas<br>x=%{x}<br>y=%{y}<extra></extra>\",\"legendgroup\":\"patas\",\"marker\":{\"color\":\"#FF6692\",\"symbol\":\"circle\"},\"mode\":\"markers\",\"name\":\"patas\",\"orientation\":\"v\",\"showlegend\":true,\"x\":[-1.3005824089050293,-0.9863495826721191,-1.7103970050811768,-1.8730566501617432],\"xaxis\":\"x\",\"y\":[-3.3994243144989014,-3.7645556926727295,-3.589738368988037,-3.8473939895629883],\"yaxis\":\"y\",\"type\":\"scatter\"},{\"hovertemplate\":\"color=fascicularis<br>x=%{x}<br>y=%{y}<extra></extra>\",\"legendgroup\":\"fascicularis\",\"marker\":{\"color\":\"#B6E880\",\"symbol\":\"circle\"},\"mode\":\"markers\",\"name\":\"fascicularis\",\"orientation\":\"v\",\"showlegend\":true,\"x\":[-0.2899045944213867,-0.6381977796554565,-0.36404019594192505,-0.5572945475578308,-0.6074912548065186,-0.9015113711357117,-0.5177316069602966,-0.6601182222366333],\"xaxis\":\"x\",\"y\":[-4.254012584686279,-5.105381488800049,-3.9831814765930176,-4.356873512268066,-4.65355110168457,-3.8347768783569336,-4.602858066558838,-4.352019786834717],\"yaxis\":\"y\",\"type\":\"scatter\"},{\"hovertemplate\":\"color=sylvanus<br>x=%{x}<br>y=%{y}<extra></extra>\",\"legendgroup\":\"sylvanus\",\"marker\":{\"color\":\"#FF97FF\",\"symbol\":\"circle\"},\"mode\":\"markers\",\"name\":\"sylvanus\",\"orientation\":\"v\",\"showlegend\":true,\"x\":[-1.4370225667953491,-1.787552833557129],\"xaxis\":\"x\",\"y\":[-3.8704590797424316,-5.659992218017578],\"yaxis\":\"y\",\"type\":\"scatter\"},{\"hovertemplate\":\"color=fuscata<br>x=%{x}<br>y=%{y}<extra></extra>\",\"legendgroup\":\"fuscata\",\"marker\":{\"color\":\"#FECB52\",\"symbol\":\"circle\"},\"mode\":\"markers\",\"name\":\"fuscata\",\"orientation\":\"v\",\"showlegend\":true,\"x\":[-1.6768954992294312,-1.740609884262085],\"xaxis\":\"x\",\"y\":[-4.489441394805908,-3.6759233474731445],\"yaxis\":\"y\",\"type\":\"scatter\"},{\"hovertemplate\":\"color=mulatta<br>x=%{x}<br>y=%{y}<extra></extra>\",\"legendgroup\":\"mulatta\",\"marker\":{\"color\":\"#636efa\",\"symbol\":\"circle\"},\"mode\":\"markers\",\"name\":\"mulatta\",\"orientation\":\"v\",\"showlegend\":true,\"x\":[-1.1474478244781494,-1.54953134059906,-1.6478523015975952],\"xaxis\":\"x\",\"y\":[-4.709652900695801,-4.508425235748291,-4.0673909187316895],\"yaxis\":\"y\",\"type\":\"scatter\"},{\"hovertemplate\":\"color=cristata<br>x=%{x}<br>y=%{y}<extra></extra>\",\"legendgroup\":\"cristata\",\"marker\":{\"color\":\"#EF553B\",\"symbol\":\"circle\"},\"mode\":\"markers\",\"name\":\"cristata\",\"orientation\":\"v\",\"showlegend\":true,\"x\":[3.6439359188079834,3.788558006286621,4.0231194496154785,4.12253999710083,4.025287628173828,4.022385120391846,4.213526725769043,4.599451541900635,4.169895172119141,4.952606201171875,-0.8118071556091309,-0.8042327165603638,-0.8896768093109131,-0.9254224300384521,-1.0116215944290161,-0.9662079811096191,-1.0771178007125854,-1.2862509489059448],\"xaxis\":\"x\",\"y\":[-0.8397595286369324,-1.1802825927734375,-1.1629201173782349,-1.1180683374404907,-1.3288642168045044,-1.2030912637710571,-1.4767076969146729,-1.4773699045181274,-1.6889703273773193,-1.5406728982925415,2.4959936141967773,2.486448049545288,2.6027984619140625,2.3615245819091797,2.435647964477539,2.411924362182617,2.301673412322998,2.235029697418213],\"yaxis\":\"y\",\"type\":\"scatter\"},{\"hovertemplate\":\"color=polykomos<br>x=%{x}<br>y=%{y}<extra></extra>\",\"legendgroup\":\"polykomos\",\"marker\":{\"color\":\"#00cc96\",\"symbol\":\"circle\"},\"mode\":\"markers\",\"name\":\"polykomos\",\"orientation\":\"v\",\"showlegend\":true,\"x\":[4.424674034118652,4.846656799316406,4.633509159088135,4.639214515686035,4.799399375915527,5.202383995056152,5.257413864135742,5.505031108856201,5.911628246307373,6.524320602416992],\"xaxis\":\"x\",\"y\":[-1.915041446685791,-1.6359302997589111,-1.855337381362915,-1.8404070138931274,-2.0794320106506348,-1.7409387826919556,-2.0043699741363525,-2.0474486351013184,-2.004300594329834,-2.178476333618164],\"yaxis\":\"y\",\"type\":\"scatter\"},{\"hovertemplate\":\"color=torquatus<br>x=%{x}<br>y=%{y}<extra></extra>\",\"legendgroup\":\"torquatus\",\"marker\":{\"color\":\"#ab63fa\",\"symbol\":\"circle\"},\"mode\":\"markers\",\"name\":\"torquatus\",\"orientation\":\"v\",\"showlegend\":true,\"x\":[4.796290874481201,4.988455295562744,5.341858863830566,5.983438014984131,5.215162754058838,6.455885410308838,5.540273666381836,5.235693454742432,5.445168495178223],\"xaxis\":\"x\",\"y\":[-2.2746634483337402,-2.5072216987609863,-2.521637439727783,-2.8337759971618652,-2.5761892795562744,-2.6047310829162598,-2.5012848377227783,-2.3843135833740234,-2.5048789978027344],\"yaxis\":\"y\",\"type\":\"scatter\"},{\"hovertemplate\":\"color=gelada<br>x=%{x}<br>y=%{y}<extra></extra>\",\"legendgroup\":\"gelada\",\"marker\":{\"color\":\"#FFA15A\",\"symbol\":\"circle\"},\"mode\":\"markers\",\"name\":\"gelada\",\"orientation\":\"v\",\"showlegend\":true,\"x\":[1.371872901916504],\"xaxis\":\"x\",\"y\":[2.809514284133911],\"yaxis\":\"y\",\"type\":\"scatter\"},{\"hovertemplate\":\"color=leucophaeus<br>x=%{x}<br>y=%{y}<extra></extra>\",\"legendgroup\":\"leucophaeus\",\"marker\":{\"color\":\"#19d3f3\",\"symbol\":\"circle\"},\"mode\":\"markers\",\"name\":\"leucophaeus\",\"orientation\":\"v\",\"showlegend\":true,\"x\":[1.3916569948196411,1.3821946382522583,5.549440383911133,-1.9965161085128784],\"xaxis\":\"x\",\"y\":[2.8067052364349365,2.823822498321533,-0.30684128403663635,-2.9840662479400635],\"yaxis\":\"y\",\"type\":\"scatter\"},{\"hovertemplate\":\"color=sphinx<br>x=%{x}<br>y=%{y}<extra></extra>\",\"legendgroup\":\"sphinx\",\"marker\":{\"color\":\"#FF6692\",\"symbol\":\"circle\"},\"mode\":\"markers\",\"name\":\"sphinx\",\"orientation\":\"v\",\"showlegend\":true,\"x\":[0.7732639312744141,-2.2083089351654053],\"xaxis\":\"x\",\"y\":[1.093402624130249,-2.867887496948242],\"yaxis\":\"y\",\"type\":\"scatter\"},{\"hovertemplate\":\"color=anubis<br>x=%{x}<br>y=%{y}<extra></extra>\",\"legendgroup\":\"anubis\",\"marker\":{\"color\":\"#B6E880\",\"symbol\":\"circle\"},\"mode\":\"markers\",\"name\":\"anubis\",\"orientation\":\"v\",\"showlegend\":true,\"x\":[0.32032179832458496,0.48056960105895996,0.9042423367500305,0.8235083222389221,0.730903148651123,0.976368248462677,1.1878416538238525,0.6938832402229309,-2.1198673248291016],\"xaxis\":\"x\",\"y\":[1.4400806427001953,1.1235151290893555,0.5448141694068909,0.4037667512893677,0.6552577614784241,0.4851209819316864,0.2642403244972229,0.566463053226471,-2.9718191623687744],\"yaxis\":\"y\",\"type\":\"scatter\"},{\"hovertemplate\":\"color=larvatus<br>x=%{x}<br>y=%{y}<extra></extra>\",\"legendgroup\":\"larvatus\",\"marker\":{\"color\":\"#FF97FF\",\"symbol\":\"circle\"},\"mode\":\"markers\",\"name\":\"larvatus\",\"orientation\":\"v\",\"showlegend\":true,\"x\":[1.865389347076416,2.7350525856018066,2.9555323123931885,3.551578998565674,1.6171574592590332,1.5531105995178223,1.576367974281311,1.6914689540863037,1.600687026977539],\"xaxis\":\"x\",\"y\":[-0.4806350767612457,-0.9847151637077332,-1.2223193645477295,-1.7212942838668823,-0.31789711117744446,-0.23091936111450195,-0.3064735531806946,-0.42179909348487854,-0.4799325168132782],\"yaxis\":\"y\",\"type\":\"scatter\"},{\"hovertemplate\":\"color=syndactylus<br>x=%{x}<br>y=%{y}<extra></extra>\",\"legendgroup\":\"syndactylus\",\"marker\":{\"color\":\"#FECB52\",\"symbol\":\"circle\"},\"mode\":\"markers\",\"name\":\"syndactylus\",\"orientation\":\"v\",\"showlegend\":true,\"x\":[-1.1261560916900635,-0.6993654370307922],\"xaxis\":\"x\",\"y\":[-3.5446653366088867,-3.1939361095428467],\"yaxis\":\"y\",\"type\":\"scatter\"},{\"hovertemplate\":\"color=lar<br>x=%{x}<br>y=%{y}<extra></extra>\",\"legendgroup\":\"lar\",\"marker\":{\"color\":\"#636efa\",\"symbol\":\"circle\"},\"mode\":\"markers\",\"name\":\"lar\",\"orientation\":\"v\",\"showlegend\":true,\"x\":[-0.4707980751991272,-0.6044176816940308,-1.089600920677185,-0.9273282289505005,-1.29685378074646,-0.8531384468078613,-0.7476508617401123,-1.2010363340377808,-1.0998972654342651,-1.2110464572906494,-1.384216070175171,-1.30219566822052,-1.4512372016906738,-1.5319572687149048,-1.4439258575439453,-1.5141047239303589,-1.6946570873260498,-1.6476777791976929],\"xaxis\":\"x\",\"y\":[-3.5062756538391113,-3.7173216342926025,-4.49524450302124,-3.8624727725982666,-4.360170364379883,-4.101175308227539,-5.405130863189697,-4.288078784942627,-4.140627384185791,-4.795642375946045,-4.6955952644348145,2.4218428134918213,2.449127435684204,2.394883632659912,2.413552761077881,2.3639774322509766,2.321350336074829,2.2941949367523193],\"yaxis\":\"y\",\"type\":\"scatter\"},{\"hovertemplate\":\"color=pygmaeus<br>x=%{x}<br>y=%{y}<extra></extra>\",\"legendgroup\":\"pygmaeus\",\"marker\":{\"color\":\"#EF553B\",\"symbol\":\"circle\"},\"mode\":\"markers\",\"name\":\"pygmaeus\",\"orientation\":\"v\",\"showlegend\":true,\"x\":[-6.445945739746094,0.21155919134616852],\"xaxis\":\"x\",\"y\":[-3.0234131813049316,2.518656015396118],\"yaxis\":\"y\",\"type\":\"scatter\"},{\"hovertemplate\":\"color=troglodytes<br>x=%{x}<br>y=%{y}<extra></extra>\",\"legendgroup\":\"troglodytes\",\"marker\":{\"color\":\"#00cc96\",\"symbol\":\"circle\"},\"mode\":\"markers\",\"name\":\"troglodytes\",\"orientation\":\"v\",\"showlegend\":true,\"x\":[-6.569851398468018,-6.290817737579346,-6.272915363311768,-5.974134922027588,-6.377287864685059,-6.144253253936768,-5.90756368637085,-6.248602390289307,-6.614528656005859],\"xaxis\":\"x\",\"y\":[-2.940706968307495,-3.040914535522461,-3.1656079292297363,-3.0769248008728027,-2.9789483547210693,-3.026242256164551,-3.0527760982513428,-2.9327337741851807,-3.132150650024414],\"yaxis\":\"y\",\"type\":\"scatter\"},{\"hovertemplate\":\"color=paniscus<br>x=%{x}<br>y=%{y}<extra></extra>\",\"legendgroup\":\"paniscus\",\"marker\":{\"color\":\"#ab63fa\",\"symbol\":\"circle\"},\"mode\":\"markers\",\"name\":\"paniscus\",\"orientation\":\"v\",\"showlegend\":true,\"x\":[-6.510024547576904,-6.590537071228027,-6.567680835723877],\"xaxis\":\"x\",\"y\":[-3.146167516708374,-3.367403030395508,-3.3219852447509766],\"yaxis\":\"y\",\"type\":\"scatter\"},{\"hovertemplate\":\"color=gorilla<br>x=%{x}<br>y=%{y}<extra></extra>\",\"legendgroup\":\"gorilla\",\"marker\":{\"color\":\"#FFA15A\",\"symbol\":\"circle\"},\"mode\":\"markers\",\"name\":\"gorilla\",\"orientation\":\"v\",\"showlegend\":true,\"x\":[-7.089005947113037,-7.123398303985596,-6.956730365753174,-7.1576032638549805,-7.11610221862793,-7.0494208335876465],\"xaxis\":\"x\",\"y\":[-2.661733865737915,-2.89268159866333,-2.8038127422332764,-2.6806893348693848,-3.2261204719543457,-3.188230276107788],\"yaxis\":\"y\",\"type\":\"scatter\"}],                        {\"template\":{\"data\":{\"bar\":[{\"error_x\":{\"color\":\"#2a3f5f\"},\"error_y\":{\"color\":\"#2a3f5f\"},\"marker\":{\"line\":{\"color\":\"#E5ECF6\",\"width\":0.5},\"pattern\":{\"fillmode\":\"overlay\",\"size\":10,\"solidity\":0.2}},\"type\":\"bar\"}],\"barpolar\":[{\"marker\":{\"line\":{\"color\":\"#E5ECF6\",\"width\":0.5},\"pattern\":{\"fillmode\":\"overlay\",\"size\":10,\"solidity\":0.2}},\"type\":\"barpolar\"}],\"carpet\":[{\"aaxis\":{\"endlinecolor\":\"#2a3f5f\",\"gridcolor\":\"white\",\"linecolor\":\"white\",\"minorgridcolor\":\"white\",\"startlinecolor\":\"#2a3f5f\"},\"baxis\":{\"endlinecolor\":\"#2a3f5f\",\"gridcolor\":\"white\",\"linecolor\":\"white\",\"minorgridcolor\":\"white\",\"startlinecolor\":\"#2a3f5f\"},\"type\":\"carpet\"}],\"choropleth\":[{\"colorbar\":{\"outlinewidth\":0,\"ticks\":\"\"},\"type\":\"choropleth\"}],\"contour\":[{\"colorbar\":{\"outlinewidth\":0,\"ticks\":\"\"},\"colorscale\":[[0.0,\"#0d0887\"],[0.1111111111111111,\"#46039f\"],[0.2222222222222222,\"#7201a8\"],[0.3333333333333333,\"#9c179e\"],[0.4444444444444444,\"#bd3786\"],[0.5555555555555556,\"#d8576b\"],[0.6666666666666666,\"#ed7953\"],[0.7777777777777778,\"#fb9f3a\"],[0.8888888888888888,\"#fdca26\"],[1.0,\"#f0f921\"]],\"type\":\"contour\"}],\"contourcarpet\":[{\"colorbar\":{\"outlinewidth\":0,\"ticks\":\"\"},\"type\":\"contourcarpet\"}],\"heatmap\":[{\"colorbar\":{\"outlinewidth\":0,\"ticks\":\"\"},\"colorscale\":[[0.0,\"#0d0887\"],[0.1111111111111111,\"#46039f\"],[0.2222222222222222,\"#7201a8\"],[0.3333333333333333,\"#9c179e\"],[0.4444444444444444,\"#bd3786\"],[0.5555555555555556,\"#d8576b\"],[0.6666666666666666,\"#ed7953\"],[0.7777777777777778,\"#fb9f3a\"],[0.8888888888888888,\"#fdca26\"],[1.0,\"#f0f921\"]],\"type\":\"heatmap\"}],\"heatmapgl\":[{\"colorbar\":{\"outlinewidth\":0,\"ticks\":\"\"},\"colorscale\":[[0.0,\"#0d0887\"],[0.1111111111111111,\"#46039f\"],[0.2222222222222222,\"#7201a8\"],[0.3333333333333333,\"#9c179e\"],[0.4444444444444444,\"#bd3786\"],[0.5555555555555556,\"#d8576b\"],[0.6666666666666666,\"#ed7953\"],[0.7777777777777778,\"#fb9f3a\"],[0.8888888888888888,\"#fdca26\"],[1.0,\"#f0f921\"]],\"type\":\"heatmapgl\"}],\"histogram\":[{\"marker\":{\"pattern\":{\"fillmode\":\"overlay\",\"size\":10,\"solidity\":0.2}},\"type\":\"histogram\"}],\"histogram2d\":[{\"colorbar\":{\"outlinewidth\":0,\"ticks\":\"\"},\"colorscale\":[[0.0,\"#0d0887\"],[0.1111111111111111,\"#46039f\"],[0.2222222222222222,\"#7201a8\"],[0.3333333333333333,\"#9c179e\"],[0.4444444444444444,\"#bd3786\"],[0.5555555555555556,\"#d8576b\"],[0.6666666666666666,\"#ed7953\"],[0.7777777777777778,\"#fb9f3a\"],[0.8888888888888888,\"#fdca26\"],[1.0,\"#f0f921\"]],\"type\":\"histogram2d\"}],\"histogram2dcontour\":[{\"colorbar\":{\"outlinewidth\":0,\"ticks\":\"\"},\"colorscale\":[[0.0,\"#0d0887\"],[0.1111111111111111,\"#46039f\"],[0.2222222222222222,\"#7201a8\"],[0.3333333333333333,\"#9c179e\"],[0.4444444444444444,\"#bd3786\"],[0.5555555555555556,\"#d8576b\"],[0.6666666666666666,\"#ed7953\"],[0.7777777777777778,\"#fb9f3a\"],[0.8888888888888888,\"#fdca26\"],[1.0,\"#f0f921\"]],\"type\":\"histogram2dcontour\"}],\"mesh3d\":[{\"colorbar\":{\"outlinewidth\":0,\"ticks\":\"\"},\"type\":\"mesh3d\"}],\"parcoords\":[{\"line\":{\"colorbar\":{\"outlinewidth\":0,\"ticks\":\"\"}},\"type\":\"parcoords\"}],\"pie\":[{\"automargin\":true,\"type\":\"pie\"}],\"scatter\":[{\"marker\":{\"colorbar\":{\"outlinewidth\":0,\"ticks\":\"\"}},\"type\":\"scatter\"}],\"scatter3d\":[{\"line\":{\"colorbar\":{\"outlinewidth\":0,\"ticks\":\"\"}},\"marker\":{\"colorbar\":{\"outlinewidth\":0,\"ticks\":\"\"}},\"type\":\"scatter3d\"}],\"scattercarpet\":[{\"marker\":{\"colorbar\":{\"outlinewidth\":0,\"ticks\":\"\"}},\"type\":\"scattercarpet\"}],\"scattergeo\":[{\"marker\":{\"colorbar\":{\"outlinewidth\":0,\"ticks\":\"\"}},\"type\":\"scattergeo\"}],\"scattergl\":[{\"marker\":{\"colorbar\":{\"outlinewidth\":0,\"ticks\":\"\"}},\"type\":\"scattergl\"}],\"scattermapbox\":[{\"marker\":{\"colorbar\":{\"outlinewidth\":0,\"ticks\":\"\"}},\"type\":\"scattermapbox\"}],\"scatterpolar\":[{\"marker\":{\"colorbar\":{\"outlinewidth\":0,\"ticks\":\"\"}},\"type\":\"scatterpolar\"}],\"scatterpolargl\":[{\"marker\":{\"colorbar\":{\"outlinewidth\":0,\"ticks\":\"\"}},\"type\":\"scatterpolargl\"}],\"scatterternary\":[{\"marker\":{\"colorbar\":{\"outlinewidth\":0,\"ticks\":\"\"}},\"type\":\"scatterternary\"}],\"surface\":[{\"colorbar\":{\"outlinewidth\":0,\"ticks\":\"\"},\"colorscale\":[[0.0,\"#0d0887\"],[0.1111111111111111,\"#46039f\"],[0.2222222222222222,\"#7201a8\"],[0.3333333333333333,\"#9c179e\"],[0.4444444444444444,\"#bd3786\"],[0.5555555555555556,\"#d8576b\"],[0.6666666666666666,\"#ed7953\"],[0.7777777777777778,\"#fb9f3a\"],[0.8888888888888888,\"#fdca26\"],[1.0,\"#f0f921\"]],\"type\":\"surface\"}],\"table\":[{\"cells\":{\"fill\":{\"color\":\"#EBF0F8\"},\"line\":{\"color\":\"white\"}},\"header\":{\"fill\":{\"color\":\"#C8D4E3\"},\"line\":{\"color\":\"white\"}},\"type\":\"table\"}]},\"layout\":{\"annotationdefaults\":{\"arrowcolor\":\"#2a3f5f\",\"arrowhead\":0,\"arrowwidth\":1},\"autotypenumbers\":\"strict\",\"coloraxis\":{\"colorbar\":{\"outlinewidth\":0,\"ticks\":\"\"}},\"colorscale\":{\"diverging\":[[0,\"#8e0152\"],[0.1,\"#c51b7d\"],[0.2,\"#de77ae\"],[0.3,\"#f1b6da\"],[0.4,\"#fde0ef\"],[0.5,\"#f7f7f7\"],[0.6,\"#e6f5d0\"],[0.7,\"#b8e186\"],[0.8,\"#7fbc41\"],[0.9,\"#4d9221\"],[1,\"#276419\"]],\"sequential\":[[0.0,\"#0d0887\"],[0.1111111111111111,\"#46039f\"],[0.2222222222222222,\"#7201a8\"],[0.3333333333333333,\"#9c179e\"],[0.4444444444444444,\"#bd3786\"],[0.5555555555555556,\"#d8576b\"],[0.6666666666666666,\"#ed7953\"],[0.7777777777777778,\"#fb9f3a\"],[0.8888888888888888,\"#fdca26\"],[1.0,\"#f0f921\"]],\"sequentialminus\":[[0.0,\"#0d0887\"],[0.1111111111111111,\"#46039f\"],[0.2222222222222222,\"#7201a8\"],[0.3333333333333333,\"#9c179e\"],[0.4444444444444444,\"#bd3786\"],[0.5555555555555556,\"#d8576b\"],[0.6666666666666666,\"#ed7953\"],[0.7777777777777778,\"#fb9f3a\"],[0.8888888888888888,\"#fdca26\"],[1.0,\"#f0f921\"]]},\"colorway\":[\"#636efa\",\"#EF553B\",\"#00cc96\",\"#ab63fa\",\"#FFA15A\",\"#19d3f3\",\"#FF6692\",\"#B6E880\",\"#FF97FF\",\"#FECB52\"],\"font\":{\"color\":\"#2a3f5f\"},\"geo\":{\"bgcolor\":\"white\",\"lakecolor\":\"white\",\"landcolor\":\"#E5ECF6\",\"showlakes\":true,\"showland\":true,\"subunitcolor\":\"white\"},\"hoverlabel\":{\"align\":\"left\"},\"hovermode\":\"closest\",\"mapbox\":{\"style\":\"light\"},\"paper_bgcolor\":\"white\",\"plot_bgcolor\":\"#E5ECF6\",\"polar\":{\"angularaxis\":{\"gridcolor\":\"white\",\"linecolor\":\"white\",\"ticks\":\"\"},\"bgcolor\":\"#E5ECF6\",\"radialaxis\":{\"gridcolor\":\"white\",\"linecolor\":\"white\",\"ticks\":\"\"}},\"scene\":{\"xaxis\":{\"backgroundcolor\":\"#E5ECF6\",\"gridcolor\":\"white\",\"gridwidth\":2,\"linecolor\":\"white\",\"showbackground\":true,\"ticks\":\"\",\"zerolinecolor\":\"white\"},\"yaxis\":{\"backgroundcolor\":\"#E5ECF6\",\"gridcolor\":\"white\",\"gridwidth\":2,\"linecolor\":\"white\",\"showbackground\":true,\"ticks\":\"\",\"zerolinecolor\":\"white\"},\"zaxis\":{\"backgroundcolor\":\"#E5ECF6\",\"gridcolor\":\"white\",\"gridwidth\":2,\"linecolor\":\"white\",\"showbackground\":true,\"ticks\":\"\",\"zerolinecolor\":\"white\"}},\"shapedefaults\":{\"line\":{\"color\":\"#2a3f5f\"}},\"ternary\":{\"aaxis\":{\"gridcolor\":\"white\",\"linecolor\":\"white\",\"ticks\":\"\"},\"baxis\":{\"gridcolor\":\"white\",\"linecolor\":\"white\",\"ticks\":\"\"},\"bgcolor\":\"#E5ECF6\",\"caxis\":{\"gridcolor\":\"white\",\"linecolor\":\"white\",\"ticks\":\"\"}},\"title\":{\"x\":0.05},\"xaxis\":{\"automargin\":true,\"gridcolor\":\"white\",\"linecolor\":\"white\",\"ticks\":\"\",\"title\":{\"standoff\":15},\"zerolinecolor\":\"white\",\"zerolinewidth\":2},\"yaxis\":{\"automargin\":true,\"gridcolor\":\"white\",\"linecolor\":\"white\",\"ticks\":\"\",\"title\":{\"standoff\":15},\"zerolinecolor\":\"white\",\"zerolinewidth\":2}}},\"xaxis\":{\"anchor\":\"y\",\"domain\":[0.0,1.0],\"title\":{\"text\":\"x\"}},\"yaxis\":{\"anchor\":\"x\",\"domain\":[0.0,1.0],\"title\":{\"text\":\"y\"}},\"legend\":{\"title\":{\"text\":\"color\"},\"tracegroupgap\":0},\"title\":{\"text\":\"2D t-SNE visualization\"}},                        {\"responsive\": true}                    ).then(function(){\n",
       "                            \n",
       "var gd = document.getElementById('c7caa1d6-f598-4377-876a-e1406dbb24ff');\n",
       "var x = new MutationObserver(function (mutations, observer) {{\n",
       "        var display = window.getComputedStyle(gd).display;\n",
       "        if (!display || display === 'none') {{\n",
       "            console.log([gd, 'removed!']);\n",
       "            Plotly.purge(gd);\n",
       "            observer.disconnect();\n",
       "        }}\n",
       "}});\n",
       "\n",
       "// Listen for the removal of the full notebook cells\n",
       "var notebookContainer = gd.closest('#notebook-container');\n",
       "if (notebookContainer) {{\n",
       "    x.observe(notebookContainer, {childList: true});\n",
       "}}\n",
       "\n",
       "// Listen for the clearing of the current output cell\n",
       "var outputEl = gd.closest('.output');\n",
       "if (outputEl) {{\n",
       "    x.observe(outputEl, {childList: true});\n",
       "}}\n",
       "\n",
       "                        })                };                });            </script>        </div>"
      ]
     },
     "metadata": {},
     "output_type": "display_data"
    }
   ],
   "source": [
    "# visualize the species\n",
    "fig = px.scatter(x=Y[:, 0], y=Y[:, 1], color=y, title=\"2D t-SNE visualization\")\n",
    "fig.show()"
   ]
  },
  {
   "cell_type": "markdown",
   "id": "19d0a66c",
   "metadata": {},
   "source": [
    "The species from the genus selection seem fairly seperable.\n",
    "\n",
    "Species to separate:\n",
    "- Talapoin\n",
    "- Albigena\n",
    "- Torquatus\n",
    "- Anubis\n",
    "- Larvatus\n",
    "- Troglodytes\n",
    "- Paniscus\n",
    "- Gorilla\n",
    "\n",
    "All other species will be labeled as `other`\n",
    "\n",
    "The result will be a dataset containing `165` observations, with 8 species having 8 observations on average and another species called `other` having `109` observations. This will still be a highly imbalanced dataset. However, we can upsample the undersampled classes by using SMOTE. However, this requires the species to be seperable and that's why we only pick a subset. "
   ]
  },
  {
   "cell_type": "code",
   "execution_count": 69,
   "id": "5ff98adc",
   "metadata": {},
   "outputs": [],
   "source": [
    "# create the new dataset based on the genus selection\n",
    "alternate = df.copy()"
   ]
  },
  {
   "cell_type": "code",
   "execution_count": 77,
   "id": "b8004ff5",
   "metadata": {},
   "outputs": [],
   "source": [
    "alternate.loc[~alternate['Genus'].isin(genus_selection), 'Species'] = 'other'"
   ]
  },
  {
   "cell_type": "code",
   "execution_count": 79,
   "id": "96156f7d",
   "metadata": {},
   "outputs": [
    {
     "data": {
      "text/plain": [
       "other          109\n",
       "torquatus        9\n",
       "anubis           9\n",
       "larvatus         9\n",
       "troglodytes      9\n",
       "albigena         6\n",
       "gorilla          6\n",
       "talapoin         5\n",
       "paniscus         3\n",
       "Name: Species, dtype: int64"
      ]
     },
     "execution_count": 79,
     "metadata": {},
     "output_type": "execute_result"
    }
   ],
   "source": [
    "alternate['Species'].value_counts()"
   ]
  },
  {
   "cell_type": "code",
   "execution_count": 80,
   "id": "2b6c0a11",
   "metadata": {},
   "outputs": [
    {
     "data": {
      "application/vnd.plotly.v1+json": {
       "config": {
        "plotlyServerURL": "https://plot.ly"
       },
       "data": [
        {
         "hovertemplate": "color=other<br>x=%{x}<br>y=%{y}<extra></extra>",
         "legendgroup": "other",
         "marker": {
          "color": "#636efa",
          "symbol": "circle"
         },
         "mode": "markers",
         "name": "other",
         "orientation": "v",
         "showlegend": true,
         "type": "scatter",
         "x": [
          9.828705787658691,
          9.76897144317627,
          9.641623497009277,
          9.792816162109375,
          9.523428916931152,
          9.816354751586914,
          9.853443145751953,
          9.66506576538086,
          9.450643539428711,
          9.57726001739502,
          9.307147026062012,
          9.505976676940918,
          9.449603080749512,
          9.649392127990723,
          9.138097763061523,
          -3.5565872192382812,
          -3.742403268814087,
          -3.743901491165161,
          -3.7181217670440674,
          -3.7265117168426514,
          -3.5735116004943848,
          -3.8150014877319336,
          -4.013675689697266,
          -3.7629501819610596,
          -4.243905067443848,
          -4.2895050048828125,
          -4.0477070808410645,
          -4.015504837036133,
          -4.184250354766846,
          -4.066152095794678,
          -4.1654558181762695,
          -4.064906120300293,
          -4.221950531005859,
          -1.3005824089050293,
          -0.9863495826721191,
          -1.7103970050811768,
          -1.8730566501617432,
          -0.2899045944213867,
          -0.6381977796554565,
          -0.36404019594192505,
          -0.5572945475578308,
          -0.6074912548065186,
          -0.9015113711357117,
          -0.5177316069602966,
          -0.6601182222366333,
          -1.4370225667953491,
          -1.787552833557129,
          -1.6768954992294312,
          -1.740609884262085,
          -1.1474478244781494,
          -1.54953134059906,
          -1.6478523015975952,
          3.6439359188079834,
          3.788558006286621,
          4.0231194496154785,
          4.12253999710083,
          4.025287628173828,
          4.022385120391846,
          4.213526725769043,
          4.599451541900635,
          4.169895172119141,
          4.952606201171875,
          4.424674034118652,
          4.846656799316406,
          4.633509159088135,
          4.639214515686035,
          4.799399375915527,
          5.202383995056152,
          5.257413864135742,
          5.505031108856201,
          5.911628246307373,
          6.524320602416992,
          1.371872901916504,
          1.3916569948196411,
          1.3821946382522583,
          5.549440383911133,
          0.7732639312744141,
          -1.1261560916900635,
          -0.6993654370307922,
          -0.4707980751991272,
          -0.6044176816940308,
          -1.089600920677185,
          -0.9273282289505005,
          -1.29685378074646,
          -0.8531384468078613,
          -0.7476508617401123,
          -1.2010363340377808,
          -1.0998972654342651,
          -1.2110464572906494,
          -1.384216070175171,
          -1.9965161085128784,
          -2.2083089351654053,
          -6.445945739746094,
          0.21155919134616852,
          -0.8118071556091309,
          -0.8042327165603638,
          -0.8896768093109131,
          -0.9254224300384521,
          -1.0116215944290161,
          -0.9662079811096191,
          -1.0771178007125854,
          -1.2862509489059448,
          -1.30219566822052,
          -1.4512372016906738,
          -1.5319572687149048,
          -1.4439258575439453,
          -1.5141047239303589,
          -1.6946570873260498,
          -1.6476777791976929
         ],
         "xaxis": "x",
         "y": [
          -4.5030622482299805,
          -4.311244964599609,
          -4.796391010284424,
          -4.459084987640381,
          -4.164031028747559,
          -4.609023094177246,
          -4.412751197814941,
          -4.778528213500977,
          -4.766037940979004,
          -4.216433525085449,
          -4.73550271987915,
          -4.802736282348633,
          -4.179542541503906,
          -4.28103494644165,
          -4.58045768737793,
          1.6044001579284668,
          1.5411105155944824,
          1.544351577758789,
          1.3177945613861084,
          1.3523292541503906,
          1.5331398248672485,
          1.527632474899292,
          1.498661756515503,
          1.1622852087020874,
          1.1410682201385498,
          1.2820614576339722,
          1.1496386528015137,
          1.0984693765640259,
          1.5510687828063965,
          0.8636910915374756,
          1.1464803218841553,
          1.4930388927459717,
          1.3866026401519775,
          -3.3994243144989014,
          -3.7645556926727295,
          -3.589738368988037,
          -3.8473939895629883,
          -4.254012584686279,
          -5.105381488800049,
          -3.9831814765930176,
          -4.356873512268066,
          -4.65355110168457,
          -3.8347768783569336,
          -4.602858066558838,
          -4.352019786834717,
          -3.8704590797424316,
          -5.659992218017578,
          -4.489441394805908,
          -3.6759233474731445,
          -4.709652900695801,
          -4.508425235748291,
          -4.0673909187316895,
          -0.8397595286369324,
          -1.1802825927734375,
          -1.1629201173782349,
          -1.1180683374404907,
          -1.3288642168045044,
          -1.2030912637710571,
          -1.4767076969146729,
          -1.4773699045181274,
          -1.6889703273773193,
          -1.5406728982925415,
          -1.915041446685791,
          -1.6359302997589111,
          -1.855337381362915,
          -1.8404070138931274,
          -2.0794320106506348,
          -1.7409387826919556,
          -2.0043699741363525,
          -2.0474486351013184,
          -2.004300594329834,
          -2.178476333618164,
          2.809514284133911,
          2.8067052364349365,
          2.823822498321533,
          -0.30684128403663635,
          1.093402624130249,
          -3.5446653366088867,
          -3.1939361095428467,
          -3.5062756538391113,
          -3.7173216342926025,
          -4.49524450302124,
          -3.8624727725982666,
          -4.360170364379883,
          -4.101175308227539,
          -5.405130863189697,
          -4.288078784942627,
          -4.140627384185791,
          -4.795642375946045,
          -4.6955952644348145,
          -2.9840662479400635,
          -2.867887496948242,
          -3.0234131813049316,
          2.518656015396118,
          2.4959936141967773,
          2.486448049545288,
          2.6027984619140625,
          2.3615245819091797,
          2.435647964477539,
          2.411924362182617,
          2.301673412322998,
          2.235029697418213,
          2.4218428134918213,
          2.449127435684204,
          2.394883632659912,
          2.413552761077881,
          2.3639774322509766,
          2.321350336074829,
          2.2941949367523193
         ],
         "yaxis": "y"
        },
        {
         "hovertemplate": "color=talapoin<br>x=%{x}<br>y=%{y}<extra></extra>",
         "legendgroup": "talapoin",
         "marker": {
          "color": "#EF553B",
          "symbol": "circle"
         },
         "mode": "markers",
         "name": "talapoin",
         "orientation": "v",
         "showlegend": true,
         "type": "scatter",
         "x": [
          9.082483291625977,
          9.139853477478027,
          8.985387802124023,
          8.962888717651367,
          8.993021011352539
         ],
         "xaxis": "x",
         "y": [
          -4.168076515197754,
          -4.141307830810547,
          -4.47036075592041,
          -4.254055500030518,
          -4.3354387283325195
         ],
         "yaxis": "y"
        },
        {
         "hovertemplate": "color=albigena<br>x=%{x}<br>y=%{y}<extra></extra>",
         "legendgroup": "albigena",
         "marker": {
          "color": "#00cc96",
          "symbol": "circle"
         },
         "mode": "markers",
         "name": "albigena",
         "orientation": "v",
         "showlegend": true,
         "type": "scatter",
         "x": [
          6.899401664733887,
          6.686721324920654,
          6.860642910003662,
          6.806887149810791,
          9.343864440917969,
          6.416675567626953
         ],
         "xaxis": "x",
         "y": [
          -2.0393874645233154,
          -1.99024498462677,
          -1.9874024391174316,
          -1.9263418912887573,
          -4.816983699798584,
          -1.8811407089233398
         ],
         "yaxis": "y"
        },
        {
         "hovertemplate": "color=torquatus<br>x=%{x}<br>y=%{y}<extra></extra>",
         "legendgroup": "torquatus",
         "marker": {
          "color": "#ab63fa",
          "symbol": "circle"
         },
         "mode": "markers",
         "name": "torquatus",
         "orientation": "v",
         "showlegend": true,
         "type": "scatter",
         "x": [
          4.796290874481201,
          4.988455295562744,
          5.341858863830566,
          5.983438014984131,
          5.215162754058838,
          6.455885410308838,
          5.540273666381836,
          5.235693454742432,
          5.445168495178223
         ],
         "xaxis": "x",
         "y": [
          -2.2746634483337402,
          -2.5072216987609863,
          -2.521637439727783,
          -2.8337759971618652,
          -2.5761892795562744,
          -2.6047310829162598,
          -2.5012848377227783,
          -2.3843135833740234,
          -2.5048789978027344
         ],
         "yaxis": "y"
        },
        {
         "hovertemplate": "color=anubis<br>x=%{x}<br>y=%{y}<extra></extra>",
         "legendgroup": "anubis",
         "marker": {
          "color": "#FFA15A",
          "symbol": "circle"
         },
         "mode": "markers",
         "name": "anubis",
         "orientation": "v",
         "showlegend": true,
         "type": "scatter",
         "x": [
          0.32032179832458496,
          0.48056960105895996,
          0.9042423367500305,
          0.8235083222389221,
          0.730903148651123,
          0.976368248462677,
          1.1878416538238525,
          0.6938832402229309,
          -2.1198673248291016
         ],
         "xaxis": "x",
         "y": [
          1.4400806427001953,
          1.1235151290893555,
          0.5448141694068909,
          0.4037667512893677,
          0.6552577614784241,
          0.4851209819316864,
          0.2642403244972229,
          0.566463053226471,
          -2.9718191623687744
         ],
         "yaxis": "y"
        },
        {
         "hovertemplate": "color=larvatus<br>x=%{x}<br>y=%{y}<extra></extra>",
         "legendgroup": "larvatus",
         "marker": {
          "color": "#19d3f3",
          "symbol": "circle"
         },
         "mode": "markers",
         "name": "larvatus",
         "orientation": "v",
         "showlegend": true,
         "type": "scatter",
         "x": [
          1.865389347076416,
          2.7350525856018066,
          2.9555323123931885,
          3.551578998565674,
          1.6171574592590332,
          1.5531105995178223,
          1.576367974281311,
          1.6914689540863037,
          1.600687026977539
         ],
         "xaxis": "x",
         "y": [
          -0.4806350767612457,
          -0.9847151637077332,
          -1.2223193645477295,
          -1.7212942838668823,
          -0.31789711117744446,
          -0.23091936111450195,
          -0.3064735531806946,
          -0.42179909348487854,
          -0.4799325168132782
         ],
         "yaxis": "y"
        },
        {
         "hovertemplate": "color=troglodytes<br>x=%{x}<br>y=%{y}<extra></extra>",
         "legendgroup": "troglodytes",
         "marker": {
          "color": "#FF6692",
          "symbol": "circle"
         },
         "mode": "markers",
         "name": "troglodytes",
         "orientation": "v",
         "showlegend": true,
         "type": "scatter",
         "x": [
          -6.569851398468018,
          -6.290817737579346,
          -6.272915363311768,
          -5.974134922027588,
          -6.377287864685059,
          -6.144253253936768,
          -5.90756368637085,
          -6.248602390289307,
          -6.614528656005859
         ],
         "xaxis": "x",
         "y": [
          -2.940706968307495,
          -3.040914535522461,
          -3.1656079292297363,
          -3.0769248008728027,
          -2.9789483547210693,
          -3.026242256164551,
          -3.0527760982513428,
          -2.9327337741851807,
          -3.132150650024414
         ],
         "yaxis": "y"
        },
        {
         "hovertemplate": "color=paniscus<br>x=%{x}<br>y=%{y}<extra></extra>",
         "legendgroup": "paniscus",
         "marker": {
          "color": "#B6E880",
          "symbol": "circle"
         },
         "mode": "markers",
         "name": "paniscus",
         "orientation": "v",
         "showlegend": true,
         "type": "scatter",
         "x": [
          -6.510024547576904,
          -6.590537071228027,
          -6.567680835723877
         ],
         "xaxis": "x",
         "y": [
          -3.146167516708374,
          -3.367403030395508,
          -3.3219852447509766
         ],
         "yaxis": "y"
        },
        {
         "hovertemplate": "color=gorilla<br>x=%{x}<br>y=%{y}<extra></extra>",
         "legendgroup": "gorilla",
         "marker": {
          "color": "#FF97FF",
          "symbol": "circle"
         },
         "mode": "markers",
         "name": "gorilla",
         "orientation": "v",
         "showlegend": true,
         "type": "scatter",
         "x": [
          -7.089005947113037,
          -7.123398303985596,
          -6.956730365753174,
          -7.1576032638549805,
          -7.11610221862793,
          -7.0494208335876465
         ],
         "xaxis": "x",
         "y": [
          -2.661733865737915,
          -2.89268159866333,
          -2.8038127422332764,
          -2.6806893348693848,
          -3.2261204719543457,
          -3.188230276107788
         ],
         "yaxis": "y"
        }
       ],
       "layout": {
        "legend": {
         "title": {
          "text": "color"
         },
         "tracegroupgap": 0
        },
        "template": {
         "data": {
          "bar": [
           {
            "error_x": {
             "color": "#2a3f5f"
            },
            "error_y": {
             "color": "#2a3f5f"
            },
            "marker": {
             "line": {
              "color": "#E5ECF6",
              "width": 0.5
             },
             "pattern": {
              "fillmode": "overlay",
              "size": 10,
              "solidity": 0.2
             }
            },
            "type": "bar"
           }
          ],
          "barpolar": [
           {
            "marker": {
             "line": {
              "color": "#E5ECF6",
              "width": 0.5
             },
             "pattern": {
              "fillmode": "overlay",
              "size": 10,
              "solidity": 0.2
             }
            },
            "type": "barpolar"
           }
          ],
          "carpet": [
           {
            "aaxis": {
             "endlinecolor": "#2a3f5f",
             "gridcolor": "white",
             "linecolor": "white",
             "minorgridcolor": "white",
             "startlinecolor": "#2a3f5f"
            },
            "baxis": {
             "endlinecolor": "#2a3f5f",
             "gridcolor": "white",
             "linecolor": "white",
             "minorgridcolor": "white",
             "startlinecolor": "#2a3f5f"
            },
            "type": "carpet"
           }
          ],
          "choropleth": [
           {
            "colorbar": {
             "outlinewidth": 0,
             "ticks": ""
            },
            "type": "choropleth"
           }
          ],
          "contour": [
           {
            "colorbar": {
             "outlinewidth": 0,
             "ticks": ""
            },
            "colorscale": [
             [
              0,
              "#0d0887"
             ],
             [
              0.1111111111111111,
              "#46039f"
             ],
             [
              0.2222222222222222,
              "#7201a8"
             ],
             [
              0.3333333333333333,
              "#9c179e"
             ],
             [
              0.4444444444444444,
              "#bd3786"
             ],
             [
              0.5555555555555556,
              "#d8576b"
             ],
             [
              0.6666666666666666,
              "#ed7953"
             ],
             [
              0.7777777777777778,
              "#fb9f3a"
             ],
             [
              0.8888888888888888,
              "#fdca26"
             ],
             [
              1,
              "#f0f921"
             ]
            ],
            "type": "contour"
           }
          ],
          "contourcarpet": [
           {
            "colorbar": {
             "outlinewidth": 0,
             "ticks": ""
            },
            "type": "contourcarpet"
           }
          ],
          "heatmap": [
           {
            "colorbar": {
             "outlinewidth": 0,
             "ticks": ""
            },
            "colorscale": [
             [
              0,
              "#0d0887"
             ],
             [
              0.1111111111111111,
              "#46039f"
             ],
             [
              0.2222222222222222,
              "#7201a8"
             ],
             [
              0.3333333333333333,
              "#9c179e"
             ],
             [
              0.4444444444444444,
              "#bd3786"
             ],
             [
              0.5555555555555556,
              "#d8576b"
             ],
             [
              0.6666666666666666,
              "#ed7953"
             ],
             [
              0.7777777777777778,
              "#fb9f3a"
             ],
             [
              0.8888888888888888,
              "#fdca26"
             ],
             [
              1,
              "#f0f921"
             ]
            ],
            "type": "heatmap"
           }
          ],
          "heatmapgl": [
           {
            "colorbar": {
             "outlinewidth": 0,
             "ticks": ""
            },
            "colorscale": [
             [
              0,
              "#0d0887"
             ],
             [
              0.1111111111111111,
              "#46039f"
             ],
             [
              0.2222222222222222,
              "#7201a8"
             ],
             [
              0.3333333333333333,
              "#9c179e"
             ],
             [
              0.4444444444444444,
              "#bd3786"
             ],
             [
              0.5555555555555556,
              "#d8576b"
             ],
             [
              0.6666666666666666,
              "#ed7953"
             ],
             [
              0.7777777777777778,
              "#fb9f3a"
             ],
             [
              0.8888888888888888,
              "#fdca26"
             ],
             [
              1,
              "#f0f921"
             ]
            ],
            "type": "heatmapgl"
           }
          ],
          "histogram": [
           {
            "marker": {
             "pattern": {
              "fillmode": "overlay",
              "size": 10,
              "solidity": 0.2
             }
            },
            "type": "histogram"
           }
          ],
          "histogram2d": [
           {
            "colorbar": {
             "outlinewidth": 0,
             "ticks": ""
            },
            "colorscale": [
             [
              0,
              "#0d0887"
             ],
             [
              0.1111111111111111,
              "#46039f"
             ],
             [
              0.2222222222222222,
              "#7201a8"
             ],
             [
              0.3333333333333333,
              "#9c179e"
             ],
             [
              0.4444444444444444,
              "#bd3786"
             ],
             [
              0.5555555555555556,
              "#d8576b"
             ],
             [
              0.6666666666666666,
              "#ed7953"
             ],
             [
              0.7777777777777778,
              "#fb9f3a"
             ],
             [
              0.8888888888888888,
              "#fdca26"
             ],
             [
              1,
              "#f0f921"
             ]
            ],
            "type": "histogram2d"
           }
          ],
          "histogram2dcontour": [
           {
            "colorbar": {
             "outlinewidth": 0,
             "ticks": ""
            },
            "colorscale": [
             [
              0,
              "#0d0887"
             ],
             [
              0.1111111111111111,
              "#46039f"
             ],
             [
              0.2222222222222222,
              "#7201a8"
             ],
             [
              0.3333333333333333,
              "#9c179e"
             ],
             [
              0.4444444444444444,
              "#bd3786"
             ],
             [
              0.5555555555555556,
              "#d8576b"
             ],
             [
              0.6666666666666666,
              "#ed7953"
             ],
             [
              0.7777777777777778,
              "#fb9f3a"
             ],
             [
              0.8888888888888888,
              "#fdca26"
             ],
             [
              1,
              "#f0f921"
             ]
            ],
            "type": "histogram2dcontour"
           }
          ],
          "mesh3d": [
           {
            "colorbar": {
             "outlinewidth": 0,
             "ticks": ""
            },
            "type": "mesh3d"
           }
          ],
          "parcoords": [
           {
            "line": {
             "colorbar": {
              "outlinewidth": 0,
              "ticks": ""
             }
            },
            "type": "parcoords"
           }
          ],
          "pie": [
           {
            "automargin": true,
            "type": "pie"
           }
          ],
          "scatter": [
           {
            "marker": {
             "colorbar": {
              "outlinewidth": 0,
              "ticks": ""
             }
            },
            "type": "scatter"
           }
          ],
          "scatter3d": [
           {
            "line": {
             "colorbar": {
              "outlinewidth": 0,
              "ticks": ""
             }
            },
            "marker": {
             "colorbar": {
              "outlinewidth": 0,
              "ticks": ""
             }
            },
            "type": "scatter3d"
           }
          ],
          "scattercarpet": [
           {
            "marker": {
             "colorbar": {
              "outlinewidth": 0,
              "ticks": ""
             }
            },
            "type": "scattercarpet"
           }
          ],
          "scattergeo": [
           {
            "marker": {
             "colorbar": {
              "outlinewidth": 0,
              "ticks": ""
             }
            },
            "type": "scattergeo"
           }
          ],
          "scattergl": [
           {
            "marker": {
             "colorbar": {
              "outlinewidth": 0,
              "ticks": ""
             }
            },
            "type": "scattergl"
           }
          ],
          "scattermapbox": [
           {
            "marker": {
             "colorbar": {
              "outlinewidth": 0,
              "ticks": ""
             }
            },
            "type": "scattermapbox"
           }
          ],
          "scatterpolar": [
           {
            "marker": {
             "colorbar": {
              "outlinewidth": 0,
              "ticks": ""
             }
            },
            "type": "scatterpolar"
           }
          ],
          "scatterpolargl": [
           {
            "marker": {
             "colorbar": {
              "outlinewidth": 0,
              "ticks": ""
             }
            },
            "type": "scatterpolargl"
           }
          ],
          "scatterternary": [
           {
            "marker": {
             "colorbar": {
              "outlinewidth": 0,
              "ticks": ""
             }
            },
            "type": "scatterternary"
           }
          ],
          "surface": [
           {
            "colorbar": {
             "outlinewidth": 0,
             "ticks": ""
            },
            "colorscale": [
             [
              0,
              "#0d0887"
             ],
             [
              0.1111111111111111,
              "#46039f"
             ],
             [
              0.2222222222222222,
              "#7201a8"
             ],
             [
              0.3333333333333333,
              "#9c179e"
             ],
             [
              0.4444444444444444,
              "#bd3786"
             ],
             [
              0.5555555555555556,
              "#d8576b"
             ],
             [
              0.6666666666666666,
              "#ed7953"
             ],
             [
              0.7777777777777778,
              "#fb9f3a"
             ],
             [
              0.8888888888888888,
              "#fdca26"
             ],
             [
              1,
              "#f0f921"
             ]
            ],
            "type": "surface"
           }
          ],
          "table": [
           {
            "cells": {
             "fill": {
              "color": "#EBF0F8"
             },
             "line": {
              "color": "white"
             }
            },
            "header": {
             "fill": {
              "color": "#C8D4E3"
             },
             "line": {
              "color": "white"
             }
            },
            "type": "table"
           }
          ]
         },
         "layout": {
          "annotationdefaults": {
           "arrowcolor": "#2a3f5f",
           "arrowhead": 0,
           "arrowwidth": 1
          },
          "autotypenumbers": "strict",
          "coloraxis": {
           "colorbar": {
            "outlinewidth": 0,
            "ticks": ""
           }
          },
          "colorscale": {
           "diverging": [
            [
             0,
             "#8e0152"
            ],
            [
             0.1,
             "#c51b7d"
            ],
            [
             0.2,
             "#de77ae"
            ],
            [
             0.3,
             "#f1b6da"
            ],
            [
             0.4,
             "#fde0ef"
            ],
            [
             0.5,
             "#f7f7f7"
            ],
            [
             0.6,
             "#e6f5d0"
            ],
            [
             0.7,
             "#b8e186"
            ],
            [
             0.8,
             "#7fbc41"
            ],
            [
             0.9,
             "#4d9221"
            ],
            [
             1,
             "#276419"
            ]
           ],
           "sequential": [
            [
             0,
             "#0d0887"
            ],
            [
             0.1111111111111111,
             "#46039f"
            ],
            [
             0.2222222222222222,
             "#7201a8"
            ],
            [
             0.3333333333333333,
             "#9c179e"
            ],
            [
             0.4444444444444444,
             "#bd3786"
            ],
            [
             0.5555555555555556,
             "#d8576b"
            ],
            [
             0.6666666666666666,
             "#ed7953"
            ],
            [
             0.7777777777777778,
             "#fb9f3a"
            ],
            [
             0.8888888888888888,
             "#fdca26"
            ],
            [
             1,
             "#f0f921"
            ]
           ],
           "sequentialminus": [
            [
             0,
             "#0d0887"
            ],
            [
             0.1111111111111111,
             "#46039f"
            ],
            [
             0.2222222222222222,
             "#7201a8"
            ],
            [
             0.3333333333333333,
             "#9c179e"
            ],
            [
             0.4444444444444444,
             "#bd3786"
            ],
            [
             0.5555555555555556,
             "#d8576b"
            ],
            [
             0.6666666666666666,
             "#ed7953"
            ],
            [
             0.7777777777777778,
             "#fb9f3a"
            ],
            [
             0.8888888888888888,
             "#fdca26"
            ],
            [
             1,
             "#f0f921"
            ]
           ]
          },
          "colorway": [
           "#636efa",
           "#EF553B",
           "#00cc96",
           "#ab63fa",
           "#FFA15A",
           "#19d3f3",
           "#FF6692",
           "#B6E880",
           "#FF97FF",
           "#FECB52"
          ],
          "font": {
           "color": "#2a3f5f"
          },
          "geo": {
           "bgcolor": "white",
           "lakecolor": "white",
           "landcolor": "#E5ECF6",
           "showlakes": true,
           "showland": true,
           "subunitcolor": "white"
          },
          "hoverlabel": {
           "align": "left"
          },
          "hovermode": "closest",
          "mapbox": {
           "style": "light"
          },
          "paper_bgcolor": "white",
          "plot_bgcolor": "#E5ECF6",
          "polar": {
           "angularaxis": {
            "gridcolor": "white",
            "linecolor": "white",
            "ticks": ""
           },
           "bgcolor": "#E5ECF6",
           "radialaxis": {
            "gridcolor": "white",
            "linecolor": "white",
            "ticks": ""
           }
          },
          "scene": {
           "xaxis": {
            "backgroundcolor": "#E5ECF6",
            "gridcolor": "white",
            "gridwidth": 2,
            "linecolor": "white",
            "showbackground": true,
            "ticks": "",
            "zerolinecolor": "white"
           },
           "yaxis": {
            "backgroundcolor": "#E5ECF6",
            "gridcolor": "white",
            "gridwidth": 2,
            "linecolor": "white",
            "showbackground": true,
            "ticks": "",
            "zerolinecolor": "white"
           },
           "zaxis": {
            "backgroundcolor": "#E5ECF6",
            "gridcolor": "white",
            "gridwidth": 2,
            "linecolor": "white",
            "showbackground": true,
            "ticks": "",
            "zerolinecolor": "white"
           }
          },
          "shapedefaults": {
           "line": {
            "color": "#2a3f5f"
           }
          },
          "ternary": {
           "aaxis": {
            "gridcolor": "white",
            "linecolor": "white",
            "ticks": ""
           },
           "baxis": {
            "gridcolor": "white",
            "linecolor": "white",
            "ticks": ""
           },
           "bgcolor": "#E5ECF6",
           "caxis": {
            "gridcolor": "white",
            "linecolor": "white",
            "ticks": ""
           }
          },
          "title": {
           "x": 0.05
          },
          "xaxis": {
           "automargin": true,
           "gridcolor": "white",
           "linecolor": "white",
           "ticks": "",
           "title": {
            "standoff": 15
           },
           "zerolinecolor": "white",
           "zerolinewidth": 2
          },
          "yaxis": {
           "automargin": true,
           "gridcolor": "white",
           "linecolor": "white",
           "ticks": "",
           "title": {
            "standoff": 15
           },
           "zerolinecolor": "white",
           "zerolinewidth": 2
          }
         }
        },
        "title": {
         "text": "2D t-SNE visualization"
        },
        "xaxis": {
         "anchor": "y",
         "domain": [
          0,
          1
         ],
         "title": {
          "text": "x"
         }
        },
        "yaxis": {
         "anchor": "x",
         "domain": [
          0,
          1
         ],
         "title": {
          "text": "y"
         }
        }
       }
      },
      "text/html": [
       "<div>                            <div id=\"f2d22a98-c020-4c4b-9c20-db981e1de577\" class=\"plotly-graph-div\" style=\"height:525px; width:100%;\"></div>            <script type=\"text/javascript\">                require([\"plotly\"], function(Plotly) {                    window.PLOTLYENV=window.PLOTLYENV || {};                                    if (document.getElementById(\"f2d22a98-c020-4c4b-9c20-db981e1de577\")) {                    Plotly.newPlot(                        \"f2d22a98-c020-4c4b-9c20-db981e1de577\",                        [{\"hovertemplate\":\"color=other<br>x=%{x}<br>y=%{y}<extra></extra>\",\"legendgroup\":\"other\",\"marker\":{\"color\":\"#636efa\",\"symbol\":\"circle\"},\"mode\":\"markers\",\"name\":\"other\",\"orientation\":\"v\",\"showlegend\":true,\"x\":[9.828705787658691,9.76897144317627,9.641623497009277,9.792816162109375,9.523428916931152,9.816354751586914,9.853443145751953,9.66506576538086,9.450643539428711,9.57726001739502,9.307147026062012,9.505976676940918,9.449603080749512,9.649392127990723,9.138097763061523,-3.5565872192382812,-3.742403268814087,-3.743901491165161,-3.7181217670440674,-3.7265117168426514,-3.5735116004943848,-3.8150014877319336,-4.013675689697266,-3.7629501819610596,-4.243905067443848,-4.2895050048828125,-4.0477070808410645,-4.015504837036133,-4.184250354766846,-4.066152095794678,-4.1654558181762695,-4.064906120300293,-4.221950531005859,-1.3005824089050293,-0.9863495826721191,-1.7103970050811768,-1.8730566501617432,-0.2899045944213867,-0.6381977796554565,-0.36404019594192505,-0.5572945475578308,-0.6074912548065186,-0.9015113711357117,-0.5177316069602966,-0.6601182222366333,-1.4370225667953491,-1.787552833557129,-1.6768954992294312,-1.740609884262085,-1.1474478244781494,-1.54953134059906,-1.6478523015975952,3.6439359188079834,3.788558006286621,4.0231194496154785,4.12253999710083,4.025287628173828,4.022385120391846,4.213526725769043,4.599451541900635,4.169895172119141,4.952606201171875,4.424674034118652,4.846656799316406,4.633509159088135,4.639214515686035,4.799399375915527,5.202383995056152,5.257413864135742,5.505031108856201,5.911628246307373,6.524320602416992,1.371872901916504,1.3916569948196411,1.3821946382522583,5.549440383911133,0.7732639312744141,-1.1261560916900635,-0.6993654370307922,-0.4707980751991272,-0.6044176816940308,-1.089600920677185,-0.9273282289505005,-1.29685378074646,-0.8531384468078613,-0.7476508617401123,-1.2010363340377808,-1.0998972654342651,-1.2110464572906494,-1.384216070175171,-1.9965161085128784,-2.2083089351654053,-6.445945739746094,0.21155919134616852,-0.8118071556091309,-0.8042327165603638,-0.8896768093109131,-0.9254224300384521,-1.0116215944290161,-0.9662079811096191,-1.0771178007125854,-1.2862509489059448,-1.30219566822052,-1.4512372016906738,-1.5319572687149048,-1.4439258575439453,-1.5141047239303589,-1.6946570873260498,-1.6476777791976929],\"xaxis\":\"x\",\"y\":[-4.5030622482299805,-4.311244964599609,-4.796391010284424,-4.459084987640381,-4.164031028747559,-4.609023094177246,-4.412751197814941,-4.778528213500977,-4.766037940979004,-4.216433525085449,-4.73550271987915,-4.802736282348633,-4.179542541503906,-4.28103494644165,-4.58045768737793,1.6044001579284668,1.5411105155944824,1.544351577758789,1.3177945613861084,1.3523292541503906,1.5331398248672485,1.527632474899292,1.498661756515503,1.1622852087020874,1.1410682201385498,1.2820614576339722,1.1496386528015137,1.0984693765640259,1.5510687828063965,0.8636910915374756,1.1464803218841553,1.4930388927459717,1.3866026401519775,-3.3994243144989014,-3.7645556926727295,-3.589738368988037,-3.8473939895629883,-4.254012584686279,-5.105381488800049,-3.9831814765930176,-4.356873512268066,-4.65355110168457,-3.8347768783569336,-4.602858066558838,-4.352019786834717,-3.8704590797424316,-5.659992218017578,-4.489441394805908,-3.6759233474731445,-4.709652900695801,-4.508425235748291,-4.0673909187316895,-0.8397595286369324,-1.1802825927734375,-1.1629201173782349,-1.1180683374404907,-1.3288642168045044,-1.2030912637710571,-1.4767076969146729,-1.4773699045181274,-1.6889703273773193,-1.5406728982925415,-1.915041446685791,-1.6359302997589111,-1.855337381362915,-1.8404070138931274,-2.0794320106506348,-1.7409387826919556,-2.0043699741363525,-2.0474486351013184,-2.004300594329834,-2.178476333618164,2.809514284133911,2.8067052364349365,2.823822498321533,-0.30684128403663635,1.093402624130249,-3.5446653366088867,-3.1939361095428467,-3.5062756538391113,-3.7173216342926025,-4.49524450302124,-3.8624727725982666,-4.360170364379883,-4.101175308227539,-5.405130863189697,-4.288078784942627,-4.140627384185791,-4.795642375946045,-4.6955952644348145,-2.9840662479400635,-2.867887496948242,-3.0234131813049316,2.518656015396118,2.4959936141967773,2.486448049545288,2.6027984619140625,2.3615245819091797,2.435647964477539,2.411924362182617,2.301673412322998,2.235029697418213,2.4218428134918213,2.449127435684204,2.394883632659912,2.413552761077881,2.3639774322509766,2.321350336074829,2.2941949367523193],\"yaxis\":\"y\",\"type\":\"scatter\"},{\"hovertemplate\":\"color=talapoin<br>x=%{x}<br>y=%{y}<extra></extra>\",\"legendgroup\":\"talapoin\",\"marker\":{\"color\":\"#EF553B\",\"symbol\":\"circle\"},\"mode\":\"markers\",\"name\":\"talapoin\",\"orientation\":\"v\",\"showlegend\":true,\"x\":[9.082483291625977,9.139853477478027,8.985387802124023,8.962888717651367,8.993021011352539],\"xaxis\":\"x\",\"y\":[-4.168076515197754,-4.141307830810547,-4.47036075592041,-4.254055500030518,-4.3354387283325195],\"yaxis\":\"y\",\"type\":\"scatter\"},{\"hovertemplate\":\"color=albigena<br>x=%{x}<br>y=%{y}<extra></extra>\",\"legendgroup\":\"albigena\",\"marker\":{\"color\":\"#00cc96\",\"symbol\":\"circle\"},\"mode\":\"markers\",\"name\":\"albigena\",\"orientation\":\"v\",\"showlegend\":true,\"x\":[6.899401664733887,6.686721324920654,6.860642910003662,6.806887149810791,9.343864440917969,6.416675567626953],\"xaxis\":\"x\",\"y\":[-2.0393874645233154,-1.99024498462677,-1.9874024391174316,-1.9263418912887573,-4.816983699798584,-1.8811407089233398],\"yaxis\":\"y\",\"type\":\"scatter\"},{\"hovertemplate\":\"color=torquatus<br>x=%{x}<br>y=%{y}<extra></extra>\",\"legendgroup\":\"torquatus\",\"marker\":{\"color\":\"#ab63fa\",\"symbol\":\"circle\"},\"mode\":\"markers\",\"name\":\"torquatus\",\"orientation\":\"v\",\"showlegend\":true,\"x\":[4.796290874481201,4.988455295562744,5.341858863830566,5.983438014984131,5.215162754058838,6.455885410308838,5.540273666381836,5.235693454742432,5.445168495178223],\"xaxis\":\"x\",\"y\":[-2.2746634483337402,-2.5072216987609863,-2.521637439727783,-2.8337759971618652,-2.5761892795562744,-2.6047310829162598,-2.5012848377227783,-2.3843135833740234,-2.5048789978027344],\"yaxis\":\"y\",\"type\":\"scatter\"},{\"hovertemplate\":\"color=anubis<br>x=%{x}<br>y=%{y}<extra></extra>\",\"legendgroup\":\"anubis\",\"marker\":{\"color\":\"#FFA15A\",\"symbol\":\"circle\"},\"mode\":\"markers\",\"name\":\"anubis\",\"orientation\":\"v\",\"showlegend\":true,\"x\":[0.32032179832458496,0.48056960105895996,0.9042423367500305,0.8235083222389221,0.730903148651123,0.976368248462677,1.1878416538238525,0.6938832402229309,-2.1198673248291016],\"xaxis\":\"x\",\"y\":[1.4400806427001953,1.1235151290893555,0.5448141694068909,0.4037667512893677,0.6552577614784241,0.4851209819316864,0.2642403244972229,0.566463053226471,-2.9718191623687744],\"yaxis\":\"y\",\"type\":\"scatter\"},{\"hovertemplate\":\"color=larvatus<br>x=%{x}<br>y=%{y}<extra></extra>\",\"legendgroup\":\"larvatus\",\"marker\":{\"color\":\"#19d3f3\",\"symbol\":\"circle\"},\"mode\":\"markers\",\"name\":\"larvatus\",\"orientation\":\"v\",\"showlegend\":true,\"x\":[1.865389347076416,2.7350525856018066,2.9555323123931885,3.551578998565674,1.6171574592590332,1.5531105995178223,1.576367974281311,1.6914689540863037,1.600687026977539],\"xaxis\":\"x\",\"y\":[-0.4806350767612457,-0.9847151637077332,-1.2223193645477295,-1.7212942838668823,-0.31789711117744446,-0.23091936111450195,-0.3064735531806946,-0.42179909348487854,-0.4799325168132782],\"yaxis\":\"y\",\"type\":\"scatter\"},{\"hovertemplate\":\"color=troglodytes<br>x=%{x}<br>y=%{y}<extra></extra>\",\"legendgroup\":\"troglodytes\",\"marker\":{\"color\":\"#FF6692\",\"symbol\":\"circle\"},\"mode\":\"markers\",\"name\":\"troglodytes\",\"orientation\":\"v\",\"showlegend\":true,\"x\":[-6.569851398468018,-6.290817737579346,-6.272915363311768,-5.974134922027588,-6.377287864685059,-6.144253253936768,-5.90756368637085,-6.248602390289307,-6.614528656005859],\"xaxis\":\"x\",\"y\":[-2.940706968307495,-3.040914535522461,-3.1656079292297363,-3.0769248008728027,-2.9789483547210693,-3.026242256164551,-3.0527760982513428,-2.9327337741851807,-3.132150650024414],\"yaxis\":\"y\",\"type\":\"scatter\"},{\"hovertemplate\":\"color=paniscus<br>x=%{x}<br>y=%{y}<extra></extra>\",\"legendgroup\":\"paniscus\",\"marker\":{\"color\":\"#B6E880\",\"symbol\":\"circle\"},\"mode\":\"markers\",\"name\":\"paniscus\",\"orientation\":\"v\",\"showlegend\":true,\"x\":[-6.510024547576904,-6.590537071228027,-6.567680835723877],\"xaxis\":\"x\",\"y\":[-3.146167516708374,-3.367403030395508,-3.3219852447509766],\"yaxis\":\"y\",\"type\":\"scatter\"},{\"hovertemplate\":\"color=gorilla<br>x=%{x}<br>y=%{y}<extra></extra>\",\"legendgroup\":\"gorilla\",\"marker\":{\"color\":\"#FF97FF\",\"symbol\":\"circle\"},\"mode\":\"markers\",\"name\":\"gorilla\",\"orientation\":\"v\",\"showlegend\":true,\"x\":[-7.089005947113037,-7.123398303985596,-6.956730365753174,-7.1576032638549805,-7.11610221862793,-7.0494208335876465],\"xaxis\":\"x\",\"y\":[-2.661733865737915,-2.89268159866333,-2.8038127422332764,-2.6806893348693848,-3.2261204719543457,-3.188230276107788],\"yaxis\":\"y\",\"type\":\"scatter\"}],                        {\"template\":{\"data\":{\"bar\":[{\"error_x\":{\"color\":\"#2a3f5f\"},\"error_y\":{\"color\":\"#2a3f5f\"},\"marker\":{\"line\":{\"color\":\"#E5ECF6\",\"width\":0.5},\"pattern\":{\"fillmode\":\"overlay\",\"size\":10,\"solidity\":0.2}},\"type\":\"bar\"}],\"barpolar\":[{\"marker\":{\"line\":{\"color\":\"#E5ECF6\",\"width\":0.5},\"pattern\":{\"fillmode\":\"overlay\",\"size\":10,\"solidity\":0.2}},\"type\":\"barpolar\"}],\"carpet\":[{\"aaxis\":{\"endlinecolor\":\"#2a3f5f\",\"gridcolor\":\"white\",\"linecolor\":\"white\",\"minorgridcolor\":\"white\",\"startlinecolor\":\"#2a3f5f\"},\"baxis\":{\"endlinecolor\":\"#2a3f5f\",\"gridcolor\":\"white\",\"linecolor\":\"white\",\"minorgridcolor\":\"white\",\"startlinecolor\":\"#2a3f5f\"},\"type\":\"carpet\"}],\"choropleth\":[{\"colorbar\":{\"outlinewidth\":0,\"ticks\":\"\"},\"type\":\"choropleth\"}],\"contour\":[{\"colorbar\":{\"outlinewidth\":0,\"ticks\":\"\"},\"colorscale\":[[0.0,\"#0d0887\"],[0.1111111111111111,\"#46039f\"],[0.2222222222222222,\"#7201a8\"],[0.3333333333333333,\"#9c179e\"],[0.4444444444444444,\"#bd3786\"],[0.5555555555555556,\"#d8576b\"],[0.6666666666666666,\"#ed7953\"],[0.7777777777777778,\"#fb9f3a\"],[0.8888888888888888,\"#fdca26\"],[1.0,\"#f0f921\"]],\"type\":\"contour\"}],\"contourcarpet\":[{\"colorbar\":{\"outlinewidth\":0,\"ticks\":\"\"},\"type\":\"contourcarpet\"}],\"heatmap\":[{\"colorbar\":{\"outlinewidth\":0,\"ticks\":\"\"},\"colorscale\":[[0.0,\"#0d0887\"],[0.1111111111111111,\"#46039f\"],[0.2222222222222222,\"#7201a8\"],[0.3333333333333333,\"#9c179e\"],[0.4444444444444444,\"#bd3786\"],[0.5555555555555556,\"#d8576b\"],[0.6666666666666666,\"#ed7953\"],[0.7777777777777778,\"#fb9f3a\"],[0.8888888888888888,\"#fdca26\"],[1.0,\"#f0f921\"]],\"type\":\"heatmap\"}],\"heatmapgl\":[{\"colorbar\":{\"outlinewidth\":0,\"ticks\":\"\"},\"colorscale\":[[0.0,\"#0d0887\"],[0.1111111111111111,\"#46039f\"],[0.2222222222222222,\"#7201a8\"],[0.3333333333333333,\"#9c179e\"],[0.4444444444444444,\"#bd3786\"],[0.5555555555555556,\"#d8576b\"],[0.6666666666666666,\"#ed7953\"],[0.7777777777777778,\"#fb9f3a\"],[0.8888888888888888,\"#fdca26\"],[1.0,\"#f0f921\"]],\"type\":\"heatmapgl\"}],\"histogram\":[{\"marker\":{\"pattern\":{\"fillmode\":\"overlay\",\"size\":10,\"solidity\":0.2}},\"type\":\"histogram\"}],\"histogram2d\":[{\"colorbar\":{\"outlinewidth\":0,\"ticks\":\"\"},\"colorscale\":[[0.0,\"#0d0887\"],[0.1111111111111111,\"#46039f\"],[0.2222222222222222,\"#7201a8\"],[0.3333333333333333,\"#9c179e\"],[0.4444444444444444,\"#bd3786\"],[0.5555555555555556,\"#d8576b\"],[0.6666666666666666,\"#ed7953\"],[0.7777777777777778,\"#fb9f3a\"],[0.8888888888888888,\"#fdca26\"],[1.0,\"#f0f921\"]],\"type\":\"histogram2d\"}],\"histogram2dcontour\":[{\"colorbar\":{\"outlinewidth\":0,\"ticks\":\"\"},\"colorscale\":[[0.0,\"#0d0887\"],[0.1111111111111111,\"#46039f\"],[0.2222222222222222,\"#7201a8\"],[0.3333333333333333,\"#9c179e\"],[0.4444444444444444,\"#bd3786\"],[0.5555555555555556,\"#d8576b\"],[0.6666666666666666,\"#ed7953\"],[0.7777777777777778,\"#fb9f3a\"],[0.8888888888888888,\"#fdca26\"],[1.0,\"#f0f921\"]],\"type\":\"histogram2dcontour\"}],\"mesh3d\":[{\"colorbar\":{\"outlinewidth\":0,\"ticks\":\"\"},\"type\":\"mesh3d\"}],\"parcoords\":[{\"line\":{\"colorbar\":{\"outlinewidth\":0,\"ticks\":\"\"}},\"type\":\"parcoords\"}],\"pie\":[{\"automargin\":true,\"type\":\"pie\"}],\"scatter\":[{\"marker\":{\"colorbar\":{\"outlinewidth\":0,\"ticks\":\"\"}},\"type\":\"scatter\"}],\"scatter3d\":[{\"line\":{\"colorbar\":{\"outlinewidth\":0,\"ticks\":\"\"}},\"marker\":{\"colorbar\":{\"outlinewidth\":0,\"ticks\":\"\"}},\"type\":\"scatter3d\"}],\"scattercarpet\":[{\"marker\":{\"colorbar\":{\"outlinewidth\":0,\"ticks\":\"\"}},\"type\":\"scattercarpet\"}],\"scattergeo\":[{\"marker\":{\"colorbar\":{\"outlinewidth\":0,\"ticks\":\"\"}},\"type\":\"scattergeo\"}],\"scattergl\":[{\"marker\":{\"colorbar\":{\"outlinewidth\":0,\"ticks\":\"\"}},\"type\":\"scattergl\"}],\"scattermapbox\":[{\"marker\":{\"colorbar\":{\"outlinewidth\":0,\"ticks\":\"\"}},\"type\":\"scattermapbox\"}],\"scatterpolar\":[{\"marker\":{\"colorbar\":{\"outlinewidth\":0,\"ticks\":\"\"}},\"type\":\"scatterpolar\"}],\"scatterpolargl\":[{\"marker\":{\"colorbar\":{\"outlinewidth\":0,\"ticks\":\"\"}},\"type\":\"scatterpolargl\"}],\"scatterternary\":[{\"marker\":{\"colorbar\":{\"outlinewidth\":0,\"ticks\":\"\"}},\"type\":\"scatterternary\"}],\"surface\":[{\"colorbar\":{\"outlinewidth\":0,\"ticks\":\"\"},\"colorscale\":[[0.0,\"#0d0887\"],[0.1111111111111111,\"#46039f\"],[0.2222222222222222,\"#7201a8\"],[0.3333333333333333,\"#9c179e\"],[0.4444444444444444,\"#bd3786\"],[0.5555555555555556,\"#d8576b\"],[0.6666666666666666,\"#ed7953\"],[0.7777777777777778,\"#fb9f3a\"],[0.8888888888888888,\"#fdca26\"],[1.0,\"#f0f921\"]],\"type\":\"surface\"}],\"table\":[{\"cells\":{\"fill\":{\"color\":\"#EBF0F8\"},\"line\":{\"color\":\"white\"}},\"header\":{\"fill\":{\"color\":\"#C8D4E3\"},\"line\":{\"color\":\"white\"}},\"type\":\"table\"}]},\"layout\":{\"annotationdefaults\":{\"arrowcolor\":\"#2a3f5f\",\"arrowhead\":0,\"arrowwidth\":1},\"autotypenumbers\":\"strict\",\"coloraxis\":{\"colorbar\":{\"outlinewidth\":0,\"ticks\":\"\"}},\"colorscale\":{\"diverging\":[[0,\"#8e0152\"],[0.1,\"#c51b7d\"],[0.2,\"#de77ae\"],[0.3,\"#f1b6da\"],[0.4,\"#fde0ef\"],[0.5,\"#f7f7f7\"],[0.6,\"#e6f5d0\"],[0.7,\"#b8e186\"],[0.8,\"#7fbc41\"],[0.9,\"#4d9221\"],[1,\"#276419\"]],\"sequential\":[[0.0,\"#0d0887\"],[0.1111111111111111,\"#46039f\"],[0.2222222222222222,\"#7201a8\"],[0.3333333333333333,\"#9c179e\"],[0.4444444444444444,\"#bd3786\"],[0.5555555555555556,\"#d8576b\"],[0.6666666666666666,\"#ed7953\"],[0.7777777777777778,\"#fb9f3a\"],[0.8888888888888888,\"#fdca26\"],[1.0,\"#f0f921\"]],\"sequentialminus\":[[0.0,\"#0d0887\"],[0.1111111111111111,\"#46039f\"],[0.2222222222222222,\"#7201a8\"],[0.3333333333333333,\"#9c179e\"],[0.4444444444444444,\"#bd3786\"],[0.5555555555555556,\"#d8576b\"],[0.6666666666666666,\"#ed7953\"],[0.7777777777777778,\"#fb9f3a\"],[0.8888888888888888,\"#fdca26\"],[1.0,\"#f0f921\"]]},\"colorway\":[\"#636efa\",\"#EF553B\",\"#00cc96\",\"#ab63fa\",\"#FFA15A\",\"#19d3f3\",\"#FF6692\",\"#B6E880\",\"#FF97FF\",\"#FECB52\"],\"font\":{\"color\":\"#2a3f5f\"},\"geo\":{\"bgcolor\":\"white\",\"lakecolor\":\"white\",\"landcolor\":\"#E5ECF6\",\"showlakes\":true,\"showland\":true,\"subunitcolor\":\"white\"},\"hoverlabel\":{\"align\":\"left\"},\"hovermode\":\"closest\",\"mapbox\":{\"style\":\"light\"},\"paper_bgcolor\":\"white\",\"plot_bgcolor\":\"#E5ECF6\",\"polar\":{\"angularaxis\":{\"gridcolor\":\"white\",\"linecolor\":\"white\",\"ticks\":\"\"},\"bgcolor\":\"#E5ECF6\",\"radialaxis\":{\"gridcolor\":\"white\",\"linecolor\":\"white\",\"ticks\":\"\"}},\"scene\":{\"xaxis\":{\"backgroundcolor\":\"#E5ECF6\",\"gridcolor\":\"white\",\"gridwidth\":2,\"linecolor\":\"white\",\"showbackground\":true,\"ticks\":\"\",\"zerolinecolor\":\"white\"},\"yaxis\":{\"backgroundcolor\":\"#E5ECF6\",\"gridcolor\":\"white\",\"gridwidth\":2,\"linecolor\":\"white\",\"showbackground\":true,\"ticks\":\"\",\"zerolinecolor\":\"white\"},\"zaxis\":{\"backgroundcolor\":\"#E5ECF6\",\"gridcolor\":\"white\",\"gridwidth\":2,\"linecolor\":\"white\",\"showbackground\":true,\"ticks\":\"\",\"zerolinecolor\":\"white\"}},\"shapedefaults\":{\"line\":{\"color\":\"#2a3f5f\"}},\"ternary\":{\"aaxis\":{\"gridcolor\":\"white\",\"linecolor\":\"white\",\"ticks\":\"\"},\"baxis\":{\"gridcolor\":\"white\",\"linecolor\":\"white\",\"ticks\":\"\"},\"bgcolor\":\"#E5ECF6\",\"caxis\":{\"gridcolor\":\"white\",\"linecolor\":\"white\",\"ticks\":\"\"}},\"title\":{\"x\":0.05},\"xaxis\":{\"automargin\":true,\"gridcolor\":\"white\",\"linecolor\":\"white\",\"ticks\":\"\",\"title\":{\"standoff\":15},\"zerolinecolor\":\"white\",\"zerolinewidth\":2},\"yaxis\":{\"automargin\":true,\"gridcolor\":\"white\",\"linecolor\":\"white\",\"ticks\":\"\",\"title\":{\"standoff\":15},\"zerolinecolor\":\"white\",\"zerolinewidth\":2}}},\"xaxis\":{\"anchor\":\"y\",\"domain\":[0.0,1.0],\"title\":{\"text\":\"x\"}},\"yaxis\":{\"anchor\":\"x\",\"domain\":[0.0,1.0],\"title\":{\"text\":\"y\"}},\"legend\":{\"title\":{\"text\":\"color\"},\"tracegroupgap\":0},\"title\":{\"text\":\"2D t-SNE visualization\"}},                        {\"responsive\": true}                    ).then(function(){\n",
       "                            \n",
       "var gd = document.getElementById('f2d22a98-c020-4c4b-9c20-db981e1de577');\n",
       "var x = new MutationObserver(function (mutations, observer) {{\n",
       "        var display = window.getComputedStyle(gd).display;\n",
       "        if (!display || display === 'none') {{\n",
       "            console.log([gd, 'removed!']);\n",
       "            Plotly.purge(gd);\n",
       "            observer.disconnect();\n",
       "        }}\n",
       "}});\n",
       "\n",
       "// Listen for the removal of the full notebook cells\n",
       "var notebookContainer = gd.closest('#notebook-container');\n",
       "if (notebookContainer) {{\n",
       "    x.observe(notebookContainer, {childList: true});\n",
       "}}\n",
       "\n",
       "// Listen for the clearing of the current output cell\n",
       "var outputEl = gd.closest('.output');\n",
       "if (outputEl) {{\n",
       "    x.observe(outputEl, {childList: true});\n",
       "}}\n",
       "\n",
       "                        })                };                });            </script>        </div>"
      ]
     },
     "metadata": {},
     "output_type": "display_data"
    }
   ],
   "source": [
    "fig = px.scatter(x=Y[:, 0], y=Y[:, 1], color=alternate['Species'], title=\"2D t-SNE visualization\")\n",
    "fig.show()"
   ]
  },
  {
   "cell_type": "markdown",
   "id": "766eebae",
   "metadata": {},
   "source": [
    "There are several clusters. In general, there are several shapes, such as ellipsoidal shapes, spirals, spherical shapes, etc. Most of the data cannot be explained by spherical data, thus KMeans is not a good option. \n",
    "\n",
    "Should you delete all other species? Are other species important to classify? I am not sure. If I remove all `other` species, the scatterplot looks as follows:"
   ]
  },
  {
   "cell_type": "code",
   "execution_count": 84,
   "id": "c84dd57b",
   "metadata": {},
   "outputs": [],
   "source": [
    "subset = alternate[alternate['Species']!='other']"
   ]
  },
  {
   "cell_type": "code",
   "execution_count": 88,
   "id": "158c4ff6",
   "metadata": {},
   "outputs": [],
   "source": [
    "#Creating a 2D visualization to visualize the clusters\n",
    "subset_X = subset.iloc[:, :30]\n",
    "from sklearn.manifold import TSNE\n",
    "tsne = TSNE(angle=0.8, early_exaggeration=12, init='random', learning_rate='auto', n_iter=4000, perplexity=40)\n",
    "Y = tsne.fit_transform(subset_X)"
   ]
  },
  {
   "cell_type": "code",
   "execution_count": 91,
   "id": "2050529c",
   "metadata": {},
   "outputs": [
    {
     "data": {
      "application/vnd.plotly.v1+json": {
       "config": {
        "plotlyServerURL": "https://plot.ly"
       },
       "data": [
        {
         "hovertemplate": "color=talapoin<br>x=%{x}<br>y=%{y}<extra></extra>",
         "legendgroup": "talapoin",
         "marker": {
          "color": "#636efa",
          "symbol": "circle"
         },
         "mode": "markers",
         "name": "talapoin",
         "orientation": "v",
         "showlegend": true,
         "type": "scatter",
         "x": [
          6.992408752441406,
          6.997575283050537,
          6.960110664367676,
          6.997077941894531,
          6.989375114440918
         ],
         "xaxis": "x",
         "y": [
          -61.876033782958984,
          -61.89324951171875,
          -61.987144470214844,
          -61.95722579956055,
          -61.95966339111328
         ],
         "yaxis": "y"
        },
        {
         "hovertemplate": "color=albigena<br>x=%{x}<br>y=%{y}<extra></extra>",
         "legendgroup": "albigena",
         "marker": {
          "color": "#EF553B",
          "symbol": "circle"
         },
         "mode": "markers",
         "name": "albigena",
         "orientation": "v",
         "showlegend": true,
         "type": "scatter",
         "x": [
          7.607418537139893,
          7.655906677246094,
          7.639219760894775,
          7.66254997253418,
          6.897338390350342,
          7.689802169799805
         ],
         "xaxis": "x",
         "y": [
          -61.90129852294922,
          -61.7838020324707,
          -61.9201545715332,
          -61.887351989746094,
          -61.93803024291992,
          -61.67436218261719
         ],
         "yaxis": "y"
        },
        {
         "hovertemplate": "color=torquatus<br>x=%{x}<br>y=%{y}<extra></extra>",
         "legendgroup": "torquatus",
         "marker": {
          "color": "#00cc96",
          "symbol": "circle"
         },
         "mode": "markers",
         "name": "torquatus",
         "orientation": "v",
         "showlegend": true,
         "type": "scatter",
         "x": [
          7.5286054611206055,
          7.480752944946289,
          7.449953556060791,
          7.617319107055664,
          7.463541507720947,
          7.5306220054626465,
          7.516149520874023,
          7.446157455444336,
          7.48336935043335
         ],
         "xaxis": "x",
         "y": [
          -61.137123107910156,
          -61.1285400390625,
          -61.24483871459961,
          -61.4376335144043,
          -61.17790603637695,
          -61.64555740356445,
          -61.35023880004883,
          -61.20459747314453,
          -61.25851821899414
         ],
         "yaxis": "y"
        },
        {
         "hovertemplate": "color=anubis<br>x=%{x}<br>y=%{y}<extra></extra>",
         "legendgroup": "anubis",
         "marker": {
          "color": "#ab63fa",
          "symbol": "circle"
         },
         "mode": "markers",
         "name": "anubis",
         "orientation": "v",
         "showlegend": true,
         "type": "scatter",
         "x": [
          8.117668151855469,
          8.13420581817627,
          7.93816614151001,
          7.8087239265441895,
          7.992903709411621,
          7.893827438354492,
          7.826325416564941,
          7.981654644012451,
          7.174125671386719
         ],
         "xaxis": "x",
         "y": [
          -59.84199905395508,
          -59.99558639526367,
          -60.2220573425293,
          -60.318565368652344,
          -60.14797592163086,
          -60.257076263427734,
          -60.25822448730469,
          -60.174861907958984,
          -60.33991622924805
         ],
         "yaxis": "y"
        },
        {
         "hovertemplate": "color=larvatus<br>x=%{x}<br>y=%{y}<extra></extra>",
         "legendgroup": "larvatus",
         "marker": {
          "color": "#FFA15A",
          "symbol": "circle"
         },
         "mode": "markers",
         "name": "larvatus",
         "orientation": "v",
         "showlegend": true,
         "type": "scatter",
         "x": [
          7.623834609985352,
          7.5849833488464355,
          7.542421817779541,
          7.5137152671813965,
          7.636148929595947,
          7.6651291847229,
          7.632696628570557,
          7.597383499145508,
          7.560026168823242
         ],
         "xaxis": "x",
         "y": [
          -60.34693145751953,
          -60.57768630981445,
          -60.626399993896484,
          -60.809757232666016,
          -60.23500442504883,
          -60.20332336425781,
          -60.169681549072266,
          -60.27581787109375,
          -60.232540130615234
         ],
         "yaxis": "y"
        },
        {
         "hovertemplate": "color=troglodytes<br>x=%{x}<br>y=%{y}<extra></extra>",
         "legendgroup": "troglodytes",
         "marker": {
          "color": "#19d3f3",
          "symbol": "circle"
         },
         "mode": "markers",
         "name": "troglodytes",
         "orientation": "v",
         "showlegend": true,
         "type": "scatter",
         "x": [
          7.373645305633545,
          7.286341667175293,
          7.262444496154785,
          7.2190680503845215,
          7.30297327041626,
          7.331034183502197,
          7.214242458343506,
          7.332086563110352,
          7.399649620056152
         ],
         "xaxis": "x",
         "y": [
          -58.657379150390625,
          -58.677207946777344,
          -58.68624496459961,
          -58.86677169799805,
          -58.65709686279297,
          -58.837440490722656,
          -58.86757278442383,
          -58.77408981323242,
          -58.50386047363281
         ],
         "yaxis": "y"
        },
        {
         "hovertemplate": "color=paniscus<br>x=%{x}<br>y=%{y}<extra></extra>",
         "legendgroup": "paniscus",
         "marker": {
          "color": "#FF6692",
          "symbol": "circle"
         },
         "mode": "markers",
         "name": "paniscus",
         "orientation": "v",
         "showlegend": true,
         "type": "scatter",
         "x": [
          7.328566074371338,
          7.379354476928711,
          7.3649420738220215
         ],
         "xaxis": "x",
         "y": [
          -58.633724212646484,
          -58.5170783996582,
          -58.63616180419922
         ],
         "yaxis": "y"
        },
        {
         "hovertemplate": "color=gorilla<br>x=%{x}<br>y=%{y}<extra></extra>",
         "legendgroup": "gorilla",
         "marker": {
          "color": "#B6E880",
          "symbol": "circle"
         },
         "mode": "markers",
         "name": "gorilla",
         "orientation": "v",
         "showlegend": true,
         "type": "scatter",
         "x": [
          7.717086315155029,
          7.679281711578369,
          7.607297420501709,
          7.697768688201904,
          7.462395191192627,
          7.544378757476807
         ],
         "xaxis": "x",
         "y": [
          -58.57658386230469,
          -58.50347900390625,
          -58.557613372802734,
          -58.538909912109375,
          -58.35469055175781,
          -58.406532287597656
         ],
         "yaxis": "y"
        }
       ],
       "layout": {
        "legend": {
         "title": {
          "text": "color"
         },
         "tracegroupgap": 0
        },
        "template": {
         "data": {
          "bar": [
           {
            "error_x": {
             "color": "#2a3f5f"
            },
            "error_y": {
             "color": "#2a3f5f"
            },
            "marker": {
             "line": {
              "color": "#E5ECF6",
              "width": 0.5
             },
             "pattern": {
              "fillmode": "overlay",
              "size": 10,
              "solidity": 0.2
             }
            },
            "type": "bar"
           }
          ],
          "barpolar": [
           {
            "marker": {
             "line": {
              "color": "#E5ECF6",
              "width": 0.5
             },
             "pattern": {
              "fillmode": "overlay",
              "size": 10,
              "solidity": 0.2
             }
            },
            "type": "barpolar"
           }
          ],
          "carpet": [
           {
            "aaxis": {
             "endlinecolor": "#2a3f5f",
             "gridcolor": "white",
             "linecolor": "white",
             "minorgridcolor": "white",
             "startlinecolor": "#2a3f5f"
            },
            "baxis": {
             "endlinecolor": "#2a3f5f",
             "gridcolor": "white",
             "linecolor": "white",
             "minorgridcolor": "white",
             "startlinecolor": "#2a3f5f"
            },
            "type": "carpet"
           }
          ],
          "choropleth": [
           {
            "colorbar": {
             "outlinewidth": 0,
             "ticks": ""
            },
            "type": "choropleth"
           }
          ],
          "contour": [
           {
            "colorbar": {
             "outlinewidth": 0,
             "ticks": ""
            },
            "colorscale": [
             [
              0,
              "#0d0887"
             ],
             [
              0.1111111111111111,
              "#46039f"
             ],
             [
              0.2222222222222222,
              "#7201a8"
             ],
             [
              0.3333333333333333,
              "#9c179e"
             ],
             [
              0.4444444444444444,
              "#bd3786"
             ],
             [
              0.5555555555555556,
              "#d8576b"
             ],
             [
              0.6666666666666666,
              "#ed7953"
             ],
             [
              0.7777777777777778,
              "#fb9f3a"
             ],
             [
              0.8888888888888888,
              "#fdca26"
             ],
             [
              1,
              "#f0f921"
             ]
            ],
            "type": "contour"
           }
          ],
          "contourcarpet": [
           {
            "colorbar": {
             "outlinewidth": 0,
             "ticks": ""
            },
            "type": "contourcarpet"
           }
          ],
          "heatmap": [
           {
            "colorbar": {
             "outlinewidth": 0,
             "ticks": ""
            },
            "colorscale": [
             [
              0,
              "#0d0887"
             ],
             [
              0.1111111111111111,
              "#46039f"
             ],
             [
              0.2222222222222222,
              "#7201a8"
             ],
             [
              0.3333333333333333,
              "#9c179e"
             ],
             [
              0.4444444444444444,
              "#bd3786"
             ],
             [
              0.5555555555555556,
              "#d8576b"
             ],
             [
              0.6666666666666666,
              "#ed7953"
             ],
             [
              0.7777777777777778,
              "#fb9f3a"
             ],
             [
              0.8888888888888888,
              "#fdca26"
             ],
             [
              1,
              "#f0f921"
             ]
            ],
            "type": "heatmap"
           }
          ],
          "heatmapgl": [
           {
            "colorbar": {
             "outlinewidth": 0,
             "ticks": ""
            },
            "colorscale": [
             [
              0,
              "#0d0887"
             ],
             [
              0.1111111111111111,
              "#46039f"
             ],
             [
              0.2222222222222222,
              "#7201a8"
             ],
             [
              0.3333333333333333,
              "#9c179e"
             ],
             [
              0.4444444444444444,
              "#bd3786"
             ],
             [
              0.5555555555555556,
              "#d8576b"
             ],
             [
              0.6666666666666666,
              "#ed7953"
             ],
             [
              0.7777777777777778,
              "#fb9f3a"
             ],
             [
              0.8888888888888888,
              "#fdca26"
             ],
             [
              1,
              "#f0f921"
             ]
            ],
            "type": "heatmapgl"
           }
          ],
          "histogram": [
           {
            "marker": {
             "pattern": {
              "fillmode": "overlay",
              "size": 10,
              "solidity": 0.2
             }
            },
            "type": "histogram"
           }
          ],
          "histogram2d": [
           {
            "colorbar": {
             "outlinewidth": 0,
             "ticks": ""
            },
            "colorscale": [
             [
              0,
              "#0d0887"
             ],
             [
              0.1111111111111111,
              "#46039f"
             ],
             [
              0.2222222222222222,
              "#7201a8"
             ],
             [
              0.3333333333333333,
              "#9c179e"
             ],
             [
              0.4444444444444444,
              "#bd3786"
             ],
             [
              0.5555555555555556,
              "#d8576b"
             ],
             [
              0.6666666666666666,
              "#ed7953"
             ],
             [
              0.7777777777777778,
              "#fb9f3a"
             ],
             [
              0.8888888888888888,
              "#fdca26"
             ],
             [
              1,
              "#f0f921"
             ]
            ],
            "type": "histogram2d"
           }
          ],
          "histogram2dcontour": [
           {
            "colorbar": {
             "outlinewidth": 0,
             "ticks": ""
            },
            "colorscale": [
             [
              0,
              "#0d0887"
             ],
             [
              0.1111111111111111,
              "#46039f"
             ],
             [
              0.2222222222222222,
              "#7201a8"
             ],
             [
              0.3333333333333333,
              "#9c179e"
             ],
             [
              0.4444444444444444,
              "#bd3786"
             ],
             [
              0.5555555555555556,
              "#d8576b"
             ],
             [
              0.6666666666666666,
              "#ed7953"
             ],
             [
              0.7777777777777778,
              "#fb9f3a"
             ],
             [
              0.8888888888888888,
              "#fdca26"
             ],
             [
              1,
              "#f0f921"
             ]
            ],
            "type": "histogram2dcontour"
           }
          ],
          "mesh3d": [
           {
            "colorbar": {
             "outlinewidth": 0,
             "ticks": ""
            },
            "type": "mesh3d"
           }
          ],
          "parcoords": [
           {
            "line": {
             "colorbar": {
              "outlinewidth": 0,
              "ticks": ""
             }
            },
            "type": "parcoords"
           }
          ],
          "pie": [
           {
            "automargin": true,
            "type": "pie"
           }
          ],
          "scatter": [
           {
            "marker": {
             "colorbar": {
              "outlinewidth": 0,
              "ticks": ""
             }
            },
            "type": "scatter"
           }
          ],
          "scatter3d": [
           {
            "line": {
             "colorbar": {
              "outlinewidth": 0,
              "ticks": ""
             }
            },
            "marker": {
             "colorbar": {
              "outlinewidth": 0,
              "ticks": ""
             }
            },
            "type": "scatter3d"
           }
          ],
          "scattercarpet": [
           {
            "marker": {
             "colorbar": {
              "outlinewidth": 0,
              "ticks": ""
             }
            },
            "type": "scattercarpet"
           }
          ],
          "scattergeo": [
           {
            "marker": {
             "colorbar": {
              "outlinewidth": 0,
              "ticks": ""
             }
            },
            "type": "scattergeo"
           }
          ],
          "scattergl": [
           {
            "marker": {
             "colorbar": {
              "outlinewidth": 0,
              "ticks": ""
             }
            },
            "type": "scattergl"
           }
          ],
          "scattermapbox": [
           {
            "marker": {
             "colorbar": {
              "outlinewidth": 0,
              "ticks": ""
             }
            },
            "type": "scattermapbox"
           }
          ],
          "scatterpolar": [
           {
            "marker": {
             "colorbar": {
              "outlinewidth": 0,
              "ticks": ""
             }
            },
            "type": "scatterpolar"
           }
          ],
          "scatterpolargl": [
           {
            "marker": {
             "colorbar": {
              "outlinewidth": 0,
              "ticks": ""
             }
            },
            "type": "scatterpolargl"
           }
          ],
          "scatterternary": [
           {
            "marker": {
             "colorbar": {
              "outlinewidth": 0,
              "ticks": ""
             }
            },
            "type": "scatterternary"
           }
          ],
          "surface": [
           {
            "colorbar": {
             "outlinewidth": 0,
             "ticks": ""
            },
            "colorscale": [
             [
              0,
              "#0d0887"
             ],
             [
              0.1111111111111111,
              "#46039f"
             ],
             [
              0.2222222222222222,
              "#7201a8"
             ],
             [
              0.3333333333333333,
              "#9c179e"
             ],
             [
              0.4444444444444444,
              "#bd3786"
             ],
             [
              0.5555555555555556,
              "#d8576b"
             ],
             [
              0.6666666666666666,
              "#ed7953"
             ],
             [
              0.7777777777777778,
              "#fb9f3a"
             ],
             [
              0.8888888888888888,
              "#fdca26"
             ],
             [
              1,
              "#f0f921"
             ]
            ],
            "type": "surface"
           }
          ],
          "table": [
           {
            "cells": {
             "fill": {
              "color": "#EBF0F8"
             },
             "line": {
              "color": "white"
             }
            },
            "header": {
             "fill": {
              "color": "#C8D4E3"
             },
             "line": {
              "color": "white"
             }
            },
            "type": "table"
           }
          ]
         },
         "layout": {
          "annotationdefaults": {
           "arrowcolor": "#2a3f5f",
           "arrowhead": 0,
           "arrowwidth": 1
          },
          "autotypenumbers": "strict",
          "coloraxis": {
           "colorbar": {
            "outlinewidth": 0,
            "ticks": ""
           }
          },
          "colorscale": {
           "diverging": [
            [
             0,
             "#8e0152"
            ],
            [
             0.1,
             "#c51b7d"
            ],
            [
             0.2,
             "#de77ae"
            ],
            [
             0.3,
             "#f1b6da"
            ],
            [
             0.4,
             "#fde0ef"
            ],
            [
             0.5,
             "#f7f7f7"
            ],
            [
             0.6,
             "#e6f5d0"
            ],
            [
             0.7,
             "#b8e186"
            ],
            [
             0.8,
             "#7fbc41"
            ],
            [
             0.9,
             "#4d9221"
            ],
            [
             1,
             "#276419"
            ]
           ],
           "sequential": [
            [
             0,
             "#0d0887"
            ],
            [
             0.1111111111111111,
             "#46039f"
            ],
            [
             0.2222222222222222,
             "#7201a8"
            ],
            [
             0.3333333333333333,
             "#9c179e"
            ],
            [
             0.4444444444444444,
             "#bd3786"
            ],
            [
             0.5555555555555556,
             "#d8576b"
            ],
            [
             0.6666666666666666,
             "#ed7953"
            ],
            [
             0.7777777777777778,
             "#fb9f3a"
            ],
            [
             0.8888888888888888,
             "#fdca26"
            ],
            [
             1,
             "#f0f921"
            ]
           ],
           "sequentialminus": [
            [
             0,
             "#0d0887"
            ],
            [
             0.1111111111111111,
             "#46039f"
            ],
            [
             0.2222222222222222,
             "#7201a8"
            ],
            [
             0.3333333333333333,
             "#9c179e"
            ],
            [
             0.4444444444444444,
             "#bd3786"
            ],
            [
             0.5555555555555556,
             "#d8576b"
            ],
            [
             0.6666666666666666,
             "#ed7953"
            ],
            [
             0.7777777777777778,
             "#fb9f3a"
            ],
            [
             0.8888888888888888,
             "#fdca26"
            ],
            [
             1,
             "#f0f921"
            ]
           ]
          },
          "colorway": [
           "#636efa",
           "#EF553B",
           "#00cc96",
           "#ab63fa",
           "#FFA15A",
           "#19d3f3",
           "#FF6692",
           "#B6E880",
           "#FF97FF",
           "#FECB52"
          ],
          "font": {
           "color": "#2a3f5f"
          },
          "geo": {
           "bgcolor": "white",
           "lakecolor": "white",
           "landcolor": "#E5ECF6",
           "showlakes": true,
           "showland": true,
           "subunitcolor": "white"
          },
          "hoverlabel": {
           "align": "left"
          },
          "hovermode": "closest",
          "mapbox": {
           "style": "light"
          },
          "paper_bgcolor": "white",
          "plot_bgcolor": "#E5ECF6",
          "polar": {
           "angularaxis": {
            "gridcolor": "white",
            "linecolor": "white",
            "ticks": ""
           },
           "bgcolor": "#E5ECF6",
           "radialaxis": {
            "gridcolor": "white",
            "linecolor": "white",
            "ticks": ""
           }
          },
          "scene": {
           "xaxis": {
            "backgroundcolor": "#E5ECF6",
            "gridcolor": "white",
            "gridwidth": 2,
            "linecolor": "white",
            "showbackground": true,
            "ticks": "",
            "zerolinecolor": "white"
           },
           "yaxis": {
            "backgroundcolor": "#E5ECF6",
            "gridcolor": "white",
            "gridwidth": 2,
            "linecolor": "white",
            "showbackground": true,
            "ticks": "",
            "zerolinecolor": "white"
           },
           "zaxis": {
            "backgroundcolor": "#E5ECF6",
            "gridcolor": "white",
            "gridwidth": 2,
            "linecolor": "white",
            "showbackground": true,
            "ticks": "",
            "zerolinecolor": "white"
           }
          },
          "shapedefaults": {
           "line": {
            "color": "#2a3f5f"
           }
          },
          "ternary": {
           "aaxis": {
            "gridcolor": "white",
            "linecolor": "white",
            "ticks": ""
           },
           "baxis": {
            "gridcolor": "white",
            "linecolor": "white",
            "ticks": ""
           },
           "bgcolor": "#E5ECF6",
           "caxis": {
            "gridcolor": "white",
            "linecolor": "white",
            "ticks": ""
           }
          },
          "title": {
           "x": 0.05
          },
          "xaxis": {
           "automargin": true,
           "gridcolor": "white",
           "linecolor": "white",
           "ticks": "",
           "title": {
            "standoff": 15
           },
           "zerolinecolor": "white",
           "zerolinewidth": 2
          },
          "yaxis": {
           "automargin": true,
           "gridcolor": "white",
           "linecolor": "white",
           "ticks": "",
           "title": {
            "standoff": 15
           },
           "zerolinecolor": "white",
           "zerolinewidth": 2
          }
         }
        },
        "title": {
         "text": "2D t-SNE visualization"
        },
        "xaxis": {
         "anchor": "y",
         "domain": [
          0,
          1
         ],
         "title": {
          "text": "x"
         }
        },
        "yaxis": {
         "anchor": "x",
         "domain": [
          0,
          1
         ],
         "title": {
          "text": "y"
         }
        }
       }
      },
      "text/html": [
       "<div>                            <div id=\"d6b5e064-e7fa-4dd9-abb1-81b27116c8fb\" class=\"plotly-graph-div\" style=\"height:525px; width:100%;\"></div>            <script type=\"text/javascript\">                require([\"plotly\"], function(Plotly) {                    window.PLOTLYENV=window.PLOTLYENV || {};                                    if (document.getElementById(\"d6b5e064-e7fa-4dd9-abb1-81b27116c8fb\")) {                    Plotly.newPlot(                        \"d6b5e064-e7fa-4dd9-abb1-81b27116c8fb\",                        [{\"hovertemplate\":\"color=talapoin<br>x=%{x}<br>y=%{y}<extra></extra>\",\"legendgroup\":\"talapoin\",\"marker\":{\"color\":\"#636efa\",\"symbol\":\"circle\"},\"mode\":\"markers\",\"name\":\"talapoin\",\"orientation\":\"v\",\"showlegend\":true,\"x\":[6.992408752441406,6.997575283050537,6.960110664367676,6.997077941894531,6.989375114440918],\"xaxis\":\"x\",\"y\":[-61.876033782958984,-61.89324951171875,-61.987144470214844,-61.95722579956055,-61.95966339111328],\"yaxis\":\"y\",\"type\":\"scatter\"},{\"hovertemplate\":\"color=albigena<br>x=%{x}<br>y=%{y}<extra></extra>\",\"legendgroup\":\"albigena\",\"marker\":{\"color\":\"#EF553B\",\"symbol\":\"circle\"},\"mode\":\"markers\",\"name\":\"albigena\",\"orientation\":\"v\",\"showlegend\":true,\"x\":[7.607418537139893,7.655906677246094,7.639219760894775,7.66254997253418,6.897338390350342,7.689802169799805],\"xaxis\":\"x\",\"y\":[-61.90129852294922,-61.7838020324707,-61.9201545715332,-61.887351989746094,-61.93803024291992,-61.67436218261719],\"yaxis\":\"y\",\"type\":\"scatter\"},{\"hovertemplate\":\"color=torquatus<br>x=%{x}<br>y=%{y}<extra></extra>\",\"legendgroup\":\"torquatus\",\"marker\":{\"color\":\"#00cc96\",\"symbol\":\"circle\"},\"mode\":\"markers\",\"name\":\"torquatus\",\"orientation\":\"v\",\"showlegend\":true,\"x\":[7.5286054611206055,7.480752944946289,7.449953556060791,7.617319107055664,7.463541507720947,7.5306220054626465,7.516149520874023,7.446157455444336,7.48336935043335],\"xaxis\":\"x\",\"y\":[-61.137123107910156,-61.1285400390625,-61.24483871459961,-61.4376335144043,-61.17790603637695,-61.64555740356445,-61.35023880004883,-61.20459747314453,-61.25851821899414],\"yaxis\":\"y\",\"type\":\"scatter\"},{\"hovertemplate\":\"color=anubis<br>x=%{x}<br>y=%{y}<extra></extra>\",\"legendgroup\":\"anubis\",\"marker\":{\"color\":\"#ab63fa\",\"symbol\":\"circle\"},\"mode\":\"markers\",\"name\":\"anubis\",\"orientation\":\"v\",\"showlegend\":true,\"x\":[8.117668151855469,8.13420581817627,7.93816614151001,7.8087239265441895,7.992903709411621,7.893827438354492,7.826325416564941,7.981654644012451,7.174125671386719],\"xaxis\":\"x\",\"y\":[-59.84199905395508,-59.99558639526367,-60.2220573425293,-60.318565368652344,-60.14797592163086,-60.257076263427734,-60.25822448730469,-60.174861907958984,-60.33991622924805],\"yaxis\":\"y\",\"type\":\"scatter\"},{\"hovertemplate\":\"color=larvatus<br>x=%{x}<br>y=%{y}<extra></extra>\",\"legendgroup\":\"larvatus\",\"marker\":{\"color\":\"#FFA15A\",\"symbol\":\"circle\"},\"mode\":\"markers\",\"name\":\"larvatus\",\"orientation\":\"v\",\"showlegend\":true,\"x\":[7.623834609985352,7.5849833488464355,7.542421817779541,7.5137152671813965,7.636148929595947,7.6651291847229,7.632696628570557,7.597383499145508,7.560026168823242],\"xaxis\":\"x\",\"y\":[-60.34693145751953,-60.57768630981445,-60.626399993896484,-60.809757232666016,-60.23500442504883,-60.20332336425781,-60.169681549072266,-60.27581787109375,-60.232540130615234],\"yaxis\":\"y\",\"type\":\"scatter\"},{\"hovertemplate\":\"color=troglodytes<br>x=%{x}<br>y=%{y}<extra></extra>\",\"legendgroup\":\"troglodytes\",\"marker\":{\"color\":\"#19d3f3\",\"symbol\":\"circle\"},\"mode\":\"markers\",\"name\":\"troglodytes\",\"orientation\":\"v\",\"showlegend\":true,\"x\":[7.373645305633545,7.286341667175293,7.262444496154785,7.2190680503845215,7.30297327041626,7.331034183502197,7.214242458343506,7.332086563110352,7.399649620056152],\"xaxis\":\"x\",\"y\":[-58.657379150390625,-58.677207946777344,-58.68624496459961,-58.86677169799805,-58.65709686279297,-58.837440490722656,-58.86757278442383,-58.77408981323242,-58.50386047363281],\"yaxis\":\"y\",\"type\":\"scatter\"},{\"hovertemplate\":\"color=paniscus<br>x=%{x}<br>y=%{y}<extra></extra>\",\"legendgroup\":\"paniscus\",\"marker\":{\"color\":\"#FF6692\",\"symbol\":\"circle\"},\"mode\":\"markers\",\"name\":\"paniscus\",\"orientation\":\"v\",\"showlegend\":true,\"x\":[7.328566074371338,7.379354476928711,7.3649420738220215],\"xaxis\":\"x\",\"y\":[-58.633724212646484,-58.5170783996582,-58.63616180419922],\"yaxis\":\"y\",\"type\":\"scatter\"},{\"hovertemplate\":\"color=gorilla<br>x=%{x}<br>y=%{y}<extra></extra>\",\"legendgroup\":\"gorilla\",\"marker\":{\"color\":\"#B6E880\",\"symbol\":\"circle\"},\"mode\":\"markers\",\"name\":\"gorilla\",\"orientation\":\"v\",\"showlegend\":true,\"x\":[7.717086315155029,7.679281711578369,7.607297420501709,7.697768688201904,7.462395191192627,7.544378757476807],\"xaxis\":\"x\",\"y\":[-58.57658386230469,-58.50347900390625,-58.557613372802734,-58.538909912109375,-58.35469055175781,-58.406532287597656],\"yaxis\":\"y\",\"type\":\"scatter\"}],                        {\"template\":{\"data\":{\"bar\":[{\"error_x\":{\"color\":\"#2a3f5f\"},\"error_y\":{\"color\":\"#2a3f5f\"},\"marker\":{\"line\":{\"color\":\"#E5ECF6\",\"width\":0.5},\"pattern\":{\"fillmode\":\"overlay\",\"size\":10,\"solidity\":0.2}},\"type\":\"bar\"}],\"barpolar\":[{\"marker\":{\"line\":{\"color\":\"#E5ECF6\",\"width\":0.5},\"pattern\":{\"fillmode\":\"overlay\",\"size\":10,\"solidity\":0.2}},\"type\":\"barpolar\"}],\"carpet\":[{\"aaxis\":{\"endlinecolor\":\"#2a3f5f\",\"gridcolor\":\"white\",\"linecolor\":\"white\",\"minorgridcolor\":\"white\",\"startlinecolor\":\"#2a3f5f\"},\"baxis\":{\"endlinecolor\":\"#2a3f5f\",\"gridcolor\":\"white\",\"linecolor\":\"white\",\"minorgridcolor\":\"white\",\"startlinecolor\":\"#2a3f5f\"},\"type\":\"carpet\"}],\"choropleth\":[{\"colorbar\":{\"outlinewidth\":0,\"ticks\":\"\"},\"type\":\"choropleth\"}],\"contour\":[{\"colorbar\":{\"outlinewidth\":0,\"ticks\":\"\"},\"colorscale\":[[0.0,\"#0d0887\"],[0.1111111111111111,\"#46039f\"],[0.2222222222222222,\"#7201a8\"],[0.3333333333333333,\"#9c179e\"],[0.4444444444444444,\"#bd3786\"],[0.5555555555555556,\"#d8576b\"],[0.6666666666666666,\"#ed7953\"],[0.7777777777777778,\"#fb9f3a\"],[0.8888888888888888,\"#fdca26\"],[1.0,\"#f0f921\"]],\"type\":\"contour\"}],\"contourcarpet\":[{\"colorbar\":{\"outlinewidth\":0,\"ticks\":\"\"},\"type\":\"contourcarpet\"}],\"heatmap\":[{\"colorbar\":{\"outlinewidth\":0,\"ticks\":\"\"},\"colorscale\":[[0.0,\"#0d0887\"],[0.1111111111111111,\"#46039f\"],[0.2222222222222222,\"#7201a8\"],[0.3333333333333333,\"#9c179e\"],[0.4444444444444444,\"#bd3786\"],[0.5555555555555556,\"#d8576b\"],[0.6666666666666666,\"#ed7953\"],[0.7777777777777778,\"#fb9f3a\"],[0.8888888888888888,\"#fdca26\"],[1.0,\"#f0f921\"]],\"type\":\"heatmap\"}],\"heatmapgl\":[{\"colorbar\":{\"outlinewidth\":0,\"ticks\":\"\"},\"colorscale\":[[0.0,\"#0d0887\"],[0.1111111111111111,\"#46039f\"],[0.2222222222222222,\"#7201a8\"],[0.3333333333333333,\"#9c179e\"],[0.4444444444444444,\"#bd3786\"],[0.5555555555555556,\"#d8576b\"],[0.6666666666666666,\"#ed7953\"],[0.7777777777777778,\"#fb9f3a\"],[0.8888888888888888,\"#fdca26\"],[1.0,\"#f0f921\"]],\"type\":\"heatmapgl\"}],\"histogram\":[{\"marker\":{\"pattern\":{\"fillmode\":\"overlay\",\"size\":10,\"solidity\":0.2}},\"type\":\"histogram\"}],\"histogram2d\":[{\"colorbar\":{\"outlinewidth\":0,\"ticks\":\"\"},\"colorscale\":[[0.0,\"#0d0887\"],[0.1111111111111111,\"#46039f\"],[0.2222222222222222,\"#7201a8\"],[0.3333333333333333,\"#9c179e\"],[0.4444444444444444,\"#bd3786\"],[0.5555555555555556,\"#d8576b\"],[0.6666666666666666,\"#ed7953\"],[0.7777777777777778,\"#fb9f3a\"],[0.8888888888888888,\"#fdca26\"],[1.0,\"#f0f921\"]],\"type\":\"histogram2d\"}],\"histogram2dcontour\":[{\"colorbar\":{\"outlinewidth\":0,\"ticks\":\"\"},\"colorscale\":[[0.0,\"#0d0887\"],[0.1111111111111111,\"#46039f\"],[0.2222222222222222,\"#7201a8\"],[0.3333333333333333,\"#9c179e\"],[0.4444444444444444,\"#bd3786\"],[0.5555555555555556,\"#d8576b\"],[0.6666666666666666,\"#ed7953\"],[0.7777777777777778,\"#fb9f3a\"],[0.8888888888888888,\"#fdca26\"],[1.0,\"#f0f921\"]],\"type\":\"histogram2dcontour\"}],\"mesh3d\":[{\"colorbar\":{\"outlinewidth\":0,\"ticks\":\"\"},\"type\":\"mesh3d\"}],\"parcoords\":[{\"line\":{\"colorbar\":{\"outlinewidth\":0,\"ticks\":\"\"}},\"type\":\"parcoords\"}],\"pie\":[{\"automargin\":true,\"type\":\"pie\"}],\"scatter\":[{\"marker\":{\"colorbar\":{\"outlinewidth\":0,\"ticks\":\"\"}},\"type\":\"scatter\"}],\"scatter3d\":[{\"line\":{\"colorbar\":{\"outlinewidth\":0,\"ticks\":\"\"}},\"marker\":{\"colorbar\":{\"outlinewidth\":0,\"ticks\":\"\"}},\"type\":\"scatter3d\"}],\"scattercarpet\":[{\"marker\":{\"colorbar\":{\"outlinewidth\":0,\"ticks\":\"\"}},\"type\":\"scattercarpet\"}],\"scattergeo\":[{\"marker\":{\"colorbar\":{\"outlinewidth\":0,\"ticks\":\"\"}},\"type\":\"scattergeo\"}],\"scattergl\":[{\"marker\":{\"colorbar\":{\"outlinewidth\":0,\"ticks\":\"\"}},\"type\":\"scattergl\"}],\"scattermapbox\":[{\"marker\":{\"colorbar\":{\"outlinewidth\":0,\"ticks\":\"\"}},\"type\":\"scattermapbox\"}],\"scatterpolar\":[{\"marker\":{\"colorbar\":{\"outlinewidth\":0,\"ticks\":\"\"}},\"type\":\"scatterpolar\"}],\"scatterpolargl\":[{\"marker\":{\"colorbar\":{\"outlinewidth\":0,\"ticks\":\"\"}},\"type\":\"scatterpolargl\"}],\"scatterternary\":[{\"marker\":{\"colorbar\":{\"outlinewidth\":0,\"ticks\":\"\"}},\"type\":\"scatterternary\"}],\"surface\":[{\"colorbar\":{\"outlinewidth\":0,\"ticks\":\"\"},\"colorscale\":[[0.0,\"#0d0887\"],[0.1111111111111111,\"#46039f\"],[0.2222222222222222,\"#7201a8\"],[0.3333333333333333,\"#9c179e\"],[0.4444444444444444,\"#bd3786\"],[0.5555555555555556,\"#d8576b\"],[0.6666666666666666,\"#ed7953\"],[0.7777777777777778,\"#fb9f3a\"],[0.8888888888888888,\"#fdca26\"],[1.0,\"#f0f921\"]],\"type\":\"surface\"}],\"table\":[{\"cells\":{\"fill\":{\"color\":\"#EBF0F8\"},\"line\":{\"color\":\"white\"}},\"header\":{\"fill\":{\"color\":\"#C8D4E3\"},\"line\":{\"color\":\"white\"}},\"type\":\"table\"}]},\"layout\":{\"annotationdefaults\":{\"arrowcolor\":\"#2a3f5f\",\"arrowhead\":0,\"arrowwidth\":1},\"autotypenumbers\":\"strict\",\"coloraxis\":{\"colorbar\":{\"outlinewidth\":0,\"ticks\":\"\"}},\"colorscale\":{\"diverging\":[[0,\"#8e0152\"],[0.1,\"#c51b7d\"],[0.2,\"#de77ae\"],[0.3,\"#f1b6da\"],[0.4,\"#fde0ef\"],[0.5,\"#f7f7f7\"],[0.6,\"#e6f5d0\"],[0.7,\"#b8e186\"],[0.8,\"#7fbc41\"],[0.9,\"#4d9221\"],[1,\"#276419\"]],\"sequential\":[[0.0,\"#0d0887\"],[0.1111111111111111,\"#46039f\"],[0.2222222222222222,\"#7201a8\"],[0.3333333333333333,\"#9c179e\"],[0.4444444444444444,\"#bd3786\"],[0.5555555555555556,\"#d8576b\"],[0.6666666666666666,\"#ed7953\"],[0.7777777777777778,\"#fb9f3a\"],[0.8888888888888888,\"#fdca26\"],[1.0,\"#f0f921\"]],\"sequentialminus\":[[0.0,\"#0d0887\"],[0.1111111111111111,\"#46039f\"],[0.2222222222222222,\"#7201a8\"],[0.3333333333333333,\"#9c179e\"],[0.4444444444444444,\"#bd3786\"],[0.5555555555555556,\"#d8576b\"],[0.6666666666666666,\"#ed7953\"],[0.7777777777777778,\"#fb9f3a\"],[0.8888888888888888,\"#fdca26\"],[1.0,\"#f0f921\"]]},\"colorway\":[\"#636efa\",\"#EF553B\",\"#00cc96\",\"#ab63fa\",\"#FFA15A\",\"#19d3f3\",\"#FF6692\",\"#B6E880\",\"#FF97FF\",\"#FECB52\"],\"font\":{\"color\":\"#2a3f5f\"},\"geo\":{\"bgcolor\":\"white\",\"lakecolor\":\"white\",\"landcolor\":\"#E5ECF6\",\"showlakes\":true,\"showland\":true,\"subunitcolor\":\"white\"},\"hoverlabel\":{\"align\":\"left\"},\"hovermode\":\"closest\",\"mapbox\":{\"style\":\"light\"},\"paper_bgcolor\":\"white\",\"plot_bgcolor\":\"#E5ECF6\",\"polar\":{\"angularaxis\":{\"gridcolor\":\"white\",\"linecolor\":\"white\",\"ticks\":\"\"},\"bgcolor\":\"#E5ECF6\",\"radialaxis\":{\"gridcolor\":\"white\",\"linecolor\":\"white\",\"ticks\":\"\"}},\"scene\":{\"xaxis\":{\"backgroundcolor\":\"#E5ECF6\",\"gridcolor\":\"white\",\"gridwidth\":2,\"linecolor\":\"white\",\"showbackground\":true,\"ticks\":\"\",\"zerolinecolor\":\"white\"},\"yaxis\":{\"backgroundcolor\":\"#E5ECF6\",\"gridcolor\":\"white\",\"gridwidth\":2,\"linecolor\":\"white\",\"showbackground\":true,\"ticks\":\"\",\"zerolinecolor\":\"white\"},\"zaxis\":{\"backgroundcolor\":\"#E5ECF6\",\"gridcolor\":\"white\",\"gridwidth\":2,\"linecolor\":\"white\",\"showbackground\":true,\"ticks\":\"\",\"zerolinecolor\":\"white\"}},\"shapedefaults\":{\"line\":{\"color\":\"#2a3f5f\"}},\"ternary\":{\"aaxis\":{\"gridcolor\":\"white\",\"linecolor\":\"white\",\"ticks\":\"\"},\"baxis\":{\"gridcolor\":\"white\",\"linecolor\":\"white\",\"ticks\":\"\"},\"bgcolor\":\"#E5ECF6\",\"caxis\":{\"gridcolor\":\"white\",\"linecolor\":\"white\",\"ticks\":\"\"}},\"title\":{\"x\":0.05},\"xaxis\":{\"automargin\":true,\"gridcolor\":\"white\",\"linecolor\":\"white\",\"ticks\":\"\",\"title\":{\"standoff\":15},\"zerolinecolor\":\"white\",\"zerolinewidth\":2},\"yaxis\":{\"automargin\":true,\"gridcolor\":\"white\",\"linecolor\":\"white\",\"ticks\":\"\",\"title\":{\"standoff\":15},\"zerolinecolor\":\"white\",\"zerolinewidth\":2}}},\"xaxis\":{\"anchor\":\"y\",\"domain\":[0.0,1.0],\"title\":{\"text\":\"x\"}},\"yaxis\":{\"anchor\":\"x\",\"domain\":[0.0,1.0],\"title\":{\"text\":\"y\"}},\"legend\":{\"title\":{\"text\":\"color\"},\"tracegroupgap\":0},\"title\":{\"text\":\"2D t-SNE visualization\"}},                        {\"responsive\": true}                    ).then(function(){\n",
       "                            \n",
       "var gd = document.getElementById('d6b5e064-e7fa-4dd9-abb1-81b27116c8fb');\n",
       "var x = new MutationObserver(function (mutations, observer) {{\n",
       "        var display = window.getComputedStyle(gd).display;\n",
       "        if (!display || display === 'none') {{\n",
       "            console.log([gd, 'removed!']);\n",
       "            Plotly.purge(gd);\n",
       "            observer.disconnect();\n",
       "        }}\n",
       "}});\n",
       "\n",
       "// Listen for the removal of the full notebook cells\n",
       "var notebookContainer = gd.closest('#notebook-container');\n",
       "if (notebookContainer) {{\n",
       "    x.observe(notebookContainer, {childList: true});\n",
       "}}\n",
       "\n",
       "// Listen for the clearing of the current output cell\n",
       "var outputEl = gd.closest('.output');\n",
       "if (outputEl) {{\n",
       "    x.observe(outputEl, {childList: true});\n",
       "}}\n",
       "\n",
       "                        })                };                });            </script>        </div>"
      ]
     },
     "metadata": {},
     "output_type": "display_data"
    }
   ],
   "source": [
    "fig = px.scatter(x=Y[:, 0], y=Y[:, 1], color=subset['Species'], title=\"2D t-SNE visualization\")\n",
    "fig.show()"
   ]
  },
  {
   "cell_type": "code",
   "execution_count": null,
   "id": "451bb80a",
   "metadata": {},
   "outputs": [],
   "source": []
  }
 ],
 "metadata": {
  "kernelspec": {
   "display_name": "Python 3 (ipykernel)",
   "language": "python",
   "name": "python3"
  },
  "language_info": {
   "codemirror_mode": {
    "name": "ipython",
    "version": 3
   },
   "file_extension": ".py",
   "mimetype": "text/x-python",
   "name": "python",
   "nbconvert_exporter": "python",
   "pygments_lexer": "ipython3",
   "version": "3.9.7"
  }
 },
 "nbformat": 4,
 "nbformat_minor": 5
}
