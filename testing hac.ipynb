{
 "cells": [
  {
   "cell_type": "code",
   "execution_count": 14,
   "id": "846464b8",
   "metadata": {},
   "outputs": [],
   "source": [
    "import itertools as it\n",
    "import pandas as pd\n",
    "from sklearn.cluster import AgglomerativeClustering\n",
    "from sklearn.metrics import adjusted_rand_score"
   ]
  },
  {
   "cell_type": "code",
   "execution_count": 2,
   "id": "b7f17d15",
   "metadata": {},
   "outputs": [],
   "source": [
    "df = pd.read_csv('data/primates-morphology.csv').drop(columns='Unnamed: 0')\n",
    "X = df.iloc[:, :30]\n",
    "y = df['Species']"
   ]
  },
  {
   "cell_type": "code",
   "execution_count": 4,
   "id": "e7c757fc",
   "metadata": {},
   "outputs": [
    {
     "data": {
      "text/plain": [
       "0.42676001199863745"
      ]
     },
     "execution_count": 4,
     "metadata": {},
     "output_type": "execute_result"
    }
   ],
   "source": [
    "base = AgglomerativeClustering(n_clusters=25)\n",
    "y_pred = base.fit_predict(X)\n",
    "adjusted_rand_score(y, y_pred)"
   ]
  },
  {
   "cell_type": "code",
   "execution_count": 11,
   "id": "5b265737",
   "metadata": {},
   "outputs": [],
   "source": [
    "params = {\n",
    "    'affinity': ['euclidean', 'l1', 'l2', 'manhattan', 'cosine'],\n",
    "    'linkage': ['ward', 'complete', 'average', 'single']\n",
    "}"
   ]
  },
  {
   "cell_type": "code",
   "execution_count": 12,
   "id": "6c3f4b20",
   "metadata": {},
   "outputs": [],
   "source": [
    "def create_param_options(param_dict):\n",
    "    grid = []\n",
    "    keys = list(param_dict.keys())\n",
    "    values = list(param_dict.values())\n",
    "    value_combs = list(it.product(*values))\n",
    "\n",
    "    for val in value_combs:\n",
    "        temp = dict(zip(keys, val))\n",
    "        grid.append(temp)\n",
    "\n",
    "    return grid"
   ]
  },
  {
   "cell_type": "code",
   "execution_count": 15,
   "id": "54bfec4f",
   "metadata": {},
   "outputs": [],
   "source": [
    "combinations = create_param_options(params)\n",
    "param_grid = pd.DataFrame(combinations)"
   ]
  },
  {
   "cell_type": "code",
   "execution_count": 21,
   "id": "7889b9ba",
   "metadata": {},
   "outputs": [
    {
     "data": {
      "text/html": [
       "<div>\n",
       "<style scoped>\n",
       "    .dataframe tbody tr th:only-of-type {\n",
       "        vertical-align: middle;\n",
       "    }\n",
       "\n",
       "    .dataframe tbody tr th {\n",
       "        vertical-align: top;\n",
       "    }\n",
       "\n",
       "    .dataframe thead th {\n",
       "        text-align: right;\n",
       "    }\n",
       "</style>\n",
       "<table border=\"1\" class=\"dataframe\">\n",
       "  <thead>\n",
       "    <tr style=\"text-align: right;\">\n",
       "      <th></th>\n",
       "      <th>affinity</th>\n",
       "      <th>linkage</th>\n",
       "    </tr>\n",
       "  </thead>\n",
       "  <tbody>\n",
       "    <tr>\n",
       "      <th>0</th>\n",
       "      <td>euclidean</td>\n",
       "      <td>ward</td>\n",
       "    </tr>\n",
       "    <tr>\n",
       "      <th>1</th>\n",
       "      <td>euclidean</td>\n",
       "      <td>complete</td>\n",
       "    </tr>\n",
       "    <tr>\n",
       "      <th>2</th>\n",
       "      <td>euclidean</td>\n",
       "      <td>average</td>\n",
       "    </tr>\n",
       "    <tr>\n",
       "      <th>3</th>\n",
       "      <td>euclidean</td>\n",
       "      <td>single</td>\n",
       "    </tr>\n",
       "    <tr>\n",
       "      <th>4</th>\n",
       "      <td>l1</td>\n",
       "      <td>ward</td>\n",
       "    </tr>\n",
       "  </tbody>\n",
       "</table>\n",
       "</div>"
      ],
      "text/plain": [
       "    affinity   linkage\n",
       "0  euclidean      ward\n",
       "1  euclidean  complete\n",
       "2  euclidean   average\n",
       "3  euclidean    single\n",
       "4         l1      ward"
      ]
     },
     "execution_count": 21,
     "metadata": {},
     "output_type": "execute_result"
    }
   ],
   "source": [
    "param_grid.head()"
   ]
  },
  {
   "cell_type": "code",
   "execution_count": 29,
   "id": "d97ab85b",
   "metadata": {},
   "outputs": [
    {
     "name": "stdout",
     "output_type": "stream",
     "text": [
      "0.42676001199863745\n",
      "0.4114564234018689\n",
      "0.39807977508056763\n",
      "0.338726172566803\n",
      "l1 was provided as affinity. Ward can only work with euclidean distances.\n",
      "0.446319009502139\n",
      "0.42196031452895916\n",
      "0.3095504981788055\n",
      "l2 was provided as affinity. Ward can only work with euclidean distances.\n",
      "0.4114564234018689\n",
      "0.39807977508056763\n",
      "0.338726172566803\n",
      "manhattan was provided as affinity. Ward can only work with euclidean distances.\n",
      "0.446319009502139\n",
      "0.42196031452895916\n",
      "0.3095504981788055\n",
      "cosine was provided as affinity. Ward can only work with euclidean distances.\n",
      "0.387653038147916\n",
      "0.4052237806235239\n",
      "0.345846579237676\n"
     ]
    }
   ],
   "source": [
    "\n",
    "\n",
    "for i in range(param_grid.shape[0]):\n",
    "    aff= param_grid.iloc[i]['affinity']\n",
    "    link = param_grid.iloc[i]['linkage']\n",
    "    \n",
    "    try:\n",
    "        model = AgglomerativeClustering(n_clusters=25, affinity=aff, linkage=link)\n",
    "        y_pred = model.fit_predict(X)\n",
    "        print(adjusted_rand_score(y, y_pred))\n",
    "    except Exception as e:\n",
    "        print(e)"
   ]
  },
  {
   "cell_type": "code",
   "execution_count": null,
   "id": "0516f982",
   "metadata": {},
   "outputs": [],
   "source": []
  }
 ],
 "metadata": {
  "kernelspec": {
   "display_name": "Python 3 (ipykernel)",
   "language": "python",
   "name": "python3"
  },
  "language_info": {
   "codemirror_mode": {
    "name": "ipython",
    "version": 3
   },
   "file_extension": ".py",
   "mimetype": "text/x-python",
   "name": "python",
   "nbconvert_exporter": "python",
   "pygments_lexer": "ipython3",
   "version": "3.9.7"
  }
 },
 "nbformat": 4,
 "nbformat_minor": 5
}
